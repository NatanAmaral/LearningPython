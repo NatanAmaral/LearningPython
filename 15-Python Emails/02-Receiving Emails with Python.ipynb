{
 "cells": [
  {
   "cell_type": "markdown",
   "id": "7a266068",
   "metadata": {},
   "source": [
    "### Viewing Emails"
   ]
  },
  {
   "cell_type": "markdown",
   "id": "fc254296",
   "metadata": {},
   "source": [
    "Importing __imaplib__"
   ]
  },
  {
   "cell_type": "code",
   "execution_count": 1,
   "id": "c4ed143d",
   "metadata": {},
   "outputs": [],
   "source": [
    "import imaplib"
   ]
  },
  {
   "cell_type": "markdown",
   "id": "c50271f1",
   "metadata": {},
   "source": [
    "Creating the __connection__"
   ]
  },
  {
   "cell_type": "code",
   "execution_count": 2,
   "id": "ec244c80",
   "metadata": {},
   "outputs": [],
   "source": [
    "M = imaplib.IMAP4_SSL('imap.gmail.com')"
   ]
  },
  {
   "cell_type": "markdown",
   "id": "1ef8df77",
   "metadata": {},
   "source": [
    "Importing __getpass__"
   ]
  },
  {
   "cell_type": "code",
   "execution_count": 4,
   "id": "c27c2b4d",
   "metadata": {},
   "outputs": [],
   "source": [
    "import getpass"
   ]
  },
  {
   "cell_type": "markdown",
   "id": "b6da5dcd",
   "metadata": {},
   "source": [
    "Grabbing __email__ and __password__"
   ]
  },
  {
   "cell_type": "code",
   "execution_count": 5,
   "id": "41100378",
   "metadata": {},
   "outputs": [
    {
     "name": "stdout",
     "output_type": "stream",
     "text": [
      "Email: ········\n",
      "Password: ········\n"
     ]
    }
   ],
   "source": [
    "email = getpass.getpass('Email: ')\n",
    "password = getpass.getpass('Password: ')"
   ]
  },
  {
   "cell_type": "markdown",
   "id": "097a1b2f",
   "metadata": {},
   "source": [
    "__Logging in__ "
   ]
  },
  {
   "cell_type": "code",
   "execution_count": null,
   "id": "aaa66072",
   "metadata": {},
   "outputs": [],
   "source": [
    "M.login(email,password)"
   ]
  },
  {
   "cell_type": "markdown",
   "id": "2b152648",
   "metadata": {},
   "source": [
    "Checking the __list of options__"
   ]
  },
  {
   "cell_type": "code",
   "execution_count": 7,
   "id": "3db21fa5",
   "metadata": {},
   "outputs": [
    {
     "data": {
      "text/plain": [
       "('OK',\n",
       " [b'(\\\\HasNoChildren) \"/\" \"Arquivo Morto\"',\n",
       "  b'(\\\\HasChildren \\\\Noselect) \"/\" \"Deleted\"',\n",
       "  b'(\\\\HasNoChildren) \"/\" \"Deleted/Junk\"',\n",
       "  b'(\\\\HasNoChildren) \"/\" \"INBOX\"',\n",
       "  b'(\\\\HasChildren) \"/\" \"Problemas de Sincroniza&AOcA4w-o\"',\n",
       "  b'(\\\\HasNoChildren) \"/\" \"Problemas de Sincroniza&AOcA4w-o/Conflitos\"',\n",
       "  b'(\\\\HasNoChildren) \"/\" \"Problemas de Sincroniza&AOcA4w-o/Falhas Locais\"',\n",
       "  b'(\\\\HasNoChildren) \"/\" \"Problemas de Sincroniza&AOcA4w-o/Falhas de Servidor\"',\n",
       "  b'(\\\\HasChildren \\\\Noselect) \"/\" \"[Gmail]\"',\n",
       "  b'(\\\\Flagged \\\\HasNoChildren) \"/\" \"[Gmail]/Com estrela\"',\n",
       "  b'(\\\\HasNoChildren \\\\Sent) \"/\" \"[Gmail]/E-mails enviados\"',\n",
       "  b'(\\\\HasNoChildren \\\\Important) \"/\" \"[Gmail]/Importante\"',\n",
       "  b'(\\\\HasNoChildren \\\\Trash) \"/\" \"[Gmail]/Lixeira\"',\n",
       "  b'(\\\\Drafts \\\\HasNoChildren) \"/\" \"[Gmail]/Rascunhos\"',\n",
       "  b'(\\\\HasNoChildren \\\\Junk) \"/\" \"[Gmail]/Spam\"',\n",
       "  b'(\\\\All \\\\HasNoChildren) \"/\" \"[Gmail]/Todos os e-mails\"'])"
      ]
     },
     "execution_count": 7,
     "metadata": {},
     "output_type": "execute_result"
    }
   ],
   "source": [
    "M.list()"
   ]
  },
  {
   "cell_type": "markdown",
   "id": "0bf1b662",
   "metadata": {},
   "source": [
    "Selecting __inbox__"
   ]
  },
  {
   "cell_type": "code",
   "execution_count": 8,
   "id": "2b88f5c4",
   "metadata": {},
   "outputs": [
    {
     "data": {
      "text/plain": [
       "('OK', [b'598'])"
      ]
     },
     "execution_count": 8,
     "metadata": {},
     "output_type": "execute_result"
    }
   ],
   "source": [
    "M.select('inbox')"
   ]
  },
  {
   "cell_type": "markdown",
   "id": "07329f6d",
   "metadata": {},
   "source": [
    "Using the __special syntax code__ and searching for a __subject__"
   ]
  },
  {
   "cell_type": "code",
   "execution_count": 9,
   "id": "5770ec35",
   "metadata": {},
   "outputs": [],
   "source": [
    "typ, data = M.search(None, 'SUBJECT \"Python Email Test Script\"')"
   ]
  },
  {
   "cell_type": "markdown",
   "id": "70986983",
   "metadata": {},
   "source": [
    "We got the __type__ and __data__"
   ]
  },
  {
   "cell_type": "code",
   "execution_count": 10,
   "id": "91404cf1",
   "metadata": {},
   "outputs": [
    {
     "data": {
      "text/plain": [
       "'OK'"
      ]
     },
     "execution_count": 10,
     "metadata": {},
     "output_type": "execute_result"
    }
   ],
   "source": [
    "typ"
   ]
  },
  {
   "cell_type": "code",
   "execution_count": 11,
   "id": "564bfaae",
   "metadata": {},
   "outputs": [
    {
     "data": {
      "text/plain": [
       "[b'592']"
      ]
     },
     "execution_count": 11,
     "metadata": {},
     "output_type": "execute_result"
    }
   ],
   "source": [
    "data"
   ]
  },
  {
   "cell_type": "code",
   "execution_count": 12,
   "id": "cba7f970",
   "metadata": {},
   "outputs": [
    {
     "data": {
      "text/plain": [
       "b'592'"
      ]
     },
     "execution_count": 12,
     "metadata": {},
     "output_type": "execute_result"
    }
   ],
   "source": [
    "data[0]"
   ]
  },
  {
   "cell_type": "code",
   "execution_count": 14,
   "id": "ef202a78",
   "metadata": {},
   "outputs": [],
   "source": [
    "email_id = data[0]"
   ]
  },
  {
   "cell_type": "markdown",
   "id": "d04aba76",
   "metadata": {},
   "source": [
    "__Fetching type and data__"
   ]
  },
  {
   "cell_type": "code",
   "execution_count": 15,
   "id": "b1be748b",
   "metadata": {},
   "outputs": [],
   "source": [
    "result, email_data = M.fetch(email_id, '(RFC822)')"
   ]
  },
  {
   "cell_type": "code",
   "execution_count": 24,
   "id": "fda8db05",
   "metadata": {},
   "outputs": [],
   "source": [
    "# email_data"
   ]
  },
  {
   "cell_type": "code",
   "execution_count": 18,
   "id": "f9c7f094",
   "metadata": {},
   "outputs": [],
   "source": [
    "raw_email = email_data[0][1]"
   ]
  },
  {
   "cell_type": "code",
   "execution_count": 19,
   "id": "8efd68cb",
   "metadata": {},
   "outputs": [],
   "source": [
    "raw_email_string = raw_email.decode('utf-8')"
   ]
  },
  {
   "cell_type": "code",
   "execution_count": 20,
   "id": "20b07dbc",
   "metadata": {},
   "outputs": [],
   "source": [
    "import email"
   ]
  },
  {
   "cell_type": "code",
   "execution_count": 21,
   "id": "b49ab657",
   "metadata": {},
   "outputs": [],
   "source": [
    "email_message = email.message_from_string(raw_email_string)"
   ]
  },
  {
   "cell_type": "code",
   "execution_count": 22,
   "id": "3bbc2da3",
   "metadata": {},
   "outputs": [
    {
     "data": {
      "text/plain": [
       "<email.message.Message at 0x1d415183b50>"
      ]
     },
     "execution_count": 22,
     "metadata": {},
     "output_type": "execute_result"
    }
   ],
   "source": [
    "email_message"
   ]
  },
  {
   "cell_type": "markdown",
   "id": "de2ba326",
   "metadata": {},
   "source": [
    "We got the __message__"
   ]
  },
  {
   "cell_type": "code",
   "execution_count": 23,
   "id": "9679c88c",
   "metadata": {},
   "outputs": [
    {
     "name": "stdout",
     "output_type": "stream",
     "text": [
      "b'Hello! Congrats, you did it! =)\\r\\n\\r\\n'\n"
     ]
    }
   ],
   "source": [
    "for part in email_message.walk():\n",
    "    \n",
    "    if part.get_content_type() == 'text/plain':\n",
    "        body = part.get_payload(decode=True)\n",
    "        print(body)"
   ]
  }
 ],
 "metadata": {
  "kernelspec": {
   "display_name": "Python 3 (ipykernel)",
   "language": "python",
   "name": "python3"
  },
  "language_info": {
   "codemirror_mode": {
    "name": "ipython",
    "version": 3
   },
   "file_extension": ".py",
   "mimetype": "text/x-python",
   "name": "python",
   "nbconvert_exporter": "python",
   "pygments_lexer": "ipython3",
   "version": "3.9.7"
  }
 },
 "nbformat": 4,
 "nbformat_minor": 5
}

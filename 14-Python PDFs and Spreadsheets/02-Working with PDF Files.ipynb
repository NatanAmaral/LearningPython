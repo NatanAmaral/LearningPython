{
 "cells": [
  {
   "cell_type": "code",
   "execution_count": 1,
   "id": "ae9d7b09",
   "metadata": {},
   "outputs": [],
   "source": [
    "import PyPDF2"
   ]
  },
  {
   "cell_type": "markdown",
   "id": "18af1007",
   "metadata": {},
   "source": [
    "### Reading"
   ]
  },
  {
   "cell_type": "markdown",
   "id": "cb413f2e",
   "metadata": {},
   "source": [
    "Reading the file with __rb__ as our __mode__"
   ]
  },
  {
   "cell_type": "code",
   "execution_count": 2,
   "id": "e40184f9",
   "metadata": {},
   "outputs": [],
   "source": [
    "f = open('Working_Business_Proposal.pdf','rb')"
   ]
  },
  {
   "cell_type": "markdown",
   "id": "c4726be8",
   "metadata": {},
   "source": [
    "Using __PdfFileReader__"
   ]
  },
  {
   "cell_type": "code",
   "execution_count": 4,
   "id": "e1ca9fea",
   "metadata": {},
   "outputs": [],
   "source": [
    "pdf_reader = PyPDF2.PdfFileReader(f)"
   ]
  },
  {
   "cell_type": "markdown",
   "id": "9a4fc7fc",
   "metadata": {},
   "source": [
    "Confirming __number of pages__"
   ]
  },
  {
   "cell_type": "code",
   "execution_count": 5,
   "id": "77b852b0",
   "metadata": {},
   "outputs": [
    {
     "data": {
      "text/plain": [
       "5"
      ]
     },
     "execution_count": 5,
     "metadata": {},
     "output_type": "execute_result"
    }
   ],
   "source": [
    "pdf_reader.numPages"
   ]
  },
  {
   "cell_type": "markdown",
   "id": "814bd684",
   "metadata": {},
   "source": [
    "__Getting__ and __extracting__ text"
   ]
  },
  {
   "cell_type": "code",
   "execution_count": 6,
   "id": "f2d647fc",
   "metadata": {},
   "outputs": [],
   "source": [
    "page_one = pdf_reader.getPage(0)"
   ]
  },
  {
   "cell_type": "code",
   "execution_count": 9,
   "id": "0f2a0253",
   "metadata": {},
   "outputs": [],
   "source": [
    "page_one_text = page_one.extractText()"
   ]
  },
  {
   "cell_type": "markdown",
   "id": "67857cdc",
   "metadata": {},
   "source": [
    "__Viewing__ the text"
   ]
  },
  {
   "cell_type": "code",
   "execution_count": 10,
   "id": "38943e62",
   "metadata": {},
   "outputs": [
    {
     "data": {
      "text/plain": [
       "'Business Proposal     The Revolution is Coming     Leverage  agile   frameworks   to   pr  ovide   a   r  obust   synopsis   for   high   level   overviews. Iterative  appr  oaches   to   corporate   strategy   foster   collaborative   thinking  to   fur  ther   the   overall   value   pr  oposition.   Organically   gr  ow   the   holistic  world   view   of   disruptive   innovation   via   workplace   diversity   and   empowerment. Bring  t  o   t  h  e   t  a  b  l  e   w  i  n  -  w  i  n   s  u  r  v  i  v  a  l   s  t  r  a  t  e  g  i  e  s   t  o   e  n  s  u  r  e   p  r  o  a  c  t  i  v  e   domination. At  the   end   of   the   day  ,   going   forwar  d,   a   new   nor  mal   that   has   evolved from generation X is on the runway heading towards a streamlined cloud  solution.   User   generated   content   in   r  eal-time   will   have   multiple   touchpoints for offshoring. Capitalize on low hanging fruit to identify a ballpark  value   added   activity   to   beta  test.   Override   the   digital   divide   with   additional   clickthr  oughs   fr  om   DevOps.  Nanotechnology   immersion   along   the   infor  mation   highway   will   close the loop on focusing solely on the bottom line. Podcasting  operational   change   management   inside   of   workﬂows   to   establish a framework. Taking seamless key performance indicators  of  ﬂine   to maximise the  long   tail.   Keeping   your   eye   on   the   ball   while   per  for  ming   a   deep  dive   on   the   star  t-up   mentality   to   derive   convergence   on   cr  oss-  platform integration. Collabor a  t  i  v  e  l  y   a  d  m  i  n  i  s  t  r  a  t  e   e  m  p  o  w  e  re  d   m  a  r  k  e  t  s   v  i  a   p  l  u  g  -  a  n  d  -  p  l  a  y   networks.  D  y  n  a  m  i  c  a  l  l  y   p  r  o  c  r  a  s  t  i  n  a  t  e   B  2  C   u  s  e  r  s   a  f  t  e  r   i  n  s  t  a  l  l  e  d   b  a  s  e   beneﬁts.  Dramatically   visualize   customer   dir  ected   convergence   without   revolutionary ROI. Efﬁciently  unleash   cr  oss-media   infor  mation   without   cr  oss-media   value.   Quickly maximize  timely   deliverables   for   r  eal-time   schemas.   Dramatically   maintain clicks-and-mortar solutions without functional solutions. BUSINESS PROPOSAL !   1'"
      ]
     },
     "execution_count": 10,
     "metadata": {},
     "output_type": "execute_result"
    }
   ],
   "source": [
    "page_one_text"
   ]
  },
  {
   "cell_type": "markdown",
   "id": "1dfbad94",
   "metadata": {},
   "source": [
    "__Closing__ the file"
   ]
  },
  {
   "cell_type": "code",
   "execution_count": 11,
   "id": "824c3702",
   "metadata": {},
   "outputs": [],
   "source": [
    "f.close()"
   ]
  },
  {
   "cell_type": "markdown",
   "id": "76b45dfb",
   "metadata": {},
   "source": [
    "### Adding Pages"
   ]
  },
  {
   "cell_type": "code",
   "execution_count": 24,
   "id": "3618cea0",
   "metadata": {},
   "outputs": [],
   "source": [
    "f = open('Working_Business_Proposal.pdf','rb')\n",
    "pdf_reader = PyPDF2.PdfFileReader(f)"
   ]
  },
  {
   "cell_type": "code",
   "execution_count": 25,
   "id": "a375cf41",
   "metadata": {},
   "outputs": [],
   "source": [
    "first_page = pdf_reader.getPage(0)"
   ]
  },
  {
   "cell_type": "code",
   "execution_count": 26,
   "id": "e0f79206",
   "metadata": {},
   "outputs": [],
   "source": [
    "pdf_writer = PyPDF2.PdfFileWriter()"
   ]
  },
  {
   "cell_type": "code",
   "execution_count": 27,
   "id": "6111adfe",
   "metadata": {},
   "outputs": [
    {
     "data": {
      "text/plain": [
       "PyPDF2._page.PageObject"
      ]
     },
     "execution_count": 27,
     "metadata": {},
     "output_type": "execute_result"
    }
   ],
   "source": [
    "type(first_page)"
   ]
  },
  {
   "cell_type": "code",
   "execution_count": 28,
   "id": "c0ad2cb3",
   "metadata": {},
   "outputs": [],
   "source": [
    "pdf_writer.addPage(first_page)"
   ]
  },
  {
   "cell_type": "code",
   "execution_count": 29,
   "id": "6bac3993",
   "metadata": {},
   "outputs": [],
   "source": [
    "pdf_output = open('Some_BrandNew_Doc.pdf','wb')"
   ]
  },
  {
   "cell_type": "code",
   "execution_count": 30,
   "id": "eb56a2fa",
   "metadata": {},
   "outputs": [],
   "source": [
    "pdf_writer.write(pdf_output)"
   ]
  },
  {
   "cell_type": "code",
   "execution_count": 31,
   "id": "f42ce16d",
   "metadata": {},
   "outputs": [],
   "source": [
    "f.close()"
   ]
  },
  {
   "cell_type": "code",
   "execution_count": 32,
   "id": "e2a2a427",
   "metadata": {},
   "outputs": [],
   "source": [
    "pdf_output.close()"
   ]
  },
  {
   "cell_type": "markdown",
   "id": "a8d0226e",
   "metadata": {},
   "source": [
    "### Grabbing Entire Text"
   ]
  },
  {
   "cell_type": "code",
   "execution_count": 33,
   "id": "5023b6f5",
   "metadata": {},
   "outputs": [],
   "source": [
    "f = open('Working_Business_Proposal.pdf','rb')\n",
    "\n",
    "pdf_text = []\n",
    "\n",
    "pdf_reader = PyPDF2.PdfFileReader(f)\n",
    "\n",
    "for num in range(pdf_reader.numPages):\n",
    "    \n",
    "    page = pdf_reader.getPage(num)\n",
    "    \n",
    "    pdf_text.append(page.extractText())"
   ]
  },
  {
   "cell_type": "markdown",
   "id": "4b5fe66a",
   "metadata": {},
   "source": [
    "First page"
   ]
  },
  {
   "cell_type": "code",
   "execution_count": 35,
   "id": "3930e7fe",
   "metadata": {},
   "outputs": [
    {
     "data": {
      "text/plain": [
       "'Business Proposal     The Revolution is Coming     Leverage  agile   frameworks   to   pr  ovide   a   r  obust   synopsis   for   high   level   overviews. Iterative  appr  oaches   to   corporate   strategy   foster   collaborative   thinking  to   fur  ther   the   overall   value   pr  oposition.   Organically   gr  ow   the   holistic  world   view   of   disruptive   innovation   via   workplace   diversity   and   empowerment. Bring  t  o   t  h  e   t  a  b  l  e   w  i  n  -  w  i  n   s  u  r  v  i  v  a  l   s  t  r  a  t  e  g  i  e  s   t  o   e  n  s  u  r  e   p  r  o  a  c  t  i  v  e   domination. At  the   end   of   the   day  ,   going   forwar  d,   a   new   nor  mal   that   has   evolved from generation X is on the runway heading towards a streamlined cloud  solution.   User   generated   content   in   r  eal-time   will   have   multiple   touchpoints for offshoring. Capitalize on low hanging fruit to identify a ballpark  value   added   activity   to   beta  test.   Override   the   digital   divide   with   additional   clickthr  oughs   fr  om   DevOps.  Nanotechnology   immersion   along   the   infor  mation   highway   will   close the loop on focusing solely on the bottom line. Podcasting  operational   change   management   inside   of   workﬂows   to   establish a framework. Taking seamless key performance indicators  of  ﬂine   to maximise the  long   tail.   Keeping   your   eye   on   the   ball   while   per  for  ming   a   deep  dive   on   the   star  t-up   mentality   to   derive   convergence   on   cr  oss-  platform integration. Collabor a  t  i  v  e  l  y   a  d  m  i  n  i  s  t  r  a  t  e   e  m  p  o  w  e  re  d   m  a  r  k  e  t  s   v  i  a   p  l  u  g  -  a  n  d  -  p  l  a  y   networks.  D  y  n  a  m  i  c  a  l  l  y   p  r  o  c  r  a  s  t  i  n  a  t  e   B  2  C   u  s  e  r  s   a  f  t  e  r   i  n  s  t  a  l  l  e  d   b  a  s  e   beneﬁts.  Dramatically   visualize   customer   dir  ected   convergence   without   revolutionary ROI. Efﬁciently  unleash   cr  oss-media   infor  mation   without   cr  oss-media   value.   Quickly maximize  timely   deliverables   for   r  eal-time   schemas.   Dramatically   maintain clicks-and-mortar solutions without functional solutions. BUSINESS PROPOSAL !   1'"
      ]
     },
     "execution_count": 35,
     "metadata": {},
     "output_type": "execute_result"
    }
   ],
   "source": [
    "pdf_text[0]"
   ]
  },
  {
   "cell_type": "markdown",
   "id": "9c35c0b5",
   "metadata": {},
   "source": [
    "Second page"
   ]
  },
  {
   "cell_type": "code",
   "execution_count": 36,
   "id": "e21083fc",
   "metadata": {},
   "outputs": [
    {
     "data": {
      "text/plain": [
       "'Completely  synergize   r  esour  ce   taxing   r  elationships   via   pr  emier   niche   markets. Professionally  cultivate   one-to-one   customer   service   with   r  obust   ideas. Dynamically innovate resource-leveling customer service for state of the art customer service. Objectively innovate  empower ed  manufactur  ed   pr  oducts   wher  eas   parallel   platforms. Holisticly predominate extensible  testing   pr  ocedur  es   for   r  eliable   supply  c  h  a  i  n  s  .   D  r  a  m  a  t  i  c  a  l  l  y   e  n  g  a  g  e   t  o  p  -  l  i  n  e   w  e  b   s  e  r  v  i  c  e  s   v  i  s  -  a  -  v  i  s   cutting-edge deliverables. Proactively  envisioned   multimedia   based   exper  tise   and   cr  oss-media   growth strategies.  Seamlessly   visualize   quality   intellectual   capital   without   superior  collaboration   and   idea-sharing.   Holistically   pontiﬁcate   installed   base portals after maintainable products. Phosﬂuorescently  engage   worldwide   methodologies   with   web-enabled   technology.  Interactively   coor  dinate   pr  oactive   e-commer  ce   via   pr  ocess-  centric  \"outside   the   box\"   thinking.   Completely   pursue   scalable   customer   service through sustainable potentialities. Collaboratively  administrate   tur  nkey   channels   wher  eas   vir  tual   e-tailers.   Objec t  i  v  e  l  y   s  e  i  z  e   s  c  a  l  a  b  l  e   m  e  t  r  i  c  s   w  h  e  r  e  a  s   p  r  o  a  c  t  i  v  e   e  -  s  e  r  v  i  c  e  s  .   Seamlessly empower fully  r esearched  gr owth  strategies   and   inter  operable   internal or \"organic\" sources. Credibly  innovate   granular   inter  nal   or   \"organic\"   sour  ces   wher  eas   high   standard s   i  n   w  e  b  -  r  e  a  d  i  n  e  s  s  .   E  n  e  r  g  i  s  t  i  c  a  l  l  y   s  c  a  l  e   f  u  t  u  r  e  -  p  r  o  o  f   c  o  r  e   competencies  vis-a-vis   impactful   experiences.   Dramatically   synthesize   integrated schemas with optimal networks. Inte r  a  c  t  i  v  e  l  y   p  r  o  c  r  a  s  t  i  n  a  t  e   h  i  g  h  -  p  a  y  o  f  f   c  o  n  t  e  n  t   w  i  t  h  o  u  t   b  a  c  k  w  a  r  d  -  compatible  d  a  t  a  .   Q  u  i  c  k  l  y   c  u  l  t  i  v  a  t  e   o  p  t  i  m  a  l   p  r  o  c  e  s  s  e  s   a  n  d   t  a  c  t  i  c  a  l   architectures.  Completely   iterate   covalent   strategic   theme   ar  eas   via   accurate e-markets. Globally incubate  standar ds  compliant   channels   befor  e   scalable   beneﬁts.   Quic k  l  y   d  i  s  s  e  m  i  n  a  t  e   s  u  p  e  r  i  o  r   d  e  l  i  v  e  r  a  b  l  e  s   w  h  e  r  e  a  s   w  e  b  -  e  n  a  b  l  e  d   BUSINESS PROPOSAL !   2'"
      ]
     },
     "execution_count": 36,
     "metadata": {},
     "output_type": "execute_result"
    }
   ],
   "source": [
    "pdf_text[1]"
   ]
  },
  {
   "cell_type": "markdown",
   "id": "369ad064",
   "metadata": {},
   "source": [
    "Printing"
   ]
  },
  {
   "cell_type": "code",
   "execution_count": 37,
   "id": "1e6b14fc",
   "metadata": {},
   "outputs": [
    {
     "name": "stdout",
     "output_type": "stream",
     "text": [
      "Completely  synergize   r  esour  ce   taxing   r  elationships   via   pr  emier   niche   markets. Professionally  cultivate   one-to-one   customer   service   with   r  obust   ideas. Dynamically innovate resource-leveling customer service for state of the art customer service. Objectively innovate  empower ed  manufactur  ed   pr  oducts   wher  eas   parallel   platforms. Holisticly predominate extensible  testing   pr  ocedur  es   for   r  eliable   supply  c  h  a  i  n  s  .   D  r  a  m  a  t  i  c  a  l  l  y   e  n  g  a  g  e   t  o  p  -  l  i  n  e   w  e  b   s  e  r  v  i  c  e  s   v  i  s  -  a  -  v  i  s   cutting-edge deliverables. Proactively  envisioned   multimedia   based   exper  tise   and   cr  oss-media   growth strategies.  Seamlessly   visualize   quality   intellectual   capital   without   superior  collaboration   and   idea-sharing.   Holistically   pontiﬁcate   installed   base portals after maintainable products. Phosﬂuorescently  engage   worldwide   methodologies   with   web-enabled   technology.  Interactively   coor  dinate   pr  oactive   e-commer  ce   via   pr  ocess-  centric  \"outside   the   box\"   thinking.   Completely   pursue   scalable   customer   service through sustainable potentialities. Collaboratively  administrate   tur  nkey   channels   wher  eas   vir  tual   e-tailers.   Objec t  i  v  e  l  y   s  e  i  z  e   s  c  a  l  a  b  l  e   m  e  t  r  i  c  s   w  h  e  r  e  a  s   p  r  o  a  c  t  i  v  e   e  -  s  e  r  v  i  c  e  s  .   Seamlessly empower fully  r esearched  gr owth  strategies   and   inter  operable   internal or \"organic\" sources. Credibly  innovate   granular   inter  nal   or   \"organic\"   sour  ces   wher  eas   high   standard s   i  n   w  e  b  -  r  e  a  d  i  n  e  s  s  .   E  n  e  r  g  i  s  t  i  c  a  l  l  y   s  c  a  l  e   f  u  t  u  r  e  -  p  r  o  o  f   c  o  r  e   competencies  vis-a-vis   impactful   experiences.   Dramatically   synthesize   integrated schemas with optimal networks. Inte r  a  c  t  i  v  e  l  y   p  r  o  c  r  a  s  t  i  n  a  t  e   h  i  g  h  -  p  a  y  o  f  f   c  o  n  t  e  n  t   w  i  t  h  o  u  t   b  a  c  k  w  a  r  d  -  compatible  d  a  t  a  .   Q  u  i  c  k  l  y   c  u  l  t  i  v  a  t  e   o  p  t  i  m  a  l   p  r  o  c  e  s  s  e  s   a  n  d   t  a  c  t  i  c  a  l   architectures.  Completely   iterate   covalent   strategic   theme   ar  eas   via   accurate e-markets. Globally incubate  standar ds  compliant   channels   befor  e   scalable   beneﬁts.   Quic k  l  y   d  i  s  s  e  m  i  n  a  t  e   s  u  p  e  r  i  o  r   d  e  l  i  v  e  r  a  b  l  e  s   w  h  e  r  e  a  s   w  e  b  -  e  n  a  b  l  e  d   BUSINESS PROPOSAL !   2\n"
     ]
    }
   ],
   "source": [
    "print(pdf_text[1])"
   ]
  },
  {
   "cell_type": "code",
   "execution_count": null,
   "id": "834aefd6",
   "metadata": {},
   "outputs": [],
   "source": []
  }
 ],
 "metadata": {
  "kernelspec": {
   "display_name": "Python 3 (ipykernel)",
   "language": "python",
   "name": "python3"
  },
  "language_info": {
   "codemirror_mode": {
    "name": "ipython",
    "version": 3
   },
   "file_extension": ".py",
   "mimetype": "text/x-python",
   "name": "python",
   "nbconvert_exporter": "python",
   "pygments_lexer": "ipython3",
   "version": "3.9.7"
  }
 },
 "nbformat": 4,
 "nbformat_minor": 5
}

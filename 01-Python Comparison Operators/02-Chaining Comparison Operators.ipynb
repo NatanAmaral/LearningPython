{
 "cells": [
  {
   "cell_type": "markdown",
   "id": "8071d8c3",
   "metadata": {},
   "source": [
    "### Checking two conditions at the same time "
   ]
  },
  {
   "cell_type": "code",
   "execution_count": 1,
   "id": "06522520",
   "metadata": {},
   "outputs": [
    {
     "data": {
      "text/plain": [
       "True"
      ]
     },
     "execution_count": 1,
     "metadata": {},
     "output_type": "execute_result"
    }
   ],
   "source": [
    "1 < 2 < 3"
   ]
  },
  {
   "cell_type": "code",
   "execution_count": 2,
   "id": "43ef03fd",
   "metadata": {},
   "outputs": [
    {
     "data": {
      "text/plain": [
       "False"
      ]
     },
     "execution_count": 2,
     "metadata": {},
     "output_type": "execute_result"
    }
   ],
   "source": [
    "1 < 2 > 3"
   ]
  },
  {
   "cell_type": "markdown",
   "id": "f3a6e6fc",
   "metadata": {},
   "source": [
    "#### 'and' Operator"
   ]
  },
  {
   "cell_type": "markdown",
   "id": "936be3ac",
   "metadata": {},
   "source": [
    "To be True both conditions need to be True"
   ]
  },
  {
   "cell_type": "code",
   "execution_count": 3,
   "id": "793118cf",
   "metadata": {},
   "outputs": [
    {
     "data": {
      "text/plain": [
       "True"
      ]
     },
     "execution_count": 3,
     "metadata": {},
     "output_type": "execute_result"
    }
   ],
   "source": [
    "1 < 2 and 2 < 3"
   ]
  },
  {
   "cell_type": "code",
   "execution_count": 5,
   "id": "a26794e6",
   "metadata": {},
   "outputs": [
    {
     "data": {
      "text/plain": [
       "True"
      ]
     },
     "execution_count": 5,
     "metadata": {},
     "output_type": "execute_result"
    }
   ],
   "source": [
    "('e' == 'e') and ('no' != 'No')"
   ]
  },
  {
   "cell_type": "markdown",
   "id": "b617f17f",
   "metadata": {},
   "source": [
    "#### 'or' Operator"
   ]
  },
  {
   "cell_type": "markdown",
   "id": "4ecd8734",
   "metadata": {},
   "source": [
    "To be True, only one of the conditions must be true"
   ]
  },
  {
   "cell_type": "code",
   "execution_count": 7,
   "id": "4ce7e355",
   "metadata": {},
   "outputs": [
    {
     "data": {
      "text/plain": [
       "True"
      ]
     },
     "execution_count": 7,
     "metadata": {},
     "output_type": "execute_result"
    }
   ],
   "source": [
    "1 == 1.0 or 2 == 2"
   ]
  },
  {
   "cell_type": "code",
   "execution_count": 8,
   "id": "150a5cd1",
   "metadata": {},
   "outputs": [
    {
     "data": {
      "text/plain": [
       "True"
      ]
     },
     "execution_count": 8,
     "metadata": {},
     "output_type": "execute_result"
    }
   ],
   "source": [
    "1 == 1.0 or 6 == 9"
   ]
  },
  {
   "cell_type": "code",
   "execution_count": 9,
   "id": "ca787678",
   "metadata": {},
   "outputs": [
    {
     "data": {
      "text/plain": [
       "True"
      ]
     },
     "execution_count": 9,
     "metadata": {},
     "output_type": "execute_result"
    }
   ],
   "source": [
    "999 == 1 or 1 == 1"
   ]
  },
  {
   "cell_type": "code",
   "execution_count": 10,
   "id": "eea3fc7d",
   "metadata": {},
   "outputs": [
    {
     "data": {
      "text/plain": [
       "False"
      ]
     },
     "execution_count": 10,
     "metadata": {},
     "output_type": "execute_result"
    }
   ],
   "source": [
    "2 == 3 or 4 == 5"
   ]
  },
  {
   "cell_type": "markdown",
   "id": "5e454817",
   "metadata": {},
   "source": [
    "#### 'not' Operator"
   ]
  },
  {
   "cell_type": "markdown",
   "id": "78474e46",
   "metadata": {},
   "source": [
    "Returns the opposite Boolean value of the operand\n",
    "\n",
    "Returns True if the operand is False \\\n",
    "and returns False if the operand is True"
   ]
  },
  {
   "cell_type": "code",
   "execution_count": 11,
   "id": "c72e6e56",
   "metadata": {},
   "outputs": [
    {
     "data": {
      "text/plain": [
       "True"
      ]
     },
     "execution_count": 11,
     "metadata": {},
     "output_type": "execute_result"
    }
   ],
   "source": [
    "11 == 11"
   ]
  },
  {
   "cell_type": "code",
   "execution_count": 12,
   "id": "b9a9c62b",
   "metadata": {},
   "outputs": [
    {
     "data": {
      "text/plain": [
       "False"
      ]
     },
     "execution_count": 12,
     "metadata": {},
     "output_type": "execute_result"
    }
   ],
   "source": [
    "not(11 == 11)"
   ]
  },
  {
   "cell_type": "code",
   "execution_count": 13,
   "id": "99f34d73",
   "metadata": {},
   "outputs": [
    {
     "data": {
      "text/plain": [
       "False"
      ]
     },
     "execution_count": 13,
     "metadata": {},
     "output_type": "execute_result"
    }
   ],
   "source": [
    "5 > 5000"
   ]
  },
  {
   "cell_type": "code",
   "execution_count": 14,
   "id": "26d9eb34",
   "metadata": {},
   "outputs": [
    {
     "data": {
      "text/plain": [
       "True"
      ]
     },
     "execution_count": 14,
     "metadata": {},
     "output_type": "execute_result"
    }
   ],
   "source": [
    "not(5 > 5000)"
   ]
  }
 ],
 "metadata": {
  "kernelspec": {
   "display_name": "Python 3 (ipykernel)",
   "language": "python",
   "name": "python3"
  },
  "language_info": {
   "codemirror_mode": {
    "name": "ipython",
    "version": 3
   },
   "file_extension": ".py",
   "mimetype": "text/x-python",
   "name": "python",
   "nbconvert_exporter": "python",
   "pygments_lexer": "ipython3",
   "version": "3.9.7"
  }
 },
 "nbformat": 4,
 "nbformat_minor": 5
}

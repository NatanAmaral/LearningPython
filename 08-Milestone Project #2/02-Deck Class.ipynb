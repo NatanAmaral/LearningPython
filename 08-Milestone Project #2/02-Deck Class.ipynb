{
 "cells": [
  {
   "cell_type": "markdown",
   "id": "c50d76c8",
   "metadata": {},
   "source": [
    "### Dictionary"
   ]
  },
  {
   "cell_type": "code",
   "execution_count": 1,
   "id": "54314cbc",
   "metadata": {},
   "outputs": [],
   "source": [
    "import random\n",
    "\n",
    "suits = ('Hearts', 'Diamonds', 'Spades', 'Clubs')\n",
    "ranks = ('Two', 'Three', 'Four', 'Five', 'Six', 'Seven', 'Eight', 'Nine', 'Ten', 'Jack', 'Queen', 'King', 'Ace')\n",
    "values = {'Two':2, 'Three':3, 'Four':4, 'Five':5, 'Six':6, 'Seven':7, 'Eight':8, \n",
    "          'Nine':9, 'Ten':10, 'Jack':11, 'Queen':12, 'King':13, 'Ace':14}"
   ]
  },
  {
   "cell_type": "markdown",
   "id": "9926b77a",
   "metadata": {},
   "source": [
    "### Card class"
   ]
  },
  {
   "cell_type": "code",
   "execution_count": 2,
   "id": "e86d4745",
   "metadata": {},
   "outputs": [],
   "source": [
    "class Card:\n",
    "    \n",
    "    def __init__(self,suit,rank):\n",
    "        self.suit = suit\n",
    "        self.rank = rank\n",
    "        self.value = values[rank]\n",
    "        \n",
    "    def __str__(self):\n",
    "        return self.rank + ' of ' + self.suit"
   ]
  },
  {
   "cell_type": "markdown",
   "id": "7e276ded",
   "metadata": {},
   "source": [
    "### Creating the Deck class"
   ]
  },
  {
   "cell_type": "code",
   "execution_count": 4,
   "id": "8b1354e7",
   "metadata": {},
   "outputs": [],
   "source": [
    "class Deck:\n",
    "    \n",
    "    def __init__(self):\n",
    "        \n",
    "        self.all_cards = []\n",
    "        \n",
    "        for suit in suits:\n",
    "            for rank in ranks:\n",
    "                # CREATING THE CARD OBJECT\n",
    "                created_card = Card(suit,rank)\n",
    "                \n",
    "                self.all_cards.append(created_card)"
   ]
  },
  {
   "cell_type": "code",
   "execution_count": 5,
   "id": "5b54062d",
   "metadata": {},
   "outputs": [],
   "source": [
    "new_deck = Deck()"
   ]
  },
  {
   "cell_type": "code",
   "execution_count": 7,
   "id": "32dc97f0",
   "metadata": {},
   "outputs": [
    {
     "data": {
      "text/plain": [
       "[<__main__.Card at 0x1c4e24ed7f0>,\n",
       " <__main__.Card at 0x1c4e24ed9a0>,\n",
       " <__main__.Card at 0x1c4e24eddc0>,\n",
       " <__main__.Card at 0x1c4e24ed0d0>,\n",
       " <__main__.Card at 0x1c4e24edcd0>,\n",
       " <__main__.Card at 0x1c4e24ed4f0>,\n",
       " <__main__.Card at 0x1c4e24ed5e0>,\n",
       " <__main__.Card at 0x1c4e24edd90>,\n",
       " <__main__.Card at 0x1c4e24edbb0>,\n",
       " <__main__.Card at 0x1c4e24ed820>,\n",
       " <__main__.Card at 0x1c4e24ed8e0>,\n",
       " <__main__.Card at 0x1c4e24ed280>,\n",
       " <__main__.Card at 0x1c4e24ed490>,\n",
       " <__main__.Card at 0x1c4e24edb20>,\n",
       " <__main__.Card at 0x1c4e24edaf0>,\n",
       " <__main__.Card at 0x1c4e24ed130>,\n",
       " <__main__.Card at 0x1c4e24edc10>,\n",
       " <__main__.Card at 0x1c4e24ede80>,\n",
       " <__main__.Card at 0x1c4e24ed370>,\n",
       " <__main__.Card at 0x1c4e24ed9d0>,\n",
       " <__main__.Card at 0x1c4e24ed8b0>,\n",
       " <__main__.Card at 0x1c4e24cfa90>,\n",
       " <__main__.Card at 0x1c4e24cfaf0>,\n",
       " <__main__.Card at 0x1c4e24cfd60>,\n",
       " <__main__.Card at 0x1c4e24cfd00>,\n",
       " <__main__.Card at 0x1c4e24cfe50>,\n",
       " <__main__.Card at 0x1c4e24cfeb0>,\n",
       " <__main__.Card at 0x1c4e24cff70>,\n",
       " <__main__.Card at 0x1c4e24cff10>,\n",
       " <__main__.Card at 0x1c4e24cfe80>,\n",
       " <__main__.Card at 0x1c4e24cffa0>,\n",
       " <__main__.Card at 0x1c4e24cfa30>,\n",
       " <__main__.Card at 0x1c4e24cf940>,\n",
       " <__main__.Card at 0x1c4e24cfd30>,\n",
       " <__main__.Card at 0x1c4e24cfc40>,\n",
       " <__main__.Card at 0x1c4e24cfcd0>,\n",
       " <__main__.Card at 0x1c4e24a7fd0>,\n",
       " <__main__.Card at 0x1c4e24a7f10>,\n",
       " <__main__.Card at 0x1c4e24b8040>,\n",
       " <__main__.Card at 0x1c4e24b8220>,\n",
       " <__main__.Card at 0x1c4e24b8070>,\n",
       " <__main__.Card at 0x1c4e24b82b0>,\n",
       " <__main__.Card at 0x1c4e24b8400>,\n",
       " <__main__.Card at 0x1c4e24b80d0>,\n",
       " <__main__.Card at 0x1c4e24b81f0>,\n",
       " <__main__.Card at 0x1c4e24b83a0>,\n",
       " <__main__.Card at 0x1c4e2407a00>,\n",
       " <__main__.Card at 0x1c4e24f4790>,\n",
       " <__main__.Card at 0x1c4e24f47f0>,\n",
       " <__main__.Card at 0x1c4e24f41f0>,\n",
       " <__main__.Card at 0x1c4e24f4250>,\n",
       " <__main__.Card at 0x1c4e24f42b0>]"
      ]
     },
     "execution_count": 7,
     "metadata": {},
     "output_type": "execute_result"
    }
   ],
   "source": [
    "new_deck.all_cards"
   ]
  },
  {
   "cell_type": "markdown",
   "id": "b27cecdf",
   "metadata": {},
   "source": [
    "#### Checking the first value"
   ]
  },
  {
   "cell_type": "code",
   "execution_count": 11,
   "id": "2b26a6ea",
   "metadata": {},
   "outputs": [
    {
     "data": {
      "text/plain": [
       "<__main__.Card at 0x1c4e24ed7f0>"
      ]
     },
     "execution_count": 11,
     "metadata": {},
     "output_type": "execute_result"
    }
   ],
   "source": [
    "new_deck.all_cards[0]"
   ]
  },
  {
   "cell_type": "code",
   "execution_count": 12,
   "id": "02eabab6",
   "metadata": {},
   "outputs": [],
   "source": [
    "first_card = new_deck.all_cards[0]"
   ]
  },
  {
   "cell_type": "code",
   "execution_count": 13,
   "id": "b8c77b2e",
   "metadata": {},
   "outputs": [
    {
     "name": "stdout",
     "output_type": "stream",
     "text": [
      "Two of Hearts\n"
     ]
    }
   ],
   "source": [
    "print(first_card)"
   ]
  },
  {
   "cell_type": "markdown",
   "id": "c145dd6e",
   "metadata": {},
   "source": [
    "#### Checking the last value"
   ]
  },
  {
   "cell_type": "code",
   "execution_count": 14,
   "id": "48503365",
   "metadata": {},
   "outputs": [
    {
     "data": {
      "text/plain": [
       "<__main__.Card at 0x1c4e24f42b0>"
      ]
     },
     "execution_count": 14,
     "metadata": {},
     "output_type": "execute_result"
    }
   ],
   "source": [
    "new_deck.all_cards[-1]"
   ]
  },
  {
   "cell_type": "code",
   "execution_count": 15,
   "id": "f409f63b",
   "metadata": {},
   "outputs": [],
   "source": [
    "last_card = new_deck.all_cards[-1]"
   ]
  },
  {
   "cell_type": "code",
   "execution_count": 16,
   "id": "ba34503d",
   "metadata": {},
   "outputs": [
    {
     "name": "stdout",
     "output_type": "stream",
     "text": [
      "Ace of Clubs\n"
     ]
    }
   ],
   "source": [
    "print(last_card)"
   ]
  },
  {
   "cell_type": "markdown",
   "id": "77deabab",
   "metadata": {},
   "source": [
    "#### Checking all cards"
   ]
  },
  {
   "cell_type": "code",
   "execution_count": 17,
   "id": "cee93172",
   "metadata": {},
   "outputs": [
    {
     "name": "stdout",
     "output_type": "stream",
     "text": [
      "Two of Hearts\n",
      "Three of Hearts\n",
      "Four of Hearts\n",
      "Five of Hearts\n",
      "Six of Hearts\n",
      "Seven of Hearts\n",
      "Eight of Hearts\n",
      "Nine of Hearts\n",
      "Ten of Hearts\n",
      "Jack of Hearts\n",
      "Queen of Hearts\n",
      "King of Hearts\n",
      "Ace of Hearts\n",
      "Two of Diamonds\n",
      "Three of Diamonds\n",
      "Four of Diamonds\n",
      "Five of Diamonds\n",
      "Six of Diamonds\n",
      "Seven of Diamonds\n",
      "Eight of Diamonds\n",
      "Nine of Diamonds\n",
      "Ten of Diamonds\n",
      "Jack of Diamonds\n",
      "Queen of Diamonds\n",
      "King of Diamonds\n",
      "Ace of Diamonds\n",
      "Two of Spades\n",
      "Three of Spades\n",
      "Four of Spades\n",
      "Five of Spades\n",
      "Six of Spades\n",
      "Seven of Spades\n",
      "Eight of Spades\n",
      "Nine of Spades\n",
      "Ten of Spades\n",
      "Jack of Spades\n",
      "Queen of Spades\n",
      "King of Spades\n",
      "Ace of Spades\n",
      "Two of Clubs\n",
      "Three of Clubs\n",
      "Four of Clubs\n",
      "Five of Clubs\n",
      "Six of Clubs\n",
      "Seven of Clubs\n",
      "Eight of Clubs\n",
      "Nine of Clubs\n",
      "Ten of Clubs\n",
      "Jack of Clubs\n",
      "Queen of Clubs\n",
      "King of Clubs\n",
      "Ace of Clubs\n"
     ]
    }
   ],
   "source": [
    "for card_object in new_deck.all_cards:\n",
    "    print(card_object)"
   ]
  },
  {
   "cell_type": "markdown",
   "id": "d35fc7f0",
   "metadata": {},
   "source": [
    "### Adding the Shuffle Method "
   ]
  },
  {
   "cell_type": "code",
   "execution_count": 18,
   "id": "69265d28",
   "metadata": {},
   "outputs": [],
   "source": [
    "class Deck:\n",
    "    \n",
    "    def __init__(self):\n",
    "        \n",
    "        self.all_cards = []\n",
    "        \n",
    "        for suit in suits:\n",
    "            for rank in ranks:\n",
    "                # CREATING THE CARD OBJECT\n",
    "                created_card = Card(suit,rank)\n",
    "                \n",
    "                self.all_cards.append(created_card)\n",
    "                \n",
    "    def shuffle(self):\n",
    "        \n",
    "        random.shuffle(self.all_cards)"
   ]
  },
  {
   "cell_type": "markdown",
   "id": "02451ea9",
   "metadata": {},
   "source": [
    "#### Shuffling"
   ]
  },
  {
   "cell_type": "code",
   "execution_count": 19,
   "id": "a3914cc5",
   "metadata": {},
   "outputs": [],
   "source": [
    "new_deck = Deck()"
   ]
  },
  {
   "cell_type": "code",
   "execution_count": 20,
   "id": "d4968e2e",
   "metadata": {},
   "outputs": [],
   "source": [
    "last_card = new_deck.all_cards[-1]"
   ]
  },
  {
   "cell_type": "code",
   "execution_count": 21,
   "id": "c7751bad",
   "metadata": {},
   "outputs": [
    {
     "name": "stdout",
     "output_type": "stream",
     "text": [
      "Ace of Clubs\n"
     ]
    }
   ],
   "source": [
    "print(last_card)"
   ]
  },
  {
   "cell_type": "code",
   "execution_count": 22,
   "id": "4aec3852",
   "metadata": {},
   "outputs": [],
   "source": [
    "new_deck.shuffle()"
   ]
  },
  {
   "cell_type": "code",
   "execution_count": 23,
   "id": "30f93d78",
   "metadata": {},
   "outputs": [
    {
     "name": "stdout",
     "output_type": "stream",
     "text": [
      "Eight of Spades\n"
     ]
    }
   ],
   "source": [
    "print(new_deck.all_cards[-1])"
   ]
  },
  {
   "cell_type": "markdown",
   "id": "f16489d0",
   "metadata": {},
   "source": [
    "### Adding the Dealing Method"
   ]
  },
  {
   "cell_type": "code",
   "execution_count": 24,
   "id": "11fc37ca",
   "metadata": {},
   "outputs": [],
   "source": [
    "class Deck:\n",
    "    \n",
    "    def __init__(self):\n",
    "        \n",
    "        self.all_cards = []\n",
    "        \n",
    "        for suit in suits:\n",
    "            for rank in ranks:\n",
    "                # CREATING THE CARD OBJECT\n",
    "                created_card = Card(suit,rank)\n",
    "                \n",
    "                self.all_cards.append(created_card)\n",
    "                \n",
    "    def shuffle(self):\n",
    "        \n",
    "        random.shuffle(self.all_cards)\n",
    "        \n",
    "    def deal_one(self):\n",
    "        return self.all_cards.pop()"
   ]
  },
  {
   "cell_type": "markdown",
   "id": "27b59afb",
   "metadata": {},
   "source": [
    "#### Dealing"
   ]
  },
  {
   "cell_type": "code",
   "execution_count": 25,
   "id": "bebb6d09",
   "metadata": {},
   "outputs": [],
   "source": [
    "new_deck = Deck()"
   ]
  },
  {
   "cell_type": "code",
   "execution_count": 26,
   "id": "57e64806",
   "metadata": {},
   "outputs": [],
   "source": [
    "new_deck.shuffle()"
   ]
  },
  {
   "cell_type": "code",
   "execution_count": 27,
   "id": "e223622f",
   "metadata": {},
   "outputs": [],
   "source": [
    "mycard = new_deck.deal_one()"
   ]
  },
  {
   "cell_type": "code",
   "execution_count": 28,
   "id": "d4f534b3",
   "metadata": {},
   "outputs": [
    {
     "data": {
      "text/plain": [
       "<__main__.Card at 0x1c4e25ca820>"
      ]
     },
     "execution_count": 28,
     "metadata": {},
     "output_type": "execute_result"
    }
   ],
   "source": [
    "mycard"
   ]
  },
  {
   "cell_type": "code",
   "execution_count": 29,
   "id": "e7d9f76f",
   "metadata": {},
   "outputs": [
    {
     "name": "stdout",
     "output_type": "stream",
     "text": [
      "Three of Hearts\n"
     ]
    }
   ],
   "source": [
    "print(mycard)"
   ]
  },
  {
   "cell_type": "markdown",
   "id": "228b9895",
   "metadata": {},
   "source": [
    "A standard deck is 52 cards, but with the __pop()__ method I've permanently affected the current cards within the deck because I removed one"
   ]
  },
  {
   "cell_type": "code",
   "execution_count": 30,
   "id": "7f1f160f",
   "metadata": {},
   "outputs": [
    {
     "data": {
      "text/plain": [
       "51"
      ]
     },
     "execution_count": 30,
     "metadata": {},
     "output_type": "execute_result"
    }
   ],
   "source": [
    "len(new_deck.all_cards)"
   ]
  }
 ],
 "metadata": {
  "kernelspec": {
   "display_name": "Python 3 (ipykernel)",
   "language": "python",
   "name": "python3"
  },
  "language_info": {
   "codemirror_mode": {
    "name": "ipython",
    "version": 3
   },
   "file_extension": ".py",
   "mimetype": "text/x-python",
   "name": "python",
   "nbconvert_exporter": "python",
   "pygments_lexer": "ipython3",
   "version": "3.9.7"
  }
 },
 "nbformat": 4,
 "nbformat_minor": 5
}

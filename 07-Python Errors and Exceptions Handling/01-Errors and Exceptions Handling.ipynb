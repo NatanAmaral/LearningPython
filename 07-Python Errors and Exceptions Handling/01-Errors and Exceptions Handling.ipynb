{
 "cells": [
  {
   "cell_type": "code",
   "execution_count": 1,
   "id": "1ac6291e",
   "metadata": {},
   "outputs": [],
   "source": [
    "def add(n1,n2):\n",
    "    print(n1+n2)"
   ]
  },
  {
   "cell_type": "code",
   "execution_count": 2,
   "id": "2763c7cc",
   "metadata": {},
   "outputs": [
    {
     "name": "stdout",
     "output_type": "stream",
     "text": [
      "50\n"
     ]
    }
   ],
   "source": [
    "add(10,40)"
   ]
  },
  {
   "cell_type": "code",
   "execution_count": 3,
   "id": "d74d5a6d",
   "metadata": {},
   "outputs": [],
   "source": [
    " number1 = 10"
   ]
  },
  {
   "cell_type": "code",
   "execution_count": 4,
   "id": "da286881",
   "metadata": {},
   "outputs": [
    {
     "name": "stdout",
     "output_type": "stream",
     "text": [
      "Please provide a number: 40\n"
     ]
    }
   ],
   "source": [
    "number2 = input('Please provide a number: ')"
   ]
  },
  {
   "cell_type": "markdown",
   "id": "edf5f6e7",
   "metadata": {},
   "source": [
    "The following error is occurring because 40 is a string and 10 a integer, so one can't be added to the other"
   ]
  },
  {
   "cell_type": "code",
   "execution_count": 5,
   "id": "7224ba14",
   "metadata": {},
   "outputs": [
    {
     "ename": "TypeError",
     "evalue": "unsupported operand type(s) for +: 'int' and 'str'",
     "output_type": "error",
     "traceback": [
      "\u001b[1;31m---------------------------------------------------------------------------\u001b[0m",
      "\u001b[1;31mTypeError\u001b[0m                                 Traceback (most recent call last)",
      "\u001b[1;32m~\\AppData\\Local\\Temp/ipykernel_1276/4243398365.py\u001b[0m in \u001b[0;36m<module>\u001b[1;34m\u001b[0m\n\u001b[1;32m----> 1\u001b[1;33m \u001b[0madd\u001b[0m\u001b[1;33m(\u001b[0m\u001b[0mnumber1\u001b[0m\u001b[1;33m,\u001b[0m\u001b[0mnumber2\u001b[0m\u001b[1;33m)\u001b[0m\u001b[1;33m\u001b[0m\u001b[1;33m\u001b[0m\u001b[0m\n\u001b[0m",
      "\u001b[1;32m~\\AppData\\Local\\Temp/ipykernel_1276/620513249.py\u001b[0m in \u001b[0;36madd\u001b[1;34m(n1, n2)\u001b[0m\n\u001b[0;32m      1\u001b[0m \u001b[1;32mdef\u001b[0m \u001b[0madd\u001b[0m\u001b[1;33m(\u001b[0m\u001b[0mn1\u001b[0m\u001b[1;33m,\u001b[0m\u001b[0mn2\u001b[0m\u001b[1;33m)\u001b[0m\u001b[1;33m:\u001b[0m\u001b[1;33m\u001b[0m\u001b[1;33m\u001b[0m\u001b[0m\n\u001b[1;32m----> 2\u001b[1;33m     \u001b[0mprint\u001b[0m\u001b[1;33m(\u001b[0m\u001b[0mn1\u001b[0m\u001b[1;33m+\u001b[0m\u001b[0mn2\u001b[0m\u001b[1;33m)\u001b[0m\u001b[1;33m\u001b[0m\u001b[1;33m\u001b[0m\u001b[0m\n\u001b[0m",
      "\u001b[1;31mTypeError\u001b[0m: unsupported operand type(s) for +: 'int' and 'str'"
     ]
    }
   ],
   "source": [
    "add(number1,number2)"
   ]
  },
  {
   "cell_type": "markdown",
   "id": "36f76fe0",
   "metadata": {},
   "source": [
    "### try & except Keywords"
   ]
  },
  {
   "cell_type": "markdown",
   "id": "acd3eb7a",
   "metadata": {},
   "source": [
    "The __try__ block of code is the block you will try to attempt \\\n",
    "The __except__ block of code is going to occur when there is an error "
   ]
  },
  {
   "cell_type": "code",
   "execution_count": 6,
   "id": "34db113c",
   "metadata": {},
   "outputs": [],
   "source": [
    "try:\n",
    "    # WANT TO ATTEMPT THIS CODE\n",
    "    # MAY HAVE AN ERROR\n",
    "    result = 10 + 10\n",
    "except:\n",
    "    print(\"It looks like you aren't adding correctly!\")"
   ]
  },
  {
   "cell_type": "code",
   "execution_count": 7,
   "id": "95e1ec8a",
   "metadata": {},
   "outputs": [
    {
     "data": {
      "text/plain": [
       "20"
      ]
     },
     "execution_count": 7,
     "metadata": {},
     "output_type": "execute_result"
    }
   ],
   "source": [
    "result"
   ]
  },
  {
   "cell_type": "markdown",
   "id": "08083b1c",
   "metadata": {},
   "source": [
    "Creating an error"
   ]
  },
  {
   "cell_type": "code",
   "execution_count": 9,
   "id": "050455d5",
   "metadata": {},
   "outputs": [
    {
     "name": "stdout",
     "output_type": "stream",
     "text": [
      "It looks like you aren't adding correctly!\n"
     ]
    }
   ],
   "source": [
    "try:\n",
    "    # WANT TO ATTEMPT THIS CODE\n",
    "    # MAY HAVE AN ERROR\n",
    "    result = 10 + '10'\n",
    "except:\n",
    "    print(\"It looks like you aren't adding correctly!\")"
   ]
  },
  {
   "cell_type": "markdown",
   "id": "6224514d",
   "metadata": {},
   "source": [
    "Not producing error anymore "
   ]
  },
  {
   "cell_type": "code",
   "execution_count": 11,
   "id": "98bfe3d7",
   "metadata": {},
   "outputs": [
    {
     "name": "stdout",
     "output_type": "stream",
     "text": [
      "Add went well!\n",
      "20\n"
     ]
    }
   ],
   "source": [
    "try:\n",
    "    # WANT TO ATTEMPT THIS CODE\n",
    "    # MAY HAVE AN ERROR\n",
    "    result = 10 + 10\n",
    "except:\n",
    "    print(\"It looks like you aren't adding correctly!\")\n",
    "else:\n",
    "    print('Add went well!')\n",
    "    print(result)"
   ]
  },
  {
   "cell_type": "markdown",
   "id": "0a8c3f05",
   "metadata": {},
   "source": [
    "### finally Keyword"
   ]
  },
  {
   "cell_type": "markdown",
   "id": "954f841c",
   "metadata": {},
   "source": [
    "The __finally__ block will always be executed, whether or not there is an error"
   ]
  },
  {
   "cell_type": "markdown",
   "id": "cde87e43",
   "metadata": {},
   "source": [
    "In the following example, no errors are occurring"
   ]
  },
  {
   "cell_type": "code",
   "execution_count": 15,
   "id": "2aeac5cc",
   "metadata": {},
   "outputs": [
    {
     "name": "stdout",
     "output_type": "stream",
     "text": [
      "I always run :)\n"
     ]
    }
   ],
   "source": [
    "try:\n",
    "    f = open('testfile','w')\n",
    "    f.write('Write a test line')\n",
    "except TypeError:\n",
    "    print('There was a type error!')\n",
    "except OSError:\n",
    "    print('You have an OS Error!')\n",
    "finally:\n",
    "    print('I always run :)')"
   ]
  },
  {
   "cell_type": "markdown",
   "id": "ab2c1808",
   "metadata": {},
   "source": [
    "Now let's induce an __OS Error__ by changing 'w' (write mode) to 'r' (read only permission)"
   ]
  },
  {
   "cell_type": "code",
   "execution_count": 16,
   "id": "a8d1976f",
   "metadata": {},
   "outputs": [
    {
     "name": "stdout",
     "output_type": "stream",
     "text": [
      "You have an OS Error!\n",
      "I always run :)\n"
     ]
    }
   ],
   "source": [
    "try:\n",
    "    f = open('testfile','r')\n",
    "    f.write('Write a test line')\n",
    "except TypeError:\n",
    "    print('There was a type error!')\n",
    "except OSError:\n",
    "    print('You have an OS Error!')\n",
    "finally:\n",
    "    print('I always run :)')"
   ]
  },
  {
   "cell_type": "markdown",
   "id": "53b416d3",
   "metadata": {},
   "source": [
    "If you just say __except__ at the end of the code, it is going to cover all other exceptions"
   ]
  },
  {
   "cell_type": "code",
   "execution_count": 17,
   "id": "a1732f46",
   "metadata": {},
   "outputs": [
    {
     "name": "stdout",
     "output_type": "stream",
     "text": [
      "All other exceptions\n",
      "I always run :)\n"
     ]
    }
   ],
   "source": [
    "try:\n",
    "    f = open('testfile','r')\n",
    "    f.write('Write a test line')\n",
    "except:\n",
    "    print('All other exceptions')\n",
    "finally:\n",
    "    print('I always run :)')"
   ]
  },
  {
   "cell_type": "markdown",
   "id": "55746710",
   "metadata": {},
   "source": [
    "### Inside of a Function"
   ]
  },
  {
   "cell_type": "code",
   "execution_count": 21,
   "id": "af10a1ae",
   "metadata": {},
   "outputs": [],
   "source": [
    "def ask_for_int():\n",
    "    try:\n",
    "        result = int(input('Please provide a number: '))\n",
    "    except:\n",
    "        print('Whoops! That is not a number ¯\\_(ツ)_/¯')\n",
    "    finally:\n",
    "        print('End of try/except/finally')"
   ]
  },
  {
   "cell_type": "markdown",
   "id": "d5e955d8",
   "metadata": {},
   "source": [
    "With __no errors__"
   ]
  },
  {
   "cell_type": "code",
   "execution_count": 22,
   "id": "9cd42b3c",
   "metadata": {},
   "outputs": [
    {
     "name": "stdout",
     "output_type": "stream",
     "text": [
      "Please provide a number: 100\n",
      "End of try/except/finally\n"
     ]
    }
   ],
   "source": [
    "ask_for_int()"
   ]
  },
  {
   "cell_type": "markdown",
   "id": "4eff2b8a",
   "metadata": {},
   "source": [
    "Providing a __wrong input__"
   ]
  },
  {
   "cell_type": "code",
   "execution_count": 23,
   "id": "07fa58f0",
   "metadata": {},
   "outputs": [
    {
     "name": "stdout",
     "output_type": "stream",
     "text": [
      "Please provide a number: word\n",
      "Whoops! That is not a number ¯\\_(ツ)_/¯\n",
      "End of try/except/finally\n"
     ]
    }
   ],
   "source": [
    "ask_for_int()"
   ]
  },
  {
   "cell_type": "markdown",
   "id": "f9c4950c",
   "metadata": {},
   "source": [
    "Creating a __while Loop__"
   ]
  },
  {
   "cell_type": "code",
   "execution_count": 24,
   "id": "c0a13a15",
   "metadata": {},
   "outputs": [],
   "source": [
    "def ask_for_int():\n",
    "    \n",
    "    while True:\n",
    "        try:\n",
    "            result = int(input('Please provide a number: '))\n",
    "        except:\n",
    "            print('Whoops! That is not a number ¯\\_(ツ)_/¯')\n",
    "            continue\n",
    "        else:\n",
    "            print('Yes, thank you!')\n",
    "            break\n",
    "        finally:\n",
    "            print('End of try/except/finally')\n",
    "            print('This block will always run at the end ᕙ(▀̿̿Ĺ̯̿̿▀̿ ̿) ᕗ')"
   ]
  },
  {
   "cell_type": "code",
   "execution_count": 25,
   "id": "e1e435d3",
   "metadata": {},
   "outputs": [
    {
     "name": "stdout",
     "output_type": "stream",
     "text": [
      "Please provide a number: 10\n",
      "Yes, thank you!\n",
      "End of try/except/finally\n",
      "This block will always run at the end ᕙ(▀̿̿Ĺ̯̿̿▀̿ ̿) ᕗ\n"
     ]
    }
   ],
   "source": [
    "ask_for_int()"
   ]
  },
  {
   "cell_type": "code",
   "execution_count": 26,
   "id": "debf6a35",
   "metadata": {},
   "outputs": [
    {
     "name": "stdout",
     "output_type": "stream",
     "text": [
      "Please provide a number: word\n",
      "Whoops! That is not a number ¯\\_(ツ)_/¯\n",
      "End of try/except/finally\n",
      "This block will always run at the end ᕙ(▀̿̿Ĺ̯̿̿▀̿ ̿) ᕗ\n",
      "Please provide a number: 11\n",
      "Yes, thank you!\n",
      "End of try/except/finally\n",
      "This block will always run at the end ᕙ(▀̿̿Ĺ̯̿̿▀̿ ̿) ᕗ\n"
     ]
    }
   ],
   "source": [
    "ask_for_int()"
   ]
  },
  {
   "cell_type": "markdown",
   "id": "b4e16635",
   "metadata": {},
   "source": [
    "A more realistic example of what the __finally__ statement would look like"
   ]
  },
  {
   "cell_type": "code",
   "execution_count": 27,
   "id": "622afba6",
   "metadata": {},
   "outputs": [],
   "source": [
    "def ask_for_int():\n",
    "    \n",
    "    while True:\n",
    "        try:\n",
    "            result = int(input('Please provide a number: '))\n",
    "        except:\n",
    "            print('Whoops! That is not a number ¯\\_(ツ)_/¯')\n",
    "            continue\n",
    "        else:\n",
    "            print('Yes, thank you!')\n",
    "            break\n",
    "        finally:\n",
    "            print(\"I'm going to ask you again! \\n\")"
   ]
  },
  {
   "cell_type": "code",
   "execution_count": 28,
   "id": "ada6bc91",
   "metadata": {},
   "outputs": [
    {
     "name": "stdout",
     "output_type": "stream",
     "text": [
      "Please provide a number: e\n",
      "Whoops! That is not a number ¯\\_(ツ)_/¯\n",
      "I'm going to ask you again! \n",
      "\n",
      "Please provide a number: 11\n",
      "Yes, thank you!\n",
      "I'm going to ask you again! \n",
      "\n"
     ]
    }
   ],
   "source": [
    "ask_for_int()"
   ]
  },
  {
   "cell_type": "markdown",
   "id": "9adda841",
   "metadata": {},
   "source": [
    "Without the __finally__ statement"
   ]
  },
  {
   "cell_type": "code",
   "execution_count": 29,
   "id": "5a5ef1cc",
   "metadata": {},
   "outputs": [],
   "source": [
    "def ask_for_int():\n",
    "    \n",
    "    while True:\n",
    "        try:\n",
    "            result = int(input('Please provide a number: '))\n",
    "        except:\n",
    "            print('Whoops! That is not a number ¯\\_(ツ)_/¯')\n",
    "            continue\n",
    "        else:\n",
    "            print('Yes, thank you!')\n",
    "            break"
   ]
  },
  {
   "cell_type": "code",
   "execution_count": 30,
   "id": "eaf39f81",
   "metadata": {},
   "outputs": [
    {
     "name": "stdout",
     "output_type": "stream",
     "text": [
      "Please provide a number: e\n",
      "Whoops! That is not a number ¯\\_(ツ)_/¯\n",
      "Please provide a number: 100\n",
      "Yes, thank you!\n"
     ]
    }
   ],
   "source": [
    "ask_for_int()"
   ]
  }
 ],
 "metadata": {
  "kernelspec": {
   "display_name": "Python 3 (ipykernel)",
   "language": "python",
   "name": "python3"
  },
  "language_info": {
   "codemirror_mode": {
    "name": "ipython",
    "version": 3
   },
   "file_extension": ".py",
   "mimetype": "text/x-python",
   "name": "python",
   "nbconvert_exporter": "python",
   "pygments_lexer": "ipython3",
   "version": "3.9.7"
  }
 },
 "nbformat": 4,
 "nbformat_minor": 5
}

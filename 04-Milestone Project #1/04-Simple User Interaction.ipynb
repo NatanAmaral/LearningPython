{
 "cells": [
  {
   "cell_type": "markdown",
   "id": "cfdb3a91",
   "metadata": {},
   "source": [
    "### Creating a Display Function"
   ]
  },
  {
   "cell_type": "code",
   "execution_count": 1,
   "id": "a2c0d95a",
   "metadata": {},
   "outputs": [],
   "source": [
    "game_list = [0,1,2]"
   ]
  },
  {
   "cell_type": "code",
   "execution_count": 2,
   "id": "0608a709",
   "metadata": {},
   "outputs": [],
   "source": [
    "def display_game(game_list):\n",
    "    print('Here is the current list: ')\n",
    "    print(game_list)"
   ]
  },
  {
   "cell_type": "code",
   "execution_count": 3,
   "id": "d4e48cff",
   "metadata": {},
   "outputs": [
    {
     "name": "stdout",
     "output_type": "stream",
     "text": [
      "Here is the current list: \n",
      "[0, 1, 2]\n"
     ]
    }
   ],
   "source": [
    "display_game(game_list)"
   ]
  },
  {
   "cell_type": "markdown",
   "id": "7eb3bce1",
   "metadata": {},
   "source": [
    "### Creating a Position Function"
   ]
  },
  {
   "cell_type": "code",
   "execution_count": 4,
   "id": "deb1f05e",
   "metadata": {},
   "outputs": [],
   "source": [
    "def position_choice():\n",
    "    \n",
    "    choice = 'Wrong'\n",
    "    \n",
    "    while choice not in ['0','1','2']:\n",
    "        \n",
    "        choice = input('Pick a position (0, 1, 2): ')\n",
    "        \n",
    "        if choice not in ['0','1','2']:\n",
    "            print('Sorry, invalid choice! ')\n",
    "            \n",
    "    return int(choice)"
   ]
  },
  {
   "cell_type": "code",
   "execution_count": 5,
   "id": "d9d55531",
   "metadata": {},
   "outputs": [
    {
     "name": "stdout",
     "output_type": "stream",
     "text": [
      "Pick a position (0, 1, 2): 11\n",
      "Sorry, invalid choice! \n",
      "Pick a position (0, 1, 2): 3\n",
      "Sorry, invalid choice! \n",
      "Pick a position (0, 1, 2): 1\n"
     ]
    },
    {
     "data": {
      "text/plain": [
       "1"
      ]
     },
     "execution_count": 5,
     "metadata": {},
     "output_type": "execute_result"
    }
   ],
   "source": [
    "position_choice()"
   ]
  },
  {
   "cell_type": "markdown",
   "id": "994d2096",
   "metadata": {},
   "source": [
    "### Choosing a Replacement Function"
   ]
  },
  {
   "cell_type": "code",
   "execution_count": 6,
   "id": "4d26598d",
   "metadata": {},
   "outputs": [],
   "source": [
    "def replacement_choice(gmae_list,position):\n",
    "    \n",
    "    user_placement = input('Type a string to place at position: ')\n",
    "    \n",
    "    game_list[position] = user_placement\n",
    "    \n",
    "    return game_list"
   ]
  },
  {
   "cell_type": "code",
   "execution_count": 7,
   "id": "946ed6c2",
   "metadata": {},
   "outputs": [
    {
     "name": "stdout",
     "output_type": "stream",
     "text": [
      "Type a string to place at position: TEST\n"
     ]
    },
    {
     "data": {
      "text/plain": [
       "[0, 'TEST', 2]"
      ]
     },
     "execution_count": 7,
     "metadata": {},
     "output_type": "execute_result"
    }
   ],
   "source": [
    "replacement_choice(game_list,1)"
   ]
  },
  {
   "cell_type": "markdown",
   "id": "005e7005",
   "metadata": {},
   "source": [
    "### Creating a GameOn Function"
   ]
  },
  {
   "cell_type": "code",
   "execution_count": 8,
   "id": "12fdd88c",
   "metadata": {},
   "outputs": [],
   "source": [
    "def gameon_choice():\n",
    "    \n",
    "    choice = 'Wrong'\n",
    "    \n",
    "    while choice not in ['Y','N']:\n",
    "        \n",
    "        choice = input('Do you want to keep playing? (Y or N) ')\n",
    "        \n",
    "        if choice not in ['Y','N']:\n",
    "            print(\"Sorry, I don't understand. Please, choose Y or N \")\n",
    "            \n",
    "    if choice == 'Y':\n",
    "        return True\n",
    "    else:\n",
    "        return False"
   ]
  },
  {
   "cell_type": "code",
   "execution_count": 9,
   "id": "0a1f4738",
   "metadata": {},
   "outputs": [
    {
     "name": "stdout",
     "output_type": "stream",
     "text": [
      "Do you want to keep playing? (Y or N) Wrong\n",
      "Sorry, I don't understand. Please, choose Y or N \n",
      "Do you want to keep playing? (Y or N) Y\n"
     ]
    },
    {
     "data": {
      "text/plain": [
       "True"
      ]
     },
     "execution_count": 9,
     "metadata": {},
     "output_type": "execute_result"
    }
   ],
   "source": [
    "gameon_choice()"
   ]
  },
  {
   "cell_type": "markdown",
   "id": "256257bc",
   "metadata": {},
   "source": [
    "### Putting all Functions together"
   ]
  },
  {
   "cell_type": "code",
   "execution_count": 10,
   "id": "893fab7f",
   "metadata": {},
   "outputs": [
    {
     "name": "stdout",
     "output_type": "stream",
     "text": [
      "Here is the current list: \n",
      "[0, 1, 2]\n",
      "Pick a position (0, 1, 2): Two\n",
      "Sorry, invalid choice! \n",
      "Pick a position (0, 1, 2): 1\n",
      "Type a string to place at position: My choice\n",
      "Here is the current list: \n",
      "[0, 'My choice', 2]\n",
      "Do you want to keep playing? (Y or N) Y\n",
      "Here is the current list: \n",
      "[0, 'My choice', 2]\n",
      "Pick a position (0, 1, 2): 0\n",
      "Type a string to place at position: Test\n",
      "Here is the current list: \n",
      "['Test', 'My choice', 2]\n",
      "Do you want to keep playing? (Y or N) N\n"
     ]
    }
   ],
   "source": [
    "game_on = True \n",
    "game_list = [0, 1, 2]\n",
    "\n",
    "while game_on:\n",
    "    \n",
    "    display_game(game_list)\n",
    "    \n",
    "    position = position_choice()\n",
    "    \n",
    "    game_list = replacement_choice(game_list,position)\n",
    "    \n",
    "    display_game(game_list)\n",
    "    \n",
    "    game_on = gameon_choice()"
   ]
  }
 ],
 "metadata": {
  "kernelspec": {
   "display_name": "Python 3 (ipykernel)",
   "language": "python",
   "name": "python3"
  },
  "language_info": {
   "codemirror_mode": {
    "name": "ipython",
    "version": 3
   },
   "file_extension": ".py",
   "mimetype": "text/x-python",
   "name": "python",
   "nbconvert_exporter": "python",
   "pygments_lexer": "ipython3",
   "version": "3.9.7"
  }
 },
 "nbformat": 4,
 "nbformat_minor": 5
}

{
 "cells": [
  {
   "cell_type": "markdown",
   "id": "a82325ff",
   "metadata": {},
   "source": [
    "### Creating Function"
   ]
  },
  {
   "cell_type": "code",
   "execution_count": 1,
   "id": "f77ecc19",
   "metadata": {},
   "outputs": [],
   "source": [
    "def square(num):\n",
    "    return num**2"
   ]
  },
  {
   "cell_type": "code",
   "execution_count": 2,
   "id": "3742d14d",
   "metadata": {},
   "outputs": [],
   "source": [
    "my_nums = [1,2,3,4,5]"
   ]
  },
  {
   "cell_type": "markdown",
   "id": "9a537a3e",
   "metadata": {},
   "source": [
    "### Map Function"
   ]
  },
  {
   "cell_type": "code",
   "execution_count": 3,
   "id": "2a509a20",
   "metadata": {},
   "outputs": [
    {
     "data": {
      "text/plain": [
       "<map at 0x2c433b2fbe0>"
      ]
     },
     "execution_count": 3,
     "metadata": {},
     "output_type": "execute_result"
    }
   ],
   "source": [
    "map(square,my_nums)"
   ]
  },
  {
   "cell_type": "markdown",
   "id": "4f3a4805",
   "metadata": {},
   "source": [
    "Iterating through"
   ]
  },
  {
   "cell_type": "code",
   "execution_count": 4,
   "id": "1bfb6bac",
   "metadata": {},
   "outputs": [
    {
     "name": "stdout",
     "output_type": "stream",
     "text": [
      "1\n",
      "4\n",
      "9\n",
      "16\n",
      "25\n"
     ]
    }
   ],
   "source": [
    "for item in map(square,my_nums):\n",
    "    print(item)"
   ]
  },
  {
   "cell_type": "markdown",
   "id": "fc71a7c9",
   "metadata": {},
   "source": [
    "Transforming to a List "
   ]
  },
  {
   "cell_type": "code",
   "execution_count": 5,
   "id": "3514c45d",
   "metadata": {},
   "outputs": [
    {
     "data": {
      "text/plain": [
       "[1, 4, 9, 16, 25]"
      ]
     },
     "execution_count": 5,
     "metadata": {},
     "output_type": "execute_result"
    }
   ],
   "source": [
    "list(map(square,my_nums))"
   ]
  },
  {
   "cell_type": "markdown",
   "id": "087a9b5d",
   "metadata": {},
   "source": [
    "#### With Strings"
   ]
  },
  {
   "cell_type": "code",
   "execution_count": 6,
   "id": "e9e34cd4",
   "metadata": {},
   "outputs": [],
   "source": [
    "def splicer(mystring):\n",
    "    if len(mystring)%2 == 0:\n",
    "        return 'EVEN'\n",
    "    else:\n",
    "        return mystring[0]"
   ]
  },
  {
   "cell_type": "code",
   "execution_count": 7,
   "id": "d5ea1ec7",
   "metadata": {},
   "outputs": [],
   "source": [
    "names = ['Natan','Clara','Joseph','Anne','Mark']"
   ]
  },
  {
   "cell_type": "code",
   "execution_count": 8,
   "id": "3045f19c",
   "metadata": {},
   "outputs": [
    {
     "data": {
      "text/plain": [
       "['N', 'C', 'EVEN', 'EVEN', 'EVEN']"
      ]
     },
     "execution_count": 8,
     "metadata": {},
     "output_type": "execute_result"
    }
   ],
   "source": [
    "list(map(splicer,names))"
   ]
  },
  {
   "cell_type": "markdown",
   "id": "65f5dd97",
   "metadata": {},
   "source": [
    "### Filter Function"
   ]
  },
  {
   "cell_type": "code",
   "execution_count": 9,
   "id": "bef16b75",
   "metadata": {},
   "outputs": [],
   "source": [
    "def check_even(num):\n",
    "    return num%2 == 0"
   ]
  },
  {
   "cell_type": "code",
   "execution_count": 10,
   "id": "1a50f6e2",
   "metadata": {},
   "outputs": [],
   "source": [
    "mynums = [1,2,3,4,5,6,7,8,9,10]"
   ]
  },
  {
   "cell_type": "code",
   "execution_count": 11,
   "id": "b3739aab",
   "metadata": {},
   "outputs": [
    {
     "data": {
      "text/plain": [
       "<filter at 0x2c433b762b0>"
      ]
     },
     "execution_count": 11,
     "metadata": {},
     "output_type": "execute_result"
    }
   ],
   "source": [
    "filter(check_even,mynums)"
   ]
  },
  {
   "cell_type": "markdown",
   "id": "ef9ca551",
   "metadata": {},
   "source": [
    "Transforming to a List"
   ]
  },
  {
   "cell_type": "code",
   "execution_count": 12,
   "id": "3bb2d522",
   "metadata": {},
   "outputs": [
    {
     "data": {
      "text/plain": [
       "[2, 4, 6, 8, 10]"
      ]
     },
     "execution_count": 12,
     "metadata": {},
     "output_type": "execute_result"
    }
   ],
   "source": [
    "list(filter(check_even,mynums))"
   ]
  },
  {
   "cell_type": "markdown",
   "id": "042ac559",
   "metadata": {},
   "source": [
    "Iterating through "
   ]
  },
  {
   "cell_type": "code",
   "execution_count": 13,
   "id": "38ec937f",
   "metadata": {},
   "outputs": [
    {
     "name": "stdout",
     "output_type": "stream",
     "text": [
      "2\n",
      "4\n",
      "6\n",
      "8\n",
      "10\n"
     ]
    }
   ],
   "source": [
    "for n in filter(check_even,mynums):\n",
    "    print(n)"
   ]
  },
  {
   "cell_type": "markdown",
   "id": "893dadea",
   "metadata": {},
   "source": [
    "### Lambda Expression"
   ]
  },
  {
   "cell_type": "markdown",
   "id": "9b247c4f",
   "metadata": {},
   "source": [
    "Creating a Function"
   ]
  },
  {
   "cell_type": "code",
   "execution_count": 19,
   "id": "f9e6202e",
   "metadata": {},
   "outputs": [],
   "source": [
    "def square(num):\n",
    "    return num ** 2"
   ]
  },
  {
   "cell_type": "code",
   "execution_count": 20,
   "id": "7a8b5b9a",
   "metadata": {},
   "outputs": [
    {
     "data": {
      "text/plain": [
       "9"
      ]
     },
     "execution_count": 20,
     "metadata": {},
     "output_type": "execute_result"
    }
   ],
   "source": [
    "square(3)"
   ]
  },
  {
   "cell_type": "markdown",
   "id": "36fdfbc4",
   "metadata": {},
   "source": [
    "Turning it to a Lambda Expression"
   ]
  },
  {
   "cell_type": "code",
   "execution_count": 21,
   "id": "45c316e2",
   "metadata": {},
   "outputs": [
    {
     "data": {
      "text/plain": [
       "<function __main__.<lambda>(num)>"
      ]
     },
     "execution_count": 21,
     "metadata": {},
     "output_type": "execute_result"
    }
   ],
   "source": [
    "lambda num: num ** 2"
   ]
  },
  {
   "cell_type": "code",
   "execution_count": 22,
   "id": "843d919f",
   "metadata": {},
   "outputs": [],
   "source": [
    "square = lambda num: num ** 2"
   ]
  },
  {
   "cell_type": "code",
   "execution_count": 24,
   "id": "c1f484bc",
   "metadata": {},
   "outputs": [
    {
     "data": {
      "text/plain": [
       "144"
      ]
     },
     "execution_count": 24,
     "metadata": {},
     "output_type": "execute_result"
    }
   ],
   "source": [
    "square(12)"
   ]
  },
  {
   "cell_type": "markdown",
   "id": "d43a3cb3",
   "metadata": {},
   "source": [
    "Normally we don't name a Lambda Expression. Instead we use a conjunction with Map and Filter"
   ]
  },
  {
   "cell_type": "code",
   "execution_count": 29,
   "id": "58c3d805",
   "metadata": {},
   "outputs": [
    {
     "data": {
      "text/plain": [
       "[1, 4, 9, 16, 25, 36, 49, 64, 81, 100]"
      ]
     },
     "execution_count": 29,
     "metadata": {},
     "output_type": "execute_result"
    }
   ],
   "source": [
    "list(map(lambda num:num**2,mynums))"
   ]
  },
  {
   "cell_type": "markdown",
   "id": "ba13643c",
   "metadata": {},
   "source": [
    "Converting check_even to a Lambda Expression"
   ]
  },
  {
   "cell_type": "code",
   "execution_count": 30,
   "id": "b8530c28",
   "metadata": {},
   "outputs": [],
   "source": [
    "def check_even(num):\n",
    "    return num%2 == 0"
   ]
  },
  {
   "cell_type": "code",
   "execution_count": 31,
   "id": "cec54d1e",
   "metadata": {},
   "outputs": [
    {
     "data": {
      "text/plain": [
       "[2, 4, 6, 8, 10]"
      ]
     },
     "execution_count": 31,
     "metadata": {},
     "output_type": "execute_result"
    }
   ],
   "source": [
    "list(filter(lambda num:num%2==0,mynums))"
   ]
  },
  {
   "cell_type": "markdown",
   "id": "84976a58",
   "metadata": {},
   "source": [
    "#### With Strings"
   ]
  },
  {
   "cell_type": "code",
   "execution_count": 32,
   "id": "f0ae799e",
   "metadata": {},
   "outputs": [
    {
     "data": {
      "text/plain": [
       "['Natan', 'Clara', 'Joseph', 'Anne', 'Mark']"
      ]
     },
     "execution_count": 32,
     "metadata": {},
     "output_type": "execute_result"
    }
   ],
   "source": [
    "names"
   ]
  },
  {
   "cell_type": "markdown",
   "id": "53fc7f33",
   "metadata": {},
   "source": [
    "Getting the initials"
   ]
  },
  {
   "cell_type": "code",
   "execution_count": 34,
   "id": "3bd20594",
   "metadata": {},
   "outputs": [
    {
     "data": {
      "text/plain": [
       "['N', 'C', 'J', 'A', 'M']"
      ]
     },
     "execution_count": 34,
     "metadata": {},
     "output_type": "execute_result"
    }
   ],
   "source": [
    "list(map(lambda letter:letter[0],names))"
   ]
  },
  {
   "cell_type": "markdown",
   "id": "10723eac",
   "metadata": {},
   "source": [
    "Reversing the names"
   ]
  },
  {
   "cell_type": "code",
   "execution_count": 35,
   "id": "e729c6e5",
   "metadata": {},
   "outputs": [
    {
     "data": {
      "text/plain": [
       "['nataN', 'aralC', 'hpesoJ', 'ennA', 'kraM']"
      ]
     },
     "execution_count": 35,
     "metadata": {},
     "output_type": "execute_result"
    }
   ],
   "source": [
    "list(map(lambda letter:letter[::-1],names))"
   ]
  }
 ],
 "metadata": {
  "kernelspec": {
   "display_name": "Python 3 (ipykernel)",
   "language": "python",
   "name": "python3"
  },
  "language_info": {
   "codemirror_mode": {
    "name": "ipython",
    "version": 3
   },
   "file_extension": ".py",
   "mimetype": "text/x-python",
   "name": "python",
   "nbconvert_exporter": "python",
   "pygments_lexer": "ipython3",
   "version": "3.9.7"
  }
 },
 "nbformat": 4,
 "nbformat_minor": 5
}

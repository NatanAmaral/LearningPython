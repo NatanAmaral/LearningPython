{
 "cells": [
  {
   "cell_type": "markdown",
   "id": "423d212d",
   "metadata": {},
   "source": [
    "### Creating Function"
   ]
  },
  {
   "cell_type": "code",
   "execution_count": 1,
   "id": "577d2b8e",
   "metadata": {},
   "outputs": [],
   "source": [
    "def myfunc(a,b):\n",
    "    \n",
    "    # Returns 11% of the sum of A and B\n",
    "    return sum((a,b)) * 0.11"
   ]
  },
  {
   "cell_type": "code",
   "execution_count": 2,
   "id": "f1e0f9d8",
   "metadata": {},
   "outputs": [
    {
     "data": {
      "text/plain": [
       "11.0"
      ]
     },
     "execution_count": 2,
     "metadata": {},
     "output_type": "execute_result"
    }
   ],
   "source": [
    "myfunc(40,60)"
   ]
  },
  {
   "cell_type": "markdown",
   "id": "8e529e61",
   "metadata": {},
   "source": [
    "#### Adding more parameters"
   ]
  },
  {
   "cell_type": "code",
   "execution_count": 3,
   "id": "d7c81358",
   "metadata": {},
   "outputs": [],
   "source": [
    "def myfunc(a,b,c=0,d=0,e=0):\n",
    "    \n",
    "    # Returns 11% of the sum of A and B\n",
    "    return sum((a,b,c,d,e)) * 0.11"
   ]
  },
  {
   "cell_type": "code",
   "execution_count": 4,
   "id": "6a36d264",
   "metadata": {},
   "outputs": [
    {
     "data": {
      "text/plain": [
       "22.0"
      ]
     },
     "execution_count": 4,
     "metadata": {},
     "output_type": "execute_result"
    }
   ],
   "source": [
    "myfunc(100,60,40)"
   ]
  },
  {
   "cell_type": "code",
   "execution_count": 5,
   "id": "73aac020",
   "metadata": {},
   "outputs": [
    {
     "data": {
      "text/plain": [
       "44.0"
      ]
     },
     "execution_count": 5,
     "metadata": {},
     "output_type": "execute_result"
    }
   ],
   "source": [
    "myfunc(100,60,40,130,70)"
   ]
  },
  {
   "cell_type": "markdown",
   "id": "98a742be",
   "metadata": {},
   "source": [
    "The following error occurs because the parameter limits were exceeded"
   ]
  },
  {
   "cell_type": "code",
   "execution_count": 6,
   "id": "9d328234",
   "metadata": {},
   "outputs": [
    {
     "ename": "TypeError",
     "evalue": "myfunc() takes from 2 to 5 positional arguments but 6 were given",
     "output_type": "error",
     "traceback": [
      "\u001b[1;31m---------------------------------------------------------------------------\u001b[0m",
      "\u001b[1;31mTypeError\u001b[0m                                 Traceback (most recent call last)",
      "\u001b[1;32m~\\AppData\\Local\\Temp/ipykernel_2408/4291145996.py\u001b[0m in \u001b[0;36m<module>\u001b[1;34m\u001b[0m\n\u001b[1;32m----> 1\u001b[1;33m \u001b[0mmyfunc\u001b[0m\u001b[1;33m(\u001b[0m\u001b[1;36m100\u001b[0m\u001b[1;33m,\u001b[0m\u001b[1;36m60\u001b[0m\u001b[1;33m,\u001b[0m\u001b[1;36m40\u001b[0m\u001b[1;33m,\u001b[0m\u001b[1;36m130\u001b[0m\u001b[1;33m,\u001b[0m\u001b[1;36m70\u001b[0m\u001b[1;33m,\u001b[0m\u001b[1;36m100\u001b[0m\u001b[1;33m)\u001b[0m\u001b[1;33m\u001b[0m\u001b[1;33m\u001b[0m\u001b[0m\n\u001b[0m",
      "\u001b[1;31mTypeError\u001b[0m: myfunc() takes from 2 to 5 positional arguments but 6 were given"
     ]
    }
   ],
   "source": [
    "myfunc(100,60,40,130,70,100)"
   ]
  },
  {
   "cell_type": "markdown",
   "id": "8148a9a7",
   "metadata": {},
   "source": [
    "### Using *args"
   ]
  },
  {
   "cell_type": "markdown",
   "id": "5c16a972",
   "metadata": {},
   "source": [
    "Python is going to take all the parameters that are passed in and set them inside a tuple"
   ]
  },
  {
   "cell_type": "code",
   "execution_count": 10,
   "id": "007f462c",
   "metadata": {},
   "outputs": [],
   "source": [
    "def myfunc(*args):\n",
    "    return sum(args) * 0.05"
   ]
  },
  {
   "cell_type": "code",
   "execution_count": 11,
   "id": "364e8ec7",
   "metadata": {},
   "outputs": [
    {
     "data": {
      "text/plain": [
       "5.0"
      ]
     },
     "execution_count": 11,
     "metadata": {},
     "output_type": "execute_result"
    }
   ],
   "source": [
    "myfunc(12,18,70)"
   ]
  },
  {
   "cell_type": "code",
   "execution_count": 12,
   "id": "e35346b1",
   "metadata": {},
   "outputs": [
    {
     "data": {
      "text/plain": [
       "10.0"
      ]
     },
     "execution_count": 12,
     "metadata": {},
     "output_type": "execute_result"
    }
   ],
   "source": [
    "myfunc(12,18,70,100)"
   ]
  },
  {
   "cell_type": "markdown",
   "id": "e11c59ea",
   "metadata": {},
   "source": [
    "When printed we can see that is shown as a tuple"
   ]
  },
  {
   "cell_type": "code",
   "execution_count": 13,
   "id": "4c530526",
   "metadata": {},
   "outputs": [],
   "source": [
    "def myfunc(*args):\n",
    "    print(args) "
   ]
  },
  {
   "cell_type": "code",
   "execution_count": 14,
   "id": "1e5f39ca",
   "metadata": {},
   "outputs": [
    {
     "name": "stdout",
     "output_type": "stream",
     "text": [
      "(12, 18, 70, 100)\n"
     ]
    }
   ],
   "source": [
    "myfunc(12,18,70,100)"
   ]
  },
  {
   "cell_type": "markdown",
   "id": "7c4cf0d6",
   "metadata": {},
   "source": [
    "### Using **kwargs"
   ]
  },
  {
   "cell_type": "markdown",
   "id": "6eece3e6",
   "metadata": {},
   "source": [
    "It builds a dictionary of key value pairs"
   ]
  },
  {
   "cell_type": "code",
   "execution_count": 15,
   "id": "bedb9a23",
   "metadata": {},
   "outputs": [],
   "source": [
    "def myfunc(**kwargs):\n",
    "    if 'color' in kwargs:\n",
    "        print('My favorite color is {}'.format(kwargs['color']))\n",
    "    else:\n",
    "        print('No color here :(')"
   ]
  },
  {
   "cell_type": "code",
   "execution_count": 17,
   "id": "29889f2d",
   "metadata": {},
   "outputs": [
    {
     "name": "stdout",
     "output_type": "stream",
     "text": [
      "My favorite color is blue\n"
     ]
    }
   ],
   "source": [
    "myfunc(color='blue',name='Natan')"
   ]
  },
  {
   "cell_type": "markdown",
   "id": "48729e6b",
   "metadata": {},
   "source": [
    "### Using both at the same time"
   ]
  },
  {
   "cell_type": "markdown",
   "id": "69f6f4ad",
   "metadata": {},
   "source": [
    "The order in which each one appears matters"
   ]
  },
  {
   "cell_type": "code",
   "execution_count": 19,
   "id": "01dac209",
   "metadata": {},
   "outputs": [],
   "source": [
    "def myfunc(*args,**kwargs):\n",
    "    \n",
    "    print('I would like {} {}'.format(args[0],kwargs['food']))"
   ]
  },
  {
   "cell_type": "code",
   "execution_count": 20,
   "id": "c71b99fa",
   "metadata": {},
   "outputs": [
    {
     "name": "stdout",
     "output_type": "stream",
     "text": [
      "I would like 10 steaks\n"
     ]
    }
   ],
   "source": [
    "myfunc(10,20,30,color='blue',fruit='apple',food='steaks')"
   ]
  },
  {
   "cell_type": "markdown",
   "id": "152df382",
   "metadata": {},
   "source": [
    "Showing the args and kwargs in the code "
   ]
  },
  {
   "cell_type": "code",
   "execution_count": 21,
   "id": "935d1ee6",
   "metadata": {},
   "outputs": [],
   "source": [
    "def myfunc(*args,**kwargs):\n",
    "    print(args)\n",
    "    print(kwargs)\n",
    "    print('I would like {} {}'.format(args[0],kwargs['food']))"
   ]
  },
  {
   "cell_type": "code",
   "execution_count": 22,
   "id": "9af8a298",
   "metadata": {},
   "outputs": [
    {
     "name": "stdout",
     "output_type": "stream",
     "text": [
      "(10, 20, 30)\n",
      "{'color': 'blue', 'fruit': 'apple', 'food': 'steaks'}\n",
      "I would like 10 steaks\n"
     ]
    }
   ],
   "source": [
    "myfunc(10,20,30,color='blue',fruit='apple',food='steaks')"
   ]
  }
 ],
 "metadata": {
  "kernelspec": {
   "display_name": "Python 3 (ipykernel)",
   "language": "python",
   "name": "python3"
  },
  "language_info": {
   "codemirror_mode": {
    "name": "ipython",
    "version": 3
   },
   "file_extension": ".py",
   "mimetype": "text/x-python",
   "name": "python",
   "nbconvert_exporter": "python",
   "pygments_lexer": "ipython3",
   "version": "3.9.7"
  }
 },
 "nbformat": 4,
 "nbformat_minor": 5
}

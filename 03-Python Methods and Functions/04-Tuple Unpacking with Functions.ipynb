{
 "cells": [
  {
   "cell_type": "markdown",
   "id": "6bb1230a",
   "metadata": {},
   "source": [
    "### Creating a Tuple"
   ]
  },
  {
   "cell_type": "code",
   "execution_count": 1,
   "id": "8da7c693",
   "metadata": {},
   "outputs": [],
   "source": [
    "stock_prices = [('APPL',400),('TESL',300),('GOOG',200),('MSFT',300)]"
   ]
  },
  {
   "cell_type": "code",
   "execution_count": 2,
   "id": "77df72c7",
   "metadata": {},
   "outputs": [
    {
     "name": "stdout",
     "output_type": "stream",
     "text": [
      "('APPL', 400)\n",
      "('TESL', 300)\n",
      "('GOOG', 200)\n",
      "('MSFT', 300)\n"
     ]
    }
   ],
   "source": [
    "for x in stock_prices:\n",
    "    print(x)"
   ]
  },
  {
   "cell_type": "markdown",
   "id": "184e8413",
   "metadata": {},
   "source": [
    "#### Unpacking with for Loops"
   ]
  },
  {
   "cell_type": "code",
   "execution_count": 3,
   "id": "450f3782",
   "metadata": {},
   "outputs": [
    {
     "name": "stdout",
     "output_type": "stream",
     "text": [
      "APPL\n",
      "TESL\n",
      "GOOG\n",
      "MSFT\n"
     ]
    }
   ],
   "source": [
    "for ticker,price in stock_prices:\n",
    "    print(ticker)"
   ]
  },
  {
   "cell_type": "code",
   "execution_count": 4,
   "id": "8b1df7e7",
   "metadata": {},
   "outputs": [
    {
     "name": "stdout",
     "output_type": "stream",
     "text": [
      "400\n",
      "300\n",
      "200\n",
      "300\n"
     ]
    }
   ],
   "source": [
    "for ticker,price in stock_prices:\n",
    "    print(price)"
   ]
  },
  {
   "cell_type": "code",
   "execution_count": 5,
   "id": "cfbdfb09",
   "metadata": {},
   "outputs": [
    {
     "name": "stdout",
     "output_type": "stream",
     "text": [
      "440.0\n",
      "330.0\n",
      "220.0\n",
      "330.0\n"
     ]
    }
   ],
   "source": [
    "for ticker,price in stock_prices:\n",
    "    print(price+(0.1*price))"
   ]
  },
  {
   "cell_type": "markdown",
   "id": "554f2c3d",
   "metadata": {},
   "source": [
    "#### Unpacking with Functions"
   ]
  },
  {
   "cell_type": "code",
   "execution_count": 6,
   "id": "2529f1cd",
   "metadata": {},
   "outputs": [],
   "source": [
    "work_hours = [('Natan',400),('John',100),('Ellie',200)]"
   ]
  },
  {
   "cell_type": "code",
   "execution_count": 7,
   "id": "65d3bd29",
   "metadata": {},
   "outputs": [],
   "source": [
    "def employee_check(work_hours):\n",
    "    \n",
    "    current_max = 0\n",
    "    employee_of_month = ''\n",
    "    \n",
    "    for employee, hours in work_hours:\n",
    "        if hours > current_max:\n",
    "            current_max = hours\n",
    "            employee_of_month = employee\n",
    "        else:\n",
    "            pass\n",
    "    \n",
    "    return (employee_of_month,current_max)"
   ]
  },
  {
   "cell_type": "code",
   "execution_count": 8,
   "id": "afb1aa69",
   "metadata": {},
   "outputs": [
    {
     "data": {
      "text/plain": [
       "('Natan', 400)"
      ]
     },
     "execution_count": 8,
     "metadata": {},
     "output_type": "execute_result"
    }
   ],
   "source": [
    "employee_check(work_hours)"
   ]
  },
  {
   "cell_type": "code",
   "execution_count": 9,
   "id": "ef043105",
   "metadata": {},
   "outputs": [],
   "source": [
    "result = employee_check(work_hours)"
   ]
  },
  {
   "cell_type": "code",
   "execution_count": 10,
   "id": "e45c7f11",
   "metadata": {},
   "outputs": [
    {
     "data": {
      "text/plain": [
       "('Natan', 400)"
      ]
     },
     "execution_count": 10,
     "metadata": {},
     "output_type": "execute_result"
    }
   ],
   "source": [
    "result"
   ]
  },
  {
   "cell_type": "code",
   "execution_count": 11,
   "id": "40820fb6",
   "metadata": {},
   "outputs": [],
   "source": [
    "name,hours = employee_check(work_hours)"
   ]
  },
  {
   "cell_type": "code",
   "execution_count": 12,
   "id": "751de5f7",
   "metadata": {},
   "outputs": [
    {
     "data": {
      "text/plain": [
       "'Natan'"
      ]
     },
     "execution_count": 12,
     "metadata": {},
     "output_type": "execute_result"
    }
   ],
   "source": [
    "name"
   ]
  },
  {
   "cell_type": "code",
   "execution_count": 13,
   "id": "434b0692",
   "metadata": {},
   "outputs": [
    {
     "data": {
      "text/plain": [
       "400"
      ]
     },
     "execution_count": 13,
     "metadata": {},
     "output_type": "execute_result"
    }
   ],
   "source": [
    "hours"
   ]
  }
 ],
 "metadata": {
  "kernelspec": {
   "display_name": "Python 3 (ipykernel)",
   "language": "python",
   "name": "python3"
  },
  "language_info": {
   "codemirror_mode": {
    "name": "ipython",
    "version": 3
   },
   "file_extension": ".py",
   "mimetype": "text/x-python",
   "name": "python",
   "nbconvert_exporter": "python",
   "pygments_lexer": "ipython3",
   "version": "3.9.7"
  }
 },
 "nbformat": 4,
 "nbformat_minor": 5
}

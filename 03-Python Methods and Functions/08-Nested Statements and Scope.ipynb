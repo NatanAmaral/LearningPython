{
 "cells": [
  {
   "cell_type": "markdown",
   "id": "a47e16a3",
   "metadata": {},
   "source": [
    "### Experiment"
   ]
  },
  {
   "cell_type": "code",
   "execution_count": 1,
   "id": "9e66246a",
   "metadata": {},
   "outputs": [],
   "source": [
    "x = 25 \n",
    "\n",
    "def printer():\n",
    "    x = 50\n",
    "    return x "
   ]
  },
  {
   "cell_type": "code",
   "execution_count": 2,
   "id": "718d5f33",
   "metadata": {},
   "outputs": [
    {
     "name": "stdout",
     "output_type": "stream",
     "text": [
      "25\n"
     ]
    }
   ],
   "source": [
    "print(x)"
   ]
  },
  {
   "cell_type": "code",
   "execution_count": 3,
   "id": "6f6e958d",
   "metadata": {},
   "outputs": [
    {
     "name": "stdout",
     "output_type": "stream",
     "text": [
      "50\n"
     ]
    }
   ],
   "source": [
    "print(printer())"
   ]
  },
  {
   "cell_type": "markdown",
   "id": "6f696a40",
   "metadata": {},
   "source": [
    "### LEGB Rule\n",
    "L: Local - Names assigned in anu way within a function (def or lambda), and not declared global \n",
    "\n",
    "E: Enclosing function locals - Names in the local scope of any and all enclosing functions (def or lambda), from inner to outer \n",
    "\n",
    "G: Global - Names assigned at the top-level of a module file, or declared global in a def whitin the file \n",
    "\n",
    "B: Built-in - Names preassigned in the built-in names module: open, range, SyntaxError"
   ]
  },
  {
   "cell_type": "markdown",
   "id": "f5690a58",
   "metadata": {},
   "source": [
    "#### Local "
   ]
  },
  {
   "cell_type": "code",
   "execution_count": 4,
   "id": "70526c24",
   "metadata": {},
   "outputs": [
    {
     "data": {
      "text/plain": [
       "<function __main__.<lambda>(num)>"
      ]
     },
     "execution_count": 4,
     "metadata": {},
     "output_type": "execute_result"
    }
   ],
   "source": [
    "lambda num:num**2"
   ]
  },
  {
   "cell_type": "markdown",
   "id": "36ff435b",
   "metadata": {},
   "source": [
    "#### Enclosing function locals"
   ]
  },
  {
   "cell_type": "code",
   "execution_count": 5,
   "id": "d0919082",
   "metadata": {},
   "outputs": [],
   "source": [
    "name = 'This is a Global String'\n",
    "\n",
    "def greet():\n",
    "    \n",
    "    name = 'Natan'\n",
    "    \n",
    "    def hello():\n",
    "        print('Hello '+name)\n",
    "        \n",
    "    hello()\n",
    "    "
   ]
  },
  {
   "cell_type": "code",
   "execution_count": 6,
   "id": "553c9fb7",
   "metadata": {},
   "outputs": [
    {
     "name": "stdout",
     "output_type": "stream",
     "text": [
      "Hello Natan\n"
     ]
    }
   ],
   "source": [
    "greet()"
   ]
  },
  {
   "cell_type": "markdown",
   "id": "152d120f",
   "metadata": {},
   "source": [
    "#### Global"
   ]
  },
  {
   "cell_type": "code",
   "execution_count": 7,
   "id": "3361e944",
   "metadata": {},
   "outputs": [],
   "source": [
    "name = 'This is a Global String'\n",
    "\n",
    "def greet():\n",
    "    \n",
    "#    name = 'Natan'\n",
    "    \n",
    "    def hello():\n",
    "        print('Hello '+name)\n",
    "        \n",
    "    hello()"
   ]
  },
  {
   "cell_type": "code",
   "execution_count": 8,
   "id": "43d3c5b5",
   "metadata": {},
   "outputs": [
    {
     "name": "stdout",
     "output_type": "stream",
     "text": [
      "Hello This is a Global String\n"
     ]
    }
   ],
   "source": [
    "greet()"
   ]
  },
  {
   "cell_type": "code",
   "execution_count": 9,
   "id": "e7e88131",
   "metadata": {},
   "outputs": [],
   "source": [
    "# GLOBAL\n",
    "name = 'This is a Global String'\n",
    "\n",
    "def greet():\n",
    "    \n",
    "    # ENCLOSING\n",
    "    name = 'Natan'\n",
    "    \n",
    "    def hello():\n",
    "        #LOCAL\n",
    "        name = 'I am a Local'\n",
    "        print('Hello '+name)\n",
    "        \n",
    "    hello()"
   ]
  },
  {
   "cell_type": "code",
   "execution_count": 10,
   "id": "7185947e",
   "metadata": {},
   "outputs": [
    {
     "name": "stdout",
     "output_type": "stream",
     "text": [
      "Hello I am a Local\n"
     ]
    }
   ],
   "source": [
    "greet()"
   ]
  },
  {
   "cell_type": "markdown",
   "id": "c649a393",
   "metadata": {},
   "source": [
    "### Scope Experiment\n",
    "Local variables and Global keyword"
   ]
  },
  {
   "cell_type": "code",
   "execution_count": 11,
   "id": "04388a34",
   "metadata": {},
   "outputs": [],
   "source": [
    "x = 50\n",
    "\n",
    "def func(x):\n",
    "    print(f'X is {x}')"
   ]
  },
  {
   "cell_type": "code",
   "execution_count": 12,
   "id": "064bc15c",
   "metadata": {},
   "outputs": [
    {
     "name": "stdout",
     "output_type": "stream",
     "text": [
      "X is 50\n"
     ]
    }
   ],
   "source": [
    "func(x)"
   ]
  },
  {
   "cell_type": "markdown",
   "id": "4c66a27b",
   "metadata": {},
   "source": [
    "#### Local reassignment"
   ]
  },
  {
   "cell_type": "code",
   "execution_count": 13,
   "id": "96d65c2d",
   "metadata": {},
   "outputs": [],
   "source": [
    "x = 50\n",
    "\n",
    "def func(x):\n",
    "    print(f'X is {x}')\n",
    "    \n",
    "    # LOCAL REASSIGNMENT\n",
    "    x = 500\n",
    "    print(f'I just locally changed X to {x}')"
   ]
  },
  {
   "cell_type": "code",
   "execution_count": 14,
   "id": "a20d4588",
   "metadata": {},
   "outputs": [
    {
     "name": "stdout",
     "output_type": "stream",
     "text": [
      "X is 50\n",
      "I just locally changed X to 500\n"
     ]
    }
   ],
   "source": [
    "func(x)"
   ]
  },
  {
   "cell_type": "markdown",
   "id": "5c095dbc",
   "metadata": {},
   "source": [
    "The reassignment is only happening in the local namespace inside of this function. It is not going to affect anything at a higher scope"
   ]
  },
  {
   "cell_type": "code",
   "execution_count": 15,
   "id": "62394d65",
   "metadata": {},
   "outputs": [
    {
     "name": "stdout",
     "output_type": "stream",
     "text": [
      "50\n"
     ]
    }
   ],
   "source": [
    "print(x)"
   ]
  },
  {
   "cell_type": "markdown",
   "id": "9a5ef99e",
   "metadata": {},
   "source": [
    "#### Global keyword"
   ]
  },
  {
   "cell_type": "code",
   "execution_count": 17,
   "id": "0207469d",
   "metadata": {},
   "outputs": [],
   "source": [
    "x = 50\n",
    "\n",
    "def func():\n",
    "    global x\n",
    "    print(f'X is {x}')\n",
    "    \n",
    "    # LOCAL REASSIGNMENT ON A GLOBAL VARIABLE\n",
    "    x = 'New value'\n",
    "    print(f'I just locally changed Global X to {x}')"
   ]
  },
  {
   "cell_type": "code",
   "execution_count": 18,
   "id": "0bfc8775",
   "metadata": {},
   "outputs": [
    {
     "name": "stdout",
     "output_type": "stream",
     "text": [
      "50\n"
     ]
    }
   ],
   "source": [
    "print(x)"
   ]
  },
  {
   "cell_type": "code",
   "execution_count": 19,
   "id": "a33cfa8d",
   "metadata": {},
   "outputs": [
    {
     "name": "stdout",
     "output_type": "stream",
     "text": [
      "X is 50\n",
      "I just locally changed Global X to New value\n"
     ]
    }
   ],
   "source": [
    "func()"
   ]
  },
  {
   "cell_type": "code",
   "execution_count": 20,
   "id": "f59cd08b",
   "metadata": {},
   "outputs": [
    {
     "name": "stdout",
     "output_type": "stream",
     "text": [
      "New value\n"
     ]
    }
   ],
   "source": [
    "print(x)"
   ]
  }
 ],
 "metadata": {
  "kernelspec": {
   "display_name": "Python 3 (ipykernel)",
   "language": "python",
   "name": "python3"
  },
  "language_info": {
   "codemirror_mode": {
    "name": "ipython",
    "version": 3
   },
   "file_extension": ".py",
   "mimetype": "text/x-python",
   "name": "python",
   "nbconvert_exporter": "python",
   "pygments_lexer": "ipython3",
   "version": "3.9.7"
  }
 },
 "nbformat": 4,
 "nbformat_minor": 5
}

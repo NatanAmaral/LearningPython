{
 "cells": [
  {
   "cell_type": "markdown",
   "id": "78dd6d3b",
   "metadata": {},
   "source": [
    "### Creating a Function"
   ]
  },
  {
   "cell_type": "code",
   "execution_count": 1,
   "id": "86b619bf",
   "metadata": {},
   "outputs": [],
   "source": [
    "def say_hello():\n",
    "    print('Hello!')\n",
    "    print('How')\n",
    "    print('are')\n",
    "    print('you?')"
   ]
  },
  {
   "cell_type": "code",
   "execution_count": 3,
   "id": "47c19926",
   "metadata": {},
   "outputs": [
    {
     "name": "stdout",
     "output_type": "stream",
     "text": [
      "Hello!\n",
      "How\n",
      "are\n",
      "you?\n"
     ]
    }
   ],
   "source": [
    "say_hello()"
   ]
  },
  {
   "cell_type": "markdown",
   "id": "13c60f38",
   "metadata": {},
   "source": [
    "#### Another example:"
   ]
  },
  {
   "cell_type": "code",
   "execution_count": 4,
   "id": "6f884209",
   "metadata": {},
   "outputs": [],
   "source": [
    "def say_hello(name):\n",
    "    print(f'Hello {name}')"
   ]
  },
  {
   "cell_type": "code",
   "execution_count": 5,
   "id": "ed8e1a4b",
   "metadata": {},
   "outputs": [
    {
     "name": "stdout",
     "output_type": "stream",
     "text": [
      "Hello Natan\n"
     ]
    }
   ],
   "source": [
    "say_hello('Natan')"
   ]
  },
  {
   "cell_type": "markdown",
   "id": "a3401508",
   "metadata": {},
   "source": [
    "### Providing a default value"
   ]
  },
  {
   "cell_type": "code",
   "execution_count": 6,
   "id": "383c2f08",
   "metadata": {},
   "outputs": [],
   "source": [
    "def say_hello(name='John Doe'):\n",
    "    print(f'Hello {name}')"
   ]
  },
  {
   "cell_type": "code",
   "execution_count": 7,
   "id": "1e1dbc9e",
   "metadata": {},
   "outputs": [
    {
     "name": "stdout",
     "output_type": "stream",
     "text": [
      "Hello Natan\n"
     ]
    }
   ],
   "source": [
    "say_hello('Natan')"
   ]
  },
  {
   "cell_type": "code",
   "execution_count": 8,
   "id": "652c1dc3",
   "metadata": {},
   "outputs": [
    {
     "name": "stdout",
     "output_type": "stream",
     "text": [
      "Hello John Doe\n"
     ]
    }
   ],
   "source": [
    "say_hello()"
   ]
  },
  {
   "cell_type": "markdown",
   "id": "ef9e6ee1",
   "metadata": {},
   "source": [
    "### return Keyword"
   ]
  },
  {
   "cell_type": "markdown",
   "id": "3a12f6db",
   "metadata": {},
   "source": [
    "The difference between print() and return is that return allows you to save the result as a variable."
   ]
  },
  {
   "cell_type": "code",
   "execution_count": 9,
   "id": "b9605272",
   "metadata": {},
   "outputs": [],
   "source": [
    "def add_num(num1,num2):\n",
    "    return num1+num2"
   ]
  },
  {
   "cell_type": "code",
   "execution_count": 10,
   "id": "a20443d2",
   "metadata": {},
   "outputs": [],
   "source": [
    "result = add_num(10,20)"
   ]
  },
  {
   "cell_type": "code",
   "execution_count": 11,
   "id": "1ff4d591",
   "metadata": {},
   "outputs": [
    {
     "data": {
      "text/plain": [
       "30"
      ]
     },
     "execution_count": 11,
     "metadata": {},
     "output_type": "execute_result"
    }
   ],
   "source": [
    "result"
   ]
  },
  {
   "cell_type": "markdown",
   "id": "52198628",
   "metadata": {},
   "source": [
    "#### Another example:"
   ]
  },
  {
   "cell_type": "markdown",
   "id": "db4a9415",
   "metadata": {},
   "source": [
    "As shown below, I cannot save the result as a variable. I am only allowed to print it."
   ]
  },
  {
   "cell_type": "code",
   "execution_count": 12,
   "id": "9ccf3762",
   "metadata": {},
   "outputs": [],
   "source": [
    "def print_result(a,b):\n",
    "    print(a+b)"
   ]
  },
  {
   "cell_type": "code",
   "execution_count": 15,
   "id": "0d33fbdf",
   "metadata": {},
   "outputs": [
    {
     "name": "stdout",
     "output_type": "stream",
     "text": [
      "100\n"
     ]
    }
   ],
   "source": [
    "print_result(69,31)"
   ]
  },
  {
   "cell_type": "code",
   "execution_count": 16,
   "id": "741ed578",
   "metadata": {},
   "outputs": [
    {
     "name": "stdout",
     "output_type": "stream",
     "text": [
      "100\n"
     ]
    }
   ],
   "source": [
    "result = print_result(69,31)"
   ]
  },
  {
   "cell_type": "code",
   "execution_count": 17,
   "id": "12441dc2",
   "metadata": {},
   "outputs": [],
   "source": [
    "result "
   ]
  },
  {
   "cell_type": "code",
   "execution_count": 18,
   "id": "1d1c4d11",
   "metadata": {},
   "outputs": [
    {
     "data": {
      "text/plain": [
       "NoneType"
      ]
     },
     "execution_count": 18,
     "metadata": {},
     "output_type": "execute_result"
    }
   ],
   "source": [
    "type(result)"
   ]
  },
  {
   "cell_type": "markdown",
   "id": "0576e34e",
   "metadata": {},
   "source": [
    "To save the result I would use the return keyword instead."
   ]
  },
  {
   "cell_type": "code",
   "execution_count": 19,
   "id": "63d61a34",
   "metadata": {},
   "outputs": [],
   "source": [
    "def return_result(a,b):\n",
    "    return a+b"
   ]
  },
  {
   "cell_type": "code",
   "execution_count": 20,
   "id": "d0c1f3fe",
   "metadata": {},
   "outputs": [
    {
     "data": {
      "text/plain": [
       "50"
      ]
     },
     "execution_count": 20,
     "metadata": {},
     "output_type": "execute_result"
    }
   ],
   "source": [
    "return_result(25,25)"
   ]
  },
  {
   "cell_type": "code",
   "execution_count": 21,
   "id": "17c6f6ad",
   "metadata": {},
   "outputs": [],
   "source": [
    "result = return_result(25,25)"
   ]
  },
  {
   "cell_type": "code",
   "execution_count": 22,
   "id": "12c0bfb9",
   "metadata": {},
   "outputs": [
    {
     "data": {
      "text/plain": [
       "50"
      ]
     },
     "execution_count": 22,
     "metadata": {},
     "output_type": "execute_result"
    }
   ],
   "source": [
    "result"
   ]
  },
  {
   "cell_type": "code",
   "execution_count": 23,
   "id": "11252c5c",
   "metadata": {},
   "outputs": [
    {
     "data": {
      "text/plain": [
       "int"
      ]
     },
     "execution_count": 23,
     "metadata": {},
     "output_type": "execute_result"
    }
   ],
   "source": [
    "type(result)"
   ]
  },
  {
   "cell_type": "markdown",
   "id": "bbcf3242",
   "metadata": {},
   "source": [
    "It is also possible to save the result and print it, combining the two. But it isn't very common to do."
   ]
  },
  {
   "cell_type": "code",
   "execution_count": 25,
   "id": "d17c4c21",
   "metadata": {},
   "outputs": [],
   "source": [
    "def myfunc(a,b):\n",
    "    print(a+b)\n",
    "    return a+b"
   ]
  },
  {
   "cell_type": "code",
   "execution_count": 26,
   "id": "c9084157",
   "metadata": {},
   "outputs": [
    {
     "name": "stdout",
     "output_type": "stream",
     "text": [
      "100\n"
     ]
    }
   ],
   "source": [
    "result = myfunc(50,50)"
   ]
  },
  {
   "cell_type": "code",
   "execution_count": 27,
   "id": "d5722461",
   "metadata": {},
   "outputs": [
    {
     "data": {
      "text/plain": [
       "100"
      ]
     },
     "execution_count": 27,
     "metadata": {},
     "output_type": "execute_result"
    }
   ],
   "source": [
    "result"
   ]
  },
  {
   "cell_type": "markdown",
   "id": "d4b9f58a",
   "metadata": {},
   "source": [
    "### Checking the Data Type"
   ]
  },
  {
   "cell_type": "markdown",
   "id": "83b857ed",
   "metadata": {},
   "source": [
    "Be aware of the data type before you call a variable!"
   ]
  },
  {
   "cell_type": "code",
   "execution_count": 28,
   "id": "1e262bc6",
   "metadata": {},
   "outputs": [],
   "source": [
    "def sum_numbers(num1,num2):\n",
    "    return num1+num2"
   ]
  },
  {
   "cell_type": "code",
   "execution_count": 29,
   "id": "1c2e4b8b",
   "metadata": {},
   "outputs": [
    {
     "data": {
      "text/plain": [
       "100"
      ]
     },
     "execution_count": 29,
     "metadata": {},
     "output_type": "execute_result"
    }
   ],
   "source": [
    "sum_numbers(75,25)"
   ]
  },
  {
   "cell_type": "code",
   "execution_count": 30,
   "id": "5497a79a",
   "metadata": {},
   "outputs": [
    {
     "data": {
      "text/plain": [
       "'7525'"
      ]
     },
     "execution_count": 30,
     "metadata": {},
     "output_type": "execute_result"
    }
   ],
   "source": [
    "sum_numbers('75','25')"
   ]
  }
 ],
 "metadata": {
  "kernelspec": {
   "display_name": "Python 3 (ipykernel)",
   "language": "python",
   "name": "python3"
  },
  "language_info": {
   "codemirror_mode": {
    "name": "ipython",
    "version": 3
   },
   "file_extension": ".py",
   "mimetype": "text/x-python",
   "name": "python",
   "nbconvert_exporter": "python",
   "pygments_lexer": "ipython3",
   "version": "3.9.7"
  }
 },
 "nbformat": 4,
 "nbformat_minor": 5
}

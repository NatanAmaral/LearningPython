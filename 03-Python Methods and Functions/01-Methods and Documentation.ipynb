{
 "cells": [
  {
   "cell_type": "markdown",
   "id": "b07ba34c",
   "metadata": {},
   "source": [
    "### Useful Methods for a List"
   ]
  },
  {
   "cell_type": "markdown",
   "id": "3f7b48ac",
   "metadata": {},
   "source": [
    "#### .append()"
   ]
  },
  {
   "cell_type": "code",
   "execution_count": 1,
   "id": "5f5c8dfb",
   "metadata": {},
   "outputs": [],
   "source": [
    "mylist = [1,2,3,4]"
   ]
  },
  {
   "cell_type": "code",
   "execution_count": 2,
   "id": "59de24c3",
   "metadata": {},
   "outputs": [],
   "source": [
    "mylist.append(5)"
   ]
  },
  {
   "cell_type": "code",
   "execution_count": 3,
   "id": "d51f6789",
   "metadata": {},
   "outputs": [
    {
     "data": {
      "text/plain": [
       "[1, 2, 3, 4, 5]"
      ]
     },
     "execution_count": 3,
     "metadata": {},
     "output_type": "execute_result"
    }
   ],
   "source": [
    "mylist"
   ]
  },
  {
   "cell_type": "markdown",
   "id": "467e997e",
   "metadata": {},
   "source": [
    "#### .pop()"
   ]
  },
  {
   "cell_type": "code",
   "execution_count": 4,
   "id": "a7d7210f",
   "metadata": {},
   "outputs": [
    {
     "data": {
      "text/plain": [
       "5"
      ]
     },
     "execution_count": 4,
     "metadata": {},
     "output_type": "execute_result"
    }
   ],
   "source": [
    "mylist.pop()"
   ]
  },
  {
   "cell_type": "code",
   "execution_count": 5,
   "id": "0e04f2fc",
   "metadata": {},
   "outputs": [
    {
     "data": {
      "text/plain": [
       "[1, 2, 3, 4]"
      ]
     },
     "execution_count": 5,
     "metadata": {},
     "output_type": "execute_result"
    }
   ],
   "source": [
    "mylist"
   ]
  },
  {
   "cell_type": "markdown",
   "id": "df671767",
   "metadata": {},
   "source": [
    "### help() Function"
   ]
  },
  {
   "cell_type": "markdown",
   "id": "ee29e4c9",
   "metadata": {},
   "source": [
    "It returns the actual documentation on the object"
   ]
  },
  {
   "cell_type": "code",
   "execution_count": 6,
   "id": "51ce8330",
   "metadata": {},
   "outputs": [
    {
     "name": "stdout",
     "output_type": "stream",
     "text": [
      "Help on built-in function extend:\n",
      "\n",
      "extend(iterable, /) method of builtins.list instance\n",
      "    Extend list by appending elements from the iterable.\n",
      "\n"
     ]
    }
   ],
   "source": [
    "help(mylist.extend)"
   ]
  }
 ],
 "metadata": {
  "kernelspec": {
   "display_name": "Python 3 (ipykernel)",
   "language": "python",
   "name": "python3"
  },
  "language_info": {
   "codemirror_mode": {
    "name": "ipython",
    "version": 3
   },
   "file_extension": ".py",
   "mimetype": "text/x-python",
   "name": "python",
   "nbconvert_exporter": "python",
   "pygments_lexer": "ipython3",
   "version": "3.9.7"
  }
 },
 "nbformat": 4,
 "nbformat_minor": 5
}

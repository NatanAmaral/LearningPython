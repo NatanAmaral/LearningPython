{
 "cells": [
  {
   "cell_type": "markdown",
   "id": "99849fe6",
   "metadata": {},
   "source": [
    "### if and else Statements with Boolean condition"
   ]
  },
  {
   "cell_type": "code",
   "execution_count": 1,
   "id": "cb03bc11",
   "metadata": {},
   "outputs": [
    {
     "name": "stdout",
     "output_type": "stream",
     "text": [
      "It is true!\n"
     ]
    }
   ],
   "source": [
    "if True:\n",
    "    print('It is true!')"
   ]
  },
  {
   "cell_type": "code",
   "execution_count": 2,
   "id": "44f00d6e",
   "metadata": {},
   "outputs": [
    {
     "name": "stdout",
     "output_type": "stream",
     "text": [
      "It is true!\n"
     ]
    }
   ],
   "source": [
    "if 100 > 1:\n",
    "    print('It is true!')"
   ]
  },
  {
   "cell_type": "markdown",
   "id": "159eebc6",
   "metadata": {},
   "source": [
    "If raining is true it will print 'Grab umbrella!'"
   ]
  },
  {
   "cell_type": "code",
   "execution_count": 3,
   "id": "e73b658f",
   "metadata": {},
   "outputs": [
    {
     "name": "stdout",
     "output_type": "stream",
     "text": [
      "Grab umbrella!\n"
     ]
    }
   ],
   "source": [
    "raining = True \n",
    "\n",
    "if raining:\n",
    "    print('Grab umbrella!')"
   ]
  },
  {
   "cell_type": "markdown",
   "id": "7302c8c3",
   "metadata": {},
   "source": [
    "If raining is false nothing will be printed "
   ]
  },
  {
   "cell_type": "code",
   "execution_count": null,
   "id": "fee8c1d9",
   "metadata": {},
   "outputs": [],
   "source": [
    "raining = False \n",
    "\n",
    "if raining:\n",
    "    print('Grab umbrella!')"
   ]
  },
  {
   "cell_type": "markdown",
   "id": "2ef16617",
   "metadata": {},
   "source": [
    "Now, with else statement set, if raining is false 'The weather is good!' will be printed"
   ]
  },
  {
   "cell_type": "code",
   "execution_count": 6,
   "id": "e860ab73",
   "metadata": {},
   "outputs": [
    {
     "name": "stdout",
     "output_type": "stream",
     "text": [
      "The weather is good!\n"
     ]
    }
   ],
   "source": [
    "raining = False \n",
    "\n",
    "if raining:\n",
    "    print('Grab umbrella!')\n",
    "else:\n",
    "    print('The weather is good!')"
   ]
  },
  {
   "cell_type": "code",
   "execution_count": 7,
   "id": "4d1e7190",
   "metadata": {},
   "outputs": [
    {
     "name": "stdout",
     "output_type": "stream",
     "text": [
      "Grab umbrella!\n"
     ]
    }
   ],
   "source": [
    "raining = True \n",
    "\n",
    "if raining:\n",
    "    print('Grab umbrella!')\n",
    "else:\n",
    "    print('The weather is good!')"
   ]
  },
  {
   "cell_type": "markdown",
   "id": "eb2f3d5c",
   "metadata": {},
   "source": [
    "#### Multiple branches"
   ]
  },
  {
   "cell_type": "code",
   "execution_count": 8,
   "id": "95705e67",
   "metadata": {},
   "outputs": [
    {
     "name": "stdout",
     "output_type": "stream",
     "text": [
      "I do not know.\n"
     ]
    }
   ],
   "source": [
    "loc = 'Mall'\n",
    "\n",
    "if loc == 'Toy Shop':\n",
    "    print('Toys are fun!')\n",
    "else:\n",
    "    print('I do not know.')"
   ]
  },
  {
   "cell_type": "markdown",
   "id": "f9c347c1",
   "metadata": {},
   "source": [
    "#### Checking for other conditions with elif"
   ]
  },
  {
   "cell_type": "code",
   "execution_count": 9,
   "id": "e1152a2b",
   "metadata": {},
   "outputs": [
    {
     "name": "stdout",
     "output_type": "stream",
     "text": [
      "Lets buy something!\n"
     ]
    }
   ],
   "source": [
    "loc = 'Mall'\n",
    "\n",
    "if loc == 'Toy Shop':\n",
    "    print('Toys are fun!')\n",
    "elif loc == 'Mall':\n",
    "    print('Lets buy something!')\n",
    "else:\n",
    "    print('I do not know.')"
   ]
  },
  {
   "cell_type": "code",
   "execution_count": 11,
   "id": "afc448f8",
   "metadata": {},
   "outputs": [
    {
     "name": "stdout",
     "output_type": "stream",
     "text": [
      "Toys are fun!\n"
     ]
    }
   ],
   "source": [
    "loc = 'Toy Shop'\n",
    "\n",
    "if loc == 'Toy Shop':\n",
    "    print('Toys are fun!')\n",
    "elif loc == 'Mall':\n",
    "    print('Lets buy something!')\n",
    "else:\n",
    "    print('I do not know.')"
   ]
  },
  {
   "cell_type": "code",
   "execution_count": 12,
   "id": "fdea5c34",
   "metadata": {},
   "outputs": [
    {
     "name": "stdout",
     "output_type": "stream",
     "text": [
      "Welcome to the spa!\n"
     ]
    }
   ],
   "source": [
    "loc = 'Spa'\n",
    "\n",
    "if loc == 'Toy Shop':\n",
    "    print('Toys are fun!')\n",
    "elif loc == 'Mall':\n",
    "    print('Lets buy something!')\n",
    "elif loc == 'Spa':\n",
    "    print('Welcome to the spa!')\n",
    "else:\n",
    "    print('I do not know.')"
   ]
  },
  {
   "cell_type": "code",
   "execution_count": 13,
   "id": "5594cef4",
   "metadata": {},
   "outputs": [
    {
     "name": "stdout",
     "output_type": "stream",
     "text": [
      "I do not know.\n"
     ]
    }
   ],
   "source": [
    "loc = 'Plaza'\n",
    "\n",
    "if loc == 'Toy Shop':\n",
    "    print('Toys are fun!')\n",
    "elif loc == 'Mall':\n",
    "    print('Lets buy something!')\n",
    "elif loc == 'Spa':\n",
    "    print('Welcome to the spa!')\n",
    "else:\n",
    "    print('I do not know.')"
   ]
  },
  {
   "cell_type": "markdown",
   "id": "80859347",
   "metadata": {},
   "source": [
    "#### Indentation and White Space"
   ]
  },
  {
   "cell_type": "code",
   "execution_count": 15,
   "id": "5cb5ee01",
   "metadata": {},
   "outputs": [
    {
     "name": "stdout",
     "output_type": "stream",
     "text": [
      "Hey Natan!\n"
     ]
    }
   ],
   "source": [
    "name = 'Natan'\n",
    "\n",
    "if name == 'Carlos':\n",
    "    print('Hello Carlos!')\n",
    "elif name == 'Natan':\n",
    "    print('Hey Natan!')\n",
    "else:\n",
    "    print('Whats your name?')"
   ]
  },
  {
   "cell_type": "code",
   "execution_count": 16,
   "id": "b7bee880",
   "metadata": {},
   "outputs": [
    {
     "name": "stdout",
     "output_type": "stream",
     "text": [
      "Hello Carlos!\n"
     ]
    }
   ],
   "source": [
    "name = 'Carlos'\n",
    "\n",
    "if name == 'Carlos':\n",
    "    print('Hello Carlos!')\n",
    "elif name == 'Natan':\n",
    "    print('Hey Natan!')\n",
    "else:\n",
    "    print('Whats your name?')"
   ]
  },
  {
   "cell_type": "code",
   "execution_count": 17,
   "id": "2fb36d3b",
   "metadata": {},
   "outputs": [
    {
     "name": "stdout",
     "output_type": "stream",
     "text": [
      "Whats your name?\n"
     ]
    }
   ],
   "source": [
    "name = 'Jose'\n",
    "\n",
    "if name == 'Carlos':\n",
    "    print('Hello Carlos!')\n",
    "elif name == 'Natan':\n",
    "    print('Hey Natan!')\n",
    "else:\n",
    "    print('Whats your name?')"
   ]
  }
 ],
 "metadata": {
  "kernelspec": {
   "display_name": "Python 3 (ipykernel)",
   "language": "python",
   "name": "python3"
  },
  "language_info": {
   "codemirror_mode": {
    "name": "ipython",
    "version": 3
   },
   "file_extension": ".py",
   "mimetype": "text/x-python",
   "name": "python",
   "nbconvert_exporter": "python",
   "pygments_lexer": "ipython3",
   "version": "3.9.7"
  }
 },
 "nbformat": 4,
 "nbformat_minor": 5
}

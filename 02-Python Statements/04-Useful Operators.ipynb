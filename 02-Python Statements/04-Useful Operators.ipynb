{
 "cells": [
  {
   "cell_type": "markdown",
   "id": "90ec6865",
   "metadata": {},
   "source": [
    "### range Function \n",
    "\n",
    "Create a sequence of numbers from 0 to 5, and print each item in the sequence"
   ]
  },
  {
   "cell_type": "code",
   "execution_count": 1,
   "id": "6b321ffa",
   "metadata": {},
   "outputs": [],
   "source": [
    "mylist = [1,2,3]"
   ]
  },
  {
   "cell_type": "markdown",
   "id": "e97c1683",
   "metadata": {},
   "source": [
    "#### Iteration"
   ]
  },
  {
   "cell_type": "code",
   "execution_count": 2,
   "id": "1659e6b7",
   "metadata": {},
   "outputs": [
    {
     "name": "stdout",
     "output_type": "stream",
     "text": [
      "0\n",
      "1\n",
      "2\n",
      "3\n",
      "4\n",
      "5\n",
      "6\n",
      "7\n",
      "8\n",
      "9\n"
     ]
    }
   ],
   "source": [
    "for num in range(10):\n",
    "    print(num)"
   ]
  },
  {
   "cell_type": "markdown",
   "id": "72cb2f17",
   "metadata": {},
   "source": [
    "Starting in 5 and going all the way up but not including 10"
   ]
  },
  {
   "cell_type": "code",
   "execution_count": 3,
   "id": "ef10773a",
   "metadata": {},
   "outputs": [
    {
     "name": "stdout",
     "output_type": "stream",
     "text": [
      "5\n",
      "6\n",
      "7\n",
      "8\n",
      "9\n"
     ]
    }
   ],
   "source": [
    "for num in range(5,10):\n",
    "    print(num)"
   ]
  },
  {
   "cell_type": "markdown",
   "id": "20ce5836",
   "metadata": {},
   "source": [
    "Step size of 2"
   ]
  },
  {
   "cell_type": "code",
   "execution_count": 4,
   "id": "dff940fb",
   "metadata": {},
   "outputs": [
    {
     "name": "stdout",
     "output_type": "stream",
     "text": [
      "0\n",
      "2\n",
      "4\n",
      "6\n",
      "8\n"
     ]
    }
   ],
   "source": [
    "for num in range(0,10,2):\n",
    "    print(num)"
   ]
  },
  {
   "cell_type": "markdown",
   "id": "a811971e",
   "metadata": {},
   "source": [
    "Including 10"
   ]
  },
  {
   "cell_type": "code",
   "execution_count": 5,
   "id": "98cafc3a",
   "metadata": {},
   "outputs": [
    {
     "name": "stdout",
     "output_type": "stream",
     "text": [
      "0\n",
      "2\n",
      "4\n",
      "6\n",
      "8\n",
      "10\n"
     ]
    }
   ],
   "source": [
    "for num in range(0,11,2):\n",
    "    print(num)"
   ]
  },
  {
   "cell_type": "markdown",
   "id": "84dffee1",
   "metadata": {},
   "source": [
    "#### Generating Numbers"
   ]
  },
  {
   "cell_type": "code",
   "execution_count": 6,
   "id": "b6061716",
   "metadata": {},
   "outputs": [
    {
     "data": {
      "text/plain": [
       "[0, 2, 4, 6, 8, 10]"
      ]
     },
     "execution_count": 6,
     "metadata": {},
     "output_type": "execute_result"
    }
   ],
   "source": [
    "list(range(0,11,2))"
   ]
  },
  {
   "cell_type": "markdown",
   "id": "452a2780",
   "metadata": {},
   "source": [
    "### enumerate Function\n",
    "\n",
    "It adds a counter to an iterable and returns it in a form of enumerating object"
   ]
  },
  {
   "cell_type": "code",
   "execution_count": 7,
   "id": "ea66a982",
   "metadata": {},
   "outputs": [
    {
     "name": "stdout",
     "output_type": "stream",
     "text": [
      "At index 0 the letter is a\n",
      "At index 1 the letter is b\n",
      "At index 2 the letter is c\n",
      "At index 3 the letter is d\n",
      "At index 4 the letter is e\n",
      "At index 5 the letter is f\n",
      "At index 6 the letter is g\n"
     ]
    }
   ],
   "source": [
    "index_count = 0\n",
    "\n",
    "for letter in 'abcdefg':\n",
    "    print('At index {} the letter is {}'.format(index_count,letter))\n",
    "    index_count += 1"
   ]
  },
  {
   "cell_type": "markdown",
   "id": "f191775c",
   "metadata": {},
   "source": [
    "Without the enumerate Function"
   ]
  },
  {
   "cell_type": "code",
   "execution_count": 9,
   "id": "f3252745",
   "metadata": {},
   "outputs": [
    {
     "name": "stdout",
     "output_type": "stream",
     "text": [
      "a\n",
      "b\n",
      "c\n",
      "d\n",
      "e\n",
      "f\n",
      "g\n"
     ]
    }
   ],
   "source": [
    "index_count = 0\n",
    "word = 'abcdefg'\n",
    "\n",
    "for letter in word:\n",
    "    print(word[index_count])\n",
    "    index_count += 1"
   ]
  },
  {
   "cell_type": "markdown",
   "id": "ac497112",
   "metadata": {},
   "source": [
    "#### enumerate in form of Tuples"
   ]
  },
  {
   "cell_type": "code",
   "execution_count": 10,
   "id": "2d1cd03a",
   "metadata": {},
   "outputs": [
    {
     "name": "stdout",
     "output_type": "stream",
     "text": [
      "(0, 'a')\n",
      "(1, 'b')\n",
      "(2, 'c')\n",
      "(3, 'd')\n",
      "(4, 'e')\n",
      "(5, 'f')\n",
      "(6, 'g')\n"
     ]
    }
   ],
   "source": [
    "word = 'abcdefg'\n",
    "\n",
    "for item in enumerate(word):\n",
    "    print(item)"
   ]
  },
  {
   "cell_type": "markdown",
   "id": "d5add7c6",
   "metadata": {},
   "source": [
    "Tuple unpacking"
   ]
  },
  {
   "cell_type": "code",
   "execution_count": 11,
   "id": "7ea67119",
   "metadata": {},
   "outputs": [
    {
     "name": "stdout",
     "output_type": "stream",
     "text": [
      "0\n",
      "a\n",
      "\n",
      "\n",
      "1\n",
      "b\n",
      "\n",
      "\n",
      "2\n",
      "c\n",
      "\n",
      "\n",
      "3\n",
      "d\n",
      "\n",
      "\n",
      "4\n",
      "e\n",
      "\n",
      "\n",
      "5\n",
      "f\n",
      "\n",
      "\n",
      "6\n",
      "g\n",
      "\n",
      "\n"
     ]
    }
   ],
   "source": [
    "word = 'abcdefg'\n",
    "\n",
    "for index,letter in enumerate(word):\n",
    "    print(index)\n",
    "    print(letter)\n",
    "    print('\\n')"
   ]
  },
  {
   "cell_type": "markdown",
   "id": "29b41d4d",
   "metadata": {},
   "source": [
    "### zip Function\n",
    "\n",
    "It takes iterable or containers and returns a single iterator object, having mapped values from all the containers"
   ]
  },
  {
   "cell_type": "code",
   "execution_count": 15,
   "id": "25e50542",
   "metadata": {},
   "outputs": [],
   "source": [
    "mylist1 = [1,2,3,4,5]\n",
    "mylist2 = ['a','b','c','d','e']\n",
    "mylist3 = [100,200,300,400,500]"
   ]
  },
  {
   "cell_type": "markdown",
   "id": "607c7485",
   "metadata": {},
   "source": [
    "Just running zip won't give back anything"
   ]
  },
  {
   "cell_type": "code",
   "execution_count": 16,
   "id": "d9150f19",
   "metadata": {},
   "outputs": [
    {
     "data": {
      "text/plain": [
       "<zip at 0x1c0bfb83300>"
      ]
     },
     "execution_count": 16,
     "metadata": {},
     "output_type": "execute_result"
    }
   ],
   "source": [
    "zip(mylist1,mylist2,mylist3)"
   ]
  },
  {
   "cell_type": "markdown",
   "id": "8b33c45f",
   "metadata": {},
   "source": [
    "#### Iterating also return Tuples"
   ]
  },
  {
   "cell_type": "code",
   "execution_count": 17,
   "id": "c2397f7d",
   "metadata": {},
   "outputs": [
    {
     "name": "stdout",
     "output_type": "stream",
     "text": [
      "(1, 'a', 100)\n",
      "(2, 'b', 200)\n",
      "(3, 'c', 300)\n",
      "(4, 'd', 400)\n",
      "(5, 'e', 500)\n"
     ]
    }
   ],
   "source": [
    "for item in zip(mylist1,mylist2,mylist3):\n",
    "    print(item)"
   ]
  },
  {
   "cell_type": "markdown",
   "id": "374602b3",
   "metadata": {},
   "source": [
    "Tuple unpacking"
   ]
  },
  {
   "cell_type": "code",
   "execution_count": 20,
   "id": "2e77e52b",
   "metadata": {},
   "outputs": [
    {
     "name": "stdout",
     "output_type": "stream",
     "text": [
      "1\n",
      "a\n",
      "100\n",
      "\n",
      "\n",
      "2\n",
      "b\n",
      "200\n",
      "\n",
      "\n",
      "3\n",
      "c\n",
      "300\n",
      "\n",
      "\n",
      "4\n",
      "d\n",
      "400\n",
      "\n",
      "\n",
      "5\n",
      "e\n",
      "500\n",
      "\n",
      "\n"
     ]
    }
   ],
   "source": [
    "for num,letter,hund in zip(mylist1,mylist2,mylist3):\n",
    "    print(num)\n",
    "    print(letter)\n",
    "    print(hund)\n",
    "    print('\\n')"
   ]
  },
  {
   "cell_type": "markdown",
   "id": "94452e9d",
   "metadata": {},
   "source": [
    "#### What happens if these lists are uneven?\n",
    "\n",
    "The zip function will only be able to zip together as far as the list. It will ignore the extra elements."
   ]
  },
  {
   "cell_type": "code",
   "execution_count": 21,
   "id": "e6caa84f",
   "metadata": {},
   "outputs": [],
   "source": [
    "mylist1 = [1,2,3,4,5,6,7,8,9]\n",
    "mylist2 = ['a','b','c','d','e']"
   ]
  },
  {
   "cell_type": "code",
   "execution_count": 22,
   "id": "2d7c41ab",
   "metadata": {},
   "outputs": [
    {
     "name": "stdout",
     "output_type": "stream",
     "text": [
      "(1, 'a')\n",
      "(2, 'b')\n",
      "(3, 'c')\n",
      "(4, 'd')\n",
      "(5, 'e')\n"
     ]
    }
   ],
   "source": [
    "for item in zip(mylist1,mylist2):\n",
    "    print(item)"
   ]
  },
  {
   "cell_type": "markdown",
   "id": "6c23a59c",
   "metadata": {},
   "source": [
    "#### Casting using list\n",
    "\n",
    "Getting the list itself"
   ]
  },
  {
   "cell_type": "code",
   "execution_count": 23,
   "id": "1ef4e1fb",
   "metadata": {},
   "outputs": [],
   "source": [
    "mylist1 = [1,2,3,4,5]\n",
    "mylist2 = ['a','b','c','d','e']\n",
    "mylist3 = [100,200,300,400,500]"
   ]
  },
  {
   "cell_type": "code",
   "execution_count": 24,
   "id": "40859b50",
   "metadata": {},
   "outputs": [
    {
     "name": "stdout",
     "output_type": "stream",
     "text": [
      "(1, 'a', 100)\n",
      "(2, 'b', 200)\n",
      "(3, 'c', 300)\n",
      "(4, 'd', 400)\n",
      "(5, 'e', 500)\n"
     ]
    }
   ],
   "source": [
    "for item in zip(mylist1,mylist2,mylist3):\n",
    "    print(item)"
   ]
  },
  {
   "cell_type": "code",
   "execution_count": 25,
   "id": "2f1b55aa",
   "metadata": {},
   "outputs": [
    {
     "data": {
      "text/plain": [
       "[(1, 'a', 100), (2, 'b', 200), (3, 'c', 300), (4, 'd', 400), (5, 'e', 500)]"
      ]
     },
     "execution_count": 25,
     "metadata": {},
     "output_type": "execute_result"
    }
   ],
   "source": [
    "list(zip(mylist1,mylist2,mylist3))"
   ]
  },
  {
   "cell_type": "markdown",
   "id": "e42e951c",
   "metadata": {},
   "source": [
    "### in Keyword\n",
    "\n",
    "Checking an object is in a list"
   ]
  },
  {
   "cell_type": "code",
   "execution_count": 26,
   "id": "52acb4bc",
   "metadata": {},
   "outputs": [
    {
     "data": {
      "text/plain": [
       "False"
      ]
     },
     "execution_count": 26,
     "metadata": {},
     "output_type": "execute_result"
    }
   ],
   "source": [
    "'x' in [1,2,3]"
   ]
  },
  {
   "cell_type": "code",
   "execution_count": 27,
   "id": "142f7832",
   "metadata": {},
   "outputs": [
    {
     "data": {
      "text/plain": [
       "True"
      ]
     },
     "execution_count": 27,
     "metadata": {},
     "output_type": "execute_result"
    }
   ],
   "source": [
    "'x' in ['x','y','z']"
   ]
  },
  {
   "cell_type": "code",
   "execution_count": 28,
   "id": "b5d37529",
   "metadata": {},
   "outputs": [
    {
     "data": {
      "text/plain": [
       "True"
      ]
     },
     "execution_count": 28,
     "metadata": {},
     "output_type": "execute_result"
    }
   ],
   "source": [
    "1 in [1,2,3]"
   ]
  },
  {
   "cell_type": "markdown",
   "id": "64dd4f2b",
   "metadata": {},
   "source": [
    "It works in strings"
   ]
  },
  {
   "cell_type": "code",
   "execution_count": 29,
   "id": "5b8ef68c",
   "metadata": {},
   "outputs": [
    {
     "data": {
      "text/plain": [
       "True"
      ]
     },
     "execution_count": 29,
     "metadata": {},
     "output_type": "execute_result"
    }
   ],
   "source": [
    "'a' in 'Natan'"
   ]
  },
  {
   "cell_type": "markdown",
   "id": "c0ffa3ab",
   "metadata": {},
   "source": [
    "It works in dictionaries"
   ]
  },
  {
   "cell_type": "code",
   "execution_count": 30,
   "id": "cde64e22",
   "metadata": {},
   "outputs": [
    {
     "data": {
      "text/plain": [
       "True"
      ]
     },
     "execution_count": 30,
     "metadata": {},
     "output_type": "execute_result"
    }
   ],
   "source": [
    "'k1' in {'k1':1000}"
   ]
  },
  {
   "cell_type": "code",
   "execution_count": 31,
   "id": "03650864",
   "metadata": {},
   "outputs": [
    {
     "data": {
      "text/plain": [
       "True"
      ]
     },
     "execution_count": 31,
     "metadata": {},
     "output_type": "execute_result"
    }
   ],
   "source": [
    "mydict = {'k1':1000}\n",
    "\n",
    "1000 in mydict.values()"
   ]
  },
  {
   "cell_type": "code",
   "execution_count": 32,
   "id": "d2774071",
   "metadata": {},
   "outputs": [
    {
     "data": {
      "text/plain": [
       "False"
      ]
     },
     "execution_count": 32,
     "metadata": {},
     "output_type": "execute_result"
    }
   ],
   "source": [
    "1000 in mydict.keys()"
   ]
  },
  {
   "cell_type": "markdown",
   "id": "807c0bd5",
   "metadata": {},
   "source": [
    "### min Function\n",
    "\n",
    "Reports the minimum value of a list"
   ]
  },
  {
   "cell_type": "code",
   "execution_count": 36,
   "id": "d7f5b1c9",
   "metadata": {},
   "outputs": [],
   "source": [
    "mylist = [10,20,30,40,50]"
   ]
  },
  {
   "cell_type": "code",
   "execution_count": 37,
   "id": "8cf74f08",
   "metadata": {},
   "outputs": [
    {
     "data": {
      "text/plain": [
       "10"
      ]
     },
     "execution_count": 37,
     "metadata": {},
     "output_type": "execute_result"
    }
   ],
   "source": [
    "min(mylist)"
   ]
  },
  {
   "cell_type": "markdown",
   "id": "f237fa7c",
   "metadata": {},
   "source": [
    "### max Function\n",
    "\n",
    "Reports the maximum value of a list"
   ]
  },
  {
   "cell_type": "code",
   "execution_count": 38,
   "id": "bc226370",
   "metadata": {},
   "outputs": [],
   "source": [
    "mylist = [60,70,80,90,100]"
   ]
  },
  {
   "cell_type": "code",
   "execution_count": 40,
   "id": "2ec79295",
   "metadata": {},
   "outputs": [
    {
     "data": {
      "text/plain": [
       "100"
      ]
     },
     "execution_count": 40,
     "metadata": {},
     "output_type": "execute_result"
    }
   ],
   "source": [
    "max(mylist)"
   ]
  },
  {
   "cell_type": "markdown",
   "id": "145f5899",
   "metadata": {},
   "source": [
    "### Random Library"
   ]
  },
  {
   "cell_type": "markdown",
   "id": "6767cf74",
   "metadata": {},
   "source": [
    "Importing functions from a library"
   ]
  },
  {
   "cell_type": "code",
   "execution_count": 41,
   "id": "a9628001",
   "metadata": {},
   "outputs": [],
   "source": [
    "from random import shuffle"
   ]
  },
  {
   "cell_type": "markdown",
   "id": "6b2425b7",
   "metadata": {},
   "source": [
    "#### shuffle Function"
   ]
  },
  {
   "cell_type": "code",
   "execution_count": 43,
   "id": "d588a0a2",
   "metadata": {},
   "outputs": [],
   "source": [
    "mylist = [1,2,3,4,5,6,7,8,9,10]"
   ]
  },
  {
   "cell_type": "code",
   "execution_count": 44,
   "id": "11beee18",
   "metadata": {},
   "outputs": [],
   "source": [
    "shuffle(mylist)"
   ]
  },
  {
   "cell_type": "code",
   "execution_count": 45,
   "id": "b9a73053",
   "metadata": {},
   "outputs": [
    {
     "data": {
      "text/plain": [
       "[4, 1, 2, 9, 8, 10, 7, 5, 3, 6]"
      ]
     },
     "execution_count": 45,
     "metadata": {},
     "output_type": "execute_result"
    }
   ],
   "source": [
    "mylist"
   ]
  },
  {
   "cell_type": "markdown",
   "id": "a425c52d",
   "metadata": {},
   "source": [
    "#### randint Function"
   ]
  },
  {
   "cell_type": "code",
   "execution_count": 46,
   "id": "c7752eca",
   "metadata": {},
   "outputs": [],
   "source": [
    "from random import randint"
   ]
  },
  {
   "cell_type": "code",
   "execution_count": 47,
   "id": "fa65ab62",
   "metadata": {},
   "outputs": [
    {
     "data": {
      "text/plain": [
       "96"
      ]
     },
     "execution_count": 47,
     "metadata": {},
     "output_type": "execute_result"
    }
   ],
   "source": [
    "randint(0,100)"
   ]
  },
  {
   "cell_type": "code",
   "execution_count": 48,
   "id": "35769beb",
   "metadata": {},
   "outputs": [
    {
     "data": {
      "text/plain": [
       "164"
      ]
     },
     "execution_count": 48,
     "metadata": {},
     "output_type": "execute_result"
    }
   ],
   "source": [
    "randint(0,1000)"
   ]
  },
  {
   "cell_type": "markdown",
   "id": "05eb70d2",
   "metadata": {},
   "source": [
    "Saving the random number"
   ]
  },
  {
   "cell_type": "code",
   "execution_count": 49,
   "id": "d07fa8da",
   "metadata": {},
   "outputs": [],
   "source": [
    "mynum = randint(0,100000)"
   ]
  },
  {
   "cell_type": "code",
   "execution_count": 50,
   "id": "78573be1",
   "metadata": {},
   "outputs": [
    {
     "data": {
      "text/plain": [
       "66397"
      ]
     },
     "execution_count": 50,
     "metadata": {},
     "output_type": "execute_result"
    }
   ],
   "source": [
    "mynum"
   ]
  },
  {
   "cell_type": "markdown",
   "id": "17eb836b",
   "metadata": {},
   "source": [
    "### input Function\n",
    "\n",
    "Allows user to give an input"
   ]
  },
  {
   "cell_type": "code",
   "execution_count": 51,
   "id": "cab7498a",
   "metadata": {},
   "outputs": [
    {
     "name": "stdout",
     "output_type": "stream",
     "text": [
      "Enter your secret word here: sea cucumber\n"
     ]
    },
    {
     "data": {
      "text/plain": [
       "'sea cucumber'"
      ]
     },
     "execution_count": 51,
     "metadata": {},
     "output_type": "execute_result"
    }
   ],
   "source": [
    "input('Enter your secret word here: ')"
   ]
  },
  {
   "cell_type": "markdown",
   "id": "6042bf07",
   "metadata": {},
   "source": [
    "Assigning a variable"
   ]
  },
  {
   "cell_type": "code",
   "execution_count": 55,
   "id": "e5929461",
   "metadata": {},
   "outputs": [
    {
     "name": "stdout",
     "output_type": "stream",
     "text": [
      "What is your age? 22\n"
     ]
    }
   ],
   "source": [
    "result = input('What is your age? ')"
   ]
  },
  {
   "cell_type": "code",
   "execution_count": 56,
   "id": "218fda83",
   "metadata": {},
   "outputs": [
    {
     "data": {
      "text/plain": [
       "'22'"
      ]
     },
     "execution_count": 56,
     "metadata": {},
     "output_type": "execute_result"
    }
   ],
   "source": [
    "result"
   ]
  },
  {
   "cell_type": "markdown",
   "id": "7c970a3a",
   "metadata": {},
   "source": [
    "Input always report anything that is passed into it as a string"
   ]
  },
  {
   "cell_type": "code",
   "execution_count": 57,
   "id": "cf5ba508",
   "metadata": {},
   "outputs": [
    {
     "name": "stdout",
     "output_type": "stream",
     "text": [
      "What is your favorite number? 11\n"
     ]
    }
   ],
   "source": [
    "result = input('What is your favorite number? ')"
   ]
  },
  {
   "cell_type": "code",
   "execution_count": 58,
   "id": "b9bad3ba",
   "metadata": {},
   "outputs": [
    {
     "data": {
      "text/plain": [
       "'11'"
      ]
     },
     "execution_count": 58,
     "metadata": {},
     "output_type": "execute_result"
    }
   ],
   "source": [
    "result"
   ]
  },
  {
   "cell_type": "code",
   "execution_count": 59,
   "id": "f9bec143",
   "metadata": {},
   "outputs": [
    {
     "data": {
      "text/plain": [
       "str"
      ]
     },
     "execution_count": 59,
     "metadata": {},
     "output_type": "execute_result"
    }
   ],
   "source": [
    "type(result)"
   ]
  },
  {
   "cell_type": "markdown",
   "id": "28fa9de9",
   "metadata": {},
   "source": [
    "Transforming to another data type"
   ]
  },
  {
   "cell_type": "code",
   "execution_count": 60,
   "id": "33827bcf",
   "metadata": {},
   "outputs": [
    {
     "data": {
      "text/plain": [
       "11.0"
      ]
     },
     "execution_count": 60,
     "metadata": {},
     "output_type": "execute_result"
    }
   ],
   "source": [
    "float(result)"
   ]
  },
  {
   "cell_type": "code",
   "execution_count": 61,
   "id": "badcb5c5",
   "metadata": {},
   "outputs": [
    {
     "data": {
      "text/plain": [
       "11"
      ]
     },
     "execution_count": 61,
     "metadata": {},
     "output_type": "execute_result"
    }
   ],
   "source": [
    "int(result)"
   ]
  },
  {
   "cell_type": "markdown",
   "id": "cacb9242",
   "metadata": {},
   "source": [
    "A more convenient way to do it"
   ]
  },
  {
   "cell_type": "code",
   "execution_count": 62,
   "id": "76ccb0b8",
   "metadata": {},
   "outputs": [
    {
     "name": "stdout",
     "output_type": "stream",
     "text": [
      "What is your favorite number? 11\n"
     ]
    }
   ],
   "source": [
    "result = int(input('What is your favorite number? '))"
   ]
  },
  {
   "cell_type": "code",
   "execution_count": 63,
   "id": "fe12d759",
   "metadata": {},
   "outputs": [
    {
     "data": {
      "text/plain": [
       "11"
      ]
     },
     "execution_count": 63,
     "metadata": {},
     "output_type": "execute_result"
    }
   ],
   "source": [
    "result"
   ]
  },
  {
   "cell_type": "code",
   "execution_count": 64,
   "id": "db225a69",
   "metadata": {},
   "outputs": [
    {
     "data": {
      "text/plain": [
       "int"
      ]
     },
     "execution_count": 64,
     "metadata": {},
     "output_type": "execute_result"
    }
   ],
   "source": [
    "type(result)"
   ]
  }
 ],
 "metadata": {
  "kernelspec": {
   "display_name": "Python 3 (ipykernel)",
   "language": "python",
   "name": "python3"
  },
  "language_info": {
   "codemirror_mode": {
    "name": "ipython",
    "version": 3
   },
   "file_extension": ".py",
   "mimetype": "text/x-python",
   "name": "python",
   "nbconvert_exporter": "python",
   "pygments_lexer": "ipython3",
   "version": "3.9.7"
  }
 },
 "nbformat": 4,
 "nbformat_minor": 5
}

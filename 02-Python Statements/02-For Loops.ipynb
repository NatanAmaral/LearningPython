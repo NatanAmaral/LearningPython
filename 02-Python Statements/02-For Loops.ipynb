{
 "cells": [
  {
   "cell_type": "markdown",
   "id": "284af7a2",
   "metadata": {},
   "source": [
    "### Iterables"
   ]
  },
  {
   "cell_type": "markdown",
   "id": "d09d7a78",
   "metadata": {},
   "source": [
    "### In Lists"
   ]
  },
  {
   "cell_type": "code",
   "execution_count": 1,
   "id": "80ef1dc0",
   "metadata": {},
   "outputs": [],
   "source": [
    "mylist = [1,2,3,4,5,6,7,8,9,10]"
   ]
  },
  {
   "cell_type": "markdown",
   "id": "70b9a184",
   "metadata": {},
   "source": [
    "The varible name used to represent elements inside the list can be whatever you want \\\n",
    "But it is advisable to give a name that is related to the items on the list"
   ]
  },
  {
   "cell_type": "code",
   "execution_count": 2,
   "id": "6a5d4905",
   "metadata": {},
   "outputs": [
    {
     "name": "stdout",
     "output_type": "stream",
     "text": [
      "1\n",
      "2\n",
      "3\n",
      "4\n",
      "5\n",
      "6\n",
      "7\n",
      "8\n",
      "9\n",
      "10\n"
     ]
    }
   ],
   "source": [
    "for num in mylist:\n",
    "    print(num)"
   ]
  },
  {
   "cell_type": "markdown",
   "id": "cf4bf222",
   "metadata": {},
   "source": [
    "It's also possible to execute a block of code for every single item inside the list without using the variable name, even if the code itself is unrelated to the item."
   ]
  },
  {
   "cell_type": "code",
   "execution_count": 3,
   "id": "ecf02ea8",
   "metadata": {},
   "outputs": [
    {
     "name": "stdout",
     "output_type": "stream",
     "text": [
      "Hey!\n",
      "Hey!\n",
      "Hey!\n",
      "Hey!\n",
      "Hey!\n",
      "Hey!\n",
      "Hey!\n",
      "Hey!\n",
      "Hey!\n",
      "Hey!\n"
     ]
    }
   ],
   "source": [
    "for num in mylist:\n",
    "    print('Hey!')"
   ]
  },
  {
   "cell_type": "markdown",
   "id": "9663ccff",
   "metadata": {},
   "source": [
    "#### Printing only the even numbers "
   ]
  },
  {
   "cell_type": "code",
   "execution_count": 4,
   "id": "35b4740f",
   "metadata": {},
   "outputs": [
    {
     "name": "stdout",
     "output_type": "stream",
     "text": [
      "2\n",
      "4\n",
      "6\n",
      "8\n",
      "10\n"
     ]
    }
   ],
   "source": [
    "for num in mylist:\n",
    "    if num % 2 == 0:\n",
    "        print(num)"
   ]
  },
  {
   "cell_type": "markdown",
   "id": "75a99caa",
   "metadata": {},
   "source": [
    "#### Combining for loops with control flow"
   ]
  },
  {
   "cell_type": "code",
   "execution_count": 8,
   "id": "33345304",
   "metadata": {},
   "outputs": [
    {
     "name": "stdout",
     "output_type": "stream",
     "text": [
      "Odd number:  1\n",
      "Even number: 2\n",
      "Odd number:  3\n",
      "Even number: 4\n",
      "Odd number:  5\n",
      "Even number: 6\n",
      "Odd number:  7\n",
      "Even number: 8\n",
      "Odd number:  9\n",
      "Even number: 10\n"
     ]
    }
   ],
   "source": [
    "for num in mylist:\n",
    "    if num % 2 == 0:\n",
    "        print(f'Even number: {num}')\n",
    "    else:\n",
    "        print(f'Odd number:  {num}')"
   ]
  },
  {
   "cell_type": "markdown",
   "id": "7af30862",
   "metadata": {},
   "source": [
    "#### Running tally during multiple loops"
   ]
  },
  {
   "cell_type": "code",
   "execution_count": 10,
   "id": "3144a8d3",
   "metadata": {},
   "outputs": [
    {
     "name": "stdout",
     "output_type": "stream",
     "text": [
      "1\n",
      "3\n",
      "6\n",
      "10\n",
      "15\n",
      "21\n",
      "28\n",
      "36\n",
      "45\n",
      "55\n"
     ]
    }
   ],
   "source": [
    "list_sum = 0\n",
    "\n",
    "for num in mylist:\n",
    "    list_sum = list_sum + num\n",
    "    \n",
    "    print(list_sum)"
   ]
  },
  {
   "cell_type": "markdown",
   "id": "54683ae6",
   "metadata": {},
   "source": [
    "### In Strings"
   ]
  },
  {
   "cell_type": "code",
   "execution_count": 11,
   "id": "10c69f70",
   "metadata": {},
   "outputs": [
    {
     "name": "stdout",
     "output_type": "stream",
     "text": [
      "H\n",
      "e\n",
      "l\n",
      "l\n",
      "o\n",
      " \n",
      "W\n",
      "o\n",
      "r\n",
      "l\n",
      "d\n"
     ]
    }
   ],
   "source": [
    "mystring = 'Hello World'\n",
    "\n",
    "for letter in mystring:\n",
    "    print(letter)"
   ]
  },
  {
   "cell_type": "markdown",
   "id": "f1e02d1e",
   "metadata": {},
   "source": [
    "Assign a variable name to the string is not needed \n",
    "\n",
    "The string can be used directly"
   ]
  },
  {
   "cell_type": "code",
   "execution_count": 12,
   "id": "5ed17b1e",
   "metadata": {},
   "outputs": [
    {
     "name": "stdout",
     "output_type": "stream",
     "text": [
      "H\n",
      "e\n",
      "l\n",
      "l\n",
      "o\n",
      " \n",
      "W\n",
      "o\n",
      "r\n",
      "l\n",
      "d\n"
     ]
    }
   ],
   "source": [
    "for letter in 'Hello World':\n",
    "    print(letter)"
   ]
  },
  {
   "cell_type": "markdown",
   "id": "321cf40f",
   "metadata": {},
   "source": [
    "A underscore _ can be used when there is no intention to use that variable name as yopu iterate through"
   ]
  },
  {
   "cell_type": "code",
   "execution_count": 15,
   "id": "e89deb1f",
   "metadata": {},
   "outputs": [
    {
     "name": "stdout",
     "output_type": "stream",
     "text": [
      "Hi\n",
      "Hi\n",
      "Hi\n",
      "Hi\n",
      "Hi\n",
      "Hi\n",
      "Hi\n",
      "Hi\n",
      "Hi\n",
      "Hi\n",
      "Hi\n"
     ]
    }
   ],
   "source": [
    "for _ in 'Hello World':\n",
    "    print('Hi')"
   ]
  },
  {
   "cell_type": "markdown",
   "id": "510e43f5",
   "metadata": {},
   "source": [
    "### In Tuples"
   ]
  },
  {
   "cell_type": "code",
   "execution_count": 16,
   "id": "0e0ed66f",
   "metadata": {},
   "outputs": [
    {
     "name": "stdout",
     "output_type": "stream",
     "text": [
      "1\n",
      "2\n",
      "3\n"
     ]
    }
   ],
   "source": [
    "tup = (1,2,3)\n",
    "\n",
    "for item in tup:\n",
    "    print(item)"
   ]
  },
  {
   "cell_type": "code",
   "execution_count": 17,
   "id": "f454a199",
   "metadata": {},
   "outputs": [],
   "source": [
    "mylist = [(1,10),(2,20),(3,30),(4,40),(5,50)]"
   ]
  },
  {
   "cell_type": "code",
   "execution_count": 18,
   "id": "f75c5095",
   "metadata": {},
   "outputs": [
    {
     "data": {
      "text/plain": [
       "5"
      ]
     },
     "execution_count": 18,
     "metadata": {},
     "output_type": "execute_result"
    }
   ],
   "source": [
    "len(mylist)"
   ]
  },
  {
   "cell_type": "code",
   "execution_count": 22,
   "id": "db0064ff",
   "metadata": {},
   "outputs": [
    {
     "name": "stdout",
     "output_type": "stream",
     "text": [
      "(1, 10)\n",
      "(2, 20)\n",
      "(3, 30)\n",
      "(4, 40)\n",
      "(5, 50)\n"
     ]
    }
   ],
   "source": [
    "for item in mylist:\n",
    "    print(item)"
   ]
  },
  {
   "cell_type": "markdown",
   "id": "c577cd53",
   "metadata": {},
   "source": [
    "#### Tuple unpacking "
   ]
  },
  {
   "cell_type": "code",
   "execution_count": 23,
   "id": "8d428f0d",
   "metadata": {},
   "outputs": [
    {
     "name": "stdout",
     "output_type": "stream",
     "text": [
      "1\n",
      "10\n",
      "2\n",
      "20\n",
      "3\n",
      "30\n",
      "4\n",
      "40\n",
      "5\n",
      "50\n"
     ]
    }
   ],
   "source": [
    "for (a,b) in mylist:\n",
    "    print(a)\n",
    "    print(b)"
   ]
  },
  {
   "cell_type": "code",
   "execution_count": 24,
   "id": "9f754102",
   "metadata": {},
   "outputs": [
    {
     "name": "stdout",
     "output_type": "stream",
     "text": [
      "1\n",
      "2\n",
      "3\n",
      "4\n",
      "5\n"
     ]
    }
   ],
   "source": [
    "for a,b in mylist:\n",
    "    print(a)"
   ]
  },
  {
   "cell_type": "code",
   "execution_count": 25,
   "id": "d8fa7a42",
   "metadata": {},
   "outputs": [
    {
     "name": "stdout",
     "output_type": "stream",
     "text": [
      "10\n",
      "20\n",
      "30\n",
      "40\n",
      "50\n"
     ]
    }
   ],
   "source": [
    "for a,b in mylist:\n",
    "    print(b)"
   ]
  },
  {
   "cell_type": "markdown",
   "id": "1f56b06c",
   "metadata": {},
   "source": [
    "Another example:"
   ]
  },
  {
   "cell_type": "code",
   "execution_count": 26,
   "id": "f1231b5d",
   "metadata": {},
   "outputs": [],
   "source": [
    "mylist = [(1,10,100),(2,20,200),(3,30,300)]"
   ]
  },
  {
   "cell_type": "code",
   "execution_count": 27,
   "id": "2adc3c4a",
   "metadata": {},
   "outputs": [
    {
     "name": "stdout",
     "output_type": "stream",
     "text": [
      "(1, 10, 100)\n",
      "(2, 20, 200)\n",
      "(3, 30, 300)\n"
     ]
    }
   ],
   "source": [
    "for item in mylist:\n",
    "    print(item)"
   ]
  },
  {
   "cell_type": "code",
   "execution_count": 28,
   "id": "2ef9446d",
   "metadata": {},
   "outputs": [
    {
     "name": "stdout",
     "output_type": "stream",
     "text": [
      "1\n",
      "2\n",
      "3\n"
     ]
    }
   ],
   "source": [
    "for a,b,c in mylist:\n",
    "    print(a)"
   ]
  },
  {
   "cell_type": "code",
   "execution_count": 29,
   "id": "b4c36dd9",
   "metadata": {},
   "outputs": [
    {
     "name": "stdout",
     "output_type": "stream",
     "text": [
      "10\n",
      "20\n",
      "30\n"
     ]
    }
   ],
   "source": [
    "for a,b,c in mylist:\n",
    "    print(b)"
   ]
  },
  {
   "cell_type": "code",
   "execution_count": 30,
   "id": "a5144e5d",
   "metadata": {},
   "outputs": [
    {
     "name": "stdout",
     "output_type": "stream",
     "text": [
      "100\n",
      "200\n",
      "300\n"
     ]
    }
   ],
   "source": [
    "for a,b,c in mylist:\n",
    "    print(c)"
   ]
  },
  {
   "cell_type": "markdown",
   "id": "277ee1b9",
   "metadata": {},
   "source": [
    "### In Dictionaries "
   ]
  },
  {
   "cell_type": "markdown",
   "id": "6b436d9d",
   "metadata": {},
   "source": [
    "By default it only iterates through the keys"
   ]
  },
  {
   "cell_type": "code",
   "execution_count": 32,
   "id": "c166f3c4",
   "metadata": {},
   "outputs": [
    {
     "name": "stdout",
     "output_type": "stream",
     "text": [
      "k1\n",
      "k2\n",
      "k3\n"
     ]
    }
   ],
   "source": [
    "d = {'k1':100,'k2':200,'k3':300}\n",
    "\n",
    "for item in d:\n",
    "    print(item)"
   ]
  },
  {
   "cell_type": "markdown",
   "id": "a0365b2d",
   "metadata": {},
   "source": [
    "Iterating through the items themselves"
   ]
  },
  {
   "cell_type": "code",
   "execution_count": 33,
   "id": "4e6232d0",
   "metadata": {},
   "outputs": [
    {
     "name": "stdout",
     "output_type": "stream",
     "text": [
      "('k1', 100)\n",
      "('k2', 200)\n",
      "('k3', 300)\n"
     ]
    }
   ],
   "source": [
    "for item in d.items():\n",
    "    print(item)"
   ]
  },
  {
   "cell_type": "markdown",
   "id": "575f8c14",
   "metadata": {},
   "source": [
    "#### Dictionary unpacking"
   ]
  },
  {
   "cell_type": "code",
   "execution_count": 34,
   "id": "f127e246",
   "metadata": {},
   "outputs": [
    {
     "name": "stdout",
     "output_type": "stream",
     "text": [
      "k1\n",
      "k2\n",
      "k3\n"
     ]
    }
   ],
   "source": [
    "d = {'k1':100,'k2':200,'k3':300}\n",
    "\n",
    "for key,value in d.items():\n",
    "    print(key)"
   ]
  },
  {
   "cell_type": "code",
   "execution_count": 35,
   "id": "d1af63aa",
   "metadata": {},
   "outputs": [
    {
     "name": "stdout",
     "output_type": "stream",
     "text": [
      "100\n",
      "200\n",
      "300\n"
     ]
    }
   ],
   "source": [
    "for key,value in d.items():\n",
    "    print(value)"
   ]
  },
  {
   "cell_type": "markdown",
   "id": "d891d86f",
   "metadata": {},
   "source": [
    "Grabbing only values"
   ]
  },
  {
   "cell_type": "code",
   "execution_count": 38,
   "id": "24270e4a",
   "metadata": {},
   "outputs": [
    {
     "name": "stdout",
     "output_type": "stream",
     "text": [
      "100\n",
      "200\n",
      "300\n"
     ]
    }
   ],
   "source": [
    "d = {'k1':100,'k2':200,'k3':300}\n",
    "\n",
    "for _ in d.values():\n",
    "    print(_)"
   ]
  },
  {
   "cell_type": "markdown",
   "id": "c56ce4db",
   "metadata": {},
   "source": [
    "NOTE: Dictionaries are unordered!"
   ]
  }
 ],
 "metadata": {
  "kernelspec": {
   "display_name": "Python 3 (ipykernel)",
   "language": "python",
   "name": "python3"
  },
  "language_info": {
   "codemirror_mode": {
    "name": "ipython",
    "version": 3
   },
   "file_extension": ".py",
   "mimetype": "text/x-python",
   "name": "python",
   "nbconvert_exporter": "python",
   "pygments_lexer": "ipython3",
   "version": "3.9.7"
  }
 },
 "nbformat": 4,
 "nbformat_minor": 5
}

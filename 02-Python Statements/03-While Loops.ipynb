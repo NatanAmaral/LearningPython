{
 "cells": [
  {
   "cell_type": "markdown",
   "id": "e437ba5e",
   "metadata": {},
   "source": [
    "### While Loops"
   ]
  },
  {
   "cell_type": "code",
   "execution_count": 1,
   "id": "1a68634f",
   "metadata": {},
   "outputs": [
    {
     "name": "stdout",
     "output_type": "stream",
     "text": [
      "The current value of x is 0\n",
      "The current value of x is 1\n",
      "The current value of x is 2\n",
      "The current value of x is 3\n",
      "The current value of x is 4\n"
     ]
    }
   ],
   "source": [
    "x = 0\n",
    "\n",
    "while x < 5:\n",
    "    print(f'The current value of x is {x}')\n",
    "    x= x + 1"
   ]
  },
  {
   "cell_type": "markdown",
   "id": "4304dde3",
   "metadata": {},
   "source": [
    "Adding else statement"
   ]
  },
  {
   "cell_type": "code",
   "execution_count": 2,
   "id": "160acf09",
   "metadata": {},
   "outputs": [
    {
     "name": "stdout",
     "output_type": "stream",
     "text": [
      "The current value of x is 0\n",
      "The current value of x is 1\n",
      "The current value of x is 2\n",
      "The current value of x is 3\n",
      "The current value of x is 4\n",
      "X value is not less than 5\n"
     ]
    }
   ],
   "source": [
    "x = 0\n",
    "\n",
    "while x < 5:\n",
    "    print(f'The current value of x is {x}')\n",
    "    x= x + 1\n",
    "else:\n",
    "    print('X value is not less than 5')"
   ]
  },
  {
   "cell_type": "markdown",
   "id": "c726554c",
   "metadata": {},
   "source": [
    "If from the beginning X is greater than 5 the while loop will never be executed"
   ]
  },
  {
   "cell_type": "code",
   "execution_count": 13,
   "id": "d4322c6a",
   "metadata": {},
   "outputs": [
    {
     "name": "stdout",
     "output_type": "stream",
     "text": [
      "X value is not less than 5\n"
     ]
    }
   ],
   "source": [
    "x = 50\n",
    "\n",
    "while x < 5:\n",
    "    print(f'The current value of x is {x}')\n",
    "    x= x + 1\n",
    "    # x += 1 can also be used\n",
    "else:\n",
    "    print('X value is not less than 5')"
   ]
  },
  {
   "cell_type": "markdown",
   "id": "a00002e2",
   "metadata": {},
   "source": [
    "### Keywords: break, continue, pass\n",
    "\n",
    "break: breaks out the current closest enclosing loop. \\\n",
    "continue: goes to the top of the closest enclosing loop. \\\n",
    "pass: does nothing at all."
   ]
  },
  {
   "cell_type": "markdown",
   "id": "d5c62679",
   "metadata": {},
   "source": [
    "#### pass Keyword"
   ]
  },
  {
   "cell_type": "markdown",
   "id": "84f4049e",
   "metadata": {},
   "source": [
    "Python uses indentation and whitespace, so it expects to have something after the colon, and a comment is not enough"
   ]
  },
  {
   "cell_type": "code",
   "execution_count": 6,
   "id": "f1332950",
   "metadata": {},
   "outputs": [
    {
     "ename": "IndentationError",
     "evalue": "expected an indented block (Temp/ipykernel_4064/4102859050.py, line 6)",
     "output_type": "error",
     "traceback": [
      "\u001b[1;36m  File \u001b[1;32m\"C:\\Users\\T-Gamer\\AppData\\Local\\Temp/ipykernel_4064/4102859050.py\"\u001b[1;36m, line \u001b[1;32m6\u001b[0m\n\u001b[1;33m    print('End of my script')\u001b[0m\n\u001b[1;37m    ^\u001b[0m\n\u001b[1;31mIndentationError\u001b[0m\u001b[1;31m:\u001b[0m expected an indented block\n"
     ]
    }
   ],
   "source": [
    "x = [1,2,3]\n",
    "\n",
    "for item in x:\n",
    "    # comment\n",
    "    \n",
    "print('End of my script')"
   ]
  },
  {
   "cell_type": "markdown",
   "id": "3937c64e",
   "metadata": {},
   "source": [
    "In this situation, 'pass' keyword can be used as a placeholder"
   ]
  },
  {
   "cell_type": "code",
   "execution_count": 7,
   "id": "7bcd52fb",
   "metadata": {},
   "outputs": [
    {
     "name": "stdout",
     "output_type": "stream",
     "text": [
      "End of my script\n"
     ]
    }
   ],
   "source": [
    "x = [1,2,3]\n",
    "\n",
    "for item in x:\n",
    "    # comment\n",
    "    pass\n",
    "\n",
    "print('End of my script')"
   ]
  },
  {
   "cell_type": "markdown",
   "id": "67b0f214",
   "metadata": {},
   "source": [
    "#### continue Keyword"
   ]
  },
  {
   "cell_type": "code",
   "execution_count": 8,
   "id": "b3ab1265",
   "metadata": {},
   "outputs": [],
   "source": [
    "mystring = 'Natan'"
   ]
  },
  {
   "cell_type": "code",
   "execution_count": 9,
   "id": "d452c7af",
   "metadata": {},
   "outputs": [
    {
     "name": "stdout",
     "output_type": "stream",
     "text": [
      "N\n",
      "a\n",
      "t\n",
      "a\n",
      "n\n"
     ]
    }
   ],
   "source": [
    "for letter in mystring:\n",
    "    print(letter)"
   ]
  },
  {
   "cell_type": "markdown",
   "id": "5e099692",
   "metadata": {},
   "source": [
    "If for some reason the letter 'a' shouldn't be printed"
   ]
  },
  {
   "cell_type": "code",
   "execution_count": 10,
   "id": "8d1908be",
   "metadata": {},
   "outputs": [
    {
     "name": "stdout",
     "output_type": "stream",
     "text": [
      "N\n",
      "t\n",
      "n\n"
     ]
    }
   ],
   "source": [
    "for letter in mystring:\n",
    "    if letter == 'a':\n",
    "        continue\n",
    "    print(letter)"
   ]
  },
  {
   "cell_type": "markdown",
   "id": "45e92f8f",
   "metadata": {},
   "source": [
    "#### break Keyword"
   ]
  },
  {
   "cell_type": "markdown",
   "id": "b1459b75",
   "metadata": {},
   "source": [
    "In the same lines of previous example, the 'break' keyword breaks out the loop when it encounters the letter 'a' "
   ]
  },
  {
   "cell_type": "code",
   "execution_count": 11,
   "id": "dd068b4e",
   "metadata": {},
   "outputs": [
    {
     "name": "stdout",
     "output_type": "stream",
     "text": [
      "N\n"
     ]
    }
   ],
   "source": [
    "for letter in mystring:\n",
    "    if letter == 'a':\n",
    "        break\n",
    "    print(letter)"
   ]
  },
  {
   "cell_type": "markdown",
   "id": "f862acdf",
   "metadata": {},
   "source": [
    "#### Using 'break' in a While Loop"
   ]
  },
  {
   "cell_type": "code",
   "execution_count": 15,
   "id": "bc3d4bae",
   "metadata": {},
   "outputs": [
    {
     "name": "stdout",
     "output_type": "stream",
     "text": [
      "0\n",
      "1\n",
      "2\n",
      "3\n",
      "4\n"
     ]
    }
   ],
   "source": [
    "x = 0\n",
    "\n",
    "while x < 5:\n",
    "    print(x)\n",
    "    x += 1"
   ]
  },
  {
   "cell_type": "code",
   "execution_count": 16,
   "id": "1e950dc4",
   "metadata": {},
   "outputs": [
    {
     "name": "stdout",
     "output_type": "stream",
     "text": [
      "0\n",
      "1\n"
     ]
    }
   ],
   "source": [
    "x = 0\n",
    "\n",
    "while x < 5:\n",
    "    \n",
    "    if x == 2:\n",
    "        break\n",
    "        \n",
    "    print(x)\n",
    "    x += 1"
   ]
  }
 ],
 "metadata": {
  "kernelspec": {
   "display_name": "Python 3 (ipykernel)",
   "language": "python",
   "name": "python3"
  },
  "language_info": {
   "codemirror_mode": {
    "name": "ipython",
    "version": 3
   },
   "file_extension": ".py",
   "mimetype": "text/x-python",
   "name": "python",
   "nbconvert_exporter": "python",
   "pygments_lexer": "ipython3",
   "version": "3.9.7"
  }
 },
 "nbformat": 4,
 "nbformat_minor": 5
}

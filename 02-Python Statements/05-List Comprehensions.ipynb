{
 "cells": [
  {
   "cell_type": "markdown",
   "id": "c2ee4044",
   "metadata": {},
   "source": [
    "### Creating a List"
   ]
  },
  {
   "cell_type": "markdown",
   "id": "9b1ca7e7",
   "metadata": {},
   "source": [
    "#### More extensive method "
   ]
  },
  {
   "cell_type": "code",
   "execution_count": 1,
   "id": "06d8a10f",
   "metadata": {},
   "outputs": [],
   "source": [
    "mystring = 'PYTHON'"
   ]
  },
  {
   "cell_type": "code",
   "execution_count": 2,
   "id": "98fe0aa6",
   "metadata": {},
   "outputs": [],
   "source": [
    "mylist = []\n",
    "\n",
    "for letter in mystring:\n",
    "    mylist.append(letter)"
   ]
  },
  {
   "cell_type": "code",
   "execution_count": 4,
   "id": "94a0d424",
   "metadata": {},
   "outputs": [
    {
     "data": {
      "text/plain": [
       "['P', 'Y', 'T', 'H', 'O', 'N']"
      ]
     },
     "execution_count": 4,
     "metadata": {},
     "output_type": "execute_result"
    }
   ],
   "source": [
    "mylist"
   ]
  },
  {
   "cell_type": "markdown",
   "id": "b1bc3d47",
   "metadata": {},
   "source": [
    "#### More efficient method "
   ]
  },
  {
   "cell_type": "code",
   "execution_count": 5,
   "id": "a480bb55",
   "metadata": {},
   "outputs": [],
   "source": [
    "mylist = [letter for letter in mystring]   "
   ]
  },
  {
   "cell_type": "code",
   "execution_count": 6,
   "id": "4b7e43b9",
   "metadata": {},
   "outputs": [
    {
     "data": {
      "text/plain": [
       "['P', 'Y', 'T', 'H', 'O', 'N']"
      ]
     },
     "execution_count": 6,
     "metadata": {},
     "output_type": "execute_result"
    }
   ],
   "source": [
    "mylist"
   ]
  },
  {
   "cell_type": "markdown",
   "id": "cc8a2843",
   "metadata": {},
   "source": [
    "Another example:"
   ]
  },
  {
   "cell_type": "code",
   "execution_count": 9,
   "id": "0180ec4a",
   "metadata": {},
   "outputs": [],
   "source": [
    "mylist = [x for x in 'Natan']"
   ]
  },
  {
   "cell_type": "code",
   "execution_count": 10,
   "id": "cb2222a7",
   "metadata": {},
   "outputs": [
    {
     "data": {
      "text/plain": [
       "['N', 'a', 't', 'a', 'n']"
      ]
     },
     "execution_count": 10,
     "metadata": {},
     "output_type": "execute_result"
    }
   ],
   "source": [
    "mylist"
   ]
  },
  {
   "cell_type": "markdown",
   "id": "d55aa03f",
   "metadata": {},
   "source": [
    "### With Numbers"
   ]
  },
  {
   "cell_type": "code",
   "execution_count": 11,
   "id": "29a16ddf",
   "metadata": {},
   "outputs": [],
   "source": [
    "mylist = [num for num in range(0,11)]"
   ]
  },
  {
   "cell_type": "code",
   "execution_count": 12,
   "id": "13bcf6c3",
   "metadata": {},
   "outputs": [
    {
     "data": {
      "text/plain": [
       "[0, 1, 2, 3, 4, 5, 6, 7, 8, 9, 10]"
      ]
     },
     "execution_count": 12,
     "metadata": {},
     "output_type": "execute_result"
    }
   ],
   "source": [
    "mylist"
   ]
  },
  {
   "cell_type": "markdown",
   "id": "ee448db0",
   "metadata": {},
   "source": [
    "Grabbing the square version of these numbers:"
   ]
  },
  {
   "cell_type": "code",
   "execution_count": 13,
   "id": "9a7f1f51",
   "metadata": {},
   "outputs": [],
   "source": [
    "mylist = [num**2 for num in range(0,11)]"
   ]
  },
  {
   "cell_type": "code",
   "execution_count": 14,
   "id": "9f182920",
   "metadata": {},
   "outputs": [
    {
     "data": {
      "text/plain": [
       "[0, 1, 4, 9, 16, 25, 36, 49, 64, 81, 100]"
      ]
     },
     "execution_count": 14,
     "metadata": {},
     "output_type": "execute_result"
    }
   ],
   "source": [
    "mylist"
   ]
  },
  {
   "cell_type": "markdown",
   "id": "c825cddb",
   "metadata": {},
   "source": [
    "### With if Statement"
   ]
  },
  {
   "cell_type": "markdown",
   "id": "bda015db",
   "metadata": {},
   "source": [
    "Grabbing the even numbers:"
   ]
  },
  {
   "cell_type": "code",
   "execution_count": 15,
   "id": "fbdeaefa",
   "metadata": {},
   "outputs": [],
   "source": [
    "mylist = [x for x in range(0,11) if x%2==0]"
   ]
  },
  {
   "cell_type": "code",
   "execution_count": 16,
   "id": "3ce80b99",
   "metadata": {},
   "outputs": [
    {
     "data": {
      "text/plain": [
       "[0, 2, 4, 6, 8, 10]"
      ]
     },
     "execution_count": 16,
     "metadata": {},
     "output_type": "execute_result"
    }
   ],
   "source": [
    "mylist"
   ]
  },
  {
   "cell_type": "markdown",
   "id": "33e6316a",
   "metadata": {},
   "source": [
    "Getting the square of the even numbers:"
   ]
  },
  {
   "cell_type": "code",
   "execution_count": 17,
   "id": "c51af442",
   "metadata": {},
   "outputs": [],
   "source": [
    "mylist = [x**2 for x in range(0,11) if x%2==0]"
   ]
  },
  {
   "cell_type": "code",
   "execution_count": 18,
   "id": "b1324511",
   "metadata": {},
   "outputs": [
    {
     "data": {
      "text/plain": [
       "[0, 4, 16, 36, 64, 100]"
      ]
     },
     "execution_count": 18,
     "metadata": {},
     "output_type": "execute_result"
    }
   ],
   "source": [
    "mylist"
   ]
  },
  {
   "cell_type": "markdown",
   "id": "2a34034b",
   "metadata": {},
   "source": [
    "#### More complex example"
   ]
  },
  {
   "cell_type": "markdown",
   "id": "403f59e6",
   "metadata": {},
   "source": [
    "List Comprehension:"
   ]
  },
  {
   "cell_type": "code",
   "execution_count": 19,
   "id": "5e026684",
   "metadata": {},
   "outputs": [],
   "source": [
    "celcius = [0,10,20,30,40,50]\n",
    "\n",
    "fahrenheit = [( (9/5)*temp + 32) for temp in celcius]"
   ]
  },
  {
   "cell_type": "code",
   "execution_count": 20,
   "id": "fccac0d1",
   "metadata": {},
   "outputs": [
    {
     "data": {
      "text/plain": [
       "[32.0, 50.0, 68.0, 86.0, 104.0, 122.0]"
      ]
     },
     "execution_count": 20,
     "metadata": {},
     "output_type": "execute_result"
    }
   ],
   "source": [
    "fahrenheit "
   ]
  },
  {
   "cell_type": "markdown",
   "id": "e6e59ae0",
   "metadata": {},
   "source": [
    "As a for Loop:"
   ]
  },
  {
   "cell_type": "code",
   "execution_count": 21,
   "id": "69e7e95a",
   "metadata": {},
   "outputs": [],
   "source": [
    "fahrenheit = []\n",
    "\n",
    "for temp in celcius:\n",
    "    fahrenheit.append(( (9/5)*temp + 32))"
   ]
  },
  {
   "cell_type": "code",
   "execution_count": 22,
   "id": "08be3d7f",
   "metadata": {},
   "outputs": [
    {
     "data": {
      "text/plain": [
       "[32.0, 50.0, 68.0, 86.0, 104.0, 122.0]"
      ]
     },
     "execution_count": 22,
     "metadata": {},
     "output_type": "execute_result"
    }
   ],
   "source": [
    "fahrenheit"
   ]
  },
  {
   "cell_type": "markdown",
   "id": "80b7cfb5",
   "metadata": {},
   "source": [
    "### if and else Statement inside a List Comprehension "
   ]
  },
  {
   "cell_type": "markdown",
   "id": "86663459",
   "metadata": {},
   "source": [
    "*ATTENTION!* Sometimes it can become unreadable or confusing"
   ]
  },
  {
   "cell_type": "code",
   "execution_count": 24,
   "id": "f37305f7",
   "metadata": {},
   "outputs": [],
   "source": [
    "results = [x if x%2==0 else 'Odd' for x in range(0,11)]"
   ]
  },
  {
   "cell_type": "code",
   "execution_count": 25,
   "id": "857afa89",
   "metadata": {},
   "outputs": [
    {
     "data": {
      "text/plain": [
       "[0, 'Odd', 2, 'Odd', 4, 'Odd', 6, 'Odd', 8, 'Odd', 10]"
      ]
     },
     "execution_count": 25,
     "metadata": {},
     "output_type": "execute_result"
    }
   ],
   "source": [
    "results"
   ]
  },
  {
   "cell_type": "markdown",
   "id": "36343954",
   "metadata": {},
   "source": [
    "### Nested Loops in a List Comprehension"
   ]
  },
  {
   "cell_type": "code",
   "execution_count": 28,
   "id": "42e11b37",
   "metadata": {},
   "outputs": [],
   "source": [
    "mylist = []\n",
    "\n",
    "for x in [2,4,6]:\n",
    "    for y in [20,40,60]:\n",
    "        mylist.append(x*y)"
   ]
  },
  {
   "cell_type": "code",
   "execution_count": 29,
   "id": "64031de0",
   "metadata": {},
   "outputs": [
    {
     "data": {
      "text/plain": [
       "[40, 80, 120, 80, 160, 240, 120, 240, 360]"
      ]
     },
     "execution_count": 29,
     "metadata": {},
     "output_type": "execute_result"
    }
   ],
   "source": [
    "mylist"
   ]
  },
  {
   "cell_type": "markdown",
   "id": "a2652d56",
   "metadata": {},
   "source": [
    "Another example:"
   ]
  },
  {
   "cell_type": "code",
   "execution_count": 32,
   "id": "f785cf55",
   "metadata": {},
   "outputs": [],
   "source": [
    "mylist = []\n",
    "\n",
    "for x in [1,2,3]:\n",
    "    for y in [1,10,100,1000]:\n",
    "        mylist.append(x*y)"
   ]
  },
  {
   "cell_type": "code",
   "execution_count": 33,
   "id": "890161bf",
   "metadata": {},
   "outputs": [
    {
     "data": {
      "text/plain": [
       "[1, 10, 100, 1000, 2, 20, 200, 2000, 3, 30, 300, 3000]"
      ]
     },
     "execution_count": 33,
     "metadata": {},
     "output_type": "execute_result"
    }
   ],
   "source": [
    "mylist"
   ]
  },
  {
   "cell_type": "markdown",
   "id": "87a180f3",
   "metadata": {},
   "source": [
    "#### Doing the same with List Comprehension"
   ]
  },
  {
   "cell_type": "markdown",
   "id": "e4fa971e",
   "metadata": {},
   "source": [
    "*ATTENTION!* It compromises the readability"
   ]
  },
  {
   "cell_type": "code",
   "execution_count": 34,
   "id": "bbab8016",
   "metadata": {},
   "outputs": [],
   "source": [
    "mylist = [x*y for x in [1,2,3] for y in [1,10,100,1000]]"
   ]
  },
  {
   "cell_type": "code",
   "execution_count": 35,
   "id": "5287c009",
   "metadata": {},
   "outputs": [
    {
     "data": {
      "text/plain": [
       "[1, 10, 100, 1000, 2, 20, 200, 2000, 3, 30, 300, 3000]"
      ]
     },
     "execution_count": 35,
     "metadata": {},
     "output_type": "execute_result"
    }
   ],
   "source": [
    "mylist"
   ]
  }
 ],
 "metadata": {
  "kernelspec": {
   "display_name": "Python 3 (ipykernel)",
   "language": "python",
   "name": "python3"
  },
  "language_info": {
   "codemirror_mode": {
    "name": "ipython",
    "version": 3
   },
   "file_extension": ".py",
   "mimetype": "text/x-python",
   "name": "python",
   "nbconvert_exporter": "python",
   "pygments_lexer": "ipython3",
   "version": "3.9.7"
  }
 },
 "nbformat": 4,
 "nbformat_minor": 5
}

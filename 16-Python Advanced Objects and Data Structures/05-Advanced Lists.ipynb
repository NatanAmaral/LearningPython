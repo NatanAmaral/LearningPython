{
 "cells": [
  {
   "cell_type": "markdown",
   "id": "a4c0dbdc",
   "metadata": {},
   "source": [
    "## Advanced Lists"
   ]
  },
  {
   "cell_type": "code",
   "execution_count": 1,
   "id": "b04beb52",
   "metadata": {},
   "outputs": [],
   "source": [
    "list1 = [1,2,3]"
   ]
  },
  {
   "cell_type": "markdown",
   "id": "208bd94f",
   "metadata": {},
   "source": [
    "### .apped()"
   ]
  },
  {
   "cell_type": "markdown",
   "id": "840ebacb",
   "metadata": {},
   "source": [
    "It appends an element to the end of a list"
   ]
  },
  {
   "cell_type": "code",
   "execution_count": 2,
   "id": "9e7be903",
   "metadata": {},
   "outputs": [
    {
     "data": {
      "text/plain": [
       "[1, 2, 3, 4]"
      ]
     },
     "execution_count": 2,
     "metadata": {},
     "output_type": "execute_result"
    }
   ],
   "source": [
    "list1.append(4)\n",
    "\n",
    "list1"
   ]
  },
  {
   "cell_type": "markdown",
   "id": "829579be",
   "metadata": {},
   "source": [
    "### .count()"
   ]
  },
  {
   "cell_type": "markdown",
   "id": "9f4c0dfd",
   "metadata": {},
   "source": [
    "It takes in an element and returns the number of times it occurs in your list"
   ]
  },
  {
   "cell_type": "code",
   "execution_count": 3,
   "id": "60373d9b",
   "metadata": {},
   "outputs": [
    {
     "data": {
      "text/plain": [
       "0"
      ]
     },
     "execution_count": 3,
     "metadata": {},
     "output_type": "execute_result"
    }
   ],
   "source": [
    "list1.count(11)"
   ]
  },
  {
   "cell_type": "code",
   "execution_count": 4,
   "id": "75310750",
   "metadata": {},
   "outputs": [
    {
     "data": {
      "text/plain": [
       "1"
      ]
     },
     "execution_count": 4,
     "metadata": {},
     "output_type": "execute_result"
    }
   ],
   "source": [
    "list1.count(3)"
   ]
  },
  {
   "cell_type": "markdown",
   "id": "44bb710e",
   "metadata": {},
   "source": [
    "### .extend()"
   ]
  },
  {
   "cell_type": "markdown",
   "id": "1f42e527",
   "metadata": {},
   "source": [
    "Attention to the difference between __.append()__ and __.extend()__"
   ]
  },
  {
   "cell_type": "markdown",
   "id": "d60f987e",
   "metadata": {},
   "source": [
    "__.append()__: appends a whole object at the end:"
   ]
  },
  {
   "cell_type": "code",
   "execution_count": 5,
   "id": "d9f38a4a",
   "metadata": {},
   "outputs": [
    {
     "name": "stdout",
     "output_type": "stream",
     "text": [
      "[1, 2, 3, [4, 5, 6]]\n"
     ]
    }
   ],
   "source": [
    "x = [1,2,3]\n",
    "\n",
    "x.append([4,5,6])\n",
    "\n",
    "print(x)"
   ]
  },
  {
   "cell_type": "markdown",
   "id": "44f7d6ba",
   "metadata": {},
   "source": [
    "__.extend()__: extends list by appending elements from the iterable:"
   ]
  },
  {
   "cell_type": "code",
   "execution_count": 6,
   "id": "8c86db24",
   "metadata": {},
   "outputs": [
    {
     "name": "stdout",
     "output_type": "stream",
     "text": [
      "[1, 2, 3, 4, 5, 6]\n"
     ]
    }
   ],
   "source": [
    "x = [1,2,3]\n",
    "\n",
    "x.extend([4,5,6])\n",
    "\n",
    "print(x)"
   ]
  },
  {
   "cell_type": "markdown",
   "id": "c581da44",
   "metadata": {},
   "source": [
    "Note how __.extend()__ appends each element from the passed-in list. That's the difference"
   ]
  },
  {
   "cell_type": "markdown",
   "id": "39ca9dc5",
   "metadata": {},
   "source": [
    "### .index()"
   ]
  },
  {
   "cell_type": "markdown",
   "id": "d794afb0",
   "metadata": {},
   "source": [
    "It will return the index of whatever element is placed as an argument"
   ]
  },
  {
   "cell_type": "code",
   "execution_count": 7,
   "id": "9bd3f91b",
   "metadata": {},
   "outputs": [
    {
     "data": {
      "text/plain": [
       "2"
      ]
     },
     "execution_count": 7,
     "metadata": {},
     "output_type": "execute_result"
    }
   ],
   "source": [
    "list1.index(3)"
   ]
  },
  {
   "cell_type": "code",
   "execution_count": 8,
   "id": "e1ef35df",
   "metadata": {},
   "outputs": [
    {
     "ename": "ValueError",
     "evalue": "11 is not in list",
     "output_type": "error",
     "traceback": [
      "\u001b[1;31m---------------------------------------------------------------------------\u001b[0m",
      "\u001b[1;31mValueError\u001b[0m                                Traceback (most recent call last)",
      "\u001b[1;32m~\\AppData\\Local\\Temp/ipykernel_26544/1770868601.py\u001b[0m in \u001b[0;36m<module>\u001b[1;34m\u001b[0m\n\u001b[1;32m----> 1\u001b[1;33m \u001b[0mlist1\u001b[0m\u001b[1;33m.\u001b[0m\u001b[0mindex\u001b[0m\u001b[1;33m(\u001b[0m\u001b[1;36m11\u001b[0m\u001b[1;33m)\u001b[0m\u001b[1;33m\u001b[0m\u001b[1;33m\u001b[0m\u001b[0m\n\u001b[0m",
      "\u001b[1;31mValueError\u001b[0m: 11 is not in list"
     ]
    }
   ],
   "source": [
    "list1.index(11)"
   ]
  },
  {
   "cell_type": "markdown",
   "id": "705a2e56",
   "metadata": {},
   "source": [
    "Note that if the element is not in the list, an error is generated "
   ]
  },
  {
   "cell_type": "markdown",
   "id": "b967305c",
   "metadata": {},
   "source": [
    "### .insert()"
   ]
  },
  {
   "cell_type": "markdown",
   "id": "b1206a69",
   "metadata": {},
   "source": [
    "This method places the object at the index supplied.\n",
    "\n",
    "It takes in two arguments: insert(index,object) "
   ]
  },
  {
   "cell_type": "code",
   "execution_count": 9,
   "id": "9ce65452",
   "metadata": {},
   "outputs": [
    {
     "data": {
      "text/plain": [
       "[1, 2, 3, 4]"
      ]
     },
     "execution_count": 9,
     "metadata": {},
     "output_type": "execute_result"
    }
   ],
   "source": [
    "list1"
   ]
  },
  {
   "cell_type": "code",
   "execution_count": 10,
   "id": "355abe75",
   "metadata": {},
   "outputs": [
    {
     "data": {
      "text/plain": [
       "[1, 2, 'INSERTED', 3, 4]"
      ]
     },
     "execution_count": 10,
     "metadata": {},
     "output_type": "execute_result"
    }
   ],
   "source": [
    "list1.insert(2,'INSERTED')\n",
    "\n",
    "list1"
   ]
  },
  {
   "cell_type": "markdown",
   "id": "228f830d",
   "metadata": {},
   "source": [
    "### .pop()"
   ]
  },
  {
   "cell_type": "markdown",
   "id": "703b1350",
   "metadata": {},
   "source": [
    "It allows us to \"pop\" off the last element of a list. However, by passing an index position you can remove and return a specific element"
   ]
  },
  {
   "cell_type": "code",
   "execution_count": 11,
   "id": "cf48795c",
   "metadata": {},
   "outputs": [],
   "source": [
    "test = list1.pop(2)"
   ]
  },
  {
   "cell_type": "code",
   "execution_count": 12,
   "id": "adcdf017",
   "metadata": {},
   "outputs": [
    {
     "data": {
      "text/plain": [
       "[1, 2, 3, 4]"
      ]
     },
     "execution_count": 12,
     "metadata": {},
     "output_type": "execute_result"
    }
   ],
   "source": [
    "list1"
   ]
  },
  {
   "cell_type": "code",
   "execution_count": 13,
   "id": "cba51a90",
   "metadata": {},
   "outputs": [
    {
     "data": {
      "text/plain": [
       "'INSERTED'"
      ]
     },
     "execution_count": 13,
     "metadata": {},
     "output_type": "execute_result"
    }
   ],
   "source": [
    "test"
   ]
  },
  {
   "cell_type": "markdown",
   "id": "7f2d1dbe",
   "metadata": {},
   "source": [
    "### .remove()"
   ]
  },
  {
   "cell_type": "markdown",
   "id": "ba8c712e",
   "metadata": {},
   "source": [
    "It removes the first occurrence of a value"
   ]
  },
  {
   "cell_type": "code",
   "execution_count": 14,
   "id": "4b5a997e",
   "metadata": {},
   "outputs": [
    {
     "data": {
      "text/plain": [
       "[1, 2, 3, 4]"
      ]
     },
     "execution_count": 14,
     "metadata": {},
     "output_type": "execute_result"
    }
   ],
   "source": [
    "list1"
   ]
  },
  {
   "cell_type": "code",
   "execution_count": 15,
   "id": "f2dc718a",
   "metadata": {},
   "outputs": [
    {
     "data": {
      "text/plain": [
       "[1, 2, 3]"
      ]
     },
     "execution_count": 15,
     "metadata": {},
     "output_type": "execute_result"
    }
   ],
   "source": [
    "list1.remove(4)\n",
    "\n",
    "list1"
   ]
  },
  {
   "cell_type": "code",
   "execution_count": 16,
   "id": "429598be",
   "metadata": {},
   "outputs": [],
   "source": [
    "list2 = [1,3,2,1]"
   ]
  },
  {
   "cell_type": "code",
   "execution_count": 17,
   "id": "60d70506",
   "metadata": {},
   "outputs": [
    {
     "data": {
      "text/plain": [
       "[3, 2, 1]"
      ]
     },
     "execution_count": 17,
     "metadata": {},
     "output_type": "execute_result"
    }
   ],
   "source": [
    "list2.remove(1)\n",
    "\n",
    "list2"
   ]
  },
  {
   "cell_type": "markdown",
   "id": "beda5bde",
   "metadata": {},
   "source": [
    "### .reverse()"
   ]
  },
  {
   "cell_type": "markdown",
   "id": "c81decb3",
   "metadata": {},
   "source": [
    "It reverses a list"
   ]
  },
  {
   "cell_type": "code",
   "execution_count": 18,
   "id": "bd4bc9bc",
   "metadata": {},
   "outputs": [
    {
     "data": {
      "text/plain": [
       "[1, 2, 3]"
      ]
     },
     "execution_count": 18,
     "metadata": {},
     "output_type": "execute_result"
    }
   ],
   "source": [
    "list2.reverse()\n",
    "\n",
    "list2"
   ]
  },
  {
   "cell_type": "markdown",
   "id": "a1f88704",
   "metadata": {},
   "source": [
    "Note this occurs in place. Meaning it affects your list permanently"
   ]
  },
  {
   "cell_type": "markdown",
   "id": "61fa7d4b",
   "metadata": {},
   "source": [
    "### .sort()"
   ]
  },
  {
   "cell_type": "markdown",
   "id": "9edabc27",
   "metadata": {},
   "source": [
    "It will sort your list in place"
   ]
  },
  {
   "cell_type": "code",
   "execution_count": 19,
   "id": "e0bbf412",
   "metadata": {},
   "outputs": [],
   "source": [
    "list3 = [5,3,2,6,1,4]"
   ]
  },
  {
   "cell_type": "code",
   "execution_count": 21,
   "id": "ff33fd3c",
   "metadata": {},
   "outputs": [
    {
     "data": {
      "text/plain": [
       "[1, 2, 3, 4, 5, 6]"
      ]
     },
     "execution_count": 21,
     "metadata": {},
     "output_type": "execute_result"
    }
   ],
   "source": [
    "list3.sort()\n",
    "\n",
    "list3"
   ]
  },
  {
   "cell_type": "markdown",
   "id": "1b11bb21",
   "metadata": {},
   "source": [
    "This method also takes an optional argument for reverse sorting and it's different than simply reversing the order of items"
   ]
  },
  {
   "cell_type": "code",
   "execution_count": 22,
   "id": "2048ac8d",
   "metadata": {},
   "outputs": [
    {
     "data": {
      "text/plain": [
       "[6, 5, 4, 3, 2, 1]"
      ]
     },
     "execution_count": 22,
     "metadata": {},
     "output_type": "execute_result"
    }
   ],
   "source": [
    "list3.sort(reverse=True)\n",
    "\n",
    "list3"
   ]
  }
 ],
 "metadata": {
  "kernelspec": {
   "display_name": "Python 3 (ipykernel)",
   "language": "python",
   "name": "python3"
  },
  "language_info": {
   "codemirror_mode": {
    "name": "ipython",
    "version": 3
   },
   "file_extension": ".py",
   "mimetype": "text/x-python",
   "name": "python",
   "nbconvert_exporter": "python",
   "pygments_lexer": "ipython3",
   "version": "3.9.7"
  }
 },
 "nbformat": 4,
 "nbformat_minor": 5
}

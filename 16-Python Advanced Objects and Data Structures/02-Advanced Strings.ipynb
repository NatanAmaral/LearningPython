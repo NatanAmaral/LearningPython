{
 "cells": [
  {
   "cell_type": "markdown",
   "id": "9825a66e",
   "metadata": {},
   "source": [
    "## Advanced Strings"
   ]
  },
  {
   "cell_type": "code",
   "execution_count": 1,
   "id": "37b07a6c",
   "metadata": {},
   "outputs": [],
   "source": [
    "s = 'hello world'"
   ]
  },
  {
   "cell_type": "markdown",
   "id": "4eb8db17",
   "metadata": {},
   "source": [
    "### Changing Case"
   ]
  },
  {
   "cell_type": "markdown",
   "id": "4d55bf8c",
   "metadata": {},
   "source": [
    "The __.capitalize()__ method will capitalize the first word of a string "
   ]
  },
  {
   "cell_type": "code",
   "execution_count": 2,
   "id": "defe7d17",
   "metadata": {},
   "outputs": [
    {
     "data": {
      "text/plain": [
       "'Hello world'"
      ]
     },
     "execution_count": 2,
     "metadata": {},
     "output_type": "execute_result"
    }
   ],
   "source": [
    "s.capitalize()"
   ]
  },
  {
   "cell_type": "markdown",
   "id": "73798144",
   "metadata": {},
   "source": [
    "The __.upper()__ method will convert all letters into uppercase  "
   ]
  },
  {
   "cell_type": "code",
   "execution_count": 3,
   "id": "e9736ccf",
   "metadata": {},
   "outputs": [
    {
     "data": {
      "text/plain": [
       "'HELLO WORLD'"
      ]
     },
     "execution_count": 3,
     "metadata": {},
     "output_type": "execute_result"
    }
   ],
   "source": [
    "s.upper()"
   ]
  },
  {
   "cell_type": "markdown",
   "id": "7f6bdff1",
   "metadata": {},
   "source": [
    "The __.lower()__ method will convert all letters into lowercase  "
   ]
  },
  {
   "cell_type": "code",
   "execution_count": 4,
   "id": "6fc93978",
   "metadata": {},
   "outputs": [
    {
     "data": {
      "text/plain": [
       "'hello world'"
      ]
     },
     "execution_count": 4,
     "metadata": {},
     "output_type": "execute_result"
    }
   ],
   "source": [
    "s.lower()"
   ]
  },
  {
   "cell_type": "markdown",
   "id": "dbb189cf",
   "metadata": {},
   "source": [
    "### Location and Counting"
   ]
  },
  {
   "cell_type": "markdown",
   "id": "8470c707",
   "metadata": {},
   "source": [
    "The __.count()__ method returns the number of occurrences, without overlap"
   ]
  },
  {
   "cell_type": "code",
   "execution_count": 5,
   "id": "c78584d4",
   "metadata": {},
   "outputs": [
    {
     "data": {
      "text/plain": [
       "2"
      ]
     },
     "execution_count": 5,
     "metadata": {},
     "output_type": "execute_result"
    }
   ],
   "source": [
    "s.count('o')"
   ]
  },
  {
   "cell_type": "markdown",
   "id": "238b7b0a",
   "metadata": {},
   "source": [
    "The __.find()__ method returns the starting index position of the first occurence"
   ]
  },
  {
   "cell_type": "code",
   "execution_count": 6,
   "id": "5a9be8eb",
   "metadata": {},
   "outputs": [
    {
     "data": {
      "text/plain": [
       "4"
      ]
     },
     "execution_count": 6,
     "metadata": {},
     "output_type": "execute_result"
    }
   ],
   "source": [
    "s.find('o')"
   ]
  },
  {
   "cell_type": "markdown",
   "id": "197d02c3",
   "metadata": {},
   "source": [
    "### Formatting"
   ]
  },
  {
   "cell_type": "markdown",
   "id": "30986fba",
   "metadata": {},
   "source": [
    "The __.center()__ method allows you to place your string 'centered' between a provided string with a certain length"
   ]
  },
  {
   "cell_type": "code",
   "execution_count": 7,
   "id": "7f124433",
   "metadata": {},
   "outputs": [
    {
     "data": {
      "text/plain": [
       "'----hello world-----'"
      ]
     },
     "execution_count": 7,
     "metadata": {},
     "output_type": "execute_result"
    }
   ],
   "source": [
    "s.center(20,'-')"
   ]
  },
  {
   "cell_type": "markdown",
   "id": "2303bcfe",
   "metadata": {},
   "source": [
    "The __.expandtabs()__ method will expand tab notations \\t into spaces"
   ]
  },
  {
   "cell_type": "code",
   "execution_count": 8,
   "id": "be714a01",
   "metadata": {},
   "outputs": [
    {
     "name": "stdout",
     "output_type": "stream",
     "text": [
      "hello\thi\n"
     ]
    }
   ],
   "source": [
    "print('hello\\thi')"
   ]
  },
  {
   "cell_type": "code",
   "execution_count": 9,
   "id": "39df6366",
   "metadata": {},
   "outputs": [
    {
     "data": {
      "text/plain": [
       "'hello   hi'"
      ]
     },
     "execution_count": 9,
     "metadata": {},
     "output_type": "execute_result"
    }
   ],
   "source": [
    "'hello\\thi'.expandtabs()"
   ]
  },
  {
   "cell_type": "markdown",
   "id": "8c58672a",
   "metadata": {},
   "source": [
    "### is check Methods "
   ]
  },
  {
   "cell_type": "code",
   "execution_count": 10,
   "id": "18e7617f",
   "metadata": {},
   "outputs": [],
   "source": [
    "s = 'hello'"
   ]
  },
  {
   "cell_type": "markdown",
   "id": "7df8eee2",
   "metadata": {},
   "source": [
    "The __.isalnum()__ method will return True if all characters in __s__ are alphanumeric"
   ]
  },
  {
   "cell_type": "code",
   "execution_count": 11,
   "id": "f4ab6290",
   "metadata": {},
   "outputs": [
    {
     "data": {
      "text/plain": [
       "True"
      ]
     },
     "execution_count": 11,
     "metadata": {},
     "output_type": "execute_result"
    }
   ],
   "source": [
    "s.isalnum()"
   ]
  },
  {
   "cell_type": "markdown",
   "id": "f1640c96",
   "metadata": {},
   "source": [
    "The __.isalpha()__ method will return True if all characters in __s__ are alphabetic"
   ]
  },
  {
   "cell_type": "code",
   "execution_count": 12,
   "id": "81a8cbf6",
   "metadata": {},
   "outputs": [
    {
     "data": {
      "text/plain": [
       "True"
      ]
     },
     "execution_count": 12,
     "metadata": {},
     "output_type": "execute_result"
    }
   ],
   "source": [
    "s.isalpha()"
   ]
  },
  {
   "cell_type": "markdown",
   "id": "8ac6bae1",
   "metadata": {},
   "source": [
    "The __.islower()__ method will return True if all cased characters in __s__ are lowercase and there is at least one cased character in __s__, False otherwise"
   ]
  },
  {
   "cell_type": "code",
   "execution_count": 13,
   "id": "b299fa3e",
   "metadata": {},
   "outputs": [
    {
     "data": {
      "text/plain": [
       "True"
      ]
     },
     "execution_count": 13,
     "metadata": {},
     "output_type": "execute_result"
    }
   ],
   "source": [
    "s.islower()"
   ]
  },
  {
   "cell_type": "markdown",
   "id": "f0863287",
   "metadata": {},
   "source": [
    "The __.isspace()__ method will return True if all characters in __s__ are whitespace"
   ]
  },
  {
   "cell_type": "code",
   "execution_count": 14,
   "id": "f6add27c",
   "metadata": {},
   "outputs": [
    {
     "data": {
      "text/plain": [
       "False"
      ]
     },
     "execution_count": 14,
     "metadata": {},
     "output_type": "execute_result"
    }
   ],
   "source": [
    "s.isspace()"
   ]
  },
  {
   "cell_type": "markdown",
   "id": "8bbba0c1",
   "metadata": {},
   "source": [
    "The __.istitle()__ method will return True if __s__ is a title cased string and there is at least one character in __s__, i.e. uppercase characters may only follow uncased characters and lowercase characters only cased ones. It returns False otherwise"
   ]
  },
  {
   "cell_type": "code",
   "execution_count": 15,
   "id": "2ecc51bd",
   "metadata": {},
   "outputs": [
    {
     "data": {
      "text/plain": [
       "False"
      ]
     },
     "execution_count": 15,
     "metadata": {},
     "output_type": "execute_result"
    }
   ],
   "source": [
    "s.istitle()"
   ]
  },
  {
   "cell_type": "markdown",
   "id": "cf9ec8e9",
   "metadata": {},
   "source": [
    "The __.isupper()__ method will return True if all cased characters in __s__ are uppercase and there is at least one cased character in __s__, False otherwise"
   ]
  },
  {
   "cell_type": "code",
   "execution_count": 16,
   "id": "17653a9a",
   "metadata": {},
   "outputs": [
    {
     "data": {
      "text/plain": [
       "False"
      ]
     },
     "execution_count": 16,
     "metadata": {},
     "output_type": "execute_result"
    }
   ],
   "source": [
    "s.isupper()"
   ]
  },
  {
   "cell_type": "markdown",
   "id": "33e107b4",
   "metadata": {},
   "source": [
    "The __.endswith()__ method is essentially the same as a boolean check on s[-1]"
   ]
  },
  {
   "cell_type": "code",
   "execution_count": 18,
   "id": "c4d10658",
   "metadata": {},
   "outputs": [
    {
     "data": {
      "text/plain": [
       "True"
      ]
     },
     "execution_count": 18,
     "metadata": {},
     "output_type": "execute_result"
    }
   ],
   "source": [
    "s[-1] == 'o'"
   ]
  },
  {
   "cell_type": "code",
   "execution_count": 17,
   "id": "786f07a2",
   "metadata": {},
   "outputs": [
    {
     "data": {
      "text/plain": [
       "True"
      ]
     },
     "execution_count": 17,
     "metadata": {},
     "output_type": "execute_result"
    }
   ],
   "source": [
    "s.endswith('o')"
   ]
  },
  {
   "cell_type": "markdown",
   "id": "5cbf466c",
   "metadata": {},
   "source": [
    "### Built-in Regular Expressions"
   ]
  },
  {
   "cell_type": "markdown",
   "id": "ec77f44a",
   "metadata": {},
   "source": [
    "We can use __.split()__ to split the string at a certain element and return a list of the results"
   ]
  },
  {
   "cell_type": "code",
   "execution_count": 19,
   "id": "9f086a2b",
   "metadata": {},
   "outputs": [
    {
     "data": {
      "text/plain": [
       "['h', 'llo']"
      ]
     },
     "execution_count": 19,
     "metadata": {},
     "output_type": "execute_result"
    }
   ],
   "source": [
    "s.split('e')"
   ]
  },
  {
   "cell_type": "markdown",
   "id": "51a4af6c",
   "metadata": {},
   "source": [
    "It splits __every instance__ of the letter"
   ]
  },
  {
   "cell_type": "code",
   "execution_count": 21,
   "id": "75dce9a0",
   "metadata": {},
   "outputs": [],
   "source": [
    "laugh = 'hahahahahahahahahaha'"
   ]
  },
  {
   "cell_type": "code",
   "execution_count": 22,
   "id": "5983efb5",
   "metadata": {},
   "outputs": [
    {
     "data": {
      "text/plain": [
       "['', 'a', 'a', 'a', 'a', 'a', 'a', 'a', 'a', 'a', 'a']"
      ]
     },
     "execution_count": 22,
     "metadata": {},
     "output_type": "execute_result"
    }
   ],
   "source": [
    "laugh.split('h')"
   ]
  },
  {
   "cell_type": "markdown",
   "id": "c02cc5f9",
   "metadata": {},
   "source": [
    "We can use __.partition()__ to return a tuple that includes the first occurrence of the separator sandwiched between the first half and the end half"
   ]
  },
  {
   "cell_type": "code",
   "execution_count": 20,
   "id": "3a434621",
   "metadata": {},
   "outputs": [
    {
     "data": {
      "text/plain": [
       "('he', 'l', 'lo')"
      ]
     },
     "execution_count": 20,
     "metadata": {},
     "output_type": "execute_result"
    }
   ],
   "source": [
    "s.partition('l')"
   ]
  },
  {
   "cell_type": "markdown",
   "id": "d08edddd",
   "metadata": {},
   "source": [
    "It acts only in the __first instance__"
   ]
  },
  {
   "cell_type": "code",
   "execution_count": 23,
   "id": "7bfded7a",
   "metadata": {},
   "outputs": [
    {
     "data": {
      "text/plain": [
       "('h', 'a', 'hahahahahahahahaha')"
      ]
     },
     "execution_count": 23,
     "metadata": {},
     "output_type": "execute_result"
    }
   ],
   "source": [
    "laugh.partition('a')"
   ]
  }
 ],
 "metadata": {
  "kernelspec": {
   "display_name": "Python 3 (ipykernel)",
   "language": "python",
   "name": "python3"
  },
  "language_info": {
   "codemirror_mode": {
    "name": "ipython",
    "version": 3
   },
   "file_extension": ".py",
   "mimetype": "text/x-python",
   "name": "python",
   "nbconvert_exporter": "python",
   "pygments_lexer": "ipython3",
   "version": "3.9.7"
  }
 },
 "nbformat": 4,
 "nbformat_minor": 5
}

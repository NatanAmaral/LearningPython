{
 "cells": [
  {
   "cell_type": "markdown",
   "id": "c6b075f6",
   "metadata": {},
   "source": [
    "## Advanced Sets"
   ]
  },
  {
   "cell_type": "code",
   "execution_count": 1,
   "id": "70733a75",
   "metadata": {},
   "outputs": [],
   "source": [
    "s = set()"
   ]
  },
  {
   "cell_type": "markdown",
   "id": "9bba3b42",
   "metadata": {},
   "source": [
    "### .add() "
   ]
  },
  {
   "cell_type": "markdown",
   "id": "a3980770",
   "metadata": {},
   "source": [
    "It adds elements to a set"
   ]
  },
  {
   "cell_type": "code",
   "execution_count": 2,
   "id": "a4d8b942",
   "metadata": {},
   "outputs": [],
   "source": [
    "s.add(1)"
   ]
  },
  {
   "cell_type": "code",
   "execution_count": 3,
   "id": "eba6747b",
   "metadata": {},
   "outputs": [],
   "source": [
    "s.add(2)"
   ]
  },
  {
   "cell_type": "code",
   "execution_count": 4,
   "id": "7fa13f0e",
   "metadata": {},
   "outputs": [],
   "source": [
    "s.add(3)"
   ]
  },
  {
   "cell_type": "code",
   "execution_count": 5,
   "id": "5bdc15ab",
   "metadata": {},
   "outputs": [
    {
     "data": {
      "text/plain": [
       "{1, 2, 3}"
      ]
     },
     "execution_count": 5,
     "metadata": {},
     "output_type": "execute_result"
    }
   ],
   "source": [
    "s"
   ]
  },
  {
   "cell_type": "markdown",
   "id": "7e9f0a6b",
   "metadata": {},
   "source": [
    "### .clear()"
   ]
  },
  {
   "cell_type": "markdown",
   "id": "a34c1ca6",
   "metadata": {},
   "source": [
    "It removes all elements from the set"
   ]
  },
  {
   "cell_type": "code",
   "execution_count": 6,
   "id": "ae27c150",
   "metadata": {},
   "outputs": [],
   "source": [
    "s.clear()"
   ]
  },
  {
   "cell_type": "code",
   "execution_count": 7,
   "id": "f0680022",
   "metadata": {},
   "outputs": [
    {
     "data": {
      "text/plain": [
       "set()"
      ]
     },
     "execution_count": 7,
     "metadata": {},
     "output_type": "execute_result"
    }
   ],
   "source": [
    "s"
   ]
  },
  {
   "cell_type": "markdown",
   "id": "1785ae18",
   "metadata": {},
   "source": [
    "### .copy()"
   ]
  },
  {
   "cell_type": "markdown",
   "id": "60be2d11",
   "metadata": {},
   "source": [
    "It returns a copy of the set"
   ]
  },
  {
   "cell_type": "code",
   "execution_count": 8,
   "id": "838a8aed",
   "metadata": {},
   "outputs": [],
   "source": [
    "s = {1,2,3}\n",
    "sc = s.copy()"
   ]
  },
  {
   "cell_type": "code",
   "execution_count": 9,
   "id": "3f0fc3a6",
   "metadata": {},
   "outputs": [
    {
     "data": {
      "text/plain": [
       "{1, 2, 3}"
      ]
     },
     "execution_count": 9,
     "metadata": {},
     "output_type": "execute_result"
    }
   ],
   "source": [
    "sc"
   ]
  },
  {
   "cell_type": "code",
   "execution_count": 10,
   "id": "1ebb698b",
   "metadata": {},
   "outputs": [
    {
     "data": {
      "text/plain": [
       "{1, 2, 3}"
      ]
     },
     "execution_count": 10,
     "metadata": {},
     "output_type": "execute_result"
    }
   ],
   "source": [
    "s"
   ]
  },
  {
   "cell_type": "code",
   "execution_count": 11,
   "id": "4cf75a87",
   "metadata": {},
   "outputs": [],
   "source": [
    "s.add(4)"
   ]
  },
  {
   "cell_type": "code",
   "execution_count": 12,
   "id": "640e1359",
   "metadata": {},
   "outputs": [
    {
     "data": {
      "text/plain": [
       "{1, 2, 3, 4}"
      ]
     },
     "execution_count": 12,
     "metadata": {},
     "output_type": "execute_result"
    }
   ],
   "source": [
    "s"
   ]
  },
  {
   "cell_type": "code",
   "execution_count": 13,
   "id": "c814fe35",
   "metadata": {},
   "outputs": [
    {
     "data": {
      "text/plain": [
       "{1, 2, 3}"
      ]
     },
     "execution_count": 13,
     "metadata": {},
     "output_type": "execute_result"
    }
   ],
   "source": [
    "sc"
   ]
  },
  {
   "cell_type": "markdown",
   "id": "8c7d7355",
   "metadata": {},
   "source": [
    "### .difference()"
   ]
  },
  {
   "cell_type": "markdown",
   "id": "a8368ae8",
   "metadata": {},
   "source": [
    "It returns the difference between two or more sets "
   ]
  },
  {
   "cell_type": "code",
   "execution_count": 16,
   "id": "61e4ac41",
   "metadata": {},
   "outputs": [
    {
     "data": {
      "text/plain": [
       "{4}"
      ]
     },
     "execution_count": 16,
     "metadata": {},
     "output_type": "execute_result"
    }
   ],
   "source": [
    "s.difference(sc)"
   ]
  },
  {
   "cell_type": "markdown",
   "id": "f0105b66",
   "metadata": {},
   "source": [
    "### .difference_update()"
   ]
  },
  {
   "cell_type": "markdown",
   "id": "35993f9f",
   "metadata": {},
   "source": [
    "It returns set1 after removing elements found in set2"
   ]
  },
  {
   "cell_type": "code",
   "execution_count": 14,
   "id": "a0696287",
   "metadata": {},
   "outputs": [],
   "source": [
    "s1 = {11,20,19}"
   ]
  },
  {
   "cell_type": "code",
   "execution_count": 15,
   "id": "2313eeef",
   "metadata": {},
   "outputs": [],
   "source": [
    "s2 = {30,20,22}"
   ]
  },
  {
   "cell_type": "code",
   "execution_count": 17,
   "id": "432889a0",
   "metadata": {},
   "outputs": [
    {
     "data": {
      "text/plain": [
       "{11, 19}"
      ]
     },
     "execution_count": 17,
     "metadata": {},
     "output_type": "execute_result"
    }
   ],
   "source": [
    "s1.difference(s2)"
   ]
  },
  {
   "cell_type": "markdown",
   "id": "de48d074",
   "metadata": {},
   "source": [
    "### .discard()"
   ]
  },
  {
   "cell_type": "markdown",
   "id": "31a77cbd",
   "metadata": {},
   "source": [
    "It removes an element from a set if it is a member. If the element is not a member, do nothing "
   ]
  },
  {
   "cell_type": "code",
   "execution_count": 18,
   "id": "74e34621",
   "metadata": {},
   "outputs": [
    {
     "data": {
      "text/plain": [
       "{1, 2, 3, 4}"
      ]
     },
     "execution_count": 18,
     "metadata": {},
     "output_type": "execute_result"
    }
   ],
   "source": [
    "s"
   ]
  },
  {
   "cell_type": "code",
   "execution_count": 19,
   "id": "37396973",
   "metadata": {},
   "outputs": [],
   "source": [
    "s.discard(3)"
   ]
  },
  {
   "cell_type": "code",
   "execution_count": 20,
   "id": "e4a222aa",
   "metadata": {},
   "outputs": [
    {
     "data": {
      "text/plain": [
       "{1, 2, 4}"
      ]
     },
     "execution_count": 20,
     "metadata": {},
     "output_type": "execute_result"
    }
   ],
   "source": [
    "s"
   ]
  },
  {
   "cell_type": "markdown",
   "id": "5b3dc52f",
   "metadata": {},
   "source": [
    "### .intersection()"
   ]
  },
  {
   "cell_type": "markdown",
   "id": "7be22cf6",
   "metadata": {},
   "source": [
    "It returns the intersection of two or more sets as a new set"
   ]
  },
  {
   "cell_type": "code",
   "execution_count": 21,
   "id": "882cf72a",
   "metadata": {},
   "outputs": [],
   "source": [
    "s1 = {1,2,3}"
   ]
  },
  {
   "cell_type": "code",
   "execution_count": 22,
   "id": "2430c2a4",
   "metadata": {},
   "outputs": [],
   "source": [
    "s2 = {1,2,4}"
   ]
  },
  {
   "cell_type": "code",
   "execution_count": 23,
   "id": "63803003",
   "metadata": {},
   "outputs": [
    {
     "data": {
      "text/plain": [
       "{1, 2}"
      ]
     },
     "execution_count": 23,
     "metadata": {},
     "output_type": "execute_result"
    }
   ],
   "source": [
    "s1.intersection(s2)"
   ]
  },
  {
   "cell_type": "markdown",
   "id": "120e18b3",
   "metadata": {},
   "source": [
    "### .intersection_update()"
   ]
  },
  {
   "cell_type": "markdown",
   "id": "3c8b9629",
   "metadata": {},
   "source": [
    "It will update a set with the intersection of itself and another"
   ]
  },
  {
   "cell_type": "code",
   "execution_count": 24,
   "id": "e7a45cff",
   "metadata": {},
   "outputs": [],
   "source": [
    "s1.intersection_update(s2)"
   ]
  },
  {
   "cell_type": "code",
   "execution_count": 25,
   "id": "52b394fc",
   "metadata": {},
   "outputs": [
    {
     "data": {
      "text/plain": [
       "{1, 2}"
      ]
     },
     "execution_count": 25,
     "metadata": {},
     "output_type": "execute_result"
    }
   ],
   "source": [
    "s1"
   ]
  },
  {
   "cell_type": "markdown",
   "id": "1a6d3afe",
   "metadata": {},
   "source": [
    "### .isdisjoint()"
   ]
  },
  {
   "cell_type": "markdown",
   "id": "132f2d08",
   "metadata": {},
   "source": [
    "It will return True if two sets have a null intersection "
   ]
  },
  {
   "cell_type": "code",
   "execution_count": 26,
   "id": "62b83689",
   "metadata": {},
   "outputs": [],
   "source": [
    "s1 = {1,2}\n",
    "s2 = {1,2,4}\n",
    "s3 = {5}"
   ]
  },
  {
   "cell_type": "code",
   "execution_count": 27,
   "id": "0acd5e57",
   "metadata": {},
   "outputs": [
    {
     "data": {
      "text/plain": [
       "False"
      ]
     },
     "execution_count": 27,
     "metadata": {},
     "output_type": "execute_result"
    }
   ],
   "source": [
    "s1.isdisjoint(s2)"
   ]
  },
  {
   "cell_type": "code",
   "execution_count": 28,
   "id": "44bfedd8",
   "metadata": {},
   "outputs": [
    {
     "data": {
      "text/plain": [
       "True"
      ]
     },
     "execution_count": 28,
     "metadata": {},
     "output_type": "execute_result"
    }
   ],
   "source": [
    "s1.isdisjoint(s3)"
   ]
  },
  {
   "cell_type": "markdown",
   "id": "be155ae5",
   "metadata": {},
   "source": [
    "### .issubset()"
   ]
  },
  {
   "cell_type": "markdown",
   "id": "e6113070",
   "metadata": {},
   "source": [
    "It reports whether another set contains this set"
   ]
  },
  {
   "cell_type": "code",
   "execution_count": 29,
   "id": "238eb361",
   "metadata": {},
   "outputs": [
    {
     "data": {
      "text/plain": [
       "{1, 2}"
      ]
     },
     "execution_count": 29,
     "metadata": {},
     "output_type": "execute_result"
    }
   ],
   "source": [
    "s1"
   ]
  },
  {
   "cell_type": "code",
   "execution_count": 30,
   "id": "ff294254",
   "metadata": {},
   "outputs": [
    {
     "data": {
      "text/plain": [
       "{1, 2, 4}"
      ]
     },
     "execution_count": 30,
     "metadata": {},
     "output_type": "execute_result"
    }
   ],
   "source": [
    "s2"
   ]
  },
  {
   "cell_type": "code",
   "execution_count": 31,
   "id": "7fae86de",
   "metadata": {},
   "outputs": [
    {
     "data": {
      "text/plain": [
       "True"
      ]
     },
     "execution_count": 31,
     "metadata": {},
     "output_type": "execute_result"
    }
   ],
   "source": [
    "s1.issubset(s2)"
   ]
  },
  {
   "cell_type": "markdown",
   "id": "93b58ced",
   "metadata": {},
   "source": [
    "### .issuperset()"
   ]
  },
  {
   "cell_type": "markdown",
   "id": "cd75e184",
   "metadata": {},
   "source": [
    "It will report whether this set contains another set"
   ]
  },
  {
   "cell_type": "code",
   "execution_count": 32,
   "id": "248a0919",
   "metadata": {},
   "outputs": [
    {
     "data": {
      "text/plain": [
       "True"
      ]
     },
     "execution_count": 32,
     "metadata": {},
     "output_type": "execute_result"
    }
   ],
   "source": [
    "s2.issuperset(s2)"
   ]
  },
  {
   "cell_type": "code",
   "execution_count": 33,
   "id": "c865d674",
   "metadata": {},
   "outputs": [
    {
     "data": {
      "text/plain": [
       "False"
      ]
     },
     "execution_count": 33,
     "metadata": {},
     "output_type": "execute_result"
    }
   ],
   "source": [
    "s1.issuperset(s2)"
   ]
  },
  {
   "cell_type": "markdown",
   "id": "87793c1e",
   "metadata": {},
   "source": [
    "### .symmetric_difference()"
   ]
  },
  {
   "cell_type": "markdown",
   "id": "103a1c2a",
   "metadata": {},
   "source": [
    "It returns the symmetric difference of two sets as a new set"
   ]
  },
  {
   "cell_type": "code",
   "execution_count": 34,
   "id": "9ed050f1",
   "metadata": {},
   "outputs": [
    {
     "data": {
      "text/plain": [
       "{1, 2}"
      ]
     },
     "execution_count": 34,
     "metadata": {},
     "output_type": "execute_result"
    }
   ],
   "source": [
    "s1"
   ]
  },
  {
   "cell_type": "code",
   "execution_count": 35,
   "id": "41d784b2",
   "metadata": {},
   "outputs": [
    {
     "data": {
      "text/plain": [
       "{1, 2, 4}"
      ]
     },
     "execution_count": 35,
     "metadata": {},
     "output_type": "execute_result"
    }
   ],
   "source": [
    "s2"
   ]
  },
  {
   "cell_type": "code",
   "execution_count": 36,
   "id": "98573d3c",
   "metadata": {},
   "outputs": [
    {
     "data": {
      "text/plain": [
       "{4}"
      ]
     },
     "execution_count": 36,
     "metadata": {},
     "output_type": "execute_result"
    }
   ],
   "source": [
    "s1.symmetric_difference(s2)"
   ]
  },
  {
   "cell_type": "markdown",
   "id": "384bac15",
   "metadata": {},
   "source": [
    "### .union()"
   ]
  },
  {
   "cell_type": "markdown",
   "id": "8774f37b",
   "metadata": {},
   "source": [
    "It returns the union of two sets "
   ]
  },
  {
   "cell_type": "code",
   "execution_count": 37,
   "id": "8a0eceae",
   "metadata": {},
   "outputs": [
    {
     "data": {
      "text/plain": [
       "{1, 2, 4}"
      ]
     },
     "execution_count": 37,
     "metadata": {},
     "output_type": "execute_result"
    }
   ],
   "source": [
    "s1.union(s2)"
   ]
  },
  {
   "cell_type": "markdown",
   "id": "de09b3b3",
   "metadata": {},
   "source": [
    "### .update()"
   ]
  },
  {
   "cell_type": "markdown",
   "id": "67c3b6ac",
   "metadata": {},
   "source": [
    "It updates a set with the union of itself and others "
   ]
  },
  {
   "cell_type": "code",
   "execution_count": 38,
   "id": "09743ea6",
   "metadata": {},
   "outputs": [],
   "source": [
    "s1.update(s2)"
   ]
  },
  {
   "cell_type": "code",
   "execution_count": 39,
   "id": "642446f6",
   "metadata": {},
   "outputs": [
    {
     "data": {
      "text/plain": [
       "{1, 2, 4}"
      ]
     },
     "execution_count": 39,
     "metadata": {},
     "output_type": "execute_result"
    }
   ],
   "source": [
    "s1"
   ]
  }
 ],
 "metadata": {
  "kernelspec": {
   "display_name": "Python 3 (ipykernel)",
   "language": "python",
   "name": "python3"
  },
  "language_info": {
   "codemirror_mode": {
    "name": "ipython",
    "version": 3
   },
   "file_extension": ".py",
   "mimetype": "text/x-python",
   "name": "python",
   "nbconvert_exporter": "python",
   "pygments_lexer": "ipython3",
   "version": "3.9.7"
  }
 },
 "nbformat": 4,
 "nbformat_minor": 5
}

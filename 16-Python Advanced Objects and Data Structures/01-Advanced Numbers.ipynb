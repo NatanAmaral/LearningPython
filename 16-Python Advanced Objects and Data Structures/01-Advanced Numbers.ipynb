{
 "cells": [
  {
   "cell_type": "markdown",
   "id": "17b53b7e",
   "metadata": {},
   "source": [
    "## Advanced Numbers"
   ]
  },
  {
   "cell_type": "markdown",
   "id": "b85bc405",
   "metadata": {},
   "source": [
    "### Hexadecimal "
   ]
  },
  {
   "cell_type": "markdown",
   "id": "d82b33f1",
   "metadata": {},
   "source": [
    "Using __hex()__ to convert numbers into hexadecimal format"
   ]
  },
  {
   "cell_type": "code",
   "execution_count": 1,
   "id": "3b7b75e1",
   "metadata": {},
   "outputs": [
    {
     "data": {
      "text/plain": [
       "'0xb'"
      ]
     },
     "execution_count": 1,
     "metadata": {},
     "output_type": "execute_result"
    }
   ],
   "source": [
    "hex(11)"
   ]
  },
  {
   "cell_type": "code",
   "execution_count": 2,
   "id": "561d873f",
   "metadata": {},
   "outputs": [
    {
     "data": {
      "text/plain": [
       "'0x3c1'"
      ]
     },
     "execution_count": 2,
     "metadata": {},
     "output_type": "execute_result"
    }
   ],
   "source": [
    "hex(961)"
   ]
  },
  {
   "cell_type": "code",
   "execution_count": 4,
   "id": "31030c46",
   "metadata": {},
   "outputs": [
    {
     "data": {
      "text/plain": [
       "'0x200'"
      ]
     },
     "execution_count": 4,
     "metadata": {},
     "output_type": "execute_result"
    }
   ],
   "source": [
    "hex(512)"
   ]
  },
  {
   "cell_type": "markdown",
   "id": "bd9bdfb3",
   "metadata": {},
   "source": [
    "### Binary "
   ]
  },
  {
   "cell_type": "markdown",
   "id": "f9f9d74f",
   "metadata": {},
   "source": [
    "Using __bin()__ to convert numbers into binary format"
   ]
  },
  {
   "cell_type": "code",
   "execution_count": 5,
   "id": "4e50fc3a",
   "metadata": {},
   "outputs": [
    {
     "data": {
      "text/plain": [
       "'0b1011'"
      ]
     },
     "execution_count": 5,
     "metadata": {},
     "output_type": "execute_result"
    }
   ],
   "source": [
    "bin(11)"
   ]
  },
  {
   "cell_type": "code",
   "execution_count": 6,
   "id": "031193b9",
   "metadata": {},
   "outputs": [
    {
     "data": {
      "text/plain": [
       "'0b10000000'"
      ]
     },
     "execution_count": 6,
     "metadata": {},
     "output_type": "execute_result"
    }
   ],
   "source": [
    "bin(128)"
   ]
  },
  {
   "cell_type": "code",
   "execution_count": 7,
   "id": "f7085cca",
   "metadata": {},
   "outputs": [
    {
     "data": {
      "text/plain": [
       "'0b1000000000'"
      ]
     },
     "execution_count": 7,
     "metadata": {},
     "output_type": "execute_result"
    }
   ],
   "source": [
    "bin(512)"
   ]
  },
  {
   "cell_type": "markdown",
   "id": "78fea2b2",
   "metadata": {},
   "source": [
    "### Exponentials"
   ]
  },
  {
   "cell_type": "markdown",
   "id": "67015606",
   "metadata": {},
   "source": [
    "The function __pow()__ takes two arguments, equivalent to x^y. With three arguments the third is treated as a mod"
   ]
  },
  {
   "cell_type": "code",
   "execution_count": 9,
   "id": "5bc9d249",
   "metadata": {},
   "outputs": [
    {
     "data": {
      "text/plain": [
       "81"
      ]
     },
     "execution_count": 9,
     "metadata": {},
     "output_type": "execute_result"
    }
   ],
   "source": [
    "pow(3,4)"
   ]
  },
  {
   "cell_type": "code",
   "execution_count": 10,
   "id": "2b4ec74a",
   "metadata": {},
   "outputs": [
    {
     "data": {
      "text/plain": [
       "64"
      ]
     },
     "execution_count": 10,
     "metadata": {},
     "output_type": "execute_result"
    }
   ],
   "source": [
    "pow(2,6)"
   ]
  },
  {
   "cell_type": "code",
   "execution_count": 11,
   "id": "0473fb6c",
   "metadata": {},
   "outputs": [
    {
     "data": {
      "text/plain": [
       "1"
      ]
     },
     "execution_count": 11,
     "metadata": {},
     "output_type": "execute_result"
    }
   ],
   "source": [
    "pow(2,4,3)"
   ]
  },
  {
   "cell_type": "markdown",
   "id": "960b27bf",
   "metadata": {},
   "source": [
    "### Absolute Value "
   ]
  },
  {
   "cell_type": "markdown",
   "id": "90a9b1e7",
   "metadata": {},
   "source": [
    "The function __abs()__ returns the absolute value of a number"
   ]
  },
  {
   "cell_type": "code",
   "execution_count": 12,
   "id": "9f3ee5f3",
   "metadata": {},
   "outputs": [
    {
     "data": {
      "text/plain": [
       "11"
      ]
     },
     "execution_count": 12,
     "metadata": {},
     "output_type": "execute_result"
    }
   ],
   "source": [
    "abs(-11)"
   ]
  },
  {
   "cell_type": "code",
   "execution_count": 13,
   "id": "307431d0",
   "metadata": {},
   "outputs": [
    {
     "data": {
      "text/plain": [
       "3.14"
      ]
     },
     "execution_count": 13,
     "metadata": {},
     "output_type": "execute_result"
    }
   ],
   "source": [
    "abs(-3.14)"
   ]
  },
  {
   "cell_type": "markdown",
   "id": "bfd471e5",
   "metadata": {},
   "source": [
    "### Round"
   ]
  },
  {
   "cell_type": "markdown",
   "id": "6e362fcc",
   "metadata": {},
   "source": [
    "The function __round()__ will round a number to a given precision in decimal digits (default 0 digits). It doesn't convert integers into floats "
   ]
  },
  {
   "cell_type": "code",
   "execution_count": 14,
   "id": "78f7fd23",
   "metadata": {},
   "outputs": [
    {
     "data": {
      "text/plain": [
       "11"
      ]
     },
     "execution_count": 14,
     "metadata": {},
     "output_type": "execute_result"
    }
   ],
   "source": [
    "round(11.02)"
   ]
  },
  {
   "cell_type": "code",
   "execution_count": 15,
   "id": "eb829047",
   "metadata": {},
   "outputs": [
    {
     "data": {
      "text/plain": [
       "11"
      ]
     },
     "execution_count": 15,
     "metadata": {},
     "output_type": "execute_result"
    }
   ],
   "source": [
    "round(10.9)"
   ]
  },
  {
   "cell_type": "code",
   "execution_count": 16,
   "id": "b1597285",
   "metadata": {},
   "outputs": [
    {
     "data": {
      "text/plain": [
       "3.14"
      ]
     },
     "execution_count": 16,
     "metadata": {},
     "output_type": "execute_result"
    }
   ],
   "source": [
    "round(3.1415926535,2)"
   ]
  }
 ],
 "metadata": {
  "kernelspec": {
   "display_name": "Python 3 (ipykernel)",
   "language": "python",
   "name": "python3"
  },
  "language_info": {
   "codemirror_mode": {
    "name": "ipython",
    "version": 3
   },
   "file_extension": ".py",
   "mimetype": "text/x-python",
   "name": "python",
   "nbconvert_exporter": "python",
   "pygments_lexer": "ipython3",
   "version": "3.9.7"
  }
 },
 "nbformat": 4,
 "nbformat_minor": 5
}

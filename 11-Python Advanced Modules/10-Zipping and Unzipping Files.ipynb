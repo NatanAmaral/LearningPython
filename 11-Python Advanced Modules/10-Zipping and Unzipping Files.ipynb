{
 "cells": [
  {
   "cell_type": "markdown",
   "id": "4e9b1336",
   "metadata": {},
   "source": [
    "Creating a couple of text files"
   ]
  },
  {
   "cell_type": "code",
   "execution_count": 1,
   "id": "9644c8a1",
   "metadata": {},
   "outputs": [],
   "source": [
    "f = open('fileone.txt','w+')\n",
    "f.write('One File')\n",
    "f.close()"
   ]
  },
  {
   "cell_type": "code",
   "execution_count": 2,
   "id": "60fc84df",
   "metadata": {},
   "outputs": [],
   "source": [
    "f = open('filetwo.txt','w+')\n",
    "f.write('Two File')\n",
    "f.close()"
   ]
  },
  {
   "cell_type": "code",
   "execution_count": 3,
   "id": "712c0fb1",
   "metadata": {},
   "outputs": [],
   "source": [
    "import zipfile"
   ]
  },
  {
   "cell_type": "markdown",
   "id": "ebb01127",
   "metadata": {},
   "source": [
    "### Built-in ZipFile Library"
   ]
  },
  {
   "cell_type": "markdown",
   "id": "38101825",
   "metadata": {},
   "source": [
    "#### Creating a Zip File"
   ]
  },
  {
   "cell_type": "code",
   "execution_count": 4,
   "id": "1b7bd2dc",
   "metadata": {},
   "outputs": [],
   "source": [
    "comp_file = zipfile.ZipFile('comp_file.zip','w')"
   ]
  },
  {
   "cell_type": "markdown",
   "id": "0b2b4d78",
   "metadata": {},
   "source": [
    "#### Compressing the Text Files into the Zip File"
   ]
  },
  {
   "cell_type": "code",
   "execution_count": 5,
   "id": "5f096015",
   "metadata": {},
   "outputs": [],
   "source": [
    "comp_file.write('fileone.txt',compress_type=zipfile.ZIP_DEFLATED)"
   ]
  },
  {
   "cell_type": "code",
   "execution_count": 6,
   "id": "f831e6c0",
   "metadata": {},
   "outputs": [],
   "source": [
    "comp_file.write('filetwo.txt',compress_type=zipfile.ZIP_DEFLATED)"
   ]
  },
  {
   "cell_type": "code",
   "execution_count": 7,
   "id": "f3a1efe5",
   "metadata": {},
   "outputs": [],
   "source": [
    "comp_file.close()"
   ]
  },
  {
   "cell_type": "markdown",
   "id": "ba7e4db7",
   "metadata": {},
   "source": [
    "#### Extrecting items of a Zip File"
   ]
  },
  {
   "cell_type": "code",
   "execution_count": 8,
   "id": "87a3001f",
   "metadata": {},
   "outputs": [],
   "source": [
    "zip_obj = zipfile.ZipFile('comp_file.zip','r')"
   ]
  },
  {
   "cell_type": "code",
   "execution_count": 9,
   "id": "f31bfdeb",
   "metadata": {},
   "outputs": [],
   "source": [
    "zip_obj.extractall('extracted_content')"
   ]
  },
  {
   "cell_type": "code",
   "execution_count": 10,
   "id": "705f240d",
   "metadata": {},
   "outputs": [
    {
     "data": {
      "text/plain": [
       "'C:\\\\Users\\\\T-Gamer\\\\Desktop\\\\LearningPython_Jupyter\\\\11-Python Advanced Modules'"
      ]
     },
     "execution_count": 10,
     "metadata": {},
     "output_type": "execute_result"
    }
   ],
   "source": [
    "pwd"
   ]
  },
  {
   "cell_type": "markdown",
   "id": "d19098c0",
   "metadata": {},
   "source": [
    "### Shutil Library  "
   ]
  },
  {
   "cell_type": "markdown",
   "id": "9f39cf8f",
   "metadata": {},
   "source": [
    "To archive or extract an entire folder"
   ]
  },
  {
   "cell_type": "code",
   "execution_count": 11,
   "id": "50ab1d4e",
   "metadata": {},
   "outputs": [],
   "source": [
    "import shutil"
   ]
  },
  {
   "cell_type": "markdown",
   "id": "0cc116ab",
   "metadata": {},
   "source": [
    "#### Zipping"
   ]
  },
  {
   "cell_type": "code",
   "execution_count": 12,
   "id": "961283a7",
   "metadata": {},
   "outputs": [],
   "source": [
    "dir_to_zip = 'C:\\\\Users\\\\T-Gamer\\\\Desktop\\\\LearningPython_Jupyter\\\\11-Python Advanced Modules\\\\extracted_content'"
   ]
  },
  {
   "cell_type": "code",
   "execution_count": 13,
   "id": "5ae1d8f4",
   "metadata": {},
   "outputs": [],
   "source": [
    "output_filename = 'example'"
   ]
  },
  {
   "cell_type": "code",
   "execution_count": 14,
   "id": "ef72570f",
   "metadata": {},
   "outputs": [
    {
     "data": {
      "text/plain": [
       "'C:\\\\Users\\\\T-Gamer\\\\Desktop\\\\LearningPython_Jupyter\\\\11-Python Advanced Modules\\\\example.zip'"
      ]
     },
     "execution_count": 14,
     "metadata": {},
     "output_type": "execute_result"
    }
   ],
   "source": [
    "shutil.make_archive(output_filename,'zip',dir_to_zip)"
   ]
  },
  {
   "cell_type": "markdown",
   "id": "6bc52f40",
   "metadata": {},
   "source": [
    "#### Unzipping"
   ]
  },
  {
   "cell_type": "code",
   "execution_count": 15,
   "id": "1a706937",
   "metadata": {},
   "outputs": [],
   "source": [
    "shutil.unpack_archive('example.zip','final_unzip','zip')"
   ]
  }
 ],
 "metadata": {
  "kernelspec": {
   "display_name": "Python 3 (ipykernel)",
   "language": "python",
   "name": "python3"
  },
  "language_info": {
   "codemirror_mode": {
    "name": "ipython",
    "version": 3
   },
   "file_extension": ".py",
   "mimetype": "text/x-python",
   "name": "python",
   "nbconvert_exporter": "python",
   "pygments_lexer": "ipython3",
   "version": "3.9.7"
  }
 },
 "nbformat": 4,
 "nbformat_minor": 5
}

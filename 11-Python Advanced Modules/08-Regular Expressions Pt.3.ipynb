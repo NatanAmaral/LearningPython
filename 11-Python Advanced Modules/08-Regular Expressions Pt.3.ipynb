{
 "cells": [
  {
   "cell_type": "code",
   "execution_count": 1,
   "id": "94afade3",
   "metadata": {},
   "outputs": [],
   "source": [
    "import re"
   ]
  },
  {
   "cell_type": "markdown",
   "id": "c40349ff",
   "metadata": {},
   "source": [
    "### Additional Regex Syntax "
   ]
  },
  {
   "cell_type": "markdown",
   "id": "84ee2b16",
   "metadata": {},
   "source": [
    "Looking for the string 'cat'"
   ]
  },
  {
   "cell_type": "code",
   "execution_count": 2,
   "id": "224f7d7f",
   "metadata": {},
   "outputs": [
    {
     "data": {
      "text/plain": [
       "<re.Match object; span=(4, 7), match='cat'>"
      ]
     },
     "execution_count": 2,
     "metadata": {},
     "output_type": "execute_result"
    }
   ],
   "source": [
    "re.search(r'cat','The cat is up there')"
   ]
  },
  {
   "cell_type": "markdown",
   "id": "e5d75315",
   "metadata": {},
   "source": [
    "Looking for the string 'dog'"
   ]
  },
  {
   "cell_type": "code",
   "execution_count": 3,
   "id": "d7dedf38",
   "metadata": {},
   "outputs": [],
   "source": [
    "re.search(r'dog','The cat is up there')"
   ]
  },
  {
   "cell_type": "markdown",
   "id": "62b4d075",
   "metadata": {},
   "source": [
    "#### Or Operator "
   ]
  },
  {
   "cell_type": "markdown",
   "id": "02167f4c",
   "metadata": {},
   "source": [
    "The sign __|__ represents the __or__ operator - so we are looking for a 'cat' or a 'dog'"
   ]
  },
  {
   "cell_type": "code",
   "execution_count": 4,
   "id": "3fc69600",
   "metadata": {},
   "outputs": [
    {
     "data": {
      "text/plain": [
       "<re.Match object; span=(4, 7), match='cat'>"
      ]
     },
     "execution_count": 4,
     "metadata": {},
     "output_type": "execute_result"
    }
   ],
   "source": [
    "re.search(r'cat|dog','The cat is up there')"
   ]
  },
  {
   "cell_type": "markdown",
   "id": "f1e33dc4",
   "metadata": {},
   "source": [
    "#### Wildcard Operator"
   ]
  },
  {
   "cell_type": "markdown",
   "id": "b1b10759",
   "metadata": {},
   "source": [
    "The __.__ represents a __wildcard__ operator "
   ]
  },
  {
   "cell_type": "code",
   "execution_count": 5,
   "id": "2c0c7f85",
   "metadata": {},
   "outputs": [
    {
     "data": {
      "text/plain": [
       "['at', 'at', 'at']"
      ]
     },
     "execution_count": 5,
     "metadata": {},
     "output_type": "execute_result"
    }
   ],
   "source": [
    "re.findall(r'at','The cat and the hat sat there')"
   ]
  },
  {
   "cell_type": "markdown",
   "id": "e0fc4b4e",
   "metadata": {},
   "source": [
    "In the following example putting the dot before the 'a' in 'at' will enable the wildcard"
   ]
  },
  {
   "cell_type": "code",
   "execution_count": 6,
   "id": "54f8f519",
   "metadata": {},
   "outputs": [
    {
     "data": {
      "text/plain": [
       "['cat', 'hat', 'sat']"
      ]
     },
     "execution_count": 6,
     "metadata": {},
     "output_type": "execute_result"
    }
   ],
   "source": [
    "re.findall(r'.at','The cat and the hat sat there')"
   ]
  },
  {
   "cell_type": "markdown",
   "id": "4274e8f5",
   "metadata": {},
   "source": [
    "#### Starts with"
   ]
  },
  {
   "cell_type": "markdown",
   "id": "b33413d9",
   "metadata": {},
   "source": [
    "The __^__ sign represents the __starts with__ operator"
   ]
  },
  {
   "cell_type": "code",
   "execution_count": 8,
   "id": "cb8bd368",
   "metadata": {},
   "outputs": [
    {
     "data": {
      "text/plain": [
       "['1']"
      ]
     },
     "execution_count": 8,
     "metadata": {},
     "output_type": "execute_result"
    }
   ],
   "source": [
    "re.findall(r'^\\d','1 is a number')"
   ]
  },
  {
   "cell_type": "markdown",
   "id": "fd6753b6",
   "metadata": {},
   "source": [
    "#### Ends with"
   ]
  },
  {
   "cell_type": "markdown",
   "id": "c10710ea",
   "metadata": {},
   "source": [
    "The __$__ sign represents the __ends with__ operator"
   ]
  },
  {
   "cell_type": "code",
   "execution_count": 9,
   "id": "e3be4031",
   "metadata": {},
   "outputs": [
    {
     "data": {
      "text/plain": [
       "['1']"
      ]
     },
     "execution_count": 9,
     "metadata": {},
     "output_type": "execute_result"
    }
   ],
   "source": [
    "re.findall(r'\\d$','The number is 1')"
   ]
  },
  {
   "cell_type": "markdown",
   "id": "fe47afbf",
   "metadata": {},
   "source": [
    "#### Grouping for Exclusion"
   ]
  },
  {
   "cell_type": "markdown",
   "id": "4293d638",
   "metadata": {},
   "source": [
    "It uses the __r'[^ ]'__ and anything inside the square brackets will be excluded "
   ]
  },
  {
   "cell_type": "code",
   "execution_count": 10,
   "id": "2cc3e758",
   "metadata": {},
   "outputs": [],
   "source": [
    "phrase = 'There are 4 numbers 11 inside 1 this sentence'"
   ]
  },
  {
   "cell_type": "code",
   "execution_count": 11,
   "id": "0067c578",
   "metadata": {},
   "outputs": [],
   "source": [
    "pattern = r'[^\\d]'"
   ]
  },
  {
   "cell_type": "code",
   "execution_count": 12,
   "id": "33c91897",
   "metadata": {},
   "outputs": [
    {
     "data": {
      "text/plain": [
       "['T',\n",
       " 'h',\n",
       " 'e',\n",
       " 'r',\n",
       " 'e',\n",
       " ' ',\n",
       " 'a',\n",
       " 'r',\n",
       " 'e',\n",
       " ' ',\n",
       " ' ',\n",
       " 'n',\n",
       " 'u',\n",
       " 'm',\n",
       " 'b',\n",
       " 'e',\n",
       " 'r',\n",
       " 's',\n",
       " ' ',\n",
       " ' ',\n",
       " 'i',\n",
       " 'n',\n",
       " 's',\n",
       " 'i',\n",
       " 'd',\n",
       " 'e',\n",
       " ' ',\n",
       " ' ',\n",
       " 't',\n",
       " 'h',\n",
       " 'i',\n",
       " 's',\n",
       " ' ',\n",
       " 's',\n",
       " 'e',\n",
       " 'n',\n",
       " 't',\n",
       " 'e',\n",
       " 'n',\n",
       " 'c',\n",
       " 'e']"
      ]
     },
     "execution_count": 12,
     "metadata": {},
     "output_type": "execute_result"
    }
   ],
   "source": [
    "re.findall(pattern,phrase)"
   ]
  },
  {
   "cell_type": "markdown",
   "id": "01383678",
   "metadata": {},
   "source": [
    "To get the words back together we can use the __+__ quantifiers - it indicates that __occurs one or more times__ "
   ]
  },
  {
   "cell_type": "code",
   "execution_count": 13,
   "id": "d0e35d13",
   "metadata": {},
   "outputs": [],
   "source": [
    "pattern = r'[^\\d]+'"
   ]
  },
  {
   "cell_type": "code",
   "execution_count": 14,
   "id": "cd2051c4",
   "metadata": {},
   "outputs": [
    {
     "data": {
      "text/plain": [
       "['There are ', ' numbers ', ' inside ', ' this sentence']"
      ]
     },
     "execution_count": 14,
     "metadata": {},
     "output_type": "execute_result"
    }
   ],
   "source": [
    "re.findall(pattern,phrase)"
   ]
  },
  {
   "cell_type": "markdown",
   "id": "8dd8601b",
   "metadata": {},
   "source": [
    "Excluding __punctuation__"
   ]
  },
  {
   "cell_type": "code",
   "execution_count": 16,
   "id": "b1955ea1",
   "metadata": {},
   "outputs": [],
   "source": [
    "test_phrase = 'This is a string! But it has punctuation. How can we remove it?'"
   ]
  },
  {
   "cell_type": "code",
   "execution_count": 17,
   "id": "20446412",
   "metadata": {},
   "outputs": [
    {
     "data": {
      "text/plain": [
       "['This is a string', ' But it has punctuation', ' How can we remove it']"
      ]
     },
     "execution_count": 17,
     "metadata": {},
     "output_type": "execute_result"
    }
   ],
   "source": [
    "re.findall(r'[^!.?]+',test_phrase)"
   ]
  },
  {
   "cell_type": "markdown",
   "id": "731f7c36",
   "metadata": {},
   "source": [
    "Excluding __spaces__ by adding a space inside the brackets "
   ]
  },
  {
   "cell_type": "code",
   "execution_count": 18,
   "id": "6f716078",
   "metadata": {},
   "outputs": [
    {
     "data": {
      "text/plain": [
       "['This',\n",
       " 'is',\n",
       " 'a',\n",
       " 'string',\n",
       " 'But',\n",
       " 'it',\n",
       " 'has',\n",
       " 'punctuation',\n",
       " 'How',\n",
       " 'can',\n",
       " 'we',\n",
       " 'remove',\n",
       " 'it']"
      ]
     },
     "execution_count": 18,
     "metadata": {},
     "output_type": "execute_result"
    }
   ],
   "source": [
    "re.findall(r'[^!.? ]+',test_phrase)"
   ]
  },
  {
   "cell_type": "code",
   "execution_count": 19,
   "id": "6d58b2a8",
   "metadata": {},
   "outputs": [],
   "source": [
    "clean = re.findall(r'[^!.? ]+',test_phrase)"
   ]
  },
  {
   "cell_type": "markdown",
   "id": "eb799bb0",
   "metadata": {},
   "source": [
    "Now it's possible to __join__ the list of words "
   ]
  },
  {
   "cell_type": "code",
   "execution_count": 20,
   "id": "2b659878",
   "metadata": {},
   "outputs": [
    {
     "data": {
      "text/plain": [
       "'This is a string But it has punctuation How can we remove it'"
      ]
     },
     "execution_count": 20,
     "metadata": {},
     "output_type": "execute_result"
    }
   ],
   "source": [
    "' '.join(clean )"
   ]
  },
  {
   "cell_type": "markdown",
   "id": "96b52eaf",
   "metadata": {},
   "source": [
    "#### Grouping for Inclusion"
   ]
  },
  {
   "cell_type": "code",
   "execution_count": 24,
   "id": "1b27d905",
   "metadata": {},
   "outputs": [],
   "source": [
    "text = 'Only find the hyphen-words in this sentence. But you do not know how long-ish they are'"
   ]
  },
  {
   "cell_type": "markdown",
   "id": "56a80c20",
   "metadata": {},
   "source": [
    "The __\\w__ character identifier corresponds to __alphanumerics__"
   ]
  },
  {
   "cell_type": "code",
   "execution_count": 25,
   "id": "5795c680",
   "metadata": {},
   "outputs": [],
   "source": [
    "pattern = r'[\\w]+'"
   ]
  },
  {
   "cell_type": "markdown",
   "id": "52002152",
   "metadata": {},
   "source": [
    "The following example finds any group of alphanumerics"
   ]
  },
  {
   "cell_type": "code",
   "execution_count": 26,
   "id": "ed7e76d9",
   "metadata": {},
   "outputs": [
    {
     "data": {
      "text/plain": [
       "['Only',\n",
       " 'find',\n",
       " 'the',\n",
       " 'hyphen',\n",
       " 'words',\n",
       " 'in',\n",
       " 'this',\n",
       " 'sentence',\n",
       " 'But',\n",
       " 'you',\n",
       " 'do',\n",
       " 'not',\n",
       " 'know',\n",
       " 'how',\n",
       " 'long',\n",
       " 'ish',\n",
       " 'they',\n",
       " 'are']"
      ]
     },
     "execution_count": 26,
     "metadata": {},
     "output_type": "execute_result"
    }
   ],
   "source": [
    "re.findall(pattern,text)"
   ]
  },
  {
   "cell_type": "markdown",
   "id": "81344527",
   "metadata": {},
   "source": [
    "The following example finds only the __hypenated words__"
   ]
  },
  {
   "cell_type": "code",
   "execution_count": 27,
   "id": "7d57bb20",
   "metadata": {},
   "outputs": [],
   "source": [
    "pattern = r'[\\w]+-[\\w]+'"
   ]
  },
  {
   "cell_type": "code",
   "execution_count": 28,
   "id": "d282c57b",
   "metadata": {},
   "outputs": [
    {
     "data": {
      "text/plain": [
       "['hyphen-words', 'long-ish']"
      ]
     },
     "execution_count": 28,
     "metadata": {},
     "output_type": "execute_result"
    }
   ],
   "source": [
    "re.findall(pattern,text)"
   ]
  },
  {
   "cell_type": "markdown",
   "id": "240275a5",
   "metadata": {},
   "source": [
    "#### Multiple Options "
   ]
  },
  {
   "cell_type": "markdown",
   "id": "5ea03c3f",
   "metadata": {},
   "source": [
    "It uses __( )__ - the use of __parenthesis__ indicates that are multiple possible matching objects"
   ]
  },
  {
   "cell_type": "code",
   "execution_count": 29,
   "id": "8eb031db",
   "metadata": {},
   "outputs": [],
   "source": [
    "text = 'Hello, would you like some catfish?'\n",
    "texttwo = \"Hello, would you like to take a catnap?\"\n",
    "textthree = \"Hello, have you seen this caterpillar?\""
   ]
  },
  {
   "cell_type": "code",
   "execution_count": 31,
   "id": "7d8b8980",
   "metadata": {},
   "outputs": [
    {
     "data": {
      "text/plain": [
       "<re.Match object; span=(27, 34), match='catfish'>"
      ]
     },
     "execution_count": 31,
     "metadata": {},
     "output_type": "execute_result"
    }
   ],
   "source": [
    "re.search(r'cat(fish|nap|erpillar)',text)"
   ]
  },
  {
   "cell_type": "code",
   "execution_count": 32,
   "id": "8e1a86b1",
   "metadata": {},
   "outputs": [
    {
     "data": {
      "text/plain": [
       "<re.Match object; span=(32, 38), match='catnap'>"
      ]
     },
     "execution_count": 32,
     "metadata": {},
     "output_type": "execute_result"
    }
   ],
   "source": [
    "re.search(r'cat(fish|nap|erpillar)',texttwo)  "
   ]
  },
  {
   "cell_type": "code",
   "execution_count": 33,
   "id": "aec26288",
   "metadata": {},
   "outputs": [
    {
     "data": {
      "text/plain": [
       "<re.Match object; span=(26, 37), match='caterpillar'>"
      ]
     },
     "execution_count": 33,
     "metadata": {},
     "output_type": "execute_result"
    }
   ],
   "source": [
    "re.search(r'cat(fish|nap|erpillar)',textthree)"
   ]
  },
  {
   "cell_type": "markdown",
   "id": "ed384cce",
   "metadata": {},
   "source": [
    "All this is doing is allowing us to combine the __or__ operator with other pieces of text and provide __multiple options__"
   ]
  }
 ],
 "metadata": {
  "kernelspec": {
   "display_name": "Python 3 (ipykernel)",
   "language": "python",
   "name": "python3"
  },
  "language_info": {
   "codemirror_mode": {
    "name": "ipython",
    "version": 3
   },
   "file_extension": ".py",
   "mimetype": "text/x-python",
   "name": "python",
   "nbconvert_exporter": "python",
   "pygments_lexer": "ipython3",
   "version": "3.9.7"
  }
 },
 "nbformat": 4,
 "nbformat_minor": 5
}

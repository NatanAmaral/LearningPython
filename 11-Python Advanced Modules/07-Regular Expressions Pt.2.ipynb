{
 "cells": [
  {
   "cell_type": "code",
   "execution_count": 1,
   "id": "b45ee007",
   "metadata": {},
   "outputs": [],
   "source": [
    "import re"
   ]
  },
  {
   "cell_type": "code",
   "execution_count": 2,
   "id": "7994e541",
   "metadata": {},
   "outputs": [],
   "source": [
    "text = 'My phone number is 408-555-1324'"
   ]
  },
  {
   "cell_type": "markdown",
   "id": "d428c828",
   "metadata": {},
   "source": [
    "Searching by the exact phone number"
   ]
  },
  {
   "cell_type": "code",
   "execution_count": 3,
   "id": "f6d2296e",
   "metadata": {},
   "outputs": [],
   "source": [
    "phone = re.search('408-555-1324',text)"
   ]
  },
  {
   "cell_type": "code",
   "execution_count": 4,
   "id": "052f7c28",
   "metadata": {},
   "outputs": [
    {
     "data": {
      "text/plain": [
       "<re.Match object; span=(19, 31), match='408-555-1324'>"
      ]
     },
     "execution_count": 4,
     "metadata": {},
     "output_type": "execute_result"
    }
   ],
   "source": [
    "phone"
   ]
  },
  {
   "cell_type": "markdown",
   "id": "1ce84cce",
   "metadata": {},
   "source": [
    "### Pattern Code"
   ]
  },
  {
   "cell_type": "markdown",
   "id": "033b0186",
   "metadata": {},
   "source": [
    "#### \\d"
   ]
  },
  {
   "cell_type": "markdown",
   "id": "bddf53e3",
   "metadata": {},
   "source": [
    "It's a character identifier that corresponds to a __digit__"
   ]
  },
  {
   "cell_type": "code",
   "execution_count": 5,
   "id": "d6957ad1",
   "metadata": {},
   "outputs": [],
   "source": [
    "phone = re.search(r'\\d\\d\\d-\\d\\d\\d-\\d\\d\\d\\d',text)"
   ]
  },
  {
   "cell_type": "code",
   "execution_count": 6,
   "id": "ea4d4fe3",
   "metadata": {},
   "outputs": [
    {
     "data": {
      "text/plain": [
       "<re.Match object; span=(19, 31), match='408-555-1324'>"
      ]
     },
     "execution_count": 6,
     "metadata": {},
     "output_type": "execute_result"
    }
   ],
   "source": [
    "phone"
   ]
  },
  {
   "cell_type": "code",
   "execution_count": 7,
   "id": "f3c6289e",
   "metadata": {},
   "outputs": [
    {
     "data": {
      "text/plain": [
       "'408-555-1324'"
      ]
     },
     "execution_count": 7,
     "metadata": {},
     "output_type": "execute_result"
    }
   ],
   "source": [
    "phone.group()"
   ]
  },
  {
   "cell_type": "markdown",
   "id": "79053812",
   "metadata": {},
   "source": [
    "### Quantifiers"
   ]
  },
  {
   "cell_type": "markdown",
   "id": "f16b0a3c",
   "metadata": {},
   "source": [
    "#### {3}"
   ]
  },
  {
   "cell_type": "markdown",
   "id": "f1254dab",
   "metadata": {},
   "source": [
    "Occurs exactly 3 times (it can be any number)"
   ]
  },
  {
   "cell_type": "code",
   "execution_count": 8,
   "id": "40ca8a58",
   "metadata": {},
   "outputs": [],
   "source": [
    "phone = re.search(r'\\d{3}-\\d{3}-\\d{4}',text)"
   ]
  },
  {
   "cell_type": "code",
   "execution_count": 9,
   "id": "44d61eea",
   "metadata": {},
   "outputs": [
    {
     "data": {
      "text/plain": [
       "<re.Match object; span=(19, 31), match='408-555-1324'>"
      ]
     },
     "execution_count": 9,
     "metadata": {},
     "output_type": "execute_result"
    }
   ],
   "source": [
    "phone"
   ]
  },
  {
   "cell_type": "code",
   "execution_count": 10,
   "id": "cb77cf7d",
   "metadata": {},
   "outputs": [
    {
     "data": {
      "text/plain": [
       "'408-555-1324'"
      ]
     },
     "execution_count": 10,
     "metadata": {},
     "output_type": "execute_result"
    }
   ],
   "source": [
    "phone.group()"
   ]
  },
  {
   "cell_type": "markdown",
   "id": "fe4b8ae4",
   "metadata": {},
   "source": [
    "### Searching and Extracting"
   ]
  },
  {
   "cell_type": "markdown",
   "id": "feccad62",
   "metadata": {},
   "source": [
    "#### re.compile()"
   ]
  },
  {
   "cell_type": "markdown",
   "id": "ed3edafc",
   "metadata": {},
   "source": [
    "It allows us to call the groups individually "
   ]
  },
  {
   "cell_type": "code",
   "execution_count": 11,
   "id": "46df0b43",
   "metadata": {},
   "outputs": [],
   "source": [
    "phone_pattern = re.compile(r'(\\d{3})-(\\d{3})-(\\d{4})')"
   ]
  },
  {
   "cell_type": "code",
   "execution_count": 12,
   "id": "fc9c786c",
   "metadata": {},
   "outputs": [],
   "source": [
    "results = re.search(phone_pattern,text)"
   ]
  },
  {
   "cell_type": "code",
   "execution_count": 13,
   "id": "9ed22bb5",
   "metadata": {},
   "outputs": [
    {
     "data": {
      "text/plain": [
       "'408-555-1324'"
      ]
     },
     "execution_count": 13,
     "metadata": {},
     "output_type": "execute_result"
    }
   ],
   "source": [
    "results.group()"
   ]
  },
  {
   "cell_type": "markdown",
   "id": "43c52aff",
   "metadata": {},
   "source": [
    "Note that __group indexing starts at 1__"
   ]
  },
  {
   "cell_type": "code",
   "execution_count": 14,
   "id": "39691d7c",
   "metadata": {},
   "outputs": [
    {
     "data": {
      "text/plain": [
       "'408'"
      ]
     },
     "execution_count": 14,
     "metadata": {},
     "output_type": "execute_result"
    }
   ],
   "source": [
    "results.group(1)"
   ]
  },
  {
   "cell_type": "code",
   "execution_count": 15,
   "id": "07ab2d7d",
   "metadata": {},
   "outputs": [
    {
     "data": {
      "text/plain": [
       "'555'"
      ]
     },
     "execution_count": 15,
     "metadata": {},
     "output_type": "execute_result"
    }
   ],
   "source": [
    "results.group(2)"
   ]
  },
  {
   "cell_type": "code",
   "execution_count": 16,
   "id": "f908433e",
   "metadata": {},
   "outputs": [
    {
     "data": {
      "text/plain": [
       "'1324'"
      ]
     },
     "execution_count": 16,
     "metadata": {},
     "output_type": "execute_result"
    }
   ],
   "source": [
    "results.group(3)"
   ]
  }
 ],
 "metadata": {
  "kernelspec": {
   "display_name": "Python 3 (ipykernel)",
   "language": "python",
   "name": "python3"
  },
  "language_info": {
   "codemirror_mode": {
    "name": "ipython",
    "version": 3
   },
   "file_extension": ".py",
   "mimetype": "text/x-python",
   "name": "python",
   "nbconvert_exporter": "python",
   "pygments_lexer": "ipython3",
   "version": "3.9.7"
  }
 },
 "nbformat": 4,
 "nbformat_minor": 5
}

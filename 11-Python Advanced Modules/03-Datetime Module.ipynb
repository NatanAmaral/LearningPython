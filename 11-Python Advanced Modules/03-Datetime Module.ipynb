{
 "cells": [
  {
   "cell_type": "code",
   "execution_count": 1,
   "id": "3e5e0fc2",
   "metadata": {},
   "outputs": [],
   "source": [
    "import datetime"
   ]
  },
  {
   "cell_type": "markdown",
   "id": "4b550dde",
   "metadata": {},
   "source": [
    "### Time information"
   ]
  },
  {
   "cell_type": "markdown",
   "id": "7870020a",
   "metadata": {},
   "source": [
    "__Hours__ and __Minutes__"
   ]
  },
  {
   "cell_type": "code",
   "execution_count": 2,
   "id": "11d2b698",
   "metadata": {},
   "outputs": [],
   "source": [
    "mytime = datetime.time(2,20)"
   ]
  },
  {
   "cell_type": "code",
   "execution_count": 3,
   "id": "930fcdf4",
   "metadata": {},
   "outputs": [
    {
     "data": {
      "text/plain": [
       "20"
      ]
     },
     "execution_count": 3,
     "metadata": {},
     "output_type": "execute_result"
    }
   ],
   "source": [
    "mytime.minute"
   ]
  },
  {
   "cell_type": "code",
   "execution_count": 4,
   "id": "929c7fcc",
   "metadata": {},
   "outputs": [
    {
     "data": {
      "text/plain": [
       "2"
      ]
     },
     "execution_count": 4,
     "metadata": {},
     "output_type": "execute_result"
    }
   ],
   "source": [
    "mytime.hour"
   ]
  },
  {
   "cell_type": "code",
   "execution_count": 5,
   "id": "0ddbc23e",
   "metadata": {},
   "outputs": [
    {
     "name": "stdout",
     "output_type": "stream",
     "text": [
      "02:20:00\n"
     ]
    }
   ],
   "source": [
    "print(mytime)"
   ]
  },
  {
   "cell_type": "markdown",
   "id": "63e902c1",
   "metadata": {},
   "source": [
    "__Seconds__ and __Microseconds__"
   ]
  },
  {
   "cell_type": "code",
   "execution_count": 6,
   "id": "cc161fc9",
   "metadata": {},
   "outputs": [
    {
     "data": {
      "text/plain": [
       "0"
      ]
     },
     "execution_count": 6,
     "metadata": {},
     "output_type": "execute_result"
    }
   ],
   "source": [
    "mytime.microsecond"
   ]
  },
  {
   "cell_type": "markdown",
   "id": "0f653dd5",
   "metadata": {},
   "source": [
    "#### Data Type "
   ]
  },
  {
   "cell_type": "code",
   "execution_count": 9,
   "id": "b8f0bbc6",
   "metadata": {},
   "outputs": [
    {
     "data": {
      "text/plain": [
       "datetime.time"
      ]
     },
     "execution_count": 9,
     "metadata": {},
     "output_type": "execute_result"
    }
   ],
   "source": [
    "type(mytime)"
   ]
  },
  {
   "cell_type": "markdown",
   "id": "9bbd2494",
   "metadata": {},
   "source": [
    "### Date information"
   ]
  },
  {
   "cell_type": "code",
   "execution_count": 10,
   "id": "45e7adce",
   "metadata": {},
   "outputs": [],
   "source": [
    "today = datetime.date.today()"
   ]
  },
  {
   "cell_type": "code",
   "execution_count": 11,
   "id": "e39c5716",
   "metadata": {},
   "outputs": [
    {
     "name": "stdout",
     "output_type": "stream",
     "text": [
      "2022-06-10\n"
     ]
    }
   ],
   "source": [
    "print(today)"
   ]
  },
  {
   "cell_type": "markdown",
   "id": "27179c6d",
   "metadata": {},
   "source": [
    "#### Attributes"
   ]
  },
  {
   "cell_type": "code",
   "execution_count": 12,
   "id": "933bc058",
   "metadata": {},
   "outputs": [
    {
     "data": {
      "text/plain": [
       "2022"
      ]
     },
     "execution_count": 12,
     "metadata": {},
     "output_type": "execute_result"
    }
   ],
   "source": [
    "today.year"
   ]
  },
  {
   "cell_type": "code",
   "execution_count": 13,
   "id": "f726536f",
   "metadata": {},
   "outputs": [
    {
     "data": {
      "text/plain": [
       "6"
      ]
     },
     "execution_count": 13,
     "metadata": {},
     "output_type": "execute_result"
    }
   ],
   "source": [
    "today.month"
   ]
  },
  {
   "cell_type": "code",
   "execution_count": 14,
   "id": "16e0144d",
   "metadata": {},
   "outputs": [
    {
     "data": {
      "text/plain": [
       "10"
      ]
     },
     "execution_count": 14,
     "metadata": {},
     "output_type": "execute_result"
    }
   ],
   "source": [
    "today.day"
   ]
  },
  {
   "cell_type": "markdown",
   "id": "d0ddaa18",
   "metadata": {},
   "source": [
    "__.ctime()__ formatting"
   ]
  },
  {
   "cell_type": "code",
   "execution_count": 15,
   "id": "1de4f175",
   "metadata": {},
   "outputs": [
    {
     "data": {
      "text/plain": [
       "'Fri Jun 10 00:00:00 2022'"
      ]
     },
     "execution_count": 15,
     "metadata": {},
     "output_type": "execute_result"
    }
   ],
   "source": [
    "today.ctime()"
   ]
  },
  {
   "cell_type": "markdown",
   "id": "8c323e7b",
   "metadata": {},
   "source": [
    "### Date and Time information"
   ]
  },
  {
   "cell_type": "code",
   "execution_count": 17,
   "id": "085443bb",
   "metadata": {},
   "outputs": [],
   "source": [
    "from datetime import datetime"
   ]
  },
  {
   "cell_type": "code",
   "execution_count": 18,
   "id": "a0247f2d",
   "metadata": {},
   "outputs": [
    {
     "data": {
      "text/plain": [
       "datetime.datetime(2022, 11, 11, 6, 50)"
      ]
     },
     "execution_count": 18,
     "metadata": {},
     "output_type": "execute_result"
    }
   ],
   "source": [
    "datetime(2022,11,11,6,50)"
   ]
  },
  {
   "cell_type": "code",
   "execution_count": 19,
   "id": "a9c3f13d",
   "metadata": {},
   "outputs": [],
   "source": [
    "mydatetime = datetime(2022,11,11,6,50)"
   ]
  },
  {
   "cell_type": "code",
   "execution_count": 20,
   "id": "586bdfc9",
   "metadata": {},
   "outputs": [
    {
     "name": "stdout",
     "output_type": "stream",
     "text": [
      "2022-11-11 06:50:00\n"
     ]
    }
   ],
   "source": [
    "print(mydatetime)"
   ]
  },
  {
   "cell_type": "markdown",
   "id": "eaff73c3",
   "metadata": {},
   "source": [
    "#### Replacing information"
   ]
  },
  {
   "cell_type": "code",
   "execution_count": 22,
   "id": "3efd7eee",
   "metadata": {},
   "outputs": [
    {
     "data": {
      "text/plain": [
       "datetime.datetime(2022, 11, 11, 6, 30)"
      ]
     },
     "execution_count": 22,
     "metadata": {},
     "output_type": "execute_result"
    }
   ],
   "source": [
    "mydatetime.replace(minute=30)"
   ]
  },
  {
   "cell_type": "code",
   "execution_count": 23,
   "id": "3b60230e",
   "metadata": {},
   "outputs": [],
   "source": [
    "mydatetime = mydatetime.replace(minute=30)"
   ]
  },
  {
   "cell_type": "code",
   "execution_count": 24,
   "id": "df48ddf4",
   "metadata": {},
   "outputs": [
    {
     "name": "stdout",
     "output_type": "stream",
     "text": [
      "2022-11-11 06:30:00\n"
     ]
    }
   ],
   "source": [
    "print(mydatetime)"
   ]
  },
  {
   "cell_type": "markdown",
   "id": "8e2d6c1c",
   "metadata": {},
   "source": [
    "### Arithmetic: Date and Time information"
   ]
  },
  {
   "cell_type": "markdown",
   "id": "18a59849",
   "metadata": {},
   "source": [
    "#### Date"
   ]
  },
  {
   "cell_type": "code",
   "execution_count": 25,
   "id": "7de1315b",
   "metadata": {},
   "outputs": [],
   "source": [
    "from datetime import date"
   ]
  },
  {
   "cell_type": "code",
   "execution_count": 26,
   "id": "6e2db989",
   "metadata": {},
   "outputs": [],
   "source": [
    "date1 = date(2023,9,1)\n",
    "date2 = date(2022,9,1)"
   ]
  },
  {
   "cell_type": "markdown",
   "id": "24013b42",
   "metadata": {},
   "source": [
    "It reports the __difference in days__"
   ]
  },
  {
   "cell_type": "code",
   "execution_count": 27,
   "id": "4a82a525",
   "metadata": {},
   "outputs": [
    {
     "data": {
      "text/plain": [
       "datetime.timedelta(days=365)"
      ]
     },
     "execution_count": 27,
     "metadata": {},
     "output_type": "execute_result"
    }
   ],
   "source": [
    "date1 - date2"
   ]
  },
  {
   "cell_type": "code",
   "execution_count": 28,
   "id": "48309b22",
   "metadata": {},
   "outputs": [],
   "source": [
    "result = date1 - date2"
   ]
  },
  {
   "cell_type": "code",
   "execution_count": 29,
   "id": "53041c3b",
   "metadata": {},
   "outputs": [
    {
     "data": {
      "text/plain": [
       "datetime.timedelta"
      ]
     },
     "execution_count": 29,
     "metadata": {},
     "output_type": "execute_result"
    }
   ],
   "source": [
    "type(result)"
   ]
  },
  {
   "cell_type": "code",
   "execution_count": 30,
   "id": "1842899c",
   "metadata": {},
   "outputs": [
    {
     "data": {
      "text/plain": [
       "365"
      ]
     },
     "execution_count": 30,
     "metadata": {},
     "output_type": "execute_result"
    }
   ],
   "source": [
    "result.days"
   ]
  },
  {
   "cell_type": "markdown",
   "id": "186e1045",
   "metadata": {},
   "source": [
    "#### Time"
   ]
  },
  {
   "cell_type": "code",
   "execution_count": 31,
   "id": "0899d566",
   "metadata": {},
   "outputs": [],
   "source": [
    "datetime1 = datetime(2023,9,1,6,50)"
   ]
  },
  {
   "cell_type": "code",
   "execution_count": 32,
   "id": "63c15978",
   "metadata": {},
   "outputs": [],
   "source": [
    "datetime2 = datetime(2022,9,1,20,50)"
   ]
  },
  {
   "cell_type": "markdown",
   "id": "9a6d8a12",
   "metadata": {},
   "source": [
    "It reports the __difference in seconds__"
   ]
  },
  {
   "cell_type": "code",
   "execution_count": 33,
   "id": "eb9d6146",
   "metadata": {},
   "outputs": [
    {
     "data": {
      "text/plain": [
       "datetime.timedelta(days=364, seconds=36000)"
      ]
     },
     "execution_count": 33,
     "metadata": {},
     "output_type": "execute_result"
    }
   ],
   "source": [
    "datetime1 - datetime2 "
   ]
  },
  {
   "cell_type": "markdown",
   "id": "2cf0d590",
   "metadata": {},
   "source": [
    "Converting to hours"
   ]
  },
  {
   "cell_type": "code",
   "execution_count": 34,
   "id": "21506a22",
   "metadata": {},
   "outputs": [
    {
     "data": {
      "text/plain": [
       "10.0"
      ]
     },
     "execution_count": 34,
     "metadata": {},
     "output_type": "execute_result"
    }
   ],
   "source": [
    "36000/60/60"
   ]
  },
  {
   "cell_type": "markdown",
   "id": "93cd7ffb",
   "metadata": {},
   "source": [
    "#### Attributes "
   ]
  },
  {
   "cell_type": "markdown",
   "id": "372d35c8",
   "metadata": {},
   "source": [
    "Saving the result"
   ]
  },
  {
   "cell_type": "code",
   "execution_count": 35,
   "id": "65d50609",
   "metadata": {},
   "outputs": [],
   "source": [
    "mydifference = datetime1 - datetime2 "
   ]
  },
  {
   "cell_type": "code",
   "execution_count": 36,
   "id": "c2159e37",
   "metadata": {},
   "outputs": [
    {
     "data": {
      "text/plain": [
       "36000"
      ]
     },
     "execution_count": 36,
     "metadata": {},
     "output_type": "execute_result"
    }
   ],
   "source": [
    "mydifference.seconds"
   ]
  },
  {
   "cell_type": "code",
   "execution_count": 37,
   "id": "e5c273a8",
   "metadata": {},
   "outputs": [
    {
     "data": {
      "text/plain": [
       "31485600.0"
      ]
     },
     "execution_count": 37,
     "metadata": {},
     "output_type": "execute_result"
    }
   ],
   "source": [
    "mydifference.total_seconds()"
   ]
  }
 ],
 "metadata": {
  "kernelspec": {
   "display_name": "Python 3 (ipykernel)",
   "language": "python",
   "name": "python3"
  },
  "language_info": {
   "codemirror_mode": {
    "name": "ipython",
    "version": 3
   },
   "file_extension": ".py",
   "mimetype": "text/x-python",
   "name": "python",
   "nbconvert_exporter": "python",
   "pygments_lexer": "ipython3",
   "version": "3.9.7"
  }
 },
 "nbformat": 4,
 "nbformat_minor": 5
}

{
 "cells": [
  {
   "cell_type": "markdown",
   "id": "40b6bb7f",
   "metadata": {},
   "source": [
    "### Collections"
   ]
  },
  {
   "cell_type": "markdown",
   "id": "647de14c",
   "metadata": {},
   "source": [
    "#### Counter "
   ]
  },
  {
   "cell_type": "code",
   "execution_count": 1,
   "id": "a9496372",
   "metadata": {},
   "outputs": [],
   "source": [
    "from collections import Counter"
   ]
  },
  {
   "cell_type": "code",
   "execution_count": 2,
   "id": "f7f4b63c",
   "metadata": {},
   "outputs": [],
   "source": [
    "mylist = [1,1,1,1,1,2,2,2,2,3,3,3]"
   ]
  },
  {
   "cell_type": "markdown",
   "id": "8aea6dfd",
   "metadata": {},
   "source": [
    "Counting the __instances__ for each unique item on the list"
   ]
  },
  {
   "cell_type": "code",
   "execution_count": 3,
   "id": "45791ed7",
   "metadata": {},
   "outputs": [
    {
     "data": {
      "text/plain": [
       "Counter({1: 5, 2: 4, 3: 3})"
      ]
     },
     "execution_count": 3,
     "metadata": {},
     "output_type": "execute_result"
    }
   ],
   "source": [
    "Counter(mylist)"
   ]
  },
  {
   "cell_type": "markdown",
   "id": "4b908004",
   "metadata": {},
   "source": [
    "Using with __Strings__"
   ]
  },
  {
   "cell_type": "code",
   "execution_count": 4,
   "id": "cbdfdcc1",
   "metadata": {},
   "outputs": [],
   "source": [
    "mylist = ['a','a','a',11,11,11]"
   ]
  },
  {
   "cell_type": "code",
   "execution_count": 5,
   "id": "76edc546",
   "metadata": {},
   "outputs": [
    {
     "data": {
      "text/plain": [
       "Counter({'a': 3, 11: 3})"
      ]
     },
     "execution_count": 5,
     "metadata": {},
     "output_type": "execute_result"
    }
   ],
   "source": [
    "Counter(mylist)"
   ]
  },
  {
   "cell_type": "markdown",
   "id": "1b340396",
   "metadata": {},
   "source": [
    "Counting the __individual letters__ of a __String__"
   ]
  },
  {
   "cell_type": "code",
   "execution_count": 6,
   "id": "8b2dfa26",
   "metadata": {},
   "outputs": [
    {
     "data": {
      "text/plain": [
       "Counter({'P': 1,\n",
       "         'n': 4,\n",
       "         'e': 1,\n",
       "         'u': 2,\n",
       "         'm': 2,\n",
       "         'o': 9,\n",
       "         'l': 3,\n",
       "         't': 1,\n",
       "         'r': 2,\n",
       "         'a': 2,\n",
       "         'i': 6,\n",
       "         'c': 6,\n",
       "         's': 4,\n",
       "         'p': 1,\n",
       "         'v': 1})"
      ]
     },
     "execution_count": 6,
     "metadata": {},
     "output_type": "execute_result"
    }
   ],
   "source": [
    "Counter('Pneumonoultramicroscopicsilicovolcanoconiosis')"
   ]
  },
  {
   "cell_type": "markdown",
   "id": "92dc44d7",
   "metadata": {},
   "source": [
    "Counting the __words in a sentence__"
   ]
  },
  {
   "cell_type": "code",
   "execution_count": 7,
   "id": "87402adf",
   "metadata": {},
   "outputs": [],
   "source": [
    "sentence = 'I look at you and a sense of wonder takes me'"
   ]
  },
  {
   "cell_type": "code",
   "execution_count": 8,
   "id": "c6313018",
   "metadata": {},
   "outputs": [
    {
     "data": {
      "text/plain": [
       "['I', 'look', 'at', 'you', 'and', 'a', 'sense', 'of', 'wonder', 'takes', 'me']"
      ]
     },
     "execution_count": 8,
     "metadata": {},
     "output_type": "execute_result"
    }
   ],
   "source": [
    "sentence.split()"
   ]
  },
  {
   "cell_type": "code",
   "execution_count": 9,
   "id": "59971588",
   "metadata": {},
   "outputs": [
    {
     "data": {
      "text/plain": [
       "Counter({'I': 1,\n",
       "         'look': 1,\n",
       "         'at': 1,\n",
       "         'you': 1,\n",
       "         'and': 1,\n",
       "         'a': 1,\n",
       "         'sense': 1,\n",
       "         'of': 1,\n",
       "         'wonder': 1,\n",
       "         'takes': 1,\n",
       "         'me': 1})"
      ]
     },
     "execution_count": 9,
     "metadata": {},
     "output_type": "execute_result"
    }
   ],
   "source": [
    "Counter(sentence.split())"
   ]
  },
  {
   "cell_type": "markdown",
   "id": "9f4b968f",
   "metadata": {},
   "source": [
    "Checking for capitalized versions with __.lower()__"
   ]
  },
  {
   "cell_type": "code",
   "execution_count": 10,
   "id": "a44c48b1",
   "metadata": {},
   "outputs": [
    {
     "data": {
      "text/plain": [
       "Counter({'i': 1,\n",
       "         'look': 1,\n",
       "         'at': 1,\n",
       "         'you': 1,\n",
       "         'and': 1,\n",
       "         'a': 1,\n",
       "         'sense': 1,\n",
       "         'of': 1,\n",
       "         'wonder': 1,\n",
       "         'takes': 1,\n",
       "         'me': 1})"
      ]
     },
     "execution_count": 10,
     "metadata": {},
     "output_type": "execute_result"
    }
   ],
   "source": [
    "Counter(sentence.lower().split())"
   ]
  },
  {
   "cell_type": "markdown",
   "id": "030d4754",
   "metadata": {},
   "source": [
    "#### Common patterns"
   ]
  },
  {
   "cell_type": "code",
   "execution_count": 19,
   "id": "fcc6ec0e",
   "metadata": {},
   "outputs": [],
   "source": [
    "letters = 'aaaaabbbcccdddeeefffffffff'"
   ]
  },
  {
   "cell_type": "code",
   "execution_count": 20,
   "id": "3c9621f4",
   "metadata": {},
   "outputs": [],
   "source": [
    "c = Counter(letters)"
   ]
  },
  {
   "cell_type": "code",
   "execution_count": 21,
   "id": "17b7be75",
   "metadata": {},
   "outputs": [
    {
     "data": {
      "text/plain": [
       "Counter({'a': 5, 'b': 3, 'c': 3, 'd': 3, 'e': 3, 'f': 9})"
      ]
     },
     "execution_count": 21,
     "metadata": {},
     "output_type": "execute_result"
    }
   ],
   "source": [
    "c"
   ]
  },
  {
   "cell_type": "markdown",
   "id": "38f5f0ed",
   "metadata": {},
   "source": [
    "The __.most_common()__ method"
   ]
  },
  {
   "cell_type": "code",
   "execution_count": 22,
   "id": "fbdd437d",
   "metadata": {},
   "outputs": [
    {
     "data": {
      "text/plain": [
       "[('f', 9), ('a', 5), ('b', 3), ('c', 3), ('d', 3), ('e', 3)]"
      ]
     },
     "execution_count": 22,
     "metadata": {},
     "output_type": "execute_result"
    }
   ],
   "source": [
    "c.most_common()"
   ]
  },
  {
   "cell_type": "code",
   "execution_count": 23,
   "id": "bc532caf",
   "metadata": {},
   "outputs": [
    {
     "data": {
      "text/plain": [
       "[('f', 9), ('a', 5)]"
      ]
     },
     "execution_count": 23,
     "metadata": {},
     "output_type": "execute_result"
    }
   ],
   "source": [
    "c.most_common(2)"
   ]
  },
  {
   "cell_type": "markdown",
   "id": "242401a8",
   "metadata": {},
   "source": [
    "The __list()__ method"
   ]
  },
  {
   "cell_type": "code",
   "execution_count": 24,
   "id": "d853f085",
   "metadata": {},
   "outputs": [
    {
     "data": {
      "text/plain": [
       "['a', 'b', 'c', 'd', 'e', 'f']"
      ]
     },
     "execution_count": 24,
     "metadata": {},
     "output_type": "execute_result"
    }
   ],
   "source": [
    "list(c)"
   ]
  },
  {
   "cell_type": "markdown",
   "id": "65e57cb7",
   "metadata": {},
   "source": [
    "#### Normal Dictionary vs Default Dictionary"
   ]
  },
  {
   "cell_type": "code",
   "execution_count": 25,
   "id": "40765b4d",
   "metadata": {},
   "outputs": [],
   "source": [
    "from collections import defaultdict"
   ]
  },
  {
   "cell_type": "markdown",
   "id": "2bf93f45",
   "metadata": {},
   "source": [
    "Normal Dict"
   ]
  },
  {
   "cell_type": "code",
   "execution_count": 26,
   "id": "9239beda",
   "metadata": {},
   "outputs": [],
   "source": [
    "d = {'a':1}"
   ]
  },
  {
   "cell_type": "code",
   "execution_count": 27,
   "id": "0274e488",
   "metadata": {},
   "outputs": [
    {
     "data": {
      "text/plain": [
       "{'a': 1}"
      ]
     },
     "execution_count": 27,
     "metadata": {},
     "output_type": "execute_result"
    }
   ],
   "source": [
    "d"
   ]
  },
  {
   "cell_type": "code",
   "execution_count": 28,
   "id": "1527f77d",
   "metadata": {},
   "outputs": [
    {
     "data": {
      "text/plain": [
       "1"
      ]
     },
     "execution_count": 28,
     "metadata": {},
     "output_type": "execute_result"
    }
   ],
   "source": [
    "d['a']"
   ]
  },
  {
   "cell_type": "code",
   "execution_count": 29,
   "id": "dfe84f5d",
   "metadata": {},
   "outputs": [
    {
     "ename": "KeyError",
     "evalue": "'Wrong'",
     "output_type": "error",
     "traceback": [
      "\u001b[1;31m---------------------------------------------------------------------------\u001b[0m",
      "\u001b[1;31mKeyError\u001b[0m                                  Traceback (most recent call last)",
      "\u001b[1;32m~\\AppData\\Local\\Temp/ipykernel_9444/1372409748.py\u001b[0m in \u001b[0;36m<module>\u001b[1;34m\u001b[0m\n\u001b[1;32m----> 1\u001b[1;33m \u001b[0md\u001b[0m\u001b[1;33m[\u001b[0m\u001b[1;34m'Wrong'\u001b[0m\u001b[1;33m]\u001b[0m\u001b[1;33m\u001b[0m\u001b[1;33m\u001b[0m\u001b[0m\n\u001b[0m",
      "\u001b[1;31mKeyError\u001b[0m: 'Wrong'"
     ]
    }
   ],
   "source": [
    "d['Wrong']"
   ]
  },
  {
   "cell_type": "markdown",
   "id": "729389c3",
   "metadata": {},
   "source": [
    "The __defaultdict()__ method"
   ]
  },
  {
   "cell_type": "code",
   "execution_count": 30,
   "id": "4a1e9bff",
   "metadata": {},
   "outputs": [],
   "source": [
    "d = defaultdict(lambda: 0)"
   ]
  },
  {
   "cell_type": "code",
   "execution_count": 31,
   "id": "8ee00dc0",
   "metadata": {},
   "outputs": [],
   "source": [
    "d['Correct'] = 100"
   ]
  },
  {
   "cell_type": "code",
   "execution_count": 32,
   "id": "74e55760",
   "metadata": {},
   "outputs": [
    {
     "data": {
      "text/plain": [
       "100"
      ]
     },
     "execution_count": 32,
     "metadata": {},
     "output_type": "execute_result"
    }
   ],
   "source": [
    "d['Correct']"
   ]
  },
  {
   "cell_type": "code",
   "execution_count": 33,
   "id": "a53df4e2",
   "metadata": {},
   "outputs": [
    {
     "data": {
      "text/plain": [
       "0"
      ]
     },
     "execution_count": 33,
     "metadata": {},
     "output_type": "execute_result"
    }
   ],
   "source": [
    "d['Wrong Key']"
   ]
  },
  {
   "cell_type": "code",
   "execution_count": 34,
   "id": "7ffc2b8c",
   "metadata": {},
   "outputs": [
    {
     "data": {
      "text/plain": [
       "defaultdict(<function __main__.<lambda>()>, {'Correct': 100, 'Wrong Key': 0})"
      ]
     },
     "execution_count": 34,
     "metadata": {},
     "output_type": "execute_result"
    }
   ],
   "source": [
    "d"
   ]
  },
  {
   "cell_type": "markdown",
   "id": "73de2ade",
   "metadata": {},
   "source": [
    "#### Named Tuples"
   ]
  },
  {
   "cell_type": "code",
   "execution_count": 35,
   "id": "8f36941f",
   "metadata": {},
   "outputs": [],
   "source": [
    "mytuple = (10,20,30,40,50)"
   ]
  },
  {
   "cell_type": "code",
   "execution_count": 36,
   "id": "9a6c83ea",
   "metadata": {},
   "outputs": [
    {
     "data": {
      "text/plain": [
       "10"
      ]
     },
     "execution_count": 36,
     "metadata": {},
     "output_type": "execute_result"
    }
   ],
   "source": [
    "mytuple[0]"
   ]
  },
  {
   "cell_type": "markdown",
   "id": "d68a28ba",
   "metadata": {},
   "source": [
    "The __namedtuple()__ method "
   ]
  },
  {
   "cell_type": "code",
   "execution_count": 37,
   "id": "3e23321b",
   "metadata": {},
   "outputs": [],
   "source": [
    "from collections import namedtuple"
   ]
  },
  {
   "cell_type": "code",
   "execution_count": 38,
   "id": "382d2a07",
   "metadata": {},
   "outputs": [],
   "source": [
    "Dog = namedtuple('Dog',['age','breed','name'])"
   ]
  },
  {
   "cell_type": "code",
   "execution_count": 39,
   "id": "61017243",
   "metadata": {},
   "outputs": [],
   "source": [
    "Eros = Dog(age=5,breed='French Bulldog',name='Eros')"
   ]
  },
  {
   "cell_type": "code",
   "execution_count": 40,
   "id": "3356904d",
   "metadata": {},
   "outputs": [
    {
     "data": {
      "text/plain": [
       "__main__.Dog"
      ]
     },
     "execution_count": 40,
     "metadata": {},
     "output_type": "execute_result"
    }
   ],
   "source": [
    "type(Eros)"
   ]
  },
  {
   "cell_type": "code",
   "execution_count": 41,
   "id": "c280d1e6",
   "metadata": {},
   "outputs": [
    {
     "data": {
      "text/plain": [
       "Dog(age=5, breed='French Bulldog', name='Eros')"
      ]
     },
     "execution_count": 41,
     "metadata": {},
     "output_type": "execute_result"
    }
   ],
   "source": [
    "Eros"
   ]
  },
  {
   "cell_type": "markdown",
   "id": "2d508699",
   "metadata": {},
   "source": [
    "Can be called as if they were attributes"
   ]
  },
  {
   "cell_type": "code",
   "execution_count": 42,
   "id": "c123982c",
   "metadata": {},
   "outputs": [
    {
     "data": {
      "text/plain": [
       "5"
      ]
     },
     "execution_count": 42,
     "metadata": {},
     "output_type": "execute_result"
    }
   ],
   "source": [
    "Eros.age"
   ]
  },
  {
   "cell_type": "code",
   "execution_count": 43,
   "id": "4aef455f",
   "metadata": {},
   "outputs": [
    {
     "data": {
      "text/plain": [
       "'French Bulldog'"
      ]
     },
     "execution_count": 43,
     "metadata": {},
     "output_type": "execute_result"
    }
   ],
   "source": [
    "Eros.breed"
   ]
  },
  {
   "cell_type": "code",
   "execution_count": 44,
   "id": "f19889b0",
   "metadata": {},
   "outputs": [
    {
     "data": {
      "text/plain": [
       "'Eros'"
      ]
     },
     "execution_count": 44,
     "metadata": {},
     "output_type": "execute_result"
    }
   ],
   "source": [
    "Eros.name"
   ]
  },
  {
   "cell_type": "markdown",
   "id": "c6c8cd57",
   "metadata": {},
   "source": [
    "Also can be called by index position"
   ]
  },
  {
   "cell_type": "code",
   "execution_count": 45,
   "id": "6a597dee",
   "metadata": {},
   "outputs": [
    {
     "data": {
      "text/plain": [
       "5"
      ]
     },
     "execution_count": 45,
     "metadata": {},
     "output_type": "execute_result"
    }
   ],
   "source": [
    "Eros[0]"
   ]
  },
  {
   "cell_type": "code",
   "execution_count": 46,
   "id": "25bb7d05",
   "metadata": {},
   "outputs": [
    {
     "data": {
      "text/plain": [
       "'French Bulldog'"
      ]
     },
     "execution_count": 46,
     "metadata": {},
     "output_type": "execute_result"
    }
   ],
   "source": [
    "Eros[1]"
   ]
  },
  {
   "cell_type": "code",
   "execution_count": 47,
   "id": "30bcde09",
   "metadata": {},
   "outputs": [
    {
     "data": {
      "text/plain": [
       "'Eros'"
      ]
     },
     "execution_count": 47,
     "metadata": {},
     "output_type": "execute_result"
    }
   ],
   "source": [
    "Eros[2]"
   ]
  }
 ],
 "metadata": {
  "kernelspec": {
   "display_name": "Python 3 (ipykernel)",
   "language": "python",
   "name": "python3"
  },
  "language_info": {
   "codemirror_mode": {
    "name": "ipython",
    "version": 3
   },
   "file_extension": ".py",
   "mimetype": "text/x-python",
   "name": "python",
   "nbconvert_exporter": "python",
   "pygments_lexer": "ipython3",
   "version": "3.9.7"
  }
 },
 "nbformat": 4,
 "nbformat_minor": 5
}

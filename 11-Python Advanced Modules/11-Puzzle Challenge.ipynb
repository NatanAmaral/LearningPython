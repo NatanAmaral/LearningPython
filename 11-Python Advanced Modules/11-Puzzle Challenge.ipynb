{
 "cells": [
  {
   "cell_type": "code",
   "execution_count": 1,
   "id": "290f4f5e",
   "metadata": {},
   "outputs": [],
   "source": [
    "import shutil"
   ]
  },
  {
   "cell_type": "code",
   "execution_count": 21,
   "id": "22cb352a",
   "metadata": {},
   "outputs": [],
   "source": [
    "shutil.unpack_archive('unzip_me_for_instructions.zip','','zip')"
   ]
  },
  {
   "cell_type": "code",
   "execution_count": 22,
   "id": "bde84d3c",
   "metadata": {},
   "outputs": [
    {
     "name": "stdout",
     "output_type": "stream",
     "text": [
      "Good work on unzipping the file!\n",
      "You should now see 5 folders, each with a lot of random .txt files.\n",
      "Within one of these text files is a telephone number formated ###-###-#### \n",
      "Use the Python os module and regular expressions to iterate through each file, open it, and search for a telephone number.\n",
      "Good luck!\n"
     ]
    }
   ],
   "source": [
    "with open('extracted_content/Instructions.txt') as f:\n",
    "    content = f.read()\n",
    "    print(content)"
   ]
  },
  {
   "cell_type": "code",
   "execution_count": 3,
   "id": "2cf0d05e",
   "metadata": {},
   "outputs": [],
   "source": [
    "import re"
   ]
  },
  {
   "cell_type": "code",
   "execution_count": 23,
   "id": "2a53f5c0",
   "metadata": {},
   "outputs": [],
   "source": [
    "pattern = r'\\d{3}-\\d{3}-\\d{4}'"
   ]
  },
  {
   "cell_type": "code",
   "execution_count": 24,
   "id": "a653a107",
   "metadata": {},
   "outputs": [],
   "source": [
    "test_string = 'phone is 123-123-1234'"
   ]
  },
  {
   "cell_type": "code",
   "execution_count": 25,
   "id": "daf71c57",
   "metadata": {},
   "outputs": [
    {
     "data": {
      "text/plain": [
       "['123-123-1234']"
      ]
     },
     "execution_count": 25,
     "metadata": {},
     "output_type": "execute_result"
    }
   ],
   "source": [
    "re.findall(pattern,test_string)"
   ]
  },
  {
   "cell_type": "code",
   "execution_count": 26,
   "id": "b7e9a983",
   "metadata": {},
   "outputs": [],
   "source": [
    "def search(file,pattern=r'\\d{3}-\\d{3}-\\d{4}'):\n",
    "    f = open(file,'r')\n",
    "    text = f.read()\n",
    "    \n",
    "    if re.search(pattern,text):\n",
    "        return re.search(pattern,text)\n",
    "    else:\n",
    "        return ''"
   ]
  },
  {
   "cell_type": "code",
   "execution_count": 27,
   "id": "6681a87c",
   "metadata": {},
   "outputs": [],
   "source": [
    "import os"
   ]
  },
  {
   "cell_type": "code",
   "execution_count": 28,
   "id": "17c4c368",
   "metadata": {},
   "outputs": [],
   "source": [
    "results = []"
   ]
  },
  {
   "cell_type": "code",
   "execution_count": 30,
   "id": "a1f7f6ee",
   "metadata": {},
   "outputs": [
    {
     "data": {
      "text/plain": [
       "'C:\\\\Users\\\\T-Gamer\\\\Desktop\\\\LearningPython_Jupyter\\\\11-Python Advanced Modules\\\\extracted_content'"
      ]
     },
     "execution_count": 30,
     "metadata": {},
     "output_type": "execute_result"
    }
   ],
   "source": [
    "os.getcwd()+'\\\\extracted_content'"
   ]
  },
  {
   "cell_type": "code",
   "execution_count": 33,
   "id": "837e8972",
   "metadata": {},
   "outputs": [],
   "source": [
    "for folder,sub_folders,files in os.walk(os.getcwd()+'\\\\extracted_content'):\n",
    "    \n",
    "    for f in files:\n",
    "        full_path = folder+'\\\\'+f\n",
    "        \n",
    "        results.append(search(full_path))"
   ]
  },
  {
   "cell_type": "code",
   "execution_count": 34,
   "id": "4db258f1",
   "metadata": {},
   "outputs": [
    {
     "name": "stdout",
     "output_type": "stream",
     "text": [
      "719-266-2837\n"
     ]
    }
   ],
   "source": [
    "for r in results:\n",
    "    if r != '':\n",
    "        print(r.group())"
   ]
  }
 ],
 "metadata": {
  "kernelspec": {
   "display_name": "Python 3 (ipykernel)",
   "language": "python",
   "name": "python3"
  },
  "language_info": {
   "codemirror_mode": {
    "name": "ipython",
    "version": 3
   },
   "file_extension": ".py",
   "mimetype": "text/x-python",
   "name": "python",
   "nbconvert_exporter": "python",
   "pygments_lexer": "ipython3",
   "version": "3.9.7"
  }
 },
 "nbformat": 4,
 "nbformat_minor": 5
}

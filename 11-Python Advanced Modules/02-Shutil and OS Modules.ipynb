{
 "cells": [
  {
   "cell_type": "markdown",
   "id": "0b95e439",
   "metadata": {},
   "source": [
    "### Opening and Reading Files and Folders"
   ]
  },
  {
   "cell_type": "code",
   "execution_count": 1,
   "id": "9554a1a6",
   "metadata": {},
   "outputs": [
    {
     "data": {
      "text/plain": [
       "'C:\\\\Users\\\\T-Gamer\\\\Desktop\\\\LearningPython_Jupyter\\\\11-Python Advanced Modules'"
      ]
     },
     "execution_count": 1,
     "metadata": {},
     "output_type": "execute_result"
    }
   ],
   "source": [
    "pwd"
   ]
  },
  {
   "cell_type": "code",
   "execution_count": 2,
   "id": "4572667b",
   "metadata": {},
   "outputs": [],
   "source": [
    "f = open('practice.txt','w+')\n",
    "f.write('This is a test string!')\n",
    "f.close()"
   ]
  },
  {
   "cell_type": "code",
   "execution_count": 3,
   "id": "0e7c45dc",
   "metadata": {},
   "outputs": [],
   "source": [
    "import os "
   ]
  },
  {
   "cell_type": "markdown",
   "id": "9219efba",
   "metadata": {},
   "source": [
    "#### os.getcwd()"
   ]
  },
  {
   "cell_type": "markdown",
   "id": "3806c9fb",
   "metadata": {},
   "source": [
    "Gets the __current working directory__"
   ]
  },
  {
   "cell_type": "code",
   "execution_count": 4,
   "id": "5debc343",
   "metadata": {},
   "outputs": [
    {
     "data": {
      "text/plain": [
       "'C:\\\\Users\\\\T-Gamer\\\\Desktop\\\\LearningPython_Jupyter\\\\11-Python Advanced Modules'"
      ]
     },
     "execution_count": 4,
     "metadata": {},
     "output_type": "execute_result"
    }
   ],
   "source": [
    "os.getcwd()"
   ]
  },
  {
   "cell_type": "markdown",
   "id": "9915d672",
   "metadata": {},
   "source": [
    "#### os.listdir()"
   ]
  },
  {
   "cell_type": "markdown",
   "id": "08c961ac",
   "metadata": {},
   "source": [
    "List all the items in any directory"
   ]
  },
  {
   "cell_type": "code",
   "execution_count": 5,
   "id": "edab8633",
   "metadata": {},
   "outputs": [
    {
     "data": {
      "text/plain": [
       "['.ipynb_checkpoints',\n",
       " '01-Collections Module.ipynb',\n",
       " '02-Shutil and OS Modules.ipynb',\n",
       " 'practice.txt']"
      ]
     },
     "execution_count": 5,
     "metadata": {},
     "output_type": "execute_result"
    }
   ],
   "source": [
    "os.listdir()"
   ]
  },
  {
   "cell_type": "code",
   "execution_count": 6,
   "id": "51fb53b8",
   "metadata": {},
   "outputs": [
    {
     "data": {
      "text/plain": [
       "['All Users',\n",
       " 'Default',\n",
       " 'Default User',\n",
       " 'desktop.ini',\n",
       " 'Public',\n",
       " 'T-Gamer',\n",
       " 'Todos os Usuários',\n",
       " 'Usuário Padrão']"
      ]
     },
     "execution_count": 6,
     "metadata": {},
     "output_type": "execute_result"
    }
   ],
   "source": [
    "os.listdir('C:\\\\Users')"
   ]
  },
  {
   "cell_type": "markdown",
   "id": "d8cbca38",
   "metadata": {},
   "source": [
    "#### shutil.move()"
   ]
  },
  {
   "cell_type": "markdown",
   "id": "5f4ebf47",
   "metadata": {},
   "source": [
    "Moving files to different locations"
   ]
  },
  {
   "cell_type": "code",
   "execution_count": 8,
   "id": "4c989fcd",
   "metadata": {},
   "outputs": [],
   "source": [
    "import shutil"
   ]
  },
  {
   "cell_type": "code",
   "execution_count": 9,
   "id": "9ff0e783",
   "metadata": {},
   "outputs": [
    {
     "data": {
      "text/plain": [
       "'C:\\\\Users\\\\T-Gamer\\\\practice.txt'"
      ]
     },
     "execution_count": 9,
     "metadata": {},
     "output_type": "execute_result"
    }
   ],
   "source": [
    "shutil.move('practice.txt','C:\\\\Users\\\\T-Gamer')"
   ]
  },
  {
   "cell_type": "code",
   "execution_count": 10,
   "id": "c756a466",
   "metadata": {},
   "outputs": [
    {
     "data": {
      "text/plain": [
       "['.anaconda',\n",
       " '.bash_history',\n",
       " '.conda',\n",
       " '.condarc',\n",
       " '.continuum',\n",
       " '.ipynb_checkpoints',\n",
       " '.ipython',\n",
       " '.jupyter',\n",
       " '.Origin',\n",
       " '.pylint.d',\n",
       " '.python_history',\n",
       " '.QtWebEngineProcess',\n",
       " '.vscode',\n",
       " '3D Objects',\n",
       " 'Ambiente de Impressão',\n",
       " 'Ambiente de Rede',\n",
       " 'AMD_Chipset_IODrivers.log',\n",
       " 'anaconda3',\n",
       " 'AppData',\n",
       " 'Apple',\n",
       " 'ChipsetExtraction.log',\n",
       " 'Configurações Locais',\n",
       " 'Contacts',\n",
       " 'Cookies',\n",
       " 'Dados de Aplicativos',\n",
       " 'Desktop',\n",
       " 'Device_ID.log',\n",
       " 'Documents',\n",
       " 'Downloads',\n",
       " 'eTeks',\n",
       " 'Favorites',\n",
       " 'Intel',\n",
       " 'IntelGraphicsProfiles',\n",
       " 'Links',\n",
       " 'Menu Iniciar',\n",
       " 'Meus Documentos',\n",
       " 'MicrosoftEdgeBackups',\n",
       " 'Modelos',\n",
       " 'Music',\n",
       " 'NTUSER.DAT',\n",
       " 'ntuser.dat.LOG1',\n",
       " 'ntuser.dat.LOG2',\n",
       " 'NTUSER.DAT{fd9a35da-49fe-11e9-aa2c-248a07783950}.TxR.0.regtrans-ms',\n",
       " 'NTUSER.DAT{fd9a35da-49fe-11e9-aa2c-248a07783950}.TxR.1.regtrans-ms',\n",
       " 'NTUSER.DAT{fd9a35da-49fe-11e9-aa2c-248a07783950}.TxR.2.regtrans-ms',\n",
       " 'NTUSER.DAT{fd9a35da-49fe-11e9-aa2c-248a07783950}.TxR.blf',\n",
       " 'NTUSER.DAT{fd9a35db-49fe-11e9-aa2c-248a07783950}.TM.blf',\n",
       " 'NTUSER.DAT{fd9a35db-49fe-11e9-aa2c-248a07783950}.TMContainer00000000000000000001.regtrans-ms',\n",
       " 'NTUSER.DAT{fd9a35db-49fe-11e9-aa2c-248a07783950}.TMContainer00000000000000000002.regtrans-ms',\n",
       " 'ntuser.ini',\n",
       " 'OneDrive',\n",
       " 'Pictures',\n",
       " 'practice.txt',\n",
       " 'Recent',\n",
       " 'Saved Games',\n",
       " 'Searches',\n",
       " 'SendTo',\n",
       " 'Tracing',\n",
       " 'Videos']"
      ]
     },
     "execution_count": 10,
     "metadata": {},
     "output_type": "execute_result"
    }
   ],
   "source": [
    "os.listdir('C:\\\\Users\\\\T-Gamer')"
   ]
  },
  {
   "cell_type": "markdown",
   "id": "3d7f0140",
   "metadata": {},
   "source": [
    "#### send2trash.send2trash()"
   ]
  },
  {
   "cell_type": "markdown",
   "id": "1333e55d",
   "metadata": {},
   "source": [
    "Deleting files "
   ]
  },
  {
   "cell_type": "code",
   "execution_count": 11,
   "id": "df0659be",
   "metadata": {},
   "outputs": [],
   "source": [
    "import send2trash"
   ]
  },
  {
   "cell_type": "code",
   "execution_count": 12,
   "id": "e65a388f",
   "metadata": {},
   "outputs": [
    {
     "data": {
      "text/plain": [
       "['.ipynb_checkpoints',\n",
       " '01-Collections Module.ipynb',\n",
       " '02-Shutil and OS Modules.ipynb']"
      ]
     },
     "execution_count": 12,
     "metadata": {},
     "output_type": "execute_result"
    }
   ],
   "source": [
    "os.listdir()"
   ]
  },
  {
   "cell_type": "code",
   "execution_count": 13,
   "id": "b0200032",
   "metadata": {},
   "outputs": [
    {
     "data": {
      "text/plain": [
       "'C:\\\\Users\\\\T-Gamer\\\\Desktop\\\\LearningPython_Jupyter\\\\11-Python Advanced Modules\\\\practice.txt'"
      ]
     },
     "execution_count": 13,
     "metadata": {},
     "output_type": "execute_result"
    }
   ],
   "source": [
    "shutil.move('C:\\\\Users\\\\T-Gamer\\\\practice.txt',os.getcwd())"
   ]
  },
  {
   "cell_type": "code",
   "execution_count": 14,
   "id": "650fdaa8",
   "metadata": {},
   "outputs": [
    {
     "data": {
      "text/plain": [
       "['.ipynb_checkpoints',\n",
       " '01-Collections Module.ipynb',\n",
       " '02-Shutil and OS Modules.ipynb',\n",
       " 'practice.txt']"
      ]
     },
     "execution_count": 14,
     "metadata": {},
     "output_type": "execute_result"
    }
   ],
   "source": [
    "os.listdir()"
   ]
  },
  {
   "cell_type": "code",
   "execution_count": 15,
   "id": "50ccf584",
   "metadata": {},
   "outputs": [],
   "source": [
    "send2trash.send2trash('practice.txt')"
   ]
  },
  {
   "cell_type": "code",
   "execution_count": 16,
   "id": "57933af7",
   "metadata": {},
   "outputs": [
    {
     "data": {
      "text/plain": [
       "['.ipynb_checkpoints',\n",
       " '01-Collections Module.ipynb',\n",
       " '02-Shutil and OS Modules.ipynb']"
      ]
     },
     "execution_count": 16,
     "metadata": {},
     "output_type": "execute_result"
    }
   ],
   "source": [
    "os.listdir()"
   ]
  },
  {
   "cell_type": "markdown",
   "id": "1f879462",
   "metadata": {},
   "source": [
    "#### os.walk()"
   ]
  },
  {
   "cell_type": "markdown",
   "id": "2e01b0bf",
   "metadata": {},
   "source": [
    "It's a directory tree generator"
   ]
  },
  {
   "cell_type": "code",
   "execution_count": 17,
   "id": "eee49abc",
   "metadata": {},
   "outputs": [
    {
     "data": {
      "text/plain": [
       "'C:\\\\Users\\\\T-Gamer\\\\Desktop\\\\LearningPython_Jupyter\\\\11-Python Advanced Modules'"
      ]
     },
     "execution_count": 17,
     "metadata": {},
     "output_type": "execute_result"
    }
   ],
   "source": [
    "os.getcwd()"
   ]
  },
  {
   "cell_type": "code",
   "execution_count": 18,
   "id": "c02a068b",
   "metadata": {},
   "outputs": [],
   "source": [
    "file_path = 'C:\\\\Users\\\\T-Gamer\\\\Desktop\\\\LearningPython_Jupyter\\\\11-Python Advanced Modules\\\\Example_Top_Level'"
   ]
  },
  {
   "cell_type": "code",
   "execution_count": 19,
   "id": "40d5b62b",
   "metadata": {},
   "outputs": [
    {
     "name": "stdout",
     "output_type": "stream",
     "text": [
      "Currently looking at C:\\Users\\T-Gamer\\Desktop\\LearningPython_Jupyter\\11-Python Advanced Modules\\Example_Top_Level\n",
      "\n",
      "\n",
      "The subfolders are: \n",
      "\t Subfolder: .ipynb_checkpoints\n",
      "\t Subfolder: Mid-Example-One\n",
      "\t Subfolder: Mid-Example-Two\n",
      "\n",
      "\n",
      "The files are: \n",
      "\t File: Mid-Example.txt\n",
      "\n",
      "\n",
      "Currently looking at C:\\Users\\T-Gamer\\Desktop\\LearningPython_Jupyter\\11-Python Advanced Modules\\Example_Top_Level\\.ipynb_checkpoints\n",
      "\n",
      "\n",
      "The subfolders are: \n",
      "\n",
      "\n",
      "The files are: \n",
      "\n",
      "\n",
      "Currently looking at C:\\Users\\T-Gamer\\Desktop\\LearningPython_Jupyter\\11-Python Advanced Modules\\Example_Top_Level\\Mid-Example-One\n",
      "\n",
      "\n",
      "The subfolders are: \n",
      "\t Subfolder: .ipynb_checkpoints\n",
      "\t Subfolder: Bottom-Level-One\n",
      "\t Subfolder: Bottom-Level-Two\n",
      "\n",
      "\n",
      "The files are: \n",
      "\t File: Mid-Level-Doc.txt\n",
      "\n",
      "\n",
      "Currently looking at C:\\Users\\T-Gamer\\Desktop\\LearningPython_Jupyter\\11-Python Advanced Modules\\Example_Top_Level\\Mid-Example-One\\.ipynb_checkpoints\n",
      "\n",
      "\n",
      "The subfolders are: \n",
      "\n",
      "\n",
      "The files are: \n",
      "\n",
      "\n",
      "Currently looking at C:\\Users\\T-Gamer\\Desktop\\LearningPython_Jupyter\\11-Python Advanced Modules\\Example_Top_Level\\Mid-Example-One\\Bottom-Level-One\n",
      "\n",
      "\n",
      "The subfolders are: \n",
      "\t Subfolder: .ipynb_checkpoints\n",
      "\n",
      "\n",
      "The files are: \n",
      "\t File: One_Text.txt\n",
      "\n",
      "\n",
      "Currently looking at C:\\Users\\T-Gamer\\Desktop\\LearningPython_Jupyter\\11-Python Advanced Modules\\Example_Top_Level\\Mid-Example-One\\Bottom-Level-One\\.ipynb_checkpoints\n",
      "\n",
      "\n",
      "The subfolders are: \n",
      "\n",
      "\n",
      "The files are: \n",
      "\n",
      "\n",
      "Currently looking at C:\\Users\\T-Gamer\\Desktop\\LearningPython_Jupyter\\11-Python Advanced Modules\\Example_Top_Level\\Mid-Example-One\\Bottom-Level-Two\n",
      "\n",
      "\n",
      "The subfolders are: \n",
      "\t Subfolder: .ipynb_checkpoints\n",
      "\n",
      "\n",
      "The files are: \n",
      "\t File: Bottom_Text_Two.txt\n",
      "\n",
      "\n",
      "Currently looking at C:\\Users\\T-Gamer\\Desktop\\LearningPython_Jupyter\\11-Python Advanced Modules\\Example_Top_Level\\Mid-Example-One\\Bottom-Level-Two\\.ipynb_checkpoints\n",
      "\n",
      "\n",
      "The subfolders are: \n",
      "\n",
      "\n",
      "The files are: \n",
      "\n",
      "\n",
      "Currently looking at C:\\Users\\T-Gamer\\Desktop\\LearningPython_Jupyter\\11-Python Advanced Modules\\Example_Top_Level\\Mid-Example-Two\n",
      "\n",
      "\n",
      "The subfolders are: \n",
      "\n",
      "\n",
      "The files are: \n",
      "\n",
      "\n"
     ]
    }
   ],
   "source": [
    "for folder, sub_folders, files in os.walk(file_path):\n",
    "    \n",
    "    print(f'Currently looking at {folder}')\n",
    "    print('\\n')\n",
    "    print('The subfolders are: ')\n",
    "    for sub_fold in sub_folders:\n",
    "        print(f'\\t Subfolder: {sub_fold}')\n",
    "        \n",
    "    print('\\n')\n",
    "    print('The files are: ')\n",
    "    for f in files:\n",
    "        print(f'\\t File: {f}')\n",
    "    print('\\n')"
   ]
  }
 ],
 "metadata": {
  "kernelspec": {
   "display_name": "Python 3 (ipykernel)",
   "language": "python",
   "name": "python3"
  },
  "language_info": {
   "codemirror_mode": {
    "name": "ipython",
    "version": 3
   },
   "file_extension": ".py",
   "mimetype": "text/x-python",
   "name": "python",
   "nbconvert_exporter": "python",
   "pygments_lexer": "ipython3",
   "version": "3.9.7"
  }
 },
 "nbformat": 4,
 "nbformat_minor": 5
}

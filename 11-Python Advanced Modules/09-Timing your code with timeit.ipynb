{
 "cells": [
  {
   "cell_type": "markdown",
   "id": "5d31db38",
   "metadata": {},
   "source": [
    "### Creating two functions"
   ]
  },
  {
   "cell_type": "markdown",
   "id": "2b08e369",
   "metadata": {},
   "source": [
    "The two following functions will be performing the same task"
   ]
  },
  {
   "cell_type": "markdown",
   "id": "e0af0812",
   "metadata": {},
   "source": [
    "#### Function One"
   ]
  },
  {
   "cell_type": "code",
   "execution_count": 1,
   "id": "3a40821f",
   "metadata": {},
   "outputs": [],
   "source": [
    "def func_one(n):\n",
    "    return [str(num) for num in range(n)]"
   ]
  },
  {
   "cell_type": "code",
   "execution_count": 2,
   "id": "1569a566",
   "metadata": {},
   "outputs": [
    {
     "data": {
      "text/plain": [
       "['0', '1', '2', '3', '4', '5', '6', '7', '8', '9']"
      ]
     },
     "execution_count": 2,
     "metadata": {},
     "output_type": "execute_result"
    }
   ],
   "source": [
    "func_one(10)"
   ]
  },
  {
   "cell_type": "markdown",
   "id": "5807da88",
   "metadata": {},
   "source": [
    "#### Function Two "
   ]
  },
  {
   "cell_type": "code",
   "execution_count": 3,
   "id": "f6db2588",
   "metadata": {},
   "outputs": [],
   "source": [
    "def func_two(n):\n",
    "    return list(map(str,range(n)))"
   ]
  },
  {
   "cell_type": "code",
   "execution_count": 4,
   "id": "7d3cdfd6",
   "metadata": {},
   "outputs": [
    {
     "data": {
      "text/plain": [
       "['0', '1', '2', '3', '4', '5', '6', '7', '8', '9']"
      ]
     },
     "execution_count": 4,
     "metadata": {},
     "output_type": "execute_result"
    }
   ],
   "source": [
    "func_two(10)"
   ]
  },
  {
   "cell_type": "markdown",
   "id": "6fd8081f",
   "metadata": {},
   "source": [
    "Now we want to know which of them is the most efficient "
   ]
  },
  {
   "cell_type": "markdown",
   "id": "811200e1",
   "metadata": {},
   "source": [
    "### Time"
   ]
  },
  {
   "cell_type": "code",
   "execution_count": 5,
   "id": "c5f9daec",
   "metadata": {},
   "outputs": [],
   "source": [
    " import time"
   ]
  },
  {
   "cell_type": "markdown",
   "id": "f0f2be38",
   "metadata": {},
   "source": [
    "Trying for __func_one__"
   ]
  },
  {
   "cell_type": "code",
   "execution_count": 6,
   "id": "8a025f85",
   "metadata": {},
   "outputs": [
    {
     "name": "stdout",
     "output_type": "stream",
     "text": [
      "0.23437213897705078\n"
     ]
    }
   ],
   "source": [
    "# CURRENT TIME BEFORE\n",
    "start_time = time.time()\n",
    "\n",
    "# RUN CODE\n",
    "result = func_one(1000000)\n",
    "\n",
    "# CURRENT TIME AFTER\n",
    "end_time = time.time()\n",
    "\n",
    "# ELAPSED TIME\n",
    "elapsed_time = end_time - start_time\n",
    "\n",
    "print(elapsed_time)"
   ]
  },
  {
   "cell_type": "markdown",
   "id": "5c873843",
   "metadata": {},
   "source": [
    "Trying for __func_two__"
   ]
  },
  {
   "cell_type": "code",
   "execution_count": 7,
   "id": "9397a4f5",
   "metadata": {},
   "outputs": [
    {
     "name": "stdout",
     "output_type": "stream",
     "text": [
      "0.20544910430908203\n"
     ]
    }
   ],
   "source": [
    "# CURRENT TIME BEFORE\n",
    "start_time = time.time()\n",
    "\n",
    "# RUN CODE\n",
    "result = func_two(1000000)\n",
    "\n",
    "# CURRENT TIME AFTER\n",
    "end_time = time.time()\n",
    "\n",
    "# ELAPSED TIME\n",
    "elapsed_time = end_time - start_time\n",
    "\n",
    "print(elapsed_time)"
   ]
  },
  {
   "cell_type": "markdown",
   "id": "cfe7653a",
   "metadata": {},
   "source": [
    "### timeit Module"
   ]
  },
  {
   "cell_type": "code",
   "execution_count": 8,
   "id": "6ae58a83",
   "metadata": {},
   "outputs": [],
   "source": [
    "import timeit"
   ]
  },
  {
   "cell_type": "markdown",
   "id": "0979600b",
   "metadata": {},
   "source": [
    "Testing __func_one__"
   ]
  },
  {
   "cell_type": "code",
   "execution_count": 10,
   "id": "d1d56d8a",
   "metadata": {},
   "outputs": [],
   "source": [
    "stmt = ''' \n",
    "func_one(100)\n",
    "'''"
   ]
  },
  {
   "cell_type": "code",
   "execution_count": 11,
   "id": "ae7bbcd5",
   "metadata": {},
   "outputs": [],
   "source": [
    "setup = '''\n",
    "def func_one(n):\n",
    "    return [str(num) for num in range(n)]\n",
    "'''"
   ]
  },
  {
   "cell_type": "code",
   "execution_count": 12,
   "id": "ecfef642",
   "metadata": {},
   "outputs": [
    {
     "data": {
      "text/plain": [
       "1.639875800000027"
      ]
     },
     "execution_count": 12,
     "metadata": {},
     "output_type": "execute_result"
    }
   ],
   "source": [
    "timeit.timeit(stmt,setup,number=100000)"
   ]
  },
  {
   "cell_type": "markdown",
   "id": "0167b219",
   "metadata": {},
   "source": [
    "Testing __func_two__"
   ]
  },
  {
   "cell_type": "code",
   "execution_count": 13,
   "id": "bcdbb839",
   "metadata": {},
   "outputs": [],
   "source": [
    "stmt2 = ''' \n",
    "func_two(100)\n",
    "'''"
   ]
  },
  {
   "cell_type": "code",
   "execution_count": 14,
   "id": "88c6970e",
   "metadata": {},
   "outputs": [],
   "source": [
    "setup2 = '''\n",
    "def func_two(n):\n",
    "    return list(map(str,range(n)))\n",
    "'''"
   ]
  },
  {
   "cell_type": "code",
   "execution_count": 15,
   "id": "8c75c0c3",
   "metadata": {},
   "outputs": [
    {
     "data": {
      "text/plain": [
       "1.4891237000000501"
      ]
     },
     "execution_count": 15,
     "metadata": {},
     "output_type": "execute_result"
    }
   ],
   "source": [
    "timeit.timeit(stmt2,setup2,number=100000)"
   ]
  },
  {
   "cell_type": "markdown",
   "id": "2081bd48",
   "metadata": {},
   "source": [
    "### %%timeit in Jupyter Notebook"
   ]
  },
  {
   "cell_type": "code",
   "execution_count": 16,
   "id": "65f0fd26",
   "metadata": {},
   "outputs": [
    {
     "name": "stdout",
     "output_type": "stream",
     "text": [
      "16.2 µs ± 187 ns per loop (mean ± std. dev. of 7 runs, 100000 loops each)\n"
     ]
    }
   ],
   "source": [
    "%%timeit\n",
    "func_one(100)"
   ]
  },
  {
   "cell_type": "code",
   "execution_count": 17,
   "id": "64d38575",
   "metadata": {},
   "outputs": [
    {
     "name": "stdout",
     "output_type": "stream",
     "text": [
      "13 µs ± 42.6 ns per loop (mean ± std. dev. of 7 runs, 100000 loops each)\n"
     ]
    }
   ],
   "source": [
    "%%timeit\n",
    "func_two(100)"
   ]
  }
 ],
 "metadata": {
  "kernelspec": {
   "display_name": "Python 3 (ipykernel)",
   "language": "python",
   "name": "python3"
  },
  "language_info": {
   "codemirror_mode": {
    "name": "ipython",
    "version": 3
   },
   "file_extension": ".py",
   "mimetype": "text/x-python",
   "name": "python",
   "nbconvert_exporter": "python",
   "pygments_lexer": "ipython3",
   "version": "3.9.7"
  }
 },
 "nbformat": 4,
 "nbformat_minor": 5
}

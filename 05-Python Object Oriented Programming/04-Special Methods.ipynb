{
 "cells": [
  {
   "cell_type": "markdown",
   "id": "61e0196f",
   "metadata": {},
   "source": [
    "### Special Methods (Magic/Dunder)"
   ]
  },
  {
   "cell_type": "markdown",
   "id": "ab1e5f18",
   "metadata": {},
   "source": [
    "Using built-in Python functions with my own user defined objects"
   ]
  },
  {
   "cell_type": "code",
   "execution_count": 1,
   "id": "b01d22c7",
   "metadata": {},
   "outputs": [],
   "source": [
    "mylist = [1,2,3,4,5]"
   ]
  },
  {
   "cell_type": "code",
   "execution_count": 2,
   "id": "198f1690",
   "metadata": {},
   "outputs": [
    {
     "data": {
      "text/plain": [
       "5"
      ]
     },
     "execution_count": 2,
     "metadata": {},
     "output_type": "execute_result"
    }
   ],
   "source": [
    "len(mylist)"
   ]
  },
  {
   "cell_type": "code",
   "execution_count": 3,
   "id": "b9652906",
   "metadata": {},
   "outputs": [],
   "source": [
    "class Sample():\n",
    "    pass"
   ]
  },
  {
   "cell_type": "code",
   "execution_count": 4,
   "id": "1acc9f03",
   "metadata": {},
   "outputs": [],
   "source": [
    "mysample = Sample()"
   ]
  },
  {
   "cell_type": "code",
   "execution_count": 5,
   "id": "d708c114",
   "metadata": {},
   "outputs": [
    {
     "ename": "TypeError",
     "evalue": "object of type 'Sample' has no len()",
     "output_type": "error",
     "traceback": [
      "\u001b[1;31m---------------------------------------------------------------------------\u001b[0m",
      "\u001b[1;31mTypeError\u001b[0m                                 Traceback (most recent call last)",
      "\u001b[1;32m~\\AppData\\Local\\Temp/ipykernel_9580/3077576814.py\u001b[0m in \u001b[0;36m<module>\u001b[1;34m\u001b[0m\n\u001b[1;32m----> 1\u001b[1;33m \u001b[0mlen\u001b[0m\u001b[1;33m(\u001b[0m\u001b[0mmysample\u001b[0m\u001b[1;33m)\u001b[0m\u001b[1;33m\u001b[0m\u001b[1;33m\u001b[0m\u001b[0m\n\u001b[0m",
      "\u001b[1;31mTypeError\u001b[0m: object of type 'Sample' has no len()"
     ]
    }
   ],
   "source": [
    "len(mysample)"
   ]
  },
  {
   "cell_type": "code",
   "execution_count": null,
   "id": "e53fa0f5",
   "metadata": {},
   "outputs": [],
   "source": [
    "print(mysample)"
   ]
  },
  {
   "cell_type": "code",
   "execution_count": 6,
   "id": "e36479ee",
   "metadata": {},
   "outputs": [
    {
     "name": "stdout",
     "output_type": "stream",
     "text": [
      "[1, 2, 3, 4, 5]\n"
     ]
    }
   ],
   "source": [
    "print(mylist)"
   ]
  },
  {
   "cell_type": "markdown",
   "id": "a08c1ddb",
   "metadata": {},
   "source": [
    "### The Main Ones"
   ]
  },
  {
   "cell_type": "code",
   "execution_count": 7,
   "id": "c2de85c1",
   "metadata": {},
   "outputs": [],
   "source": [
    "class Book():\n",
    "    \n",
    "    def __init__(self,title,author,pages):\n",
    "        \n",
    "        self.title = title\n",
    "        self.author = author \n",
    "        self.pages = pages\n",
    "        \n",
    "        "
   ]
  },
  {
   "cell_type": "code",
   "execution_count": 8,
   "id": "296a9b6e",
   "metadata": {},
   "outputs": [],
   "source": [
    "b = Book('The Karamazov Brothers','Fyodor Dostoevsky',960)"
   ]
  },
  {
   "cell_type": "code",
   "execution_count": 9,
   "id": "f3852693",
   "metadata": {},
   "outputs": [
    {
     "name": "stdout",
     "output_type": "stream",
     "text": [
      "<__main__.Book object at 0x000002568F2EFA60>\n"
     ]
    }
   ],
   "source": [
    "print(b)"
   ]
  },
  {
   "cell_type": "code",
   "execution_count": 10,
   "id": "f2e6e01b",
   "metadata": {},
   "outputs": [
    {
     "data": {
      "text/plain": [
       "'<__main__.Book object at 0x000002568F2EFA60>'"
      ]
     },
     "execution_count": 10,
     "metadata": {},
     "output_type": "execute_result"
    }
   ],
   "source": [
    "str(b)"
   ]
  },
  {
   "cell_type": "markdown",
   "id": "df3d1a10",
   "metadata": {},
   "source": [
    "#### str Special Method"
   ]
  },
  {
   "cell_type": "markdown",
   "id": "5d3ed195",
   "metadata": {},
   "source": [
    "It returns the actual string representation so you can print out user defined objects"
   ]
  },
  {
   "cell_type": "code",
   "execution_count": 11,
   "id": "8220a7a3",
   "metadata": {},
   "outputs": [],
   "source": [
    "class Book():\n",
    "    \n",
    "    def __init__(self,title,author,pages):\n",
    "        \n",
    "        self.title = title\n",
    "        self.author = author \n",
    "        self.pages = pages\n",
    "        \n",
    "    def __str__(self):\n",
    "        return f'{self.title} by {self.author}'\n",
    "    \n",
    "    "
   ]
  },
  {
   "cell_type": "code",
   "execution_count": 12,
   "id": "939a8814",
   "metadata": {},
   "outputs": [],
   "source": [
    "b = Book('The Karamazov Brothers','Fyodor Dostoevsky',960)"
   ]
  },
  {
   "cell_type": "code",
   "execution_count": 13,
   "id": "d9df4f98",
   "metadata": {},
   "outputs": [
    {
     "name": "stdout",
     "output_type": "stream",
     "text": [
      "The Karamazov Brothers by Fyodor Dostoevsky\n"
     ]
    }
   ],
   "source": [
    "print(b)"
   ]
  },
  {
   "cell_type": "markdown",
   "id": "727a0cf1",
   "metadata": {},
   "source": [
    "#### len Special Method "
   ]
  },
  {
   "cell_type": "markdown",
   "id": "30f3f435",
   "metadata": {},
   "source": [
    "It returns back the length so you can return back the length of user defined objects  "
   ]
  },
  {
   "cell_type": "code",
   "execution_count": 14,
   "id": "8c359462",
   "metadata": {},
   "outputs": [],
   "source": [
    "class Book():\n",
    "    \n",
    "    def __init__(self,title,author,pages):\n",
    "        \n",
    "        self.title = title\n",
    "        self.author = author \n",
    "        self.pages = pages\n",
    "        \n",
    "    def __str__(self):\n",
    "        return f'{self.title} by {self.author}'\n",
    "    \n",
    "    def __len__(self):\n",
    "        return self.pages\n",
    "    \n",
    "    "
   ]
  },
  {
   "cell_type": "code",
   "execution_count": 15,
   "id": "00f21147",
   "metadata": {},
   "outputs": [],
   "source": [
    "b = Book('The Karamazov Brothers','Fyodor Dostoevsky',960)"
   ]
  },
  {
   "cell_type": "code",
   "execution_count": 16,
   "id": "8877ec58",
   "metadata": {},
   "outputs": [
    {
     "data": {
      "text/plain": [
       "960"
      ]
     },
     "execution_count": 16,
     "metadata": {},
     "output_type": "execute_result"
    }
   ],
   "source": [
    "len(b)"
   ]
  },
  {
   "cell_type": "markdown",
   "id": "82021c90",
   "metadata": {},
   "source": [
    "#### del Keyword"
   ]
  },
  {
   "cell_type": "markdown",
   "id": "a3d1d114",
   "metadata": {},
   "source": [
    "Used to delete an object"
   ]
  },
  {
   "cell_type": "code",
   "execution_count": 17,
   "id": "d5c9e5c8",
   "metadata": {},
   "outputs": [],
   "source": [
    "del b"
   ]
  },
  {
   "cell_type": "markdown",
   "id": "cf071e98",
   "metadata": {},
   "source": [
    "'b' was deleted "
   ]
  },
  {
   "cell_type": "code",
   "execution_count": 18,
   "id": "5866e38b",
   "metadata": {},
   "outputs": [
    {
     "ename": "NameError",
     "evalue": "name 'b' is not defined",
     "output_type": "error",
     "traceback": [
      "\u001b[1;31m---------------------------------------------------------------------------\u001b[0m",
      "\u001b[1;31mNameError\u001b[0m                                 Traceback (most recent call last)",
      "\u001b[1;32m~\\AppData\\Local\\Temp/ipykernel_9580/1685013873.py\u001b[0m in \u001b[0;36m<module>\u001b[1;34m\u001b[0m\n\u001b[1;32m----> 1\u001b[1;33m \u001b[0mb\u001b[0m\u001b[1;33m\u001b[0m\u001b[1;33m\u001b[0m\u001b[0m\n\u001b[0m",
      "\u001b[1;31mNameError\u001b[0m: name 'b' is not defined"
     ]
    }
   ],
   "source": [
    "b"
   ]
  },
  {
   "cell_type": "markdown",
   "id": "5a0b36b6",
   "metadata": {},
   "source": [
    "#### del Special Method "
   ]
  },
  {
   "cell_type": "markdown",
   "id": "36e44219",
   "metadata": {},
   "source": [
    "It allows you to set certain things to happen when an instance is deleted"
   ]
  },
  {
   "cell_type": "code",
   "execution_count": 19,
   "id": "d2f9ac25",
   "metadata": {},
   "outputs": [],
   "source": [
    "class Book():\n",
    "    \n",
    "    def __init__(self,title,author,pages):\n",
    "        \n",
    "        self.title = title\n",
    "        self.author = author \n",
    "        self.pages = pages\n",
    "        \n",
    "    def __str__(self):\n",
    "        return f'{self.title} by {self.author}'\n",
    "    \n",
    "    def __len__(self):\n",
    "        return self.pages\n",
    "    \n",
    "    def __del__(self):\n",
    "        print('A book object has been deleted')\n",
    "        \n",
    "        "
   ]
  },
  {
   "cell_type": "code",
   "execution_count": 20,
   "id": "4ecac0a5",
   "metadata": {},
   "outputs": [],
   "source": [
    "b = Book('The Karamazov Brothers','Fyodor Dostoevsky',960)"
   ]
  },
  {
   "cell_type": "code",
   "execution_count": 21,
   "id": "046d06c0",
   "metadata": {},
   "outputs": [
    {
     "name": "stdout",
     "output_type": "stream",
     "text": [
      "The Karamazov Brothers by Fyodor Dostoevsky\n"
     ]
    }
   ],
   "source": [
    "print(b)"
   ]
  },
  {
   "cell_type": "code",
   "execution_count": 22,
   "id": "9ca938a3",
   "metadata": {},
   "outputs": [
    {
     "name": "stdout",
     "output_type": "stream",
     "text": [
      "A book object has been deleted\n"
     ]
    }
   ],
   "source": [
    "del b"
   ]
  }
 ],
 "metadata": {
  "kernelspec": {
   "display_name": "Python 3 (ipykernel)",
   "language": "python",
   "name": "python3"
  },
  "language_info": {
   "codemirror_mode": {
    "name": "ipython",
    "version": 3
   },
   "file_extension": ".py",
   "mimetype": "text/x-python",
   "name": "python",
   "nbconvert_exporter": "python",
   "pygments_lexer": "ipython3",
   "version": "3.9.7"
  }
 },
 "nbformat": 4,
 "nbformat_minor": 5
}

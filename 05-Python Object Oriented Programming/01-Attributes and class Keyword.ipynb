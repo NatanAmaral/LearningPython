{
 "cells": [
  {
   "cell_type": "markdown",
   "id": "31b2cb98",
   "metadata": {},
   "source": [
    "### class Keyword"
   ]
  },
  {
   "cell_type": "markdown",
   "id": "cd131ee4",
   "metadata": {},
   "source": [
    "#### Creating a empty class"
   ]
  },
  {
   "cell_type": "markdown",
   "id": "bc19e7dd",
   "metadata": {},
   "source": [
    "By convention, for classes we use camel casing "
   ]
  },
  {
   "cell_type": "code",
   "execution_count": 4,
   "id": "2b9048ff",
   "metadata": {},
   "outputs": [],
   "source": [
    "class Sample():\n",
    "    pass"
   ]
  },
  {
   "cell_type": "markdown",
   "id": "6084a03e",
   "metadata": {},
   "source": [
    "As shown above, a class as just created. We are using __pass__ as placeholder, if we didn't it would gives us back an error"
   ]
  },
  {
   "cell_type": "code",
   "execution_count": 5,
   "id": "57cf094e",
   "metadata": {},
   "outputs": [],
   "source": [
    "my_sample = Sample()"
   ]
  },
  {
   "cell_type": "markdown",
   "id": "ce147881",
   "metadata": {},
   "source": [
    "Here __my_sample__ is an instance of the __Sample()__ class. So the variable name is equal to an instance of __Sample()__"
   ]
  },
  {
   "cell_type": "code",
   "execution_count": 6,
   "id": "2aa06689",
   "metadata": {},
   "outputs": [
    {
     "data": {
      "text/plain": [
       "__main__.Sample"
      ]
     },
     "execution_count": 6,
     "metadata": {},
     "output_type": "execute_result"
    }
   ],
   "source": [
    "type(my_sample)"
   ]
  },
  {
   "cell_type": "markdown",
   "id": "7080aaa6",
   "metadata": {},
   "source": [
    "Above we are just checking the type"
   ]
  },
  {
   "cell_type": "markdown",
   "id": "ac7a8c50",
   "metadata": {},
   "source": [
    "#### Creating attributes"
   ]
  },
  {
   "cell_type": "markdown",
   "id": "4ad13df8",
   "metadata": {},
   "source": [
    "Here the __init__ keyword can be viewed as the constructor for a class, it will be called automatically when you create an instance of the class"
   ]
  },
  {
   "cell_type": "markdown",
   "id": "172efb7e",
   "metadata": {},
   "source": [
    "The __self__ keyword that represents the instance of the object itself"
   ]
  },
  {
   "cell_type": "markdown",
   "id": "a2f01cbc",
   "metadata": {},
   "source": [
    "And __mybreed__ is a variable that is setting to be equal to the attribute __self.breed__ "
   ]
  },
  {
   "cell_type": "code",
   "execution_count": 16,
   "id": "71d5d689",
   "metadata": {},
   "outputs": [],
   "source": [
    "class Dog():\n",
    "    \n",
    "    def __init__(self,mybreed):\n",
    "        \n",
    "        # ATTRIBUTES\n",
    "        # We take in the argument, in this case is mybreed\n",
    "        # And we assign it using self.attribute_name\n",
    "        self.my_attribute = mybreed"
   ]
  },
  {
   "cell_type": "code",
   "execution_count": 17,
   "id": "385414c9",
   "metadata": {},
   "outputs": [],
   "source": [
    "my_dog = Dog(mybreed='Bulldog')"
   ]
  },
  {
   "cell_type": "code",
   "execution_count": 18,
   "id": "d2a42620",
   "metadata": {},
   "outputs": [
    {
     "data": {
      "text/plain": [
       "__main__.Dog"
      ]
     },
     "execution_count": 18,
     "metadata": {},
     "output_type": "execute_result"
    }
   ],
   "source": [
    "type(my_dog)"
   ]
  },
  {
   "cell_type": "markdown",
   "id": "17f608ef",
   "metadata": {},
   "source": [
    "Now, if we check my_dog. using TAB we will see only __my_attribute__. We don't have __mybreed__ available because it was just the parameter name we chose for the argument"
   ]
  },
  {
   "cell_type": "code",
   "execution_count": 20,
   "id": "675b247f",
   "metadata": {},
   "outputs": [
    {
     "data": {
      "text/plain": [
       "'Bulldog'"
      ]
     },
     "execution_count": 20,
     "metadata": {},
     "output_type": "execute_result"
    }
   ],
   "source": [
    "my_dog.my_attribute"
   ]
  },
  {
   "cell_type": "markdown",
   "id": "34a60560",
   "metadata": {},
   "source": [
    "But, by convention we'll use the same name for all three of these, as shown below"
   ]
  },
  {
   "cell_type": "code",
   "execution_count": 24,
   "id": "95519405",
   "metadata": {},
   "outputs": [],
   "source": [
    "class Dog():\n",
    "    \n",
    "    def __init__(self,breed):\n",
    "        \n",
    "        # ATTRIBUTES\n",
    "        # We take in the argument, in this case is mybreed\n",
    "        # And we assign it using self.attribute_name\n",
    "        self.breed = breed"
   ]
  },
  {
   "cell_type": "code",
   "execution_count": 25,
   "id": "b37d1fcf",
   "metadata": {},
   "outputs": [],
   "source": [
    "my_dog = Dog(breed='Doberman')"
   ]
  },
  {
   "cell_type": "code",
   "execution_count": 26,
   "id": "c5af2386",
   "metadata": {},
   "outputs": [
    {
     "data": {
      "text/plain": [
       "'Doberman'"
      ]
     },
     "execution_count": 26,
     "metadata": {},
     "output_type": "execute_result"
    }
   ],
   "source": [
    "my_dog.breed"
   ]
  },
  {
   "cell_type": "markdown",
   "id": "48ce637d",
   "metadata": {},
   "source": [
    "#### Passing other attributes "
   ]
  },
  {
   "cell_type": "code",
   "execution_count": 27,
   "id": "93f0a7e5",
   "metadata": {},
   "outputs": [],
   "source": [
    "class Dog():\n",
    "    \n",
    "    def __init__(self,breed,name,spots):\n",
    "        \n",
    "        #ATTRIBUTES\n",
    "        # For the first two expect a string\n",
    "        self.breed = breed\n",
    "        self.name = name\n",
    "        \n",
    "        # For the last one expect a boolean True/False\n",
    "        self.spots = spots"
   ]
  },
  {
   "cell_type": "markdown",
   "id": "27a5b554",
   "metadata": {},
   "source": [
    "If we press Shift + Tab at __Dog()__ we can see what is expecting - in this case is expecting __breed__, __name__ and __spots__"
   ]
  },
  {
   "cell_type": "code",
   "execution_count": 28,
   "id": "d3655293",
   "metadata": {},
   "outputs": [],
   "source": [
    "my_dog = Dog(breed='Bulldog',name='Eros',spots=False)"
   ]
  },
  {
   "cell_type": "code",
   "execution_count": 29,
   "id": "c42312b0",
   "metadata": {},
   "outputs": [
    {
     "data": {
      "text/plain": [
       "'Bulldog'"
      ]
     },
     "execution_count": 29,
     "metadata": {},
     "output_type": "execute_result"
    }
   ],
   "source": [
    "my_dog.breed"
   ]
  },
  {
   "cell_type": "code",
   "execution_count": 30,
   "id": "2d9b98ae",
   "metadata": {},
   "outputs": [
    {
     "data": {
      "text/plain": [
       "'Eros'"
      ]
     },
     "execution_count": 30,
     "metadata": {},
     "output_type": "execute_result"
    }
   ],
   "source": [
    "my_dog.name"
   ]
  },
  {
   "cell_type": "code",
   "execution_count": 31,
   "id": "9eb5837c",
   "metadata": {},
   "outputs": [
    {
     "data": {
      "text/plain": [
       "False"
      ]
     },
     "execution_count": 31,
     "metadata": {},
     "output_type": "execute_result"
    }
   ],
   "source": [
    "my_dog.spots"
   ]
  }
 ],
 "metadata": {
  "kernelspec": {
   "display_name": "Python 3 (ipykernel)",
   "language": "python",
   "name": "python3"
  },
  "language_info": {
   "codemirror_mode": {
    "name": "ipython",
    "version": 3
   },
   "file_extension": ".py",
   "mimetype": "text/x-python",
   "name": "python",
   "nbconvert_exporter": "python",
   "pygments_lexer": "ipython3",
   "version": "3.9.7"
  }
 },
 "nbformat": 4,
 "nbformat_minor": 5
}

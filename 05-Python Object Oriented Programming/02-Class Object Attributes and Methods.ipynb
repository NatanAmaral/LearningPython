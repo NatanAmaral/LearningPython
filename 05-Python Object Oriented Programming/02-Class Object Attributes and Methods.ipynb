{
 "cells": [
  {
   "cell_type": "markdown",
   "id": "607c148c",
   "metadata": {},
   "source": [
    "### Class Object Attribute "
   ]
  },
  {
   "cell_type": "markdown",
   "id": "3541add1",
   "metadata": {},
   "source": [
    "In this case __species__ in going to be the same regardless of the instance of __my_dog__. The attribute __species__ is not connect to __self__ or any particular instance"
   ]
  },
  {
   "cell_type": "code",
   "execution_count": 6,
   "id": "b5442ebd",
   "metadata": {},
   "outputs": [],
   "source": [
    "class Dog():\n",
    "    \n",
    "    # CLASS OBJECT ATTRIBUTE\n",
    "    # Same for any instance of a class\n",
    "    species = 'Mammal'\n",
    "    \n",
    "    def __init__(self,breed,name,spots):\n",
    "            \n",
    "        # ATTRIBUTES\n",
    "        # For the first two expect a string\n",
    "        self.breed = breed\n",
    "        self.name = name\n",
    "        \n",
    "        # For the last one expect a boolean True/False\n",
    "        self.spots = spots"
   ]
  },
  {
   "cell_type": "code",
   "execution_count": 7,
   "id": "b1d68431",
   "metadata": {},
   "outputs": [],
   "source": [
    "my_dog = Dog(breed='Bull Terrier',name='Shadowfax',spots=False)"
   ]
  },
  {
   "cell_type": "code",
   "execution_count": 8,
   "id": "1b647a14",
   "metadata": {},
   "outputs": [
    {
     "data": {
      "text/plain": [
       "'Mammal'"
      ]
     },
     "execution_count": 8,
     "metadata": {},
     "output_type": "execute_result"
    }
   ],
   "source": [
    "my_dog.species"
   ]
  },
  {
   "cell_type": "markdown",
   "id": "f5d344c1",
   "metadata": {},
   "source": [
    "### Methods"
   ]
  },
  {
   "cell_type": "markdown",
   "id": "b639d4b1",
   "metadata": {},
   "source": [
    "They are essentially functions defined inside the body of the class, they are used to perform operations that sometimes utilize the actual attributes of the object"
   ]
  },
  {
   "cell_type": "code",
   "execution_count": 26,
   "id": "9d485aaf",
   "metadata": {},
   "outputs": [],
   "source": [
    "class Dog():\n",
    "    \n",
    "    # CLASS OBJECT ATTRIBUTE\n",
    "    # Same for any instance of a class\n",
    "    species = 'Mammal'\n",
    "    \n",
    "    def __init__(self,breed,name):\n",
    "            \n",
    "        # ATTRIBUTES\n",
    "        # For the first two expect a string\n",
    "        self.breed = breed\n",
    "        self.name = name\n",
    "        \n",
    "        \n",
    "    # METHODS\n",
    "    # Operation/actions\n",
    "    def bark(self):\n",
    "        print('WOOF! My name is {}'.format(self.name))"
   ]
  },
  {
   "cell_type": "code",
   "execution_count": 27,
   "id": "d30523fd",
   "metadata": {},
   "outputs": [],
   "source": [
    "my_dog = Dog('Pitbull','Argos')"
   ]
  },
  {
   "cell_type": "code",
   "execution_count": 28,
   "id": "8fd4b9c5",
   "metadata": {},
   "outputs": [
    {
     "data": {
      "text/plain": [
       "'Pitbull'"
      ]
     },
     "execution_count": 28,
     "metadata": {},
     "output_type": "execute_result"
    }
   ],
   "source": [
    "my_dog.breed"
   ]
  },
  {
   "cell_type": "code",
   "execution_count": 29,
   "id": "f3570a96",
   "metadata": {},
   "outputs": [
    {
     "data": {
      "text/plain": [
       "'Argos'"
      ]
     },
     "execution_count": 29,
     "metadata": {},
     "output_type": "execute_result"
    }
   ],
   "source": [
    "my_dog.name"
   ]
  },
  {
   "cell_type": "code",
   "execution_count": 30,
   "id": "3e56d420",
   "metadata": {},
   "outputs": [
    {
     "data": {
      "text/plain": [
       "'Mammal'"
      ]
     },
     "execution_count": 30,
     "metadata": {},
     "output_type": "execute_result"
    }
   ],
   "source": [
    "my_dog.species"
   ]
  },
  {
   "cell_type": "code",
   "execution_count": 31,
   "id": "1a85d705",
   "metadata": {},
   "outputs": [
    {
     "name": "stdout",
     "output_type": "stream",
     "text": [
      "WOOF! My name is Argos\n"
     ]
    }
   ],
   "source": [
    "my_dog.bark()"
   ]
  },
  {
   "cell_type": "markdown",
   "id": "8936e522",
   "metadata": {},
   "source": [
    "#### Passing outside arguments"
   ]
  },
  {
   "cell_type": "code",
   "execution_count": 33,
   "id": "9cf005b0",
   "metadata": {},
   "outputs": [],
   "source": [
    "class Dog():\n",
    "    \n",
    "    # CLASS OBJECT ATTRIBUTE\n",
    "    # Same for any instance of a class\n",
    "    species = 'Mammal'\n",
    "    \n",
    "    def __init__(self,breed,name):\n",
    "            \n",
    "        # ATTRIBUTES\n",
    "        # For the first two expect a string\n",
    "        self.breed = breed\n",
    "        self.name = name\n",
    "        \n",
    "        \n",
    "    # METHODS\n",
    "    # Operation/actions\n",
    "    def bark(self,number):\n",
    "        print('WOOF! My name is {} and the number is {}'.format(self.name,number))"
   ]
  },
  {
   "cell_type": "code",
   "execution_count": 34,
   "id": "a1f31363",
   "metadata": {},
   "outputs": [],
   "source": [
    "my_dog = Dog('Pitbull','Argos')"
   ]
  },
  {
   "cell_type": "code",
   "execution_count": 35,
   "id": "867344d9",
   "metadata": {},
   "outputs": [
    {
     "name": "stdout",
     "output_type": "stream",
     "text": [
      "WOOF! My name is Argos and the number is 11\n"
     ]
    }
   ],
   "source": [
    "my_dog.bark(11)"
   ]
  },
  {
   "cell_type": "markdown",
   "id": "dfe3e141",
   "metadata": {},
   "source": [
    "### Creating a new class"
   ]
  },
  {
   "cell_type": "code",
   "execution_count": 36,
   "id": "2216e493",
   "metadata": {},
   "outputs": [],
   "source": [
    "class Circle():\n",
    "    \n",
    "    # CLASS OBJECT ATTRIBUTE\n",
    "    pi = 3.14\n",
    "    \n",
    "    def __init__(self,radius=1):\n",
    "        \n",
    "        self.radius = radius\n",
    "        \n",
    "    # METHOD\n",
    "    def get_circumference(self):\n",
    "        return self.radius * self.pi * 2"
   ]
  },
  {
   "cell_type": "markdown",
   "id": "6d0f488a",
   "metadata": {},
   "source": [
    "Creating an __instance__ of the __Circle()__ class"
   ]
  },
  {
   "cell_type": "code",
   "execution_count": 38,
   "id": "9e6f4c60",
   "metadata": {},
   "outputs": [],
   "source": [
    "my_circle = Circle()"
   ]
  },
  {
   "cell_type": "markdown",
   "id": "2d6ec12f",
   "metadata": {},
   "source": [
    "Calling __my_circle__"
   ]
  },
  {
   "cell_type": "code",
   "execution_count": 39,
   "id": "945932ef",
   "metadata": {},
   "outputs": [
    {
     "data": {
      "text/plain": [
       "3.14"
      ]
     },
     "execution_count": 39,
     "metadata": {},
     "output_type": "execute_result"
    }
   ],
   "source": [
    "my_circle.pi"
   ]
  },
  {
   "cell_type": "markdown",
   "id": "e72c8b52",
   "metadata": {},
   "source": [
    "It's showing 1 because it was the __default value__ passed"
   ]
  },
  {
   "cell_type": "code",
   "execution_count": 40,
   "id": "92716d5f",
   "metadata": {},
   "outputs": [
    {
     "data": {
      "text/plain": [
       "1"
      ]
     },
     "execution_count": 40,
     "metadata": {},
     "output_type": "execute_result"
    }
   ],
   "source": [
    "my_circle.radius"
   ]
  },
  {
   "cell_type": "markdown",
   "id": "f172c69e",
   "metadata": {},
   "source": [
    "Passing another value "
   ]
  },
  {
   "cell_type": "code",
   "execution_count": 42,
   "id": "295abadc",
   "metadata": {},
   "outputs": [],
   "source": [
    "my_circle = Circle(50)"
   ]
  },
  {
   "cell_type": "code",
   "execution_count": 43,
   "id": "e9bedd4e",
   "metadata": {},
   "outputs": [
    {
     "data": {
      "text/plain": [
       "50"
      ]
     },
     "execution_count": 43,
     "metadata": {},
     "output_type": "execute_result"
    }
   ],
   "source": [
    "my_circle.radius"
   ]
  },
  {
   "cell_type": "markdown",
   "id": "da4a9c5b",
   "metadata": {},
   "source": [
    "Now calling the method to get the circumference"
   ]
  },
  {
   "cell_type": "code",
   "execution_count": 44,
   "id": "c18bcdbb",
   "metadata": {},
   "outputs": [
    {
     "data": {
      "text/plain": [
       "314.0"
      ]
     },
     "execution_count": 44,
     "metadata": {},
     "output_type": "execute_result"
    }
   ],
   "source": [
    "my_circle.get_circumference()"
   ]
  }
 ],
 "metadata": {
  "kernelspec": {
   "display_name": "Python 3 (ipykernel)",
   "language": "python",
   "name": "python3"
  },
  "language_info": {
   "codemirror_mode": {
    "name": "ipython",
    "version": 3
   },
   "file_extension": ".py",
   "mimetype": "text/x-python",
   "name": "python",
   "nbconvert_exporter": "python",
   "pygments_lexer": "ipython3",
   "version": "3.9.7"
  }
 },
 "nbformat": 4,
 "nbformat_minor": 5
}

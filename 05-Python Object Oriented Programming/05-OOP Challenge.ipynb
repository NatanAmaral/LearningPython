{
 "cells": [
  {
   "cell_type": "markdown",
   "id": "8dca239d",
   "metadata": {},
   "source": [
    "### Creating a Bank Account"
   ]
  },
  {
   "cell_type": "code",
   "execution_count": 1,
   "id": "b2d57201",
   "metadata": {},
   "outputs": [],
   "source": [
    "class Account():\n",
    "    \n",
    "    def __init__(self,owner,balance=0):\n",
    "        \n",
    "        self.owner = owner\n",
    "        self.balance = balance\n",
    "        \n",
    "    def deposit(self,dep_amt):\n",
    "        \n",
    "        self.balance = self.balance + dep_amt\n",
    "        print(f'Added {dep_amt} to the balance')\n",
    "        \n",
    "    def withdrawal(self,wd_amt):\n",
    "        \n",
    "        if self.balance >= wd_amt:\n",
    "            self.balance = self.balance - wd_amt\n",
    "            print('Withdrawal accepted')\n",
    "        else:\n",
    "            print('Sorry, not enough funds!')\n",
    "            \n",
    "    def __str__(self):\n",
    "        return f'Owner: {self.owner} \\nBalance: {self.balance}'"
   ]
  },
  {
   "cell_type": "code",
   "execution_count": 2,
   "id": "bc1fe736",
   "metadata": {},
   "outputs": [],
   "source": [
    "a = Account('Natan',1000000)"
   ]
  },
  {
   "cell_type": "code",
   "execution_count": 3,
   "id": "6a06ef0f",
   "metadata": {},
   "outputs": [
    {
     "data": {
      "text/plain": [
       "'Natan'"
      ]
     },
     "execution_count": 3,
     "metadata": {},
     "output_type": "execute_result"
    }
   ],
   "source": [
    "a.owner"
   ]
  },
  {
   "cell_type": "code",
   "execution_count": 4,
   "id": "ade312a4",
   "metadata": {},
   "outputs": [
    {
     "data": {
      "text/plain": [
       "1000000"
      ]
     },
     "execution_count": 4,
     "metadata": {},
     "output_type": "execute_result"
    }
   ],
   "source": [
    "a.balance"
   ]
  },
  {
   "cell_type": "code",
   "execution_count": 5,
   "id": "d9790a16",
   "metadata": {},
   "outputs": [
    {
     "name": "stdout",
     "output_type": "stream",
     "text": [
      "Owner: Natan \n",
      "Balance: 1000000\n"
     ]
    }
   ],
   "source": [
    "print(a)"
   ]
  },
  {
   "cell_type": "code",
   "execution_count": 6,
   "id": "dd70f86a",
   "metadata": {},
   "outputs": [
    {
     "name": "stdout",
     "output_type": "stream",
     "text": [
      "Added 900000 to the balance\n"
     ]
    }
   ],
   "source": [
    "a.deposit(900000)"
   ]
  },
  {
   "cell_type": "code",
   "execution_count": 7,
   "id": "6f2372c5",
   "metadata": {},
   "outputs": [
    {
     "name": "stdout",
     "output_type": "stream",
     "text": [
      "Owner: Natan \n",
      "Balance: 1900000\n"
     ]
    }
   ],
   "source": [
    "print(a)"
   ]
  },
  {
   "cell_type": "code",
   "execution_count": 8,
   "id": "7be9b093",
   "metadata": {},
   "outputs": [
    {
     "name": "stdout",
     "output_type": "stream",
     "text": [
      "Withdrawal accepted\n"
     ]
    }
   ],
   "source": [
    "a.withdrawal(400000)"
   ]
  },
  {
   "cell_type": "code",
   "execution_count": 9,
   "id": "c2b26ac5",
   "metadata": {},
   "outputs": [
    {
     "name": "stdout",
     "output_type": "stream",
     "text": [
      "Owner: Natan \n",
      "Balance: 1500000\n"
     ]
    }
   ],
   "source": [
    "print(a)"
   ]
  }
 ],
 "metadata": {
  "kernelspec": {
   "display_name": "Python 3 (ipykernel)",
   "language": "python",
   "name": "python3"
  },
  "language_info": {
   "codemirror_mode": {
    "name": "ipython",
    "version": 3
   },
   "file_extension": ".py",
   "mimetype": "text/x-python",
   "name": "python",
   "nbconvert_exporter": "python",
   "pygments_lexer": "ipython3",
   "version": "3.9.7"
  }
 },
 "nbformat": 4,
 "nbformat_minor": 5
}

{
 "cells": [
  {
   "cell_type": "markdown",
   "id": "e1e99d59",
   "metadata": {},
   "source": [
    "### Inheritance "
   ]
  },
  {
   "cell_type": "markdown",
   "id": "845a21c5",
   "metadata": {},
   "source": [
    "Inheritance allows us to define a class that inherits all the methods and properties from another class. It gives the ability to reuse code that we have already worked on and reduce the complexity of a program"
   ]
  },
  {
   "cell_type": "code",
   "execution_count": 6,
   "id": "060a0463",
   "metadata": {},
   "outputs": [],
   "source": [
    "class Animal():\n",
    "    \n",
    "    def __init__(self):\n",
    "        print('Animal Created')\n",
    "        \n",
    "    def who_am_i(self):\n",
    "        print('I am an animal')\n",
    "        \n",
    "    def eat(self):\n",
    "        print('I am eating')"
   ]
  },
  {
   "cell_type": "code",
   "execution_count": 8,
   "id": "0ca893be",
   "metadata": {},
   "outputs": [
    {
     "name": "stdout",
     "output_type": "stream",
     "text": [
      "Animal Created\n"
     ]
    }
   ],
   "source": [
    "myanimal = Animal()"
   ]
  },
  {
   "cell_type": "code",
   "execution_count": 10,
   "id": "31fa7bba",
   "metadata": {},
   "outputs": [
    {
     "name": "stdout",
     "output_type": "stream",
     "text": [
      "I am an animal\n"
     ]
    }
   ],
   "source": [
    "myanimal.who_am_i()"
   ]
  },
  {
   "cell_type": "code",
   "execution_count": 11,
   "id": "fc4b1a63",
   "metadata": {},
   "outputs": [
    {
     "name": "stdout",
     "output_type": "stream",
     "text": [
      "I am eating\n"
     ]
    }
   ],
   "source": [
    "myanimal.eat()"
   ]
  },
  {
   "cell_type": "markdown",
   "id": "bcbf16ec",
   "metadata": {},
   "source": [
    "Following we are inheriting the __Animal()__ class to a new class called __Dog()__"
   ]
  },
  {
   "cell_type": "code",
   "execution_count": 12,
   "id": "96aad32b",
   "metadata": {},
   "outputs": [],
   "source": [
    "class Dog(Animal):\n",
    "    \n",
    "    def __init__(self):\n",
    "        Animal.__init__(self)\n",
    "        print('Dog Created')"
   ]
  },
  {
   "cell_type": "code",
   "execution_count": 13,
   "id": "3ae16560",
   "metadata": {},
   "outputs": [
    {
     "name": "stdout",
     "output_type": "stream",
     "text": [
      "Animal Created\n",
      "Dog Created\n"
     ]
    }
   ],
   "source": [
    "mydog = Dog()"
   ]
  },
  {
   "cell_type": "markdown",
   "id": "ffac7f14",
   "metadata": {},
   "source": [
    "All the __methods__ that were available for the __Animal()__ class are now available for the __Dog()__ class"
   ]
  },
  {
   "cell_type": "code",
   "execution_count": 14,
   "id": "400e9feb",
   "metadata": {},
   "outputs": [
    {
     "name": "stdout",
     "output_type": "stream",
     "text": [
      "I am eating\n"
     ]
    }
   ],
   "source": [
    "mydog.eat()"
   ]
  },
  {
   "cell_type": "code",
   "execution_count": 15,
   "id": "14e42100",
   "metadata": {},
   "outputs": [
    {
     "name": "stdout",
     "output_type": "stream",
     "text": [
      "I am an animal\n"
     ]
    }
   ],
   "source": [
    "mydog.who_am_i()"
   ]
  },
  {
   "cell_type": "markdown",
   "id": "ad53c6fd",
   "metadata": {},
   "source": [
    "#### Overwriting older methods"
   ]
  },
  {
   "cell_type": "markdown",
   "id": "6ed1d78f",
   "metadata": {},
   "source": [
    "It is possible by using __def__ and using the same name as the old class. In this case __who_am_i__"
   ]
  },
  {
   "cell_type": "code",
   "execution_count": 16,
   "id": "2632759d",
   "metadata": {},
   "outputs": [],
   "source": [
    "class Dog(Animal):\n",
    "    \n",
    "    def __init__(self):\n",
    "        Animal.__init__(self)\n",
    "        print('Dog Created')\n",
    "    \n",
    "    # OVERWRITING\n",
    "    def who_am_i(self):\n",
    "        print('I am a dog!')"
   ]
  },
  {
   "cell_type": "code",
   "execution_count": 17,
   "id": "15db7257",
   "metadata": {},
   "outputs": [
    {
     "name": "stdout",
     "output_type": "stream",
     "text": [
      "Animal Created\n",
      "Dog Created\n"
     ]
    }
   ],
   "source": [
    "mydog = Dog()"
   ]
  },
  {
   "cell_type": "code",
   "execution_count": 18,
   "id": "773e2e9e",
   "metadata": {},
   "outputs": [
    {
     "name": "stdout",
     "output_type": "stream",
     "text": [
      "I am eating\n"
     ]
    }
   ],
   "source": [
    "mydog.eat()"
   ]
  },
  {
   "cell_type": "code",
   "execution_count": 19,
   "id": "7beef6cf",
   "metadata": {},
   "outputs": [
    {
     "name": "stdout",
     "output_type": "stream",
     "text": [
      "I am a dog!\n"
     ]
    }
   ],
   "source": [
    "mydog.who_am_i()"
   ]
  },
  {
   "cell_type": "markdown",
   "id": "bf7e27e7",
   "metadata": {},
   "source": [
    "#### Adding methods"
   ]
  },
  {
   "cell_type": "code",
   "execution_count": 20,
   "id": "154e8527",
   "metadata": {},
   "outputs": [],
   "source": [
    "class Dog(Animal):\n",
    "    \n",
    "    def __init__(self):\n",
    "        Animal.__init__(self)\n",
    "        print('Dog Created')\n",
    "        \n",
    "    def who_am_i(self):\n",
    "        print('I am a dog!')\n",
    "    \n",
    "    # ADDING\n",
    "    def bark(self):\n",
    "        print('WOOF!')"
   ]
  },
  {
   "cell_type": "code",
   "execution_count": 21,
   "id": "bba186d5",
   "metadata": {},
   "outputs": [
    {
     "name": "stdout",
     "output_type": "stream",
     "text": [
      "Animal Created\n",
      "Dog Created\n"
     ]
    }
   ],
   "source": [
    "mydog = Dog()"
   ]
  },
  {
   "cell_type": "code",
   "execution_count": 22,
   "id": "e2e3e28b",
   "metadata": {},
   "outputs": [
    {
     "name": "stdout",
     "output_type": "stream",
     "text": [
      "I am eating\n"
     ]
    }
   ],
   "source": [
    "mydog.eat()"
   ]
  },
  {
   "cell_type": "code",
   "execution_count": 23,
   "id": "7c3ffeef",
   "metadata": {},
   "outputs": [
    {
     "name": "stdout",
     "output_type": "stream",
     "text": [
      "I am a dog!\n"
     ]
    }
   ],
   "source": [
    "mydog.who_am_i()"
   ]
  },
  {
   "cell_type": "code",
   "execution_count": 24,
   "id": "f1fbc64e",
   "metadata": {},
   "outputs": [
    {
     "name": "stdout",
     "output_type": "stream",
     "text": [
      "WOOF!\n"
     ]
    }
   ],
   "source": [
    "mydog.bark()"
   ]
  },
  {
   "cell_type": "markdown",
   "id": "9377d3a7",
   "metadata": {},
   "source": [
    "### Polymorphism "
   ]
  },
  {
   "cell_type": "markdown",
   "id": "04e7b06d",
   "metadata": {},
   "source": [
    "The word polymorphism means having many forms. Here it refers to the way in which different object classes can share the same method name and then those methods can be called from the same place"
   ]
  },
  {
   "cell_type": "code",
   "execution_count": 31,
   "id": "203691f9",
   "metadata": {},
   "outputs": [],
   "source": [
    "class Dog():\n",
    "    \n",
    "    def __init__(self,name):\n",
    "        self.name = name\n",
    "        \n",
    "    def speak(self):\n",
    "        return self.name + ' says WOOF!'"
   ]
  },
  {
   "cell_type": "code",
   "execution_count": 32,
   "id": "1e47f444",
   "metadata": {},
   "outputs": [],
   "source": [
    "class Cat():\n",
    "    \n",
    "    def __init__(self,name):\n",
    "        self.name = name\n",
    "        \n",
    "    def speak(self):\n",
    "        return self.name + ' says MEOW!'"
   ]
  },
  {
   "cell_type": "code",
   "execution_count": 33,
   "id": "c4f885ff",
   "metadata": {},
   "outputs": [],
   "source": [
    "Bruce = Dog('Bruce')\n",
    "Felix = Cat('Felix')"
   ]
  },
  {
   "cell_type": "markdown",
   "id": "46ab791e",
   "metadata": {},
   "source": [
    "Notice here that each class has the __speak__ method but when called each __speak__ method returns a result that is __unique__ to the object"
   ]
  },
  {
   "cell_type": "code",
   "execution_count": 34,
   "id": "a0394143",
   "metadata": {},
   "outputs": [
    {
     "name": "stdout",
     "output_type": "stream",
     "text": [
      "Bruce says WOOF!\n"
     ]
    }
   ],
   "source": [
    "print(Bruce.speak())"
   ]
  },
  {
   "cell_type": "code",
   "execution_count": 35,
   "id": "b4362412",
   "metadata": {},
   "outputs": [
    {
     "name": "stdout",
     "output_type": "stream",
     "text": [
      "Felix says MEOW!\n"
     ]
    }
   ],
   "source": [
    "print(Felix.speak())"
   ]
  },
  {
   "cell_type": "markdown",
   "id": "6a1144bb",
   "metadata": {},
   "source": [
    "#### With for Loops "
   ]
  },
  {
   "cell_type": "markdown",
   "id": "fc6cab80",
   "metadata": {},
   "source": [
    "Iterating through a list"
   ]
  },
  {
   "cell_type": "code",
   "execution_count": 36,
   "id": "b0474b8c",
   "metadata": {},
   "outputs": [
    {
     "name": "stdout",
     "output_type": "stream",
     "text": [
      "<class '__main__.Dog'>\n",
      "<class 'str'>\n",
      "<class '__main__.Cat'>\n",
      "<class 'str'>\n"
     ]
    }
   ],
   "source": [
    "for pet in [Bruce,Felix]:\n",
    "    \n",
    "    print(type(pet))\n",
    "    print(type(pet.speak()))"
   ]
  },
  {
   "cell_type": "markdown",
   "id": "a2b57291",
   "metadata": {},
   "source": [
    "#### With a Function"
   ]
  },
  {
   "cell_type": "markdown",
   "id": "6d07e9a7",
   "metadata": {},
   "source": [
    "Calling the method with a Function"
   ]
  },
  {
   "cell_type": "code",
   "execution_count": 37,
   "id": "ff16cf2c",
   "metadata": {},
   "outputs": [],
   "source": [
    "def pet_speak(pet):\n",
    "    print(pet.speak())"
   ]
  },
  {
   "cell_type": "code",
   "execution_count": 38,
   "id": "ebe2b71a",
   "metadata": {},
   "outputs": [
    {
     "name": "stdout",
     "output_type": "stream",
     "text": [
      "Bruce says WOOF!\n"
     ]
    }
   ],
   "source": [
    "pet_speak(Bruce)"
   ]
  },
  {
   "cell_type": "code",
   "execution_count": 39,
   "id": "ad9131eb",
   "metadata": {},
   "outputs": [
    {
     "name": "stdout",
     "output_type": "stream",
     "text": [
      "Felix says MEOW!\n"
     ]
    }
   ],
   "source": [
    "pet_speak(Felix)"
   ]
  },
  {
   "cell_type": "markdown",
   "id": "e4959f66",
   "metadata": {},
   "source": [
    "#### Abstract Classes and Inheritance"
   ]
  },
  {
   "cell_type": "markdown",
   "id": "e25a28b9",
   "metadata": {},
   "source": [
    "They are classes that don't expect to be instantiated"
   ]
  },
  {
   "cell_type": "code",
   "execution_count": 40,
   "id": "0b01729b",
   "metadata": {},
   "outputs": [],
   "source": [
    "class Animal():\n",
    "    \n",
    "    def __init__(self,name):\n",
    "        self.name = name\n",
    "        \n",
    "    def speak(self):\n",
    "        raise NotImplementedError('Subclass must implement this abstract method')"
   ]
  },
  {
   "cell_type": "code",
   "execution_count": 41,
   "id": "b1d200cd",
   "metadata": {},
   "outputs": [],
   "source": [
    "myanimal = Animal('Fred')"
   ]
  },
  {
   "cell_type": "markdown",
   "id": "6df58df0",
   "metadata": {},
   "source": [
    "The following error is happening because it's expecting you to inherit the animal class and then __overwrite__ the __speak__ method"
   ]
  },
  {
   "cell_type": "code",
   "execution_count": 42,
   "id": "c87fd4c2",
   "metadata": {},
   "outputs": [
    {
     "ename": "NotImplementedError",
     "evalue": "Subclass must implement this abstract method",
     "output_type": "error",
     "traceback": [
      "\u001b[1;31m---------------------------------------------------------------------------\u001b[0m",
      "\u001b[1;31mNotImplementedError\u001b[0m                       Traceback (most recent call last)",
      "\u001b[1;32m~\\AppData\\Local\\Temp/ipykernel_13040/2029186425.py\u001b[0m in \u001b[0;36m<module>\u001b[1;34m\u001b[0m\n\u001b[1;32m----> 1\u001b[1;33m \u001b[0mmyanimal\u001b[0m\u001b[1;33m.\u001b[0m\u001b[0mspeak\u001b[0m\u001b[1;33m(\u001b[0m\u001b[1;33m)\u001b[0m\u001b[1;33m\u001b[0m\u001b[1;33m\u001b[0m\u001b[0m\n\u001b[0m",
      "\u001b[1;32m~\\AppData\\Local\\Temp/ipykernel_13040/2849044380.py\u001b[0m in \u001b[0;36mspeak\u001b[1;34m(self)\u001b[0m\n\u001b[0;32m      5\u001b[0m \u001b[1;33m\u001b[0m\u001b[0m\n\u001b[0;32m      6\u001b[0m     \u001b[1;32mdef\u001b[0m \u001b[0mspeak\u001b[0m\u001b[1;33m(\u001b[0m\u001b[0mself\u001b[0m\u001b[1;33m)\u001b[0m\u001b[1;33m:\u001b[0m\u001b[1;33m\u001b[0m\u001b[1;33m\u001b[0m\u001b[0m\n\u001b[1;32m----> 7\u001b[1;33m         \u001b[1;32mraise\u001b[0m \u001b[0mNotImplementedError\u001b[0m\u001b[1;33m(\u001b[0m\u001b[1;34m'Subclass must implement this abstract method'\u001b[0m\u001b[1;33m)\u001b[0m\u001b[1;33m\u001b[0m\u001b[1;33m\u001b[0m\u001b[0m\n\u001b[0m",
      "\u001b[1;31mNotImplementedError\u001b[0m: Subclass must implement this abstract method"
     ]
    }
   ],
   "source": [
    "myanimal.speak()"
   ]
  },
  {
   "cell_type": "markdown",
   "id": "8236c24f",
   "metadata": {},
   "source": [
    "Doing the following we don't need to use the __init__ method"
   ]
  },
  {
   "cell_type": "code",
   "execution_count": 43,
   "id": "ec5bb929",
   "metadata": {},
   "outputs": [],
   "source": [
    "class Dog(Animal):\n",
    "    \n",
    "    def speak(self):\n",
    "        return self.name + ' says WOOF!'"
   ]
  },
  {
   "cell_type": "code",
   "execution_count": 44,
   "id": "48d00845",
   "metadata": {},
   "outputs": [],
   "source": [
    "class Cat(Animal):\n",
    "    \n",
    "    def speak(self):\n",
    "        return self.name + ' says MEOW!'"
   ]
  },
  {
   "cell_type": "code",
   "execution_count": 45,
   "id": "d89d2fe3",
   "metadata": {},
   "outputs": [],
   "source": [
    "Kato = Dog('Kato')"
   ]
  },
  {
   "cell_type": "code",
   "execution_count": 46,
   "id": "df41aa0b",
   "metadata": {},
   "outputs": [],
   "source": [
    "Grumpy = Cat('Grumpy')"
   ]
  },
  {
   "cell_type": "code",
   "execution_count": 48,
   "id": "1c54f25c",
   "metadata": {},
   "outputs": [
    {
     "name": "stdout",
     "output_type": "stream",
     "text": [
      "Kato says WOOF!\n"
     ]
    }
   ],
   "source": [
    "print(Kato.speak())"
   ]
  },
  {
   "cell_type": "code",
   "execution_count": 49,
   "id": "6a631e6b",
   "metadata": {},
   "outputs": [
    {
     "name": "stdout",
     "output_type": "stream",
     "text": [
      "Grumpy says MEOW!\n"
     ]
    }
   ],
   "source": [
    "print(Grumpy.speak())"
   ]
  }
 ],
 "metadata": {
  "kernelspec": {
   "display_name": "Python 3 (ipykernel)",
   "language": "python",
   "name": "python3"
  },
  "language_info": {
   "codemirror_mode": {
    "name": "ipython",
    "version": 3
   },
   "file_extension": ".py",
   "mimetype": "text/x-python",
   "name": "python",
   "nbconvert_exporter": "python",
   "pygments_lexer": "ipython3",
   "version": "3.9.7"
  }
 },
 "nbformat": 4,
 "nbformat_minor": 5
}

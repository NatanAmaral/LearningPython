{
 "cells": [
  {
   "cell_type": "markdown",
   "id": "645a2883",
   "metadata": {},
   "source": [
    "Creating a function"
   ]
  },
  {
   "cell_type": "code",
   "execution_count": 1,
   "id": "f1097b80",
   "metadata": {},
   "outputs": [],
   "source": [
    "def hello():\n",
    "    return 'Hello!'"
   ]
  },
  {
   "cell_type": "markdown",
   "id": "62d2b013",
   "metadata": {},
   "source": [
    "Calling it"
   ]
  },
  {
   "cell_type": "code",
   "execution_count": 2,
   "id": "0bda36a5",
   "metadata": {},
   "outputs": [
    {
     "data": {
      "text/plain": [
       "'Hello!'"
      ]
     },
     "execution_count": 2,
     "metadata": {},
     "output_type": "execute_result"
    }
   ],
   "source": [
    "hello()"
   ]
  },
  {
   "cell_type": "code",
   "execution_count": 3,
   "id": "47680ff4",
   "metadata": {},
   "outputs": [
    {
     "data": {
      "text/plain": [
       "<function __main__.hello()>"
      ]
     },
     "execution_count": 3,
     "metadata": {},
     "output_type": "execute_result"
    }
   ],
   "source": [
    "hello"
   ]
  },
  {
   "cell_type": "markdown",
   "id": "62dccbef",
   "metadata": {},
   "source": [
    "Assigning it to __greet__"
   ]
  },
  {
   "cell_type": "code",
   "execution_count": 4,
   "id": "d7a78e0e",
   "metadata": {},
   "outputs": [],
   "source": [
    "greet = hello"
   ]
  },
  {
   "cell_type": "code",
   "execution_count": 5,
   "id": "9287fa95",
   "metadata": {},
   "outputs": [
    {
     "data": {
      "text/plain": [
       "'Hello!'"
      ]
     },
     "execution_count": 5,
     "metadata": {},
     "output_type": "execute_result"
    }
   ],
   "source": [
    "greet()"
   ]
  },
  {
   "cell_type": "markdown",
   "id": "4e804de6",
   "metadata": {},
   "source": [
    "Deleting and trying to call __hello()__"
   ]
  },
  {
   "cell_type": "code",
   "execution_count": 6,
   "id": "6e016427",
   "metadata": {},
   "outputs": [],
   "source": [
    "del hello"
   ]
  },
  {
   "cell_type": "markdown",
   "id": "1ba4bb18",
   "metadata": {},
   "source": [
    "The function isn't there anymore"
   ]
  },
  {
   "cell_type": "code",
   "execution_count": 7,
   "id": "ba335843",
   "metadata": {},
   "outputs": [
    {
     "ename": "NameError",
     "evalue": "name 'hello' is not defined",
     "output_type": "error",
     "traceback": [
      "\u001b[1;31m---------------------------------------------------------------------------\u001b[0m",
      "\u001b[1;31mNameError\u001b[0m                                 Traceback (most recent call last)",
      "\u001b[1;32m~\\AppData\\Local\\Temp/ipykernel_16412/2674044599.py\u001b[0m in \u001b[0;36m<module>\u001b[1;34m\u001b[0m\n\u001b[1;32m----> 1\u001b[1;33m \u001b[0mhello\u001b[0m\u001b[1;33m(\u001b[0m\u001b[1;33m)\u001b[0m\u001b[1;33m\u001b[0m\u001b[1;33m\u001b[0m\u001b[0m\n\u001b[0m",
      "\u001b[1;31mNameError\u001b[0m: name 'hello' is not defined"
     ]
    }
   ],
   "source": [
    "hello()"
   ]
  },
  {
   "cell_type": "markdown",
   "id": "22e8d500",
   "metadata": {},
   "source": [
    "But __greet()__ is still pointing to the value assigned to __hello()__"
   ]
  },
  {
   "cell_type": "code",
   "execution_count": 8,
   "id": "73ecce39",
   "metadata": {},
   "outputs": [
    {
     "data": {
      "text/plain": [
       "'Hello!'"
      ]
     },
     "execution_count": 8,
     "metadata": {},
     "output_type": "execute_result"
    }
   ],
   "source": [
    "greet()"
   ]
  },
  {
   "cell_type": "markdown",
   "id": "2ebc6c32",
   "metadata": {},
   "source": [
    "### Passing in a function within a nother function "
   ]
  },
  {
   "cell_type": "code",
   "execution_count": 9,
   "id": "984c4d6f",
   "metadata": {},
   "outputs": [],
   "source": [
    "def hello():\n",
    "    print('The hello() function has been executed!')\n",
    "    \n",
    "    def greet():\n",
    "        return '\\t This is the greet() function inside hello()!'"
   ]
  },
  {
   "cell_type": "markdown",
   "id": "f3875c31",
   "metadata": {},
   "source": [
    "Here we have defined __greet()__"
   ]
  },
  {
   "cell_type": "code",
   "execution_count": 10,
   "id": "c8314fa1",
   "metadata": {},
   "outputs": [
    {
     "name": "stdout",
     "output_type": "stream",
     "text": [
      "The hello() function has been executed!\n"
     ]
    }
   ],
   "source": [
    "hello()"
   ]
  },
  {
   "cell_type": "markdown",
   "id": "b63895bf",
   "metadata": {},
   "source": [
    "Now we will call it"
   ]
  },
  {
   "cell_type": "code",
   "execution_count": 11,
   "id": "8f823e10",
   "metadata": {},
   "outputs": [],
   "source": [
    "def hello():\n",
    "    print('The hello() function has been executed!')\n",
    "    \n",
    "    def greet():\n",
    "        return '\\t This is the greet() function inside hello()!'\n",
    "    \n",
    "    print(greet())"
   ]
  },
  {
   "cell_type": "code",
   "execution_count": 12,
   "id": "a6782f63",
   "metadata": {},
   "outputs": [
    {
     "name": "stdout",
     "output_type": "stream",
     "text": [
      "The hello() function has been executed!\n",
      "\t This is the greet() function inside hello()!\n"
     ]
    }
   ],
   "source": [
    "hello()"
   ]
  },
  {
   "cell_type": "markdown",
   "id": "bfb611d8",
   "metadata": {},
   "source": [
    "#### Defining another function inside hello()"
   ]
  },
  {
   "cell_type": "code",
   "execution_count": 15,
   "id": "b856edc5",
   "metadata": {},
   "outputs": [],
   "source": [
    "def hello():\n",
    "    print('The hello() function has been executed!')\n",
    "    \n",
    "    def greet():\n",
    "        return '\\t This is the greet() function inside hello()!'\n",
    "    \n",
    "    def welcome():\n",
    "        return '\\t This is welcome() inside hello()!'\n",
    "    \n",
    "    print(greet())\n",
    "    print(welcome())\n",
    "    print('This is the end of the hello() function!')"
   ]
  },
  {
   "cell_type": "markdown",
   "id": "4a10243b",
   "metadata": {},
   "source": [
    "Calling it"
   ]
  },
  {
   "cell_type": "code",
   "execution_count": 16,
   "id": "921ca01b",
   "metadata": {},
   "outputs": [
    {
     "name": "stdout",
     "output_type": "stream",
     "text": [
      "The hello() function has been executed!\n",
      "\t This is the greet() function inside hello()!\n",
      "\t This is welcome() inside hello()!\n",
      "This is the end of the hello() function!\n"
     ]
    }
   ],
   "source": [
    "hello()"
   ]
  },
  {
   "cell_type": "markdown",
   "id": "be41b285",
   "metadata": {},
   "source": [
    "I can't call __welcome()__ nor __greet()__. They are defined only inside the __hello()__ function"
   ]
  },
  {
   "cell_type": "code",
   "execution_count": 17,
   "id": "1b5e2190",
   "metadata": {},
   "outputs": [
    {
     "ename": "NameError",
     "evalue": "name 'welcome' is not defined",
     "output_type": "error",
     "traceback": [
      "\u001b[1;31m---------------------------------------------------------------------------\u001b[0m",
      "\u001b[1;31mNameError\u001b[0m                                 Traceback (most recent call last)",
      "\u001b[1;32m~\\AppData\\Local\\Temp/ipykernel_16412/241228648.py\u001b[0m in \u001b[0;36m<module>\u001b[1;34m\u001b[0m\n\u001b[1;32m----> 1\u001b[1;33m \u001b[0mwelcome\u001b[0m\u001b[1;33m(\u001b[0m\u001b[1;33m)\u001b[0m\u001b[1;33m\u001b[0m\u001b[1;33m\u001b[0m\u001b[0m\n\u001b[0m",
      "\u001b[1;31mNameError\u001b[0m: name 'welcome' is not defined"
     ]
    }
   ],
   "source": [
    "welcome()"
   ]
  },
  {
   "cell_type": "markdown",
   "id": "980a6373",
   "metadata": {},
   "source": [
    "#### Using a function to return another function"
   ]
  },
  {
   "cell_type": "code",
   "execution_count": 19,
   "id": "8f4138a7",
   "metadata": {},
   "outputs": [],
   "source": [
    "def hello(name='Natan'):\n",
    "    print('The hello() function has been executed!')\n",
    "    \n",
    "    def greet():\n",
    "        return '\\t This is the greet() function inside hello()!'\n",
    "    \n",
    "    def welcome():\n",
    "        return '\\t This is welcome() inside hello()!'\n",
    "    \n",
    "    print('I am going to return a function!')\n",
    "    \n",
    "    if name == 'Natan':\n",
    "        return greet()\n",
    "    else:\n",
    "        return welcome()"
   ]
  },
  {
   "cell_type": "code",
   "execution_count": 20,
   "id": "f709a273",
   "metadata": {},
   "outputs": [
    {
     "name": "stdout",
     "output_type": "stream",
     "text": [
      "The hello() function has been executed!\n",
      "I am going to return a function!\n"
     ]
    }
   ],
   "source": [
    "my_new_func = hello('Natan')"
   ]
  },
  {
   "cell_type": "code",
   "execution_count": 23,
   "id": "528312f9",
   "metadata": {},
   "outputs": [
    {
     "data": {
      "text/plain": [
       "'\\t This is the greet() function inside hello()!'"
      ]
     },
     "execution_count": 23,
     "metadata": {},
     "output_type": "execute_result"
    }
   ],
   "source": [
    "my_new_func"
   ]
  },
  {
   "cell_type": "code",
   "execution_count": 25,
   "id": "9009c28d",
   "metadata": {},
   "outputs": [
    {
     "name": "stdout",
     "output_type": "stream",
     "text": [
      "\t This is the greet() function inside hello()!\n"
     ]
    }
   ],
   "source": [
    "print(my_new_func)"
   ]
  },
  {
   "cell_type": "markdown",
   "id": "613a7641",
   "metadata": {},
   "source": [
    "#### Example"
   ]
  },
  {
   "cell_type": "code",
   "execution_count": 26,
   "id": "ca986fcc",
   "metadata": {},
   "outputs": [],
   "source": [
    "def cool():\n",
    "    \n",
    "    def super_cool():\n",
    "        return 'I am very cool! :p'\n",
    "    \n",
    "    return super_cool"
   ]
  },
  {
   "cell_type": "code",
   "execution_count": 27,
   "id": "f78d33f3",
   "metadata": {},
   "outputs": [],
   "source": [
    "some_func = cool()"
   ]
  },
  {
   "cell_type": "code",
   "execution_count": 28,
   "id": "f289cb79",
   "metadata": {},
   "outputs": [
    {
     "data": {
      "text/plain": [
       "<function __main__.cool.<locals>.super_cool()>"
      ]
     },
     "execution_count": 28,
     "metadata": {},
     "output_type": "execute_result"
    }
   ],
   "source": [
    "some_func"
   ]
  },
  {
   "cell_type": "code",
   "execution_count": 29,
   "id": "1f5a1953",
   "metadata": {},
   "outputs": [
    {
     "data": {
      "text/plain": [
       "'I am very cool! :p'"
      ]
     },
     "execution_count": 29,
     "metadata": {},
     "output_type": "execute_result"
    }
   ],
   "source": [
    "some_func()"
   ]
  },
  {
   "cell_type": "markdown",
   "id": "a77bfbde",
   "metadata": {},
   "source": [
    "### Passing a function as an argument"
   ]
  },
  {
   "cell_type": "code",
   "execution_count": 30,
   "id": "c6b8b6f6",
   "metadata": {},
   "outputs": [],
   "source": [
    "def hello():\n",
    "    return 'Hi Natan!'"
   ]
  },
  {
   "cell_type": "code",
   "execution_count": 31,
   "id": "e0ec5b3b",
   "metadata": {},
   "outputs": [],
   "source": [
    "def other(some_def_func):\n",
    "    print('Other code runs here!')\n",
    "    print(some_def_func())"
   ]
  },
  {
   "cell_type": "markdown",
   "id": "1b3125b4",
   "metadata": {},
   "source": [
    "Raw function"
   ]
  },
  {
   "cell_type": "code",
   "execution_count": 32,
   "id": "cf877394",
   "metadata": {},
   "outputs": [
    {
     "data": {
      "text/plain": [
       "<function __main__.hello()>"
      ]
     },
     "execution_count": 32,
     "metadata": {},
     "output_type": "execute_result"
    }
   ],
   "source": [
    "hello"
   ]
  },
  {
   "cell_type": "markdown",
   "id": "273aaca5",
   "metadata": {},
   "source": [
    "Executing the function"
   ]
  },
  {
   "cell_type": "code",
   "execution_count": 33,
   "id": "64f01da0",
   "metadata": {},
   "outputs": [
    {
     "data": {
      "text/plain": [
       "'Hi Natan!'"
      ]
     },
     "execution_count": 33,
     "metadata": {},
     "output_type": "execute_result"
    }
   ],
   "source": [
    "hello()"
   ]
  },
  {
   "cell_type": "markdown",
   "id": "8ed44dec",
   "metadata": {},
   "source": [
    "Passing in hello as an argument"
   ]
  },
  {
   "cell_type": "code",
   "execution_count": 34,
   "id": "d8c7c363",
   "metadata": {},
   "outputs": [
    {
     "name": "stdout",
     "output_type": "stream",
     "text": [
      "Other code runs here!\n",
      "Hi Natan!\n"
     ]
    }
   ],
   "source": [
    "other(hello)"
   ]
  },
  {
   "cell_type": "markdown",
   "id": "2bdafe7c",
   "metadata": {},
   "source": [
    "With this tools we can now create a __decorator__"
   ]
  },
  {
   "cell_type": "markdown",
   "id": "1a33c975",
   "metadata": {},
   "source": [
    "### Creating a Decorator "
   ]
  },
  {
   "cell_type": "code",
   "execution_count": 35,
   "id": "3c238517",
   "metadata": {},
   "outputs": [],
   "source": [
    "def new_decorator(original_func):\n",
    "    \n",
    "    def wrap_func():\n",
    "        \n",
    "        print('Code BEFORE the original function')\n",
    "        \n",
    "        original_func()\n",
    "        \n",
    "        print('Come AFTER the original function')\n",
    "        \n",
    "    return wrap_func"
   ]
  },
  {
   "cell_type": "code",
   "execution_count": 36,
   "id": "669c4c90",
   "metadata": {},
   "outputs": [],
   "source": [
    "def func_needs_decorator():\n",
    "    print('I want to be decorated!')"
   ]
  },
  {
   "cell_type": "code",
   "execution_count": 38,
   "id": "5c323fa9",
   "metadata": {},
   "outputs": [
    {
     "name": "stdout",
     "output_type": "stream",
     "text": [
      "I want to be decorated!\n"
     ]
    }
   ],
   "source": [
    "func_needs_decorator()"
   ]
  },
  {
   "cell_type": "code",
   "execution_count": 39,
   "id": "c579a0f0",
   "metadata": {},
   "outputs": [],
   "source": [
    "decorated_func = new_decorator(func_needs_decorator)"
   ]
  },
  {
   "cell_type": "code",
   "execution_count": 40,
   "id": "aff2f36d",
   "metadata": {},
   "outputs": [
    {
     "name": "stdout",
     "output_type": "stream",
     "text": [
      "Code BEFORE the original function\n",
      "I want to be decorated!\n",
      "Come AFTER the original function\n"
     ]
    }
   ],
   "source": [
    "decorated_func()"
   ]
  },
  {
   "cell_type": "markdown",
   "id": "b02de210",
   "metadata": {},
   "source": [
    "#### Using the @ operator "
   ]
  },
  {
   "cell_type": "markdown",
   "id": "59b6a8ff",
   "metadata": {},
   "source": [
    "With the decorator ON"
   ]
  },
  {
   "cell_type": "code",
   "execution_count": 41,
   "id": "b680d9c9",
   "metadata": {},
   "outputs": [],
   "source": [
    "@new_decorator\n",
    "def func_needs_decorator():\n",
    "    print('I want to be decorated!')"
   ]
  },
  {
   "cell_type": "code",
   "execution_count": 42,
   "id": "30c02ba5",
   "metadata": {},
   "outputs": [
    {
     "name": "stdout",
     "output_type": "stream",
     "text": [
      "Code BEFORE the original function\n",
      "I want to be decorated!\n",
      "Come AFTER the original function\n"
     ]
    }
   ],
   "source": [
    "func_needs_decorator()"
   ]
  },
  {
   "cell_type": "markdown",
   "id": "539cc676",
   "metadata": {},
   "source": [
    "With the decorator OFF"
   ]
  },
  {
   "cell_type": "code",
   "execution_count": 43,
   "id": "86bad34a",
   "metadata": {},
   "outputs": [],
   "source": [
    "# @new_decorator\n",
    "def func_needs_decorator():\n",
    "    print('I want to be decorated!')"
   ]
  },
  {
   "cell_type": "code",
   "execution_count": 44,
   "id": "96819dcf",
   "metadata": {},
   "outputs": [
    {
     "name": "stdout",
     "output_type": "stream",
     "text": [
      "I want to be decorated!\n"
     ]
    }
   ],
   "source": [
    "func_needs_decorator()"
   ]
  }
 ],
 "metadata": {
  "kernelspec": {
   "display_name": "Python 3 (ipykernel)",
   "language": "python",
   "name": "python3"
  },
  "language_info": {
   "codemirror_mode": {
    "name": "ipython",
    "version": 3
   },
   "file_extension": ".py",
   "mimetype": "text/x-python",
   "name": "python",
   "nbconvert_exporter": "python",
   "pygments_lexer": "ipython3",
   "version": "3.9.7"
  }
 },
 "nbformat": 4,
 "nbformat_minor": 5
}
